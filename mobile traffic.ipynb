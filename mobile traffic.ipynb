{
 "cells": [
  {
   "cell_type": "markdown",
   "metadata": {},
   "source": [
    "**Введение** \n",
    "    \n",
    "    Вы аналитик компании «Мегалайн» — федерального оператора сотовой связи. Клиентам предлагают два тарифных плана: «Смарт» и «Ультра». Чтобы скорректировать рекламный бюджет, коммерческий департамент хочет понять, какой тариф приносит больше денег.\n",
    "\n",
    "    Вам предстоит сделать предварительный анализ тарифов на небольшой выборке клиентов. В вашем распоряжении данные 500 пользователей «Мегалайна»: кто они, откуда, каким тарифом пользуются, сколько звонков и сообщений каждый отправил за 2018 год. Нужно проанализировать поведение клиентов и сделать вывод — какой тариф лучше."
   ]
  },
  {
   "cell_type": "markdown",
   "metadata": {},
   "source": [
    "## Подготовка"
   ]
  },
  {
   "cell_type": "markdown",
   "metadata": {},
   "source": [
    "### Импорт библиотек"
   ]
  },
  {
   "cell_type": "code",
   "execution_count": 1,
   "metadata": {},
   "outputs": [],
   "source": [
    "import platform\n",
    "import numpy as np\n",
    "import pandas as pd\n",
    "import matplotlib.pyplot as plt\n",
    "import seaborn as sns\n",
    "from scipy import stats as st\n",
    "pd.set_option('display.max_columns', None)\n",
    "import warnings\n",
    "warnings.filterwarnings(\"ignore\")"
   ]
  },
  {
   "cell_type": "markdown",
   "metadata": {},
   "source": [
    "## Получение данных"
   ]
  },
  {
   "cell_type": "markdown",
   "metadata": {},
   "source": [
    "### Чтение файлов\n"
   ]
  },
  {
   "cell_type": "markdown",
   "metadata": {},
   "source": [
    "Откроем все доступные нам датасеты и сохраним их в переменные"
   ]
  },
  {
   "cell_type": "code",
   "execution_count": 2,
   "metadata": {},
   "outputs": [],
   "source": [
    "try:\n",
    "    if platform.system() == 'Windows':\n",
    "        # прочитаем файл с данными и сохраним в df (Windows)\n",
    "        calls_df = pd.read_csv('datasets\\\\calls.csv')\n",
    "        internet_df = pd.read_csv('datasets\\\\internet.csv')\n",
    "        messages_df = pd.read_csv('datasets\\\\messages.csv')\n",
    "        tariffs_df = pd.read_csv('datasets\\\\tariffs.csv')\n",
    "        users_df = pd.read_csv('datasets\\\\users.csv')\n",
    "    else:\n",
    "        # прочитаем файл с данными с сохраним в df (UNIX-like)\n",
    "        calls_df = pd.read_csv('/datasets/calls.csv')\n",
    "        internet_df = pd.read_csv('/datasets/internet.csv')\n",
    "        messages_df = pd.read_csv('/datasets/messages.csv')\n",
    "        tariffs_df = pd.read_csv('/datasets/tariffs.csv')\n",
    "        users_df = pd.read_csv('/datasets/users.csv')\n",
    "except:\n",
    "    print('Ошибка!')"
   ]
  },
  {
   "cell_type": "markdown",
   "metadata": {},
   "source": [
    "Теперь посмотрим на каждый из них по отдельности"
   ]
  },
  {
   "cell_type": "code",
   "execution_count": 3,
   "metadata": {},
   "outputs": [
    {
     "name": "stdout",
     "output_type": "stream",
     "text": [
      "<class 'pandas.core.frame.DataFrame'>\n",
      "RangeIndex: 202607 entries, 0 to 202606\n",
      "Data columns (total 4 columns):\n",
      " #   Column     Non-Null Count   Dtype  \n",
      "---  ------     --------------   -----  \n",
      " 0   id         202607 non-null  object \n",
      " 1   call_date  202607 non-null  object \n",
      " 2   duration   202607 non-null  float64\n",
      " 3   user_id    202607 non-null  int64  \n",
      "dtypes: float64(1), int64(1), object(2)\n",
      "memory usage: 6.2+ MB\n"
     ]
    },
    {
     "data": {
      "text/html": [
       "<div>\n",
       "<style scoped>\n",
       "    .dataframe tbody tr th:only-of-type {\n",
       "        vertical-align: middle;\n",
       "    }\n",
       "\n",
       "    .dataframe tbody tr th {\n",
       "        vertical-align: top;\n",
       "    }\n",
       "\n",
       "    .dataframe thead th {\n",
       "        text-align: right;\n",
       "    }\n",
       "</style>\n",
       "<table border=\"1\" class=\"dataframe\">\n",
       "  <thead>\n",
       "    <tr style=\"text-align: right;\">\n",
       "      <th></th>\n",
       "      <th>id</th>\n",
       "      <th>call_date</th>\n",
       "      <th>duration</th>\n",
       "      <th>user_id</th>\n",
       "    </tr>\n",
       "  </thead>\n",
       "  <tbody>\n",
       "    <tr>\n",
       "      <th>0</th>\n",
       "      <td>1000_0</td>\n",
       "      <td>2018-07-25</td>\n",
       "      <td>0.00</td>\n",
       "      <td>1000</td>\n",
       "    </tr>\n",
       "    <tr>\n",
       "      <th>1</th>\n",
       "      <td>1000_1</td>\n",
       "      <td>2018-08-17</td>\n",
       "      <td>0.00</td>\n",
       "      <td>1000</td>\n",
       "    </tr>\n",
       "    <tr>\n",
       "      <th>2</th>\n",
       "      <td>1000_2</td>\n",
       "      <td>2018-06-11</td>\n",
       "      <td>2.85</td>\n",
       "      <td>1000</td>\n",
       "    </tr>\n",
       "    <tr>\n",
       "      <th>3</th>\n",
       "      <td>1000_3</td>\n",
       "      <td>2018-09-21</td>\n",
       "      <td>13.80</td>\n",
       "      <td>1000</td>\n",
       "    </tr>\n",
       "    <tr>\n",
       "      <th>4</th>\n",
       "      <td>1000_4</td>\n",
       "      <td>2018-12-15</td>\n",
       "      <td>5.18</td>\n",
       "      <td>1000</td>\n",
       "    </tr>\n",
       "    <tr>\n",
       "      <th>5</th>\n",
       "      <td>1000_5</td>\n",
       "      <td>2018-11-02</td>\n",
       "      <td>0.00</td>\n",
       "      <td>1000</td>\n",
       "    </tr>\n",
       "    <tr>\n",
       "      <th>6</th>\n",
       "      <td>1000_6</td>\n",
       "      <td>2018-10-18</td>\n",
       "      <td>0.00</td>\n",
       "      <td>1000</td>\n",
       "    </tr>\n",
       "    <tr>\n",
       "      <th>7</th>\n",
       "      <td>1000_7</td>\n",
       "      <td>2018-08-22</td>\n",
       "      <td>18.31</td>\n",
       "      <td>1000</td>\n",
       "    </tr>\n",
       "    <tr>\n",
       "      <th>8</th>\n",
       "      <td>1000_8</td>\n",
       "      <td>2018-09-15</td>\n",
       "      <td>18.44</td>\n",
       "      <td>1000</td>\n",
       "    </tr>\n",
       "    <tr>\n",
       "      <th>9</th>\n",
       "      <td>1000_9</td>\n",
       "      <td>2018-08-15</td>\n",
       "      <td>0.00</td>\n",
       "      <td>1000</td>\n",
       "    </tr>\n",
       "  </tbody>\n",
       "</table>\n",
       "</div>"
      ],
      "text/plain": [
       "       id   call_date  duration  user_id\n",
       "0  1000_0  2018-07-25      0.00     1000\n",
       "1  1000_1  2018-08-17      0.00     1000\n",
       "2  1000_2  2018-06-11      2.85     1000\n",
       "3  1000_3  2018-09-21     13.80     1000\n",
       "4  1000_4  2018-12-15      5.18     1000\n",
       "5  1000_5  2018-11-02      0.00     1000\n",
       "6  1000_6  2018-10-18      0.00     1000\n",
       "7  1000_7  2018-08-22     18.31     1000\n",
       "8  1000_8  2018-09-15     18.44     1000\n",
       "9  1000_9  2018-08-15      0.00     1000"
      ]
     },
     "execution_count": 3,
     "metadata": {},
     "output_type": "execute_result"
    }
   ],
   "source": [
    "calls_df.info() # получим общую информацию о таблице\n",
    "calls_df.head(10)  # выведем первые 10 строк таблицы"
   ]
  },
  {
   "cell_type": "markdown",
   "metadata": {},
   "source": [
    "Всего **202 607** строк (считай звонков), явных пропущенных значений нет, но есть звонки с длительностью **0.00** — с этим предстоит разобраться. В остальном, особых проблем пока не наблюдается. Стоит перевести столбец call_date в формат datetime, возможно как-то изменить формат столбца id."
   ]
  },
  {
   "cell_type": "code",
   "execution_count": 4,
   "metadata": {},
   "outputs": [
    {
     "name": "stdout",
     "output_type": "stream",
     "text": [
      "<class 'pandas.core.frame.DataFrame'>\n",
      "RangeIndex: 149396 entries, 0 to 149395\n",
      "Data columns (total 5 columns):\n",
      " #   Column        Non-Null Count   Dtype  \n",
      "---  ------        --------------   -----  \n",
      " 0   Unnamed: 0    149396 non-null  int64  \n",
      " 1   id            149396 non-null  object \n",
      " 2   mb_used       149396 non-null  float64\n",
      " 3   session_date  149396 non-null  object \n",
      " 4   user_id       149396 non-null  int64  \n",
      "dtypes: float64(1), int64(2), object(2)\n",
      "memory usage: 5.7+ MB\n"
     ]
    },
    {
     "data": {
      "text/html": [
       "<div>\n",
       "<style scoped>\n",
       "    .dataframe tbody tr th:only-of-type {\n",
       "        vertical-align: middle;\n",
       "    }\n",
       "\n",
       "    .dataframe tbody tr th {\n",
       "        vertical-align: top;\n",
       "    }\n",
       "\n",
       "    .dataframe thead th {\n",
       "        text-align: right;\n",
       "    }\n",
       "</style>\n",
       "<table border=\"1\" class=\"dataframe\">\n",
       "  <thead>\n",
       "    <tr style=\"text-align: right;\">\n",
       "      <th></th>\n",
       "      <th>Unnamed: 0</th>\n",
       "      <th>id</th>\n",
       "      <th>mb_used</th>\n",
       "      <th>session_date</th>\n",
       "      <th>user_id</th>\n",
       "    </tr>\n",
       "  </thead>\n",
       "  <tbody>\n",
       "    <tr>\n",
       "      <th>0</th>\n",
       "      <td>0</td>\n",
       "      <td>1000_0</td>\n",
       "      <td>112.95</td>\n",
       "      <td>2018-11-25</td>\n",
       "      <td>1000</td>\n",
       "    </tr>\n",
       "    <tr>\n",
       "      <th>1</th>\n",
       "      <td>1</td>\n",
       "      <td>1000_1</td>\n",
       "      <td>1052.81</td>\n",
       "      <td>2018-09-07</td>\n",
       "      <td>1000</td>\n",
       "    </tr>\n",
       "    <tr>\n",
       "      <th>2</th>\n",
       "      <td>2</td>\n",
       "      <td>1000_2</td>\n",
       "      <td>1197.26</td>\n",
       "      <td>2018-06-25</td>\n",
       "      <td>1000</td>\n",
       "    </tr>\n",
       "    <tr>\n",
       "      <th>3</th>\n",
       "      <td>3</td>\n",
       "      <td>1000_3</td>\n",
       "      <td>550.27</td>\n",
       "      <td>2018-08-22</td>\n",
       "      <td>1000</td>\n",
       "    </tr>\n",
       "    <tr>\n",
       "      <th>4</th>\n",
       "      <td>4</td>\n",
       "      <td>1000_4</td>\n",
       "      <td>302.56</td>\n",
       "      <td>2018-09-24</td>\n",
       "      <td>1000</td>\n",
       "    </tr>\n",
       "    <tr>\n",
       "      <th>5</th>\n",
       "      <td>5</td>\n",
       "      <td>1000_5</td>\n",
       "      <td>399.97</td>\n",
       "      <td>2018-10-02</td>\n",
       "      <td>1000</td>\n",
       "    </tr>\n",
       "    <tr>\n",
       "      <th>6</th>\n",
       "      <td>6</td>\n",
       "      <td>1000_6</td>\n",
       "      <td>540.08</td>\n",
       "      <td>2018-09-07</td>\n",
       "      <td>1000</td>\n",
       "    </tr>\n",
       "    <tr>\n",
       "      <th>7</th>\n",
       "      <td>7</td>\n",
       "      <td>1000_7</td>\n",
       "      <td>415.70</td>\n",
       "      <td>2018-07-11</td>\n",
       "      <td>1000</td>\n",
       "    </tr>\n",
       "    <tr>\n",
       "      <th>8</th>\n",
       "      <td>8</td>\n",
       "      <td>1000_8</td>\n",
       "      <td>505.40</td>\n",
       "      <td>2018-10-08</td>\n",
       "      <td>1000</td>\n",
       "    </tr>\n",
       "    <tr>\n",
       "      <th>9</th>\n",
       "      <td>9</td>\n",
       "      <td>1000_9</td>\n",
       "      <td>345.54</td>\n",
       "      <td>2018-09-03</td>\n",
       "      <td>1000</td>\n",
       "    </tr>\n",
       "  </tbody>\n",
       "</table>\n",
       "</div>"
      ],
      "text/plain": [
       "   Unnamed: 0      id  mb_used session_date  user_id\n",
       "0           0  1000_0   112.95   2018-11-25     1000\n",
       "1           1  1000_1  1052.81   2018-09-07     1000\n",
       "2           2  1000_2  1197.26   2018-06-25     1000\n",
       "3           3  1000_3   550.27   2018-08-22     1000\n",
       "4           4  1000_4   302.56   2018-09-24     1000\n",
       "5           5  1000_5   399.97   2018-10-02     1000\n",
       "6           6  1000_6   540.08   2018-09-07     1000\n",
       "7           7  1000_7   415.70   2018-07-11     1000\n",
       "8           8  1000_8   505.40   2018-10-08     1000\n",
       "9           9  1000_9   345.54   2018-09-03     1000"
      ]
     },
     "execution_count": 4,
     "metadata": {},
     "output_type": "execute_result"
    }
   ],
   "source": [
    "internet_df.info() # получим общую информацию о таблице\n",
    "internet_df.head(10)  # выведем первые 10 строк таблицы"
   ]
  },
  {
   "cell_type": "markdown",
   "metadata": {},
   "source": [
    "В датафрейме **internet_df** ситуация слегка иная. Странных нулевых значений нет, зато откуда-то взялся не совсем понятный столбец Unnamed: 0. Наверное, стоит передать эту информацию бэкенду. Как и в прошлом датафрейме, нам предстоит перевести session_date в datetime. В остальном, пока проблем не видно. В этом датафрейме **149 395** строк — то есть столько было интернет сеансов.\n",
    "\n",
    "А еще обнаружились нулевые сессии, таких почти 20 000:"
   ]
  },
  {
   "cell_type": "code",
   "execution_count": 5,
   "metadata": {},
   "outputs": [
    {
     "data": {
      "text/plain": [
       "19598"
      ]
     },
     "execution_count": 5,
     "metadata": {},
     "output_type": "execute_result"
    }
   ],
   "source": [
    "internet_df[internet_df['mb_used']==0].shape[0]"
   ]
  },
  {
   "cell_type": "code",
   "execution_count": 6,
   "metadata": {},
   "outputs": [
    {
     "name": "stdout",
     "output_type": "stream",
     "text": [
      "<class 'pandas.core.frame.DataFrame'>\n",
      "RangeIndex: 123036 entries, 0 to 123035\n",
      "Data columns (total 3 columns):\n",
      " #   Column        Non-Null Count   Dtype \n",
      "---  ------        --------------   ----- \n",
      " 0   id            123036 non-null  object\n",
      " 1   message_date  123036 non-null  object\n",
      " 2   user_id       123036 non-null  int64 \n",
      "dtypes: int64(1), object(2)\n",
      "memory usage: 2.8+ MB\n"
     ]
    },
    {
     "data": {
      "text/html": [
       "<div>\n",
       "<style scoped>\n",
       "    .dataframe tbody tr th:only-of-type {\n",
       "        vertical-align: middle;\n",
       "    }\n",
       "\n",
       "    .dataframe tbody tr th {\n",
       "        vertical-align: top;\n",
       "    }\n",
       "\n",
       "    .dataframe thead th {\n",
       "        text-align: right;\n",
       "    }\n",
       "</style>\n",
       "<table border=\"1\" class=\"dataframe\">\n",
       "  <thead>\n",
       "    <tr style=\"text-align: right;\">\n",
       "      <th></th>\n",
       "      <th>id</th>\n",
       "      <th>message_date</th>\n",
       "      <th>user_id</th>\n",
       "    </tr>\n",
       "  </thead>\n",
       "  <tbody>\n",
       "    <tr>\n",
       "      <th>0</th>\n",
       "      <td>1000_0</td>\n",
       "      <td>2018-06-27</td>\n",
       "      <td>1000</td>\n",
       "    </tr>\n",
       "    <tr>\n",
       "      <th>1</th>\n",
       "      <td>1000_1</td>\n",
       "      <td>2018-10-08</td>\n",
       "      <td>1000</td>\n",
       "    </tr>\n",
       "    <tr>\n",
       "      <th>2</th>\n",
       "      <td>1000_2</td>\n",
       "      <td>2018-08-04</td>\n",
       "      <td>1000</td>\n",
       "    </tr>\n",
       "    <tr>\n",
       "      <th>3</th>\n",
       "      <td>1000_3</td>\n",
       "      <td>2018-06-16</td>\n",
       "      <td>1000</td>\n",
       "    </tr>\n",
       "    <tr>\n",
       "      <th>4</th>\n",
       "      <td>1000_4</td>\n",
       "      <td>2018-12-05</td>\n",
       "      <td>1000</td>\n",
       "    </tr>\n",
       "    <tr>\n",
       "      <th>5</th>\n",
       "      <td>1000_5</td>\n",
       "      <td>2018-06-20</td>\n",
       "      <td>1000</td>\n",
       "    </tr>\n",
       "    <tr>\n",
       "      <th>6</th>\n",
       "      <td>1000_6</td>\n",
       "      <td>2018-11-19</td>\n",
       "      <td>1000</td>\n",
       "    </tr>\n",
       "    <tr>\n",
       "      <th>7</th>\n",
       "      <td>1000_7</td>\n",
       "      <td>2018-10-29</td>\n",
       "      <td>1000</td>\n",
       "    </tr>\n",
       "    <tr>\n",
       "      <th>8</th>\n",
       "      <td>1000_8</td>\n",
       "      <td>2018-06-25</td>\n",
       "      <td>1000</td>\n",
       "    </tr>\n",
       "    <tr>\n",
       "      <th>9</th>\n",
       "      <td>1000_9</td>\n",
       "      <td>2018-12-18</td>\n",
       "      <td>1000</td>\n",
       "    </tr>\n",
       "  </tbody>\n",
       "</table>\n",
       "</div>"
      ],
      "text/plain": [
       "       id message_date  user_id\n",
       "0  1000_0   2018-06-27     1000\n",
       "1  1000_1   2018-10-08     1000\n",
       "2  1000_2   2018-08-04     1000\n",
       "3  1000_3   2018-06-16     1000\n",
       "4  1000_4   2018-12-05     1000\n",
       "5  1000_5   2018-06-20     1000\n",
       "6  1000_6   2018-11-19     1000\n",
       "7  1000_7   2018-10-29     1000\n",
       "8  1000_8   2018-06-25     1000\n",
       "9  1000_9   2018-12-18     1000"
      ]
     },
     "execution_count": 6,
     "metadata": {},
     "output_type": "execute_result"
    }
   ],
   "source": [
    "messages_df.info() # получим общую информацию о таблице\n",
    "messages_df.head(10)  # выведем первые 10 строк таблицы"
   ]
  },
  {
   "cell_type": "markdown",
   "metadata": {},
   "source": [
    "В датафрейме messages_df всё выглядит вообще замечательно! Нет явно пропущенных значений, все столбцы адекватные, всё красиво. Осталось только столбец message_date в datetime перевести. Тут **123 036 строк**, что равно **123 036** сообщениям."
   ]
  },
  {
   "cell_type": "code",
   "execution_count": 7,
   "metadata": {},
   "outputs": [
    {
     "name": "stdout",
     "output_type": "stream",
     "text": [
      "<class 'pandas.core.frame.DataFrame'>\n",
      "RangeIndex: 2 entries, 0 to 1\n",
      "Data columns (total 8 columns):\n",
      " #   Column                 Non-Null Count  Dtype \n",
      "---  ------                 --------------  ----- \n",
      " 0   messages_included      2 non-null      int64 \n",
      " 1   mb_per_month_included  2 non-null      int64 \n",
      " 2   minutes_included       2 non-null      int64 \n",
      " 3   rub_monthly_fee        2 non-null      int64 \n",
      " 4   rub_per_gb             2 non-null      int64 \n",
      " 5   rub_per_message        2 non-null      int64 \n",
      " 6   rub_per_minute         2 non-null      int64 \n",
      " 7   tariff_name            2 non-null      object\n",
      "dtypes: int64(7), object(1)\n",
      "memory usage: 256.0+ bytes\n"
     ]
    },
    {
     "data": {
      "text/html": [
       "<div>\n",
       "<style scoped>\n",
       "    .dataframe tbody tr th:only-of-type {\n",
       "        vertical-align: middle;\n",
       "    }\n",
       "\n",
       "    .dataframe tbody tr th {\n",
       "        vertical-align: top;\n",
       "    }\n",
       "\n",
       "    .dataframe thead th {\n",
       "        text-align: right;\n",
       "    }\n",
       "</style>\n",
       "<table border=\"1\" class=\"dataframe\">\n",
       "  <thead>\n",
       "    <tr style=\"text-align: right;\">\n",
       "      <th></th>\n",
       "      <th>messages_included</th>\n",
       "      <th>mb_per_month_included</th>\n",
       "      <th>minutes_included</th>\n",
       "      <th>rub_monthly_fee</th>\n",
       "      <th>rub_per_gb</th>\n",
       "      <th>rub_per_message</th>\n",
       "      <th>rub_per_minute</th>\n",
       "      <th>tariff_name</th>\n",
       "    </tr>\n",
       "  </thead>\n",
       "  <tbody>\n",
       "    <tr>\n",
       "      <th>0</th>\n",
       "      <td>50</td>\n",
       "      <td>15360</td>\n",
       "      <td>500</td>\n",
       "      <td>550</td>\n",
       "      <td>200</td>\n",
       "      <td>3</td>\n",
       "      <td>3</td>\n",
       "      <td>smart</td>\n",
       "    </tr>\n",
       "    <tr>\n",
       "      <th>1</th>\n",
       "      <td>1000</td>\n",
       "      <td>30720</td>\n",
       "      <td>3000</td>\n",
       "      <td>1950</td>\n",
       "      <td>150</td>\n",
       "      <td>1</td>\n",
       "      <td>1</td>\n",
       "      <td>ultra</td>\n",
       "    </tr>\n",
       "  </tbody>\n",
       "</table>\n",
       "</div>"
      ],
      "text/plain": [
       "   messages_included  mb_per_month_included  minutes_included  \\\n",
       "0                 50                  15360               500   \n",
       "1               1000                  30720              3000   \n",
       "\n",
       "   rub_monthly_fee  rub_per_gb  rub_per_message  rub_per_minute tariff_name  \n",
       "0              550         200                3               3       smart  \n",
       "1             1950         150                1               1       ultra  "
      ]
     },
     "execution_count": 7,
     "metadata": {},
     "output_type": "execute_result"
    }
   ],
   "source": [
    "tariffs_df.info() # получим общую информацию о таблице\n",
    "tariffs_df.head(10)  # выведем первые 10 строк таблицы"
   ]
  },
  {
   "cell_type": "markdown",
   "metadata": {},
   "source": [
    "В датафрейме tariffs_df всего две строки — именно столько тарифов в компании «Мегалайн». Проблем с этим датафреймом не видно, разве что можно поменять порядок столбцов для наглядности."
   ]
  },
  {
   "cell_type": "code",
   "execution_count": 8,
   "metadata": {},
   "outputs": [
    {
     "name": "stdout",
     "output_type": "stream",
     "text": [
      "<class 'pandas.core.frame.DataFrame'>\n",
      "RangeIndex: 500 entries, 0 to 499\n",
      "Data columns (total 8 columns):\n",
      " #   Column      Non-Null Count  Dtype \n",
      "---  ------      --------------  ----- \n",
      " 0   user_id     500 non-null    int64 \n",
      " 1   age         500 non-null    int64 \n",
      " 2   churn_date  38 non-null     object\n",
      " 3   city        500 non-null    object\n",
      " 4   first_name  500 non-null    object\n",
      " 5   last_name   500 non-null    object\n",
      " 6   reg_date    500 non-null    object\n",
      " 7   tariff      500 non-null    object\n",
      "dtypes: int64(2), object(6)\n",
      "memory usage: 31.4+ KB\n"
     ]
    },
    {
     "data": {
      "text/html": [
       "<div>\n",
       "<style scoped>\n",
       "    .dataframe tbody tr th:only-of-type {\n",
       "        vertical-align: middle;\n",
       "    }\n",
       "\n",
       "    .dataframe tbody tr th {\n",
       "        vertical-align: top;\n",
       "    }\n",
       "\n",
       "    .dataframe thead th {\n",
       "        text-align: right;\n",
       "    }\n",
       "</style>\n",
       "<table border=\"1\" class=\"dataframe\">\n",
       "  <thead>\n",
       "    <tr style=\"text-align: right;\">\n",
       "      <th></th>\n",
       "      <th>user_id</th>\n",
       "      <th>age</th>\n",
       "      <th>churn_date</th>\n",
       "      <th>city</th>\n",
       "      <th>first_name</th>\n",
       "      <th>last_name</th>\n",
       "      <th>reg_date</th>\n",
       "      <th>tariff</th>\n",
       "    </tr>\n",
       "  </thead>\n",
       "  <tbody>\n",
       "    <tr>\n",
       "      <th>0</th>\n",
       "      <td>1000</td>\n",
       "      <td>52</td>\n",
       "      <td>NaN</td>\n",
       "      <td>Краснодар</td>\n",
       "      <td>Рафаил</td>\n",
       "      <td>Верещагин</td>\n",
       "      <td>2018-05-25</td>\n",
       "      <td>ultra</td>\n",
       "    </tr>\n",
       "    <tr>\n",
       "      <th>1</th>\n",
       "      <td>1001</td>\n",
       "      <td>41</td>\n",
       "      <td>NaN</td>\n",
       "      <td>Москва</td>\n",
       "      <td>Иван</td>\n",
       "      <td>Ежов</td>\n",
       "      <td>2018-11-01</td>\n",
       "      <td>smart</td>\n",
       "    </tr>\n",
       "    <tr>\n",
       "      <th>2</th>\n",
       "      <td>1002</td>\n",
       "      <td>59</td>\n",
       "      <td>NaN</td>\n",
       "      <td>Стерлитамак</td>\n",
       "      <td>Евгений</td>\n",
       "      <td>Абрамович</td>\n",
       "      <td>2018-06-17</td>\n",
       "      <td>smart</td>\n",
       "    </tr>\n",
       "    <tr>\n",
       "      <th>3</th>\n",
       "      <td>1003</td>\n",
       "      <td>23</td>\n",
       "      <td>NaN</td>\n",
       "      <td>Москва</td>\n",
       "      <td>Белла</td>\n",
       "      <td>Белякова</td>\n",
       "      <td>2018-08-17</td>\n",
       "      <td>ultra</td>\n",
       "    </tr>\n",
       "    <tr>\n",
       "      <th>4</th>\n",
       "      <td>1004</td>\n",
       "      <td>68</td>\n",
       "      <td>NaN</td>\n",
       "      <td>Новокузнецк</td>\n",
       "      <td>Татьяна</td>\n",
       "      <td>Авдеенко</td>\n",
       "      <td>2018-05-14</td>\n",
       "      <td>ultra</td>\n",
       "    </tr>\n",
       "    <tr>\n",
       "      <th>5</th>\n",
       "      <td>1005</td>\n",
       "      <td>67</td>\n",
       "      <td>NaN</td>\n",
       "      <td>Набережные Челны</td>\n",
       "      <td>Афанасий</td>\n",
       "      <td>Горлов</td>\n",
       "      <td>2018-01-25</td>\n",
       "      <td>smart</td>\n",
       "    </tr>\n",
       "    <tr>\n",
       "      <th>6</th>\n",
       "      <td>1006</td>\n",
       "      <td>21</td>\n",
       "      <td>NaN</td>\n",
       "      <td>Ульяновск</td>\n",
       "      <td>Леонид</td>\n",
       "      <td>Ермолаев</td>\n",
       "      <td>2018-02-26</td>\n",
       "      <td>smart</td>\n",
       "    </tr>\n",
       "    <tr>\n",
       "      <th>7</th>\n",
       "      <td>1007</td>\n",
       "      <td>65</td>\n",
       "      <td>NaN</td>\n",
       "      <td>Москва</td>\n",
       "      <td>Юна</td>\n",
       "      <td>Березина</td>\n",
       "      <td>2018-04-19</td>\n",
       "      <td>smart</td>\n",
       "    </tr>\n",
       "    <tr>\n",
       "      <th>8</th>\n",
       "      <td>1008</td>\n",
       "      <td>63</td>\n",
       "      <td>NaN</td>\n",
       "      <td>Челябинск</td>\n",
       "      <td>Рустэм</td>\n",
       "      <td>Пономарёв</td>\n",
       "      <td>2018-12-19</td>\n",
       "      <td>smart</td>\n",
       "    </tr>\n",
       "    <tr>\n",
       "      <th>9</th>\n",
       "      <td>1009</td>\n",
       "      <td>24</td>\n",
       "      <td>NaN</td>\n",
       "      <td>Пермь</td>\n",
       "      <td>Василиса</td>\n",
       "      <td>Блинова</td>\n",
       "      <td>2018-03-22</td>\n",
       "      <td>smart</td>\n",
       "    </tr>\n",
       "  </tbody>\n",
       "</table>\n",
       "</div>"
      ],
      "text/plain": [
       "   user_id  age churn_date              city first_name  last_name  \\\n",
       "0     1000   52        NaN         Краснодар     Рафаил  Верещагин   \n",
       "1     1001   41        NaN            Москва       Иван       Ежов   \n",
       "2     1002   59        NaN       Стерлитамак    Евгений  Абрамович   \n",
       "3     1003   23        NaN            Москва      Белла   Белякова   \n",
       "4     1004   68        NaN       Новокузнецк    Татьяна   Авдеенко   \n",
       "5     1005   67        NaN  Набережные Челны   Афанасий     Горлов   \n",
       "6     1006   21        NaN         Ульяновск     Леонид   Ермолаев   \n",
       "7     1007   65        NaN            Москва        Юна   Березина   \n",
       "8     1008   63        NaN         Челябинск     Рустэм  Пономарёв   \n",
       "9     1009   24        NaN             Пермь   Василиса    Блинова   \n",
       "\n",
       "     reg_date tariff  \n",
       "0  2018-05-25  ultra  \n",
       "1  2018-11-01  smart  \n",
       "2  2018-06-17  smart  \n",
       "3  2018-08-17  ultra  \n",
       "4  2018-05-14  ultra  \n",
       "5  2018-01-25  smart  \n",
       "6  2018-02-26  smart  \n",
       "7  2018-04-19  smart  \n",
       "8  2018-12-19  smart  \n",
       "9  2018-03-22  smart  "
      ]
     },
     "execution_count": 8,
     "metadata": {},
     "output_type": "execute_result"
    }
   ],
   "source": [
    "users_df.info() # получим общую информацию о таблице\n",
    "users_df.head(10)  # выведем первые 10 строк таблицы"
   ]
  },
  {
   "cell_type": "markdown",
   "metadata": {},
   "source": [
    "В датафрейме users_df всего **500** строк, значит у нас есть данные на 500 клиентов. Опять же, столбец reg_date нужно перевести в datetime. Есть еще столбец churn_date, его тоже стоит перевести в datetime, но в этом столбце очень много пропущенных значений. Возможно, найдется и другое решение."
   ]
  },
  {
   "cell_type": "markdown",
   "metadata": {},
   "source": [
    "### Описание данных\n",
    "Еще раз посмотрим, какие данные нам предоставлены, взяв их описание из описания проекта:\n",
    "\n",
    "**Таблица users_df (информация о пользователях):**\n",
    "* user_id — уникальный идентификатор пользователя\n",
    "* first_name — имя пользователя\n",
    "* last_name — фамилия пользователя\n",
    "* age — возраст пользователя (годы)\n",
    "* reg_date — дата подключения тарифа (день, месяц, год)\n",
    "* churn_date — дата прекращения пользования тарифом (если значение пропущено, то тариф ещё действовал на момент выгрузки данных)\n",
    "* city — город проживания пользователя\n",
    "* tariff — название тарифного плана\n",
    "* Таблица calls_df (информация о звонках):\n",
    "* id — уникальный номер звонка\n",
    "* call_date — дата звонка\n",
    "* duration — длительность звонка в минутах\n",
    "* user_id — идентификатор пользователя, сделавшего звонок\n",
    "\n",
    "**Таблица messages_df (информация о сообщениях):**\n",
    "* id — уникальный номер сообщения\n",
    "* message_date — дата сообщения\n",
    "* user_id — идентификатор пользователя, отправившего сообщение\n",
    "\n",
    "**Таблица internet_df (информация об интернет-сессиях):**\n",
    "* id — уникальный номер сессии\n",
    "* mb_used — объём потраченного за сессию интернет-трафика (в мегабайтах)\n",
    "* session_date — дата интернет-сессии\n",
    "* user_id — идентификатор пользователя\n",
    "\n",
    "**Таблица tariffs_df (информация о тарифах):**\n",
    "* tariff_name — название тарифа\n",
    "* rub_monthly_fee — ежемесячная абонентская плата в рублях\n",
    "* minutes_included — количество минут разговора в месяц, включённых в абонентскую плату\n",
    "* messages_included — количество сообщений в месяц, включённых в абонентскую плату\n",
    "* mb_per_month_included — объём интернет-трафика, включённого в абонентскую плату (в мегабайтах)\n",
    "* rub_per_minute — стоимость минуты разговора сверх тарифного пакета (например, если в тарифе 100 минут разговора в месяц, то со 101 минуты будет взиматься плата)\n",
    "* rub_per_message — стоимость отправки сообщения сверх тарифного пакета\n",
    "* rub_per_gb — стоимость дополнительного гигабайта интернет-трафика сверх тарифного пакета (1 гигабайт = 1024 мегабайта)\n",
    "\n",
    "### Описание тарифов\n",
    "Там же возьмём описание тарифов:\n",
    "\n",
    "**Тариф «Смарт»**\n",
    "* Ежемесячная плата: 550 рублей\n",
    "* Включено 500 минут разговора, 50 сообщений и 15 Гб интернет-трафика\n",
    "* Стоимость услуг сверх тарифного пакета:\n",
    "* минута разговора: 3 рубля\n",
    "* сообщение: 3 рубля\n",
    "* 1 Гб интернет-трафика: 200 рублей\n",
    "\n",
    "**Тариф «Ультра»**\n",
    "* Ежемесячная плата: 1950 рублей\n",
    "* Включено 3000 минут разговора, 1000 сообщений и 30 Гб интернет-трафика\n",
    "* Стоимость услуг сверх тарифного пакета:\n",
    "* минута разговора: 1 рубль\n",
    "* сообщение: 1 рубль\n",
    "* 1 Гб интернет-трафика: 150 рублей\n",
    "\n",
    "«Мегалайн» всегда округляет вверх значения минут и мегабайтов. Если пользователь проговорил всего 1 секунду, в тарифе засчитывается целая минута."
   ]
  },
  {
   "cell_type": "markdown",
   "metadata": {},
   "source": [
    "### Выводы к этапу"
   ]
  },
  {
   "cell_type": "markdown",
   "metadata": {},
   "source": [
    "Мы прочитали 5 csv-файлов и сохранили их как датафреймы в переменные **users_df**, **calls_df**, **messages_df**, **internet_df** и **tariffs_df**. Мы посмотрели информацию и первые 10 строк каждого датафрейма.\n",
    "\n",
    "Далее нам необходимо сделать следующее:\n",
    "\n",
    "* Во-первых, предобработать данные. Удалить лишние столбцы, преобразовать типы данных, проверить пропущенные и некорректные значения.\n",
    "* Во-вторых, необходимо объединить информацию со всех датафреймов в один, чтобы провести исследование.\n",
    "* В-третьих, необходимо провести собственно исследование. Сравнить пользователей двух тарифов, проанализировать поведение пользователей и понять какой тариф лучше."
   ]
  },
  {
   "cell_type": "markdown",
   "metadata": {},
   "source": [
    "## Предобработка данных\n",
    "\n"
   ]
  },
  {
   "cell_type": "markdown",
   "metadata": {},
   "source": [
    "### Звонки"
   ]
  },
  {
   "cell_type": "markdown",
   "metadata": {},
   "source": [
    "Снова взглянем на датафрейм с информацией по звонкам:"
   ]
  },
  {
   "cell_type": "code",
   "execution_count": 9,
   "metadata": {},
   "outputs": [
    {
     "name": "stdout",
     "output_type": "stream",
     "text": [
      "<class 'pandas.core.frame.DataFrame'>\n",
      "RangeIndex: 202607 entries, 0 to 202606\n",
      "Data columns (total 4 columns):\n",
      " #   Column     Non-Null Count   Dtype  \n",
      "---  ------     --------------   -----  \n",
      " 0   id         202607 non-null  object \n",
      " 1   call_date  202607 non-null  object \n",
      " 2   duration   202607 non-null  float64\n",
      " 3   user_id    202607 non-null  int64  \n",
      "dtypes: float64(1), int64(1), object(2)\n",
      "memory usage: 6.2+ MB\n"
     ]
    },
    {
     "data": {
      "text/html": [
       "<div>\n",
       "<style scoped>\n",
       "    .dataframe tbody tr th:only-of-type {\n",
       "        vertical-align: middle;\n",
       "    }\n",
       "\n",
       "    .dataframe tbody tr th {\n",
       "        vertical-align: top;\n",
       "    }\n",
       "\n",
       "    .dataframe thead th {\n",
       "        text-align: right;\n",
       "    }\n",
       "</style>\n",
       "<table border=\"1\" class=\"dataframe\">\n",
       "  <thead>\n",
       "    <tr style=\"text-align: right;\">\n",
       "      <th></th>\n",
       "      <th>id</th>\n",
       "      <th>call_date</th>\n",
       "      <th>duration</th>\n",
       "      <th>user_id</th>\n",
       "    </tr>\n",
       "  </thead>\n",
       "  <tbody>\n",
       "    <tr>\n",
       "      <th>0</th>\n",
       "      <td>1000_0</td>\n",
       "      <td>2018-07-25</td>\n",
       "      <td>0.00</td>\n",
       "      <td>1000</td>\n",
       "    </tr>\n",
       "    <tr>\n",
       "      <th>1</th>\n",
       "      <td>1000_1</td>\n",
       "      <td>2018-08-17</td>\n",
       "      <td>0.00</td>\n",
       "      <td>1000</td>\n",
       "    </tr>\n",
       "    <tr>\n",
       "      <th>2</th>\n",
       "      <td>1000_2</td>\n",
       "      <td>2018-06-11</td>\n",
       "      <td>2.85</td>\n",
       "      <td>1000</td>\n",
       "    </tr>\n",
       "    <tr>\n",
       "      <th>3</th>\n",
       "      <td>1000_3</td>\n",
       "      <td>2018-09-21</td>\n",
       "      <td>13.80</td>\n",
       "      <td>1000</td>\n",
       "    </tr>\n",
       "    <tr>\n",
       "      <th>4</th>\n",
       "      <td>1000_4</td>\n",
       "      <td>2018-12-15</td>\n",
       "      <td>5.18</td>\n",
       "      <td>1000</td>\n",
       "    </tr>\n",
       "    <tr>\n",
       "      <th>5</th>\n",
       "      <td>1000_5</td>\n",
       "      <td>2018-11-02</td>\n",
       "      <td>0.00</td>\n",
       "      <td>1000</td>\n",
       "    </tr>\n",
       "    <tr>\n",
       "      <th>6</th>\n",
       "      <td>1000_6</td>\n",
       "      <td>2018-10-18</td>\n",
       "      <td>0.00</td>\n",
       "      <td>1000</td>\n",
       "    </tr>\n",
       "    <tr>\n",
       "      <th>7</th>\n",
       "      <td>1000_7</td>\n",
       "      <td>2018-08-22</td>\n",
       "      <td>18.31</td>\n",
       "      <td>1000</td>\n",
       "    </tr>\n",
       "    <tr>\n",
       "      <th>8</th>\n",
       "      <td>1000_8</td>\n",
       "      <td>2018-09-15</td>\n",
       "      <td>18.44</td>\n",
       "      <td>1000</td>\n",
       "    </tr>\n",
       "    <tr>\n",
       "      <th>9</th>\n",
       "      <td>1000_9</td>\n",
       "      <td>2018-08-15</td>\n",
       "      <td>0.00</td>\n",
       "      <td>1000</td>\n",
       "    </tr>\n",
       "  </tbody>\n",
       "</table>\n",
       "</div>"
      ],
      "text/plain": [
       "       id   call_date  duration  user_id\n",
       "0  1000_0  2018-07-25      0.00     1000\n",
       "1  1000_1  2018-08-17      0.00     1000\n",
       "2  1000_2  2018-06-11      2.85     1000\n",
       "3  1000_3  2018-09-21     13.80     1000\n",
       "4  1000_4  2018-12-15      5.18     1000\n",
       "5  1000_5  2018-11-02      0.00     1000\n",
       "6  1000_6  2018-10-18      0.00     1000\n",
       "7  1000_7  2018-08-22     18.31     1000\n",
       "8  1000_8  2018-09-15     18.44     1000\n",
       "9  1000_9  2018-08-15      0.00     1000"
      ]
     },
     "metadata": {},
     "output_type": "display_data"
    }
   ],
   "source": [
    "calls_df.info()  # получим общую информацию о таблице\n",
    "display(calls_df.head(10))  # выведем первые 10 строк таблицы\n",
    "calls = calls_df"
   ]
  },
  {
   "cell_type": "markdown",
   "metadata": {},
   "source": [
    "Во-первых, округлим все звонки в большую сторону, так как по условию «Мегалайн» всегда округляет вверх значения минут и мегабайтов."
   ]
  },
  {
   "cell_type": "code",
   "execution_count": 10,
   "metadata": {},
   "outputs": [
    {
     "data": {
      "text/html": [
       "<div>\n",
       "<style scoped>\n",
       "    .dataframe tbody tr th:only-of-type {\n",
       "        vertical-align: middle;\n",
       "    }\n",
       "\n",
       "    .dataframe tbody tr th {\n",
       "        vertical-align: top;\n",
       "    }\n",
       "\n",
       "    .dataframe thead th {\n",
       "        text-align: right;\n",
       "    }\n",
       "</style>\n",
       "<table border=\"1\" class=\"dataframe\">\n",
       "  <thead>\n",
       "    <tr style=\"text-align: right;\">\n",
       "      <th></th>\n",
       "      <th>id</th>\n",
       "      <th>call_date</th>\n",
       "      <th>duration</th>\n",
       "      <th>user_id</th>\n",
       "    </tr>\n",
       "  </thead>\n",
       "  <tbody>\n",
       "    <tr>\n",
       "      <th>0</th>\n",
       "      <td>1000_0</td>\n",
       "      <td>2018-07-25</td>\n",
       "      <td>0</td>\n",
       "      <td>1000</td>\n",
       "    </tr>\n",
       "    <tr>\n",
       "      <th>1</th>\n",
       "      <td>1000_1</td>\n",
       "      <td>2018-08-17</td>\n",
       "      <td>0</td>\n",
       "      <td>1000</td>\n",
       "    </tr>\n",
       "    <tr>\n",
       "      <th>2</th>\n",
       "      <td>1000_2</td>\n",
       "      <td>2018-06-11</td>\n",
       "      <td>3</td>\n",
       "      <td>1000</td>\n",
       "    </tr>\n",
       "    <tr>\n",
       "      <th>3</th>\n",
       "      <td>1000_3</td>\n",
       "      <td>2018-09-21</td>\n",
       "      <td>14</td>\n",
       "      <td>1000</td>\n",
       "    </tr>\n",
       "    <tr>\n",
       "      <th>4</th>\n",
       "      <td>1000_4</td>\n",
       "      <td>2018-12-15</td>\n",
       "      <td>6</td>\n",
       "      <td>1000</td>\n",
       "    </tr>\n",
       "    <tr>\n",
       "      <th>5</th>\n",
       "      <td>1000_5</td>\n",
       "      <td>2018-11-02</td>\n",
       "      <td>0</td>\n",
       "      <td>1000</td>\n",
       "    </tr>\n",
       "    <tr>\n",
       "      <th>6</th>\n",
       "      <td>1000_6</td>\n",
       "      <td>2018-10-18</td>\n",
       "      <td>0</td>\n",
       "      <td>1000</td>\n",
       "    </tr>\n",
       "    <tr>\n",
       "      <th>7</th>\n",
       "      <td>1000_7</td>\n",
       "      <td>2018-08-22</td>\n",
       "      <td>19</td>\n",
       "      <td>1000</td>\n",
       "    </tr>\n",
       "    <tr>\n",
       "      <th>8</th>\n",
       "      <td>1000_8</td>\n",
       "      <td>2018-09-15</td>\n",
       "      <td>19</td>\n",
       "      <td>1000</td>\n",
       "    </tr>\n",
       "    <tr>\n",
       "      <th>9</th>\n",
       "      <td>1000_9</td>\n",
       "      <td>2018-08-15</td>\n",
       "      <td>0</td>\n",
       "      <td>1000</td>\n",
       "    </tr>\n",
       "  </tbody>\n",
       "</table>\n",
       "</div>"
      ],
      "text/plain": [
       "       id   call_date  duration  user_id\n",
       "0  1000_0  2018-07-25         0     1000\n",
       "1  1000_1  2018-08-17         0     1000\n",
       "2  1000_2  2018-06-11         3     1000\n",
       "3  1000_3  2018-09-21        14     1000\n",
       "4  1000_4  2018-12-15         6     1000\n",
       "5  1000_5  2018-11-02         0     1000\n",
       "6  1000_6  2018-10-18         0     1000\n",
       "7  1000_7  2018-08-22        19     1000\n",
       "8  1000_8  2018-09-15        19     1000\n",
       "9  1000_9  2018-08-15         0     1000"
      ]
     },
     "execution_count": 10,
     "metadata": {},
     "output_type": "execute_result"
    }
   ],
   "source": [
    "calls['duration'] = np.ceil(calls['duration'])\n",
    "calls['duration'] = calls['duration'].astype('int')\n",
    "calls.head(10)  # выведем первые 10 строк таблицы"
   ]
  },
  {
   "cell_type": "markdown",
   "metadata": {},
   "source": [
    "Преобразуем дату звонка в формат datetime:"
   ]
  },
  {
   "cell_type": "code",
   "execution_count": 11,
   "metadata": {},
   "outputs": [
    {
     "name": "stdout",
     "output_type": "stream",
     "text": [
      "<class 'pandas.core.frame.DataFrame'>\n",
      "RangeIndex: 202607 entries, 0 to 202606\n",
      "Data columns (total 4 columns):\n",
      " #   Column     Non-Null Count   Dtype         \n",
      "---  ------     --------------   -----         \n",
      " 0   id         202607 non-null  object        \n",
      " 1   call_date  202607 non-null  datetime64[ns]\n",
      " 2   duration   202607 non-null  int64         \n",
      " 3   user_id    202607 non-null  int64         \n",
      "dtypes: datetime64[ns](1), int64(2), object(1)\n",
      "memory usage: 6.2+ MB\n"
     ]
    },
    {
     "data": {
      "text/html": [
       "<div>\n",
       "<style scoped>\n",
       "    .dataframe tbody tr th:only-of-type {\n",
       "        vertical-align: middle;\n",
       "    }\n",
       "\n",
       "    .dataframe tbody tr th {\n",
       "        vertical-align: top;\n",
       "    }\n",
       "\n",
       "    .dataframe thead th {\n",
       "        text-align: right;\n",
       "    }\n",
       "</style>\n",
       "<table border=\"1\" class=\"dataframe\">\n",
       "  <thead>\n",
       "    <tr style=\"text-align: right;\">\n",
       "      <th></th>\n",
       "      <th>id</th>\n",
       "      <th>call_date</th>\n",
       "      <th>duration</th>\n",
       "      <th>user_id</th>\n",
       "    </tr>\n",
       "  </thead>\n",
       "  <tbody>\n",
       "    <tr>\n",
       "      <th>0</th>\n",
       "      <td>1000_0</td>\n",
       "      <td>2018-07-25</td>\n",
       "      <td>0</td>\n",
       "      <td>1000</td>\n",
       "    </tr>\n",
       "    <tr>\n",
       "      <th>1</th>\n",
       "      <td>1000_1</td>\n",
       "      <td>2018-08-17</td>\n",
       "      <td>0</td>\n",
       "      <td>1000</td>\n",
       "    </tr>\n",
       "    <tr>\n",
       "      <th>2</th>\n",
       "      <td>1000_2</td>\n",
       "      <td>2018-06-11</td>\n",
       "      <td>3</td>\n",
       "      <td>1000</td>\n",
       "    </tr>\n",
       "    <tr>\n",
       "      <th>3</th>\n",
       "      <td>1000_3</td>\n",
       "      <td>2018-09-21</td>\n",
       "      <td>14</td>\n",
       "      <td>1000</td>\n",
       "    </tr>\n",
       "    <tr>\n",
       "      <th>4</th>\n",
       "      <td>1000_4</td>\n",
       "      <td>2018-12-15</td>\n",
       "      <td>6</td>\n",
       "      <td>1000</td>\n",
       "    </tr>\n",
       "    <tr>\n",
       "      <th>5</th>\n",
       "      <td>1000_5</td>\n",
       "      <td>2018-11-02</td>\n",
       "      <td>0</td>\n",
       "      <td>1000</td>\n",
       "    </tr>\n",
       "    <tr>\n",
       "      <th>6</th>\n",
       "      <td>1000_6</td>\n",
       "      <td>2018-10-18</td>\n",
       "      <td>0</td>\n",
       "      <td>1000</td>\n",
       "    </tr>\n",
       "    <tr>\n",
       "      <th>7</th>\n",
       "      <td>1000_7</td>\n",
       "      <td>2018-08-22</td>\n",
       "      <td>19</td>\n",
       "      <td>1000</td>\n",
       "    </tr>\n",
       "    <tr>\n",
       "      <th>8</th>\n",
       "      <td>1000_8</td>\n",
       "      <td>2018-09-15</td>\n",
       "      <td>19</td>\n",
       "      <td>1000</td>\n",
       "    </tr>\n",
       "    <tr>\n",
       "      <th>9</th>\n",
       "      <td>1000_9</td>\n",
       "      <td>2018-08-15</td>\n",
       "      <td>0</td>\n",
       "      <td>1000</td>\n",
       "    </tr>\n",
       "  </tbody>\n",
       "</table>\n",
       "</div>"
      ],
      "text/plain": [
       "       id  call_date  duration  user_id\n",
       "0  1000_0 2018-07-25         0     1000\n",
       "1  1000_1 2018-08-17         0     1000\n",
       "2  1000_2 2018-06-11         3     1000\n",
       "3  1000_3 2018-09-21        14     1000\n",
       "4  1000_4 2018-12-15         6     1000\n",
       "5  1000_5 2018-11-02         0     1000\n",
       "6  1000_6 2018-10-18         0     1000\n",
       "7  1000_7 2018-08-22        19     1000\n",
       "8  1000_8 2018-09-15        19     1000\n",
       "9  1000_9 2018-08-15         0     1000"
      ]
     },
     "execution_count": 11,
     "metadata": {},
     "output_type": "execute_result"
    }
   ],
   "source": [
    "calls['call_date'] = pd.to_datetime(calls['call_date'], format='%Y-%m-%d', errors='raise')\n",
    "calls.info()  # получим общую информацию о таблице\n",
    "calls.head(10)  # выведем первые 10 строк таблицы\n"
   ]
  },
  {
   "cell_type": "markdown",
   "metadata": {},
   "source": [
    "Так как у нас ежемесячная оплата по тарифам, нам необходимо создать дополнительный столбец с месяцем для группировки данных:"
   ]
  },
  {
   "cell_type": "code",
   "execution_count": 12,
   "metadata": {},
   "outputs": [
    {
     "data": {
      "text/html": [
       "<div>\n",
       "<style scoped>\n",
       "    .dataframe tbody tr th:only-of-type {\n",
       "        vertical-align: middle;\n",
       "    }\n",
       "\n",
       "    .dataframe tbody tr th {\n",
       "        vertical-align: top;\n",
       "    }\n",
       "\n",
       "    .dataframe thead th {\n",
       "        text-align: right;\n",
       "    }\n",
       "</style>\n",
       "<table border=\"1\" class=\"dataframe\">\n",
       "  <thead>\n",
       "    <tr style=\"text-align: right;\">\n",
       "      <th></th>\n",
       "      <th>id</th>\n",
       "      <th>call_date</th>\n",
       "      <th>duration</th>\n",
       "      <th>user_id</th>\n",
       "      <th>month</th>\n",
       "      <th>year</th>\n",
       "    </tr>\n",
       "  </thead>\n",
       "  <tbody>\n",
       "    <tr>\n",
       "      <th>0</th>\n",
       "      <td>1000_0</td>\n",
       "      <td>2018-07-25</td>\n",
       "      <td>0</td>\n",
       "      <td>1000</td>\n",
       "      <td>7</td>\n",
       "      <td>2018</td>\n",
       "    </tr>\n",
       "    <tr>\n",
       "      <th>1</th>\n",
       "      <td>1000_1</td>\n",
       "      <td>2018-08-17</td>\n",
       "      <td>0</td>\n",
       "      <td>1000</td>\n",
       "      <td>8</td>\n",
       "      <td>2018</td>\n",
       "    </tr>\n",
       "    <tr>\n",
       "      <th>2</th>\n",
       "      <td>1000_2</td>\n",
       "      <td>2018-06-11</td>\n",
       "      <td>3</td>\n",
       "      <td>1000</td>\n",
       "      <td>6</td>\n",
       "      <td>2018</td>\n",
       "    </tr>\n",
       "    <tr>\n",
       "      <th>3</th>\n",
       "      <td>1000_3</td>\n",
       "      <td>2018-09-21</td>\n",
       "      <td>14</td>\n",
       "      <td>1000</td>\n",
       "      <td>9</td>\n",
       "      <td>2018</td>\n",
       "    </tr>\n",
       "    <tr>\n",
       "      <th>4</th>\n",
       "      <td>1000_4</td>\n",
       "      <td>2018-12-15</td>\n",
       "      <td>6</td>\n",
       "      <td>1000</td>\n",
       "      <td>12</td>\n",
       "      <td>2018</td>\n",
       "    </tr>\n",
       "    <tr>\n",
       "      <th>5</th>\n",
       "      <td>1000_5</td>\n",
       "      <td>2018-11-02</td>\n",
       "      <td>0</td>\n",
       "      <td>1000</td>\n",
       "      <td>11</td>\n",
       "      <td>2018</td>\n",
       "    </tr>\n",
       "    <tr>\n",
       "      <th>6</th>\n",
       "      <td>1000_6</td>\n",
       "      <td>2018-10-18</td>\n",
       "      <td>0</td>\n",
       "      <td>1000</td>\n",
       "      <td>10</td>\n",
       "      <td>2018</td>\n",
       "    </tr>\n",
       "    <tr>\n",
       "      <th>7</th>\n",
       "      <td>1000_7</td>\n",
       "      <td>2018-08-22</td>\n",
       "      <td>19</td>\n",
       "      <td>1000</td>\n",
       "      <td>8</td>\n",
       "      <td>2018</td>\n",
       "    </tr>\n",
       "    <tr>\n",
       "      <th>8</th>\n",
       "      <td>1000_8</td>\n",
       "      <td>2018-09-15</td>\n",
       "      <td>19</td>\n",
       "      <td>1000</td>\n",
       "      <td>9</td>\n",
       "      <td>2018</td>\n",
       "    </tr>\n",
       "    <tr>\n",
       "      <th>9</th>\n",
       "      <td>1000_9</td>\n",
       "      <td>2018-08-15</td>\n",
       "      <td>0</td>\n",
       "      <td>1000</td>\n",
       "      <td>8</td>\n",
       "      <td>2018</td>\n",
       "    </tr>\n",
       "  </tbody>\n",
       "</table>\n",
       "</div>"
      ],
      "text/plain": [
       "       id  call_date  duration  user_id  month  year\n",
       "0  1000_0 2018-07-25         0     1000      7  2018\n",
       "1  1000_1 2018-08-17         0     1000      8  2018\n",
       "2  1000_2 2018-06-11         3     1000      6  2018\n",
       "3  1000_3 2018-09-21        14     1000      9  2018\n",
       "4  1000_4 2018-12-15         6     1000     12  2018\n",
       "5  1000_5 2018-11-02         0     1000     11  2018\n",
       "6  1000_6 2018-10-18         0     1000     10  2018\n",
       "7  1000_7 2018-08-22        19     1000      8  2018\n",
       "8  1000_8 2018-09-15        19     1000      9  2018\n",
       "9  1000_9 2018-08-15         0     1000      8  2018"
      ]
     },
     "execution_count": 12,
     "metadata": {},
     "output_type": "execute_result"
    }
   ],
   "source": [
    "calls['month'] = pd.DatetimeIndex(calls['call_date']).month\n",
    "calls['year'] = pd.DatetimeIndex(calls['call_date']).year\n",
    "calls.head(10)"
   ]
  },
  {
   "cell_type": "markdown",
   "metadata": {},
   "source": [
    "На всякий случай проверим, не попался ли нам лишний год:"
   ]
  },
  {
   "cell_type": "code",
   "execution_count": 13,
   "metadata": {},
   "outputs": [
    {
     "data": {
      "text/html": [
       "<div>\n",
       "<style scoped>\n",
       "    .dataframe tbody tr th:only-of-type {\n",
       "        vertical-align: middle;\n",
       "    }\n",
       "\n",
       "    .dataframe tbody tr th {\n",
       "        vertical-align: top;\n",
       "    }\n",
       "\n",
       "    .dataframe thead th {\n",
       "        text-align: right;\n",
       "    }\n",
       "</style>\n",
       "<table border=\"1\" class=\"dataframe\">\n",
       "  <thead>\n",
       "    <tr style=\"text-align: right;\">\n",
       "      <th></th>\n",
       "      <th>id</th>\n",
       "      <th>call_date</th>\n",
       "      <th>duration</th>\n",
       "      <th>user_id</th>\n",
       "      <th>month</th>\n",
       "    </tr>\n",
       "    <tr>\n",
       "      <th>year</th>\n",
       "      <th></th>\n",
       "      <th></th>\n",
       "      <th></th>\n",
       "      <th></th>\n",
       "      <th></th>\n",
       "    </tr>\n",
       "  </thead>\n",
       "  <tbody>\n",
       "    <tr>\n",
       "      <th>2018</th>\n",
       "      <td>202607</td>\n",
       "      <td>202607</td>\n",
       "      <td>202607</td>\n",
       "      <td>202607</td>\n",
       "      <td>202607</td>\n",
       "    </tr>\n",
       "  </tbody>\n",
       "</table>\n",
       "</div>"
      ],
      "text/plain": [
       "          id  call_date  duration  user_id   month\n",
       "year                                              \n",
       "2018  202607     202607    202607   202607  202607"
      ]
     },
     "execution_count": 13,
     "metadata": {},
     "output_type": "execute_result"
    }
   ],
   "source": [
    "calls.groupby('year').count()"
   ]
  },
  {
   "cell_type": "code",
   "execution_count": 14,
   "metadata": {},
   "outputs": [
    {
     "data": {
      "text/html": [
       "<div>\n",
       "<style scoped>\n",
       "    .dataframe tbody tr th:only-of-type {\n",
       "        vertical-align: middle;\n",
       "    }\n",
       "\n",
       "    .dataframe tbody tr th {\n",
       "        vertical-align: top;\n",
       "    }\n",
       "\n",
       "    .dataframe thead th {\n",
       "        text-align: right;\n",
       "    }\n",
       "</style>\n",
       "<table border=\"1\" class=\"dataframe\">\n",
       "  <thead>\n",
       "    <tr style=\"text-align: right;\">\n",
       "      <th></th>\n",
       "      <th>id</th>\n",
       "      <th>call_date</th>\n",
       "      <th>duration</th>\n",
       "      <th>user_id</th>\n",
       "      <th>month</th>\n",
       "    </tr>\n",
       "  </thead>\n",
       "  <tbody>\n",
       "    <tr>\n",
       "      <th>0</th>\n",
       "      <td>1000_0</td>\n",
       "      <td>2018-07-25</td>\n",
       "      <td>0</td>\n",
       "      <td>1000</td>\n",
       "      <td>7</td>\n",
       "    </tr>\n",
       "    <tr>\n",
       "      <th>1</th>\n",
       "      <td>1000_1</td>\n",
       "      <td>2018-08-17</td>\n",
       "      <td>0</td>\n",
       "      <td>1000</td>\n",
       "      <td>8</td>\n",
       "    </tr>\n",
       "    <tr>\n",
       "      <th>2</th>\n",
       "      <td>1000_2</td>\n",
       "      <td>2018-06-11</td>\n",
       "      <td>3</td>\n",
       "      <td>1000</td>\n",
       "      <td>6</td>\n",
       "    </tr>\n",
       "    <tr>\n",
       "      <th>3</th>\n",
       "      <td>1000_3</td>\n",
       "      <td>2018-09-21</td>\n",
       "      <td>14</td>\n",
       "      <td>1000</td>\n",
       "      <td>9</td>\n",
       "    </tr>\n",
       "    <tr>\n",
       "      <th>4</th>\n",
       "      <td>1000_4</td>\n",
       "      <td>2018-12-15</td>\n",
       "      <td>6</td>\n",
       "      <td>1000</td>\n",
       "      <td>12</td>\n",
       "    </tr>\n",
       "    <tr>\n",
       "      <th>5</th>\n",
       "      <td>1000_5</td>\n",
       "      <td>2018-11-02</td>\n",
       "      <td>0</td>\n",
       "      <td>1000</td>\n",
       "      <td>11</td>\n",
       "    </tr>\n",
       "    <tr>\n",
       "      <th>6</th>\n",
       "      <td>1000_6</td>\n",
       "      <td>2018-10-18</td>\n",
       "      <td>0</td>\n",
       "      <td>1000</td>\n",
       "      <td>10</td>\n",
       "    </tr>\n",
       "    <tr>\n",
       "      <th>7</th>\n",
       "      <td>1000_7</td>\n",
       "      <td>2018-08-22</td>\n",
       "      <td>19</td>\n",
       "      <td>1000</td>\n",
       "      <td>8</td>\n",
       "    </tr>\n",
       "    <tr>\n",
       "      <th>8</th>\n",
       "      <td>1000_8</td>\n",
       "      <td>2018-09-15</td>\n",
       "      <td>19</td>\n",
       "      <td>1000</td>\n",
       "      <td>9</td>\n",
       "    </tr>\n",
       "    <tr>\n",
       "      <th>9</th>\n",
       "      <td>1000_9</td>\n",
       "      <td>2018-08-15</td>\n",
       "      <td>0</td>\n",
       "      <td>1000</td>\n",
       "      <td>8</td>\n",
       "    </tr>\n",
       "  </tbody>\n",
       "</table>\n",
       "</div>"
      ],
      "text/plain": [
       "       id  call_date  duration  user_id  month\n",
       "0  1000_0 2018-07-25         0     1000      7\n",
       "1  1000_1 2018-08-17         0     1000      8\n",
       "2  1000_2 2018-06-11         3     1000      6\n",
       "3  1000_3 2018-09-21        14     1000      9\n",
       "4  1000_4 2018-12-15         6     1000     12\n",
       "5  1000_5 2018-11-02         0     1000     11\n",
       "6  1000_6 2018-10-18         0     1000     10\n",
       "7  1000_7 2018-08-22        19     1000      8\n",
       "8  1000_8 2018-09-15        19     1000      9\n",
       "9  1000_9 2018-08-15         0     1000      8"
      ]
     },
     "execution_count": 14,
     "metadata": {},
     "output_type": "execute_result"
    }
   ],
   "source": [
    "#Всё нормально, столбец с годом можно убрать.\n",
    "calls = calls.drop(['year'], axis=1)\n",
    "calls.head(10) "
   ]
  },
  {
   "cell_type": "markdown",
   "metadata": {},
   "source": [
    "У нас есть нулевые значения в столбце duration. Скорее всего эти значения отражают пропущенные звонки. Несмотря на то, что пропущенные звонки сами по себе не приносят денег, они могут дать нам дополнительную информацию. Поэтому удалять их не стоит. Наличие пропущенных звонков содержит в себе разные случаи: случайно пропущенные звонки (вызываемый абонент не знал, что ему звонят), звонки пропущенные из-за занятости (вызываемый абонент знал, что ему звонят, но не мог взять трубку), специально пропущенные звонки (вызываемый абонент не хотел разговаривать вообще, не хотел разговаривать с конкретным абонентом).\n",
    "\n",
    "* Во-первых, потому что звонок уже доведён до абонента, что значит инфраструктура оператора всё равно совершила работу, а значит с точки зрения издержек эти значения могут быть важны.\n",
    "* Во-вторых, часть пропущенных звонков может быть связана со спам-звонками и мошенническими схемами, а это значит что по этим звонкам можно оценить необходимость в улучшении фильтрации звонков и настройке фильтров. А информацию об абонентах, которые занимаются подозрительной активностью можно передать в службу безопасности для проверки.\n",
    "\n",
    "Поэтому удалять эту информацию мы не будем.\n",
    "\n",
    "Похожая ситуация и с нулевыми сессиями. Их мы тоже удалять не будем."
   ]
  },
  {
   "cell_type": "code",
   "execution_count": 15,
   "metadata": {},
   "outputs": [
    {
     "name": "stdout",
     "output_type": "stream",
     "text": [
      "              id  call_date  duration  user_id  month\n",
      "178737   1446_22 2018-11-07        38     1446     11\n",
      "95088    1241_44 2018-09-06        38     1241      9\n",
      "39777   1099_150 2018-08-14        37     1099      8\n",
      "5865     1017_61 2018-11-13        37     1017     11\n",
      "60889   1153_135 2018-11-16        36     1153     11\n",
      "60747   1152_444 2018-06-25        36     1152      6\n",
      "81767   1203_340 2018-06-05        35     1203      6\n",
      "100841    1260_5 2018-12-28        35     1260     12\n",
      "64283    1165_31 2018-11-16        35     1165     11\n",
      "160004  1394_409 2018-08-31        35     1394      8\n"
     ]
    }
   ],
   "source": [
    "print(calls.sort_values(by = 'duration', ascending = False).head(10))"
   ]
  },
  {
   "cell_type": "code",
   "execution_count": 16,
   "metadata": {},
   "outputs": [
    {
     "name": "stdout",
     "output_type": "stream",
     "text": [
      "<class 'pandas.core.frame.DataFrame'>\n",
      "RangeIndex: 3174 entries, 0 to 3173\n",
      "Data columns (total 4 columns):\n",
      " #   Column          Non-Null Count  Dtype\n",
      "---  ------          --------------  -----\n",
      " 0   user_id         3174 non-null   int64\n",
      " 1   month           3174 non-null   int64\n",
      " 2   duration_sum    3174 non-null   int64\n",
      " 3   duration_count  3174 non-null   int64\n",
      "dtypes: int64(4)\n",
      "memory usage: 99.3 KB\n"
     ]
    },
    {
     "data": {
      "text/html": [
       "<div>\n",
       "<style scoped>\n",
       "    .dataframe tbody tr th:only-of-type {\n",
       "        vertical-align: middle;\n",
       "    }\n",
       "\n",
       "    .dataframe tbody tr th {\n",
       "        vertical-align: top;\n",
       "    }\n",
       "\n",
       "    .dataframe thead th {\n",
       "        text-align: right;\n",
       "    }\n",
       "</style>\n",
       "<table border=\"1\" class=\"dataframe\">\n",
       "  <thead>\n",
       "    <tr style=\"text-align: right;\">\n",
       "      <th></th>\n",
       "      <th>user_id</th>\n",
       "      <th>month</th>\n",
       "      <th>duration_sum</th>\n",
       "      <th>duration_count</th>\n",
       "    </tr>\n",
       "  </thead>\n",
       "  <tbody>\n",
       "    <tr>\n",
       "      <th>0</th>\n",
       "      <td>1000</td>\n",
       "      <td>5</td>\n",
       "      <td>159</td>\n",
       "      <td>22</td>\n",
       "    </tr>\n",
       "    <tr>\n",
       "      <th>1</th>\n",
       "      <td>1000</td>\n",
       "      <td>6</td>\n",
       "      <td>172</td>\n",
       "      <td>43</td>\n",
       "    </tr>\n",
       "    <tr>\n",
       "      <th>2</th>\n",
       "      <td>1000</td>\n",
       "      <td>7</td>\n",
       "      <td>340</td>\n",
       "      <td>47</td>\n",
       "    </tr>\n",
       "    <tr>\n",
       "      <th>3</th>\n",
       "      <td>1000</td>\n",
       "      <td>8</td>\n",
       "      <td>408</td>\n",
       "      <td>52</td>\n",
       "    </tr>\n",
       "    <tr>\n",
       "      <th>4</th>\n",
       "      <td>1000</td>\n",
       "      <td>9</td>\n",
       "      <td>466</td>\n",
       "      <td>58</td>\n",
       "    </tr>\n",
       "    <tr>\n",
       "      <th>5</th>\n",
       "      <td>1000</td>\n",
       "      <td>10</td>\n",
       "      <td>350</td>\n",
       "      <td>57</td>\n",
       "    </tr>\n",
       "    <tr>\n",
       "      <th>6</th>\n",
       "      <td>1000</td>\n",
       "      <td>11</td>\n",
       "      <td>338</td>\n",
       "      <td>43</td>\n",
       "    </tr>\n",
       "    <tr>\n",
       "      <th>7</th>\n",
       "      <td>1000</td>\n",
       "      <td>12</td>\n",
       "      <td>333</td>\n",
       "      <td>46</td>\n",
       "    </tr>\n",
       "    <tr>\n",
       "      <th>8</th>\n",
       "      <td>1001</td>\n",
       "      <td>11</td>\n",
       "      <td>430</td>\n",
       "      <td>59</td>\n",
       "    </tr>\n",
       "    <tr>\n",
       "      <th>9</th>\n",
       "      <td>1001</td>\n",
       "      <td>12</td>\n",
       "      <td>414</td>\n",
       "      <td>63</td>\n",
       "    </tr>\n",
       "  </tbody>\n",
       "</table>\n",
       "</div>"
      ],
      "text/plain": [
       "   user_id  month  duration_sum  duration_count\n",
       "0     1000      5           159              22\n",
       "1     1000      6           172              43\n",
       "2     1000      7           340              47\n",
       "3     1000      8           408              52\n",
       "4     1000      9           466              58\n",
       "5     1000     10           350              57\n",
       "6     1000     11           338              43\n",
       "7     1000     12           333              46\n",
       "8     1001     11           430              59\n",
       "9     1001     12           414              63"
      ]
     },
     "execution_count": 16,
     "metadata": {},
     "output_type": "execute_result"
    }
   ],
   "source": [
    "calls = calls.groupby(['user_id', 'month']).agg({'duration': ['sum', 'count']})\n",
    "calls.columns = ['duration_sum', 'duration_count']\n",
    "calls = calls.reset_index()\n",
    "calls.info()\n",
    "calls.head(10)"
   ]
  },
  {
   "cell_type": "markdown",
   "metadata": {},
   "source": [
    "### Интернет"
   ]
  },
  {
   "cell_type": "code",
   "execution_count": 17,
   "metadata": {},
   "outputs": [
    {
     "name": "stdout",
     "output_type": "stream",
     "text": [
      "<class 'pandas.core.frame.DataFrame'>\n",
      "RangeIndex: 149396 entries, 0 to 149395\n",
      "Data columns (total 5 columns):\n",
      " #   Column        Non-Null Count   Dtype  \n",
      "---  ------        --------------   -----  \n",
      " 0   Unnamed: 0    149396 non-null  int64  \n",
      " 1   id            149396 non-null  object \n",
      " 2   mb_used       149396 non-null  float64\n",
      " 3   session_date  149396 non-null  object \n",
      " 4   user_id       149396 non-null  int64  \n",
      "dtypes: float64(1), int64(2), object(2)\n",
      "memory usage: 5.7+ MB\n"
     ]
    },
    {
     "data": {
      "text/html": [
       "<div>\n",
       "<style scoped>\n",
       "    .dataframe tbody tr th:only-of-type {\n",
       "        vertical-align: middle;\n",
       "    }\n",
       "\n",
       "    .dataframe tbody tr th {\n",
       "        vertical-align: top;\n",
       "    }\n",
       "\n",
       "    .dataframe thead th {\n",
       "        text-align: right;\n",
       "    }\n",
       "</style>\n",
       "<table border=\"1\" class=\"dataframe\">\n",
       "  <thead>\n",
       "    <tr style=\"text-align: right;\">\n",
       "      <th></th>\n",
       "      <th>Unnamed: 0</th>\n",
       "      <th>id</th>\n",
       "      <th>mb_used</th>\n",
       "      <th>session_date</th>\n",
       "      <th>user_id</th>\n",
       "    </tr>\n",
       "  </thead>\n",
       "  <tbody>\n",
       "    <tr>\n",
       "      <th>0</th>\n",
       "      <td>0</td>\n",
       "      <td>1000_0</td>\n",
       "      <td>112.95</td>\n",
       "      <td>2018-11-25</td>\n",
       "      <td>1000</td>\n",
       "    </tr>\n",
       "    <tr>\n",
       "      <th>1</th>\n",
       "      <td>1</td>\n",
       "      <td>1000_1</td>\n",
       "      <td>1052.81</td>\n",
       "      <td>2018-09-07</td>\n",
       "      <td>1000</td>\n",
       "    </tr>\n",
       "    <tr>\n",
       "      <th>2</th>\n",
       "      <td>2</td>\n",
       "      <td>1000_2</td>\n",
       "      <td>1197.26</td>\n",
       "      <td>2018-06-25</td>\n",
       "      <td>1000</td>\n",
       "    </tr>\n",
       "    <tr>\n",
       "      <th>3</th>\n",
       "      <td>3</td>\n",
       "      <td>1000_3</td>\n",
       "      <td>550.27</td>\n",
       "      <td>2018-08-22</td>\n",
       "      <td>1000</td>\n",
       "    </tr>\n",
       "    <tr>\n",
       "      <th>4</th>\n",
       "      <td>4</td>\n",
       "      <td>1000_4</td>\n",
       "      <td>302.56</td>\n",
       "      <td>2018-09-24</td>\n",
       "      <td>1000</td>\n",
       "    </tr>\n",
       "    <tr>\n",
       "      <th>5</th>\n",
       "      <td>5</td>\n",
       "      <td>1000_5</td>\n",
       "      <td>399.97</td>\n",
       "      <td>2018-10-02</td>\n",
       "      <td>1000</td>\n",
       "    </tr>\n",
       "    <tr>\n",
       "      <th>6</th>\n",
       "      <td>6</td>\n",
       "      <td>1000_6</td>\n",
       "      <td>540.08</td>\n",
       "      <td>2018-09-07</td>\n",
       "      <td>1000</td>\n",
       "    </tr>\n",
       "    <tr>\n",
       "      <th>7</th>\n",
       "      <td>7</td>\n",
       "      <td>1000_7</td>\n",
       "      <td>415.70</td>\n",
       "      <td>2018-07-11</td>\n",
       "      <td>1000</td>\n",
       "    </tr>\n",
       "    <tr>\n",
       "      <th>8</th>\n",
       "      <td>8</td>\n",
       "      <td>1000_8</td>\n",
       "      <td>505.40</td>\n",
       "      <td>2018-10-08</td>\n",
       "      <td>1000</td>\n",
       "    </tr>\n",
       "    <tr>\n",
       "      <th>9</th>\n",
       "      <td>9</td>\n",
       "      <td>1000_9</td>\n",
       "      <td>345.54</td>\n",
       "      <td>2018-09-03</td>\n",
       "      <td>1000</td>\n",
       "    </tr>\n",
       "  </tbody>\n",
       "</table>\n",
       "</div>"
      ],
      "text/plain": [
       "   Unnamed: 0      id  mb_used session_date  user_id\n",
       "0           0  1000_0   112.95   2018-11-25     1000\n",
       "1           1  1000_1  1052.81   2018-09-07     1000\n",
       "2           2  1000_2  1197.26   2018-06-25     1000\n",
       "3           3  1000_3   550.27   2018-08-22     1000\n",
       "4           4  1000_4   302.56   2018-09-24     1000\n",
       "5           5  1000_5   399.97   2018-10-02     1000\n",
       "6           6  1000_6   540.08   2018-09-07     1000\n",
       "7           7  1000_7   415.70   2018-07-11     1000\n",
       "8           8  1000_8   505.40   2018-10-08     1000\n",
       "9           9  1000_9   345.54   2018-09-03     1000"
      ]
     },
     "metadata": {},
     "output_type": "display_data"
    }
   ],
   "source": [
    "#Снова взглянем на датафрейм с информацией по трафику:\n",
    "internet_df.info()  # получим общую информацию о таблице\n",
    "display(internet_df.head(10))  # выведем первые 10 строк таблицы\n",
    "internet = internet_df"
   ]
  },
  {
   "cell_type": "markdown",
   "metadata": {},
   "source": [
    "Преобразуем дату сеанса в формат datetime:"
   ]
  },
  {
   "cell_type": "code",
   "execution_count": 18,
   "metadata": {},
   "outputs": [
    {
     "name": "stdout",
     "output_type": "stream",
     "text": [
      "<class 'pandas.core.frame.DataFrame'>\n",
      "RangeIndex: 149396 entries, 0 to 149395\n",
      "Data columns (total 5 columns):\n",
      " #   Column        Non-Null Count   Dtype         \n",
      "---  ------        --------------   -----         \n",
      " 0   Unnamed: 0    149396 non-null  int64         \n",
      " 1   id            149396 non-null  object        \n",
      " 2   mb_used       149396 non-null  float64       \n",
      " 3   session_date  149396 non-null  datetime64[ns]\n",
      " 4   user_id       149396 non-null  int64         \n",
      "dtypes: datetime64[ns](1), float64(1), int64(2), object(1)\n",
      "memory usage: 5.7+ MB\n"
     ]
    },
    {
     "data": {
      "text/html": [
       "<div>\n",
       "<style scoped>\n",
       "    .dataframe tbody tr th:only-of-type {\n",
       "        vertical-align: middle;\n",
       "    }\n",
       "\n",
       "    .dataframe tbody tr th {\n",
       "        vertical-align: top;\n",
       "    }\n",
       "\n",
       "    .dataframe thead th {\n",
       "        text-align: right;\n",
       "    }\n",
       "</style>\n",
       "<table border=\"1\" class=\"dataframe\">\n",
       "  <thead>\n",
       "    <tr style=\"text-align: right;\">\n",
       "      <th></th>\n",
       "      <th>Unnamed: 0</th>\n",
       "      <th>id</th>\n",
       "      <th>mb_used</th>\n",
       "      <th>session_date</th>\n",
       "      <th>user_id</th>\n",
       "    </tr>\n",
       "  </thead>\n",
       "  <tbody>\n",
       "    <tr>\n",
       "      <th>0</th>\n",
       "      <td>0</td>\n",
       "      <td>1000_0</td>\n",
       "      <td>112.95</td>\n",
       "      <td>2018-11-25</td>\n",
       "      <td>1000</td>\n",
       "    </tr>\n",
       "    <tr>\n",
       "      <th>1</th>\n",
       "      <td>1</td>\n",
       "      <td>1000_1</td>\n",
       "      <td>1052.81</td>\n",
       "      <td>2018-09-07</td>\n",
       "      <td>1000</td>\n",
       "    </tr>\n",
       "    <tr>\n",
       "      <th>2</th>\n",
       "      <td>2</td>\n",
       "      <td>1000_2</td>\n",
       "      <td>1197.26</td>\n",
       "      <td>2018-06-25</td>\n",
       "      <td>1000</td>\n",
       "    </tr>\n",
       "    <tr>\n",
       "      <th>3</th>\n",
       "      <td>3</td>\n",
       "      <td>1000_3</td>\n",
       "      <td>550.27</td>\n",
       "      <td>2018-08-22</td>\n",
       "      <td>1000</td>\n",
       "    </tr>\n",
       "    <tr>\n",
       "      <th>4</th>\n",
       "      <td>4</td>\n",
       "      <td>1000_4</td>\n",
       "      <td>302.56</td>\n",
       "      <td>2018-09-24</td>\n",
       "      <td>1000</td>\n",
       "    </tr>\n",
       "    <tr>\n",
       "      <th>5</th>\n",
       "      <td>5</td>\n",
       "      <td>1000_5</td>\n",
       "      <td>399.97</td>\n",
       "      <td>2018-10-02</td>\n",
       "      <td>1000</td>\n",
       "    </tr>\n",
       "    <tr>\n",
       "      <th>6</th>\n",
       "      <td>6</td>\n",
       "      <td>1000_6</td>\n",
       "      <td>540.08</td>\n",
       "      <td>2018-09-07</td>\n",
       "      <td>1000</td>\n",
       "    </tr>\n",
       "    <tr>\n",
       "      <th>7</th>\n",
       "      <td>7</td>\n",
       "      <td>1000_7</td>\n",
       "      <td>415.70</td>\n",
       "      <td>2018-07-11</td>\n",
       "      <td>1000</td>\n",
       "    </tr>\n",
       "    <tr>\n",
       "      <th>8</th>\n",
       "      <td>8</td>\n",
       "      <td>1000_8</td>\n",
       "      <td>505.40</td>\n",
       "      <td>2018-10-08</td>\n",
       "      <td>1000</td>\n",
       "    </tr>\n",
       "    <tr>\n",
       "      <th>9</th>\n",
       "      <td>9</td>\n",
       "      <td>1000_9</td>\n",
       "      <td>345.54</td>\n",
       "      <td>2018-09-03</td>\n",
       "      <td>1000</td>\n",
       "    </tr>\n",
       "  </tbody>\n",
       "</table>\n",
       "</div>"
      ],
      "text/plain": [
       "   Unnamed: 0      id  mb_used session_date  user_id\n",
       "0           0  1000_0   112.95   2018-11-25     1000\n",
       "1           1  1000_1  1052.81   2018-09-07     1000\n",
       "2           2  1000_2  1197.26   2018-06-25     1000\n",
       "3           3  1000_3   550.27   2018-08-22     1000\n",
       "4           4  1000_4   302.56   2018-09-24     1000\n",
       "5           5  1000_5   399.97   2018-10-02     1000\n",
       "6           6  1000_6   540.08   2018-09-07     1000\n",
       "7           7  1000_7   415.70   2018-07-11     1000\n",
       "8           8  1000_8   505.40   2018-10-08     1000\n",
       "9           9  1000_9   345.54   2018-09-03     1000"
      ]
     },
     "execution_count": 18,
     "metadata": {},
     "output_type": "execute_result"
    }
   ],
   "source": [
    "internet['session_date'] = pd.to_datetime(internet['session_date'], format='%Y-%m-%d', errors='raise')\n",
    "internet.info()  # получим общую информацию о таблице\n",
    "internet.head(10)  # выведем первые 10 строк таблицы"
   ]
  },
  {
   "cell_type": "markdown",
   "metadata": {},
   "source": [
    "Так как у нас ежемесячная оплата по тарифам, нам необходимо создать дополнительный столбец с месяцем для группировки данных:"
   ]
  },
  {
   "cell_type": "code",
   "execution_count": 19,
   "metadata": {},
   "outputs": [
    {
     "data": {
      "text/html": [
       "<div>\n",
       "<style scoped>\n",
       "    .dataframe tbody tr th:only-of-type {\n",
       "        vertical-align: middle;\n",
       "    }\n",
       "\n",
       "    .dataframe tbody tr th {\n",
       "        vertical-align: top;\n",
       "    }\n",
       "\n",
       "    .dataframe thead th {\n",
       "        text-align: right;\n",
       "    }\n",
       "</style>\n",
       "<table border=\"1\" class=\"dataframe\">\n",
       "  <thead>\n",
       "    <tr style=\"text-align: right;\">\n",
       "      <th></th>\n",
       "      <th>Unnamed: 0</th>\n",
       "      <th>id</th>\n",
       "      <th>mb_used</th>\n",
       "      <th>session_date</th>\n",
       "      <th>user_id</th>\n",
       "      <th>month</th>\n",
       "      <th>year</th>\n",
       "    </tr>\n",
       "  </thead>\n",
       "  <tbody>\n",
       "    <tr>\n",
       "      <th>0</th>\n",
       "      <td>0</td>\n",
       "      <td>1000_0</td>\n",
       "      <td>112.95</td>\n",
       "      <td>2018-11-25</td>\n",
       "      <td>1000</td>\n",
       "      <td>11</td>\n",
       "      <td>2018</td>\n",
       "    </tr>\n",
       "    <tr>\n",
       "      <th>1</th>\n",
       "      <td>1</td>\n",
       "      <td>1000_1</td>\n",
       "      <td>1052.81</td>\n",
       "      <td>2018-09-07</td>\n",
       "      <td>1000</td>\n",
       "      <td>9</td>\n",
       "      <td>2018</td>\n",
       "    </tr>\n",
       "    <tr>\n",
       "      <th>2</th>\n",
       "      <td>2</td>\n",
       "      <td>1000_2</td>\n",
       "      <td>1197.26</td>\n",
       "      <td>2018-06-25</td>\n",
       "      <td>1000</td>\n",
       "      <td>6</td>\n",
       "      <td>2018</td>\n",
       "    </tr>\n",
       "    <tr>\n",
       "      <th>3</th>\n",
       "      <td>3</td>\n",
       "      <td>1000_3</td>\n",
       "      <td>550.27</td>\n",
       "      <td>2018-08-22</td>\n",
       "      <td>1000</td>\n",
       "      <td>8</td>\n",
       "      <td>2018</td>\n",
       "    </tr>\n",
       "    <tr>\n",
       "      <th>4</th>\n",
       "      <td>4</td>\n",
       "      <td>1000_4</td>\n",
       "      <td>302.56</td>\n",
       "      <td>2018-09-24</td>\n",
       "      <td>1000</td>\n",
       "      <td>9</td>\n",
       "      <td>2018</td>\n",
       "    </tr>\n",
       "    <tr>\n",
       "      <th>5</th>\n",
       "      <td>5</td>\n",
       "      <td>1000_5</td>\n",
       "      <td>399.97</td>\n",
       "      <td>2018-10-02</td>\n",
       "      <td>1000</td>\n",
       "      <td>10</td>\n",
       "      <td>2018</td>\n",
       "    </tr>\n",
       "    <tr>\n",
       "      <th>6</th>\n",
       "      <td>6</td>\n",
       "      <td>1000_6</td>\n",
       "      <td>540.08</td>\n",
       "      <td>2018-09-07</td>\n",
       "      <td>1000</td>\n",
       "      <td>9</td>\n",
       "      <td>2018</td>\n",
       "    </tr>\n",
       "    <tr>\n",
       "      <th>7</th>\n",
       "      <td>7</td>\n",
       "      <td>1000_7</td>\n",
       "      <td>415.70</td>\n",
       "      <td>2018-07-11</td>\n",
       "      <td>1000</td>\n",
       "      <td>7</td>\n",
       "      <td>2018</td>\n",
       "    </tr>\n",
       "    <tr>\n",
       "      <th>8</th>\n",
       "      <td>8</td>\n",
       "      <td>1000_8</td>\n",
       "      <td>505.40</td>\n",
       "      <td>2018-10-08</td>\n",
       "      <td>1000</td>\n",
       "      <td>10</td>\n",
       "      <td>2018</td>\n",
       "    </tr>\n",
       "    <tr>\n",
       "      <th>9</th>\n",
       "      <td>9</td>\n",
       "      <td>1000_9</td>\n",
       "      <td>345.54</td>\n",
       "      <td>2018-09-03</td>\n",
       "      <td>1000</td>\n",
       "      <td>9</td>\n",
       "      <td>2018</td>\n",
       "    </tr>\n",
       "  </tbody>\n",
       "</table>\n",
       "</div>"
      ],
      "text/plain": [
       "   Unnamed: 0      id  mb_used session_date  user_id  month  year\n",
       "0           0  1000_0   112.95   2018-11-25     1000     11  2018\n",
       "1           1  1000_1  1052.81   2018-09-07     1000      9  2018\n",
       "2           2  1000_2  1197.26   2018-06-25     1000      6  2018\n",
       "3           3  1000_3   550.27   2018-08-22     1000      8  2018\n",
       "4           4  1000_4   302.56   2018-09-24     1000      9  2018\n",
       "5           5  1000_5   399.97   2018-10-02     1000     10  2018\n",
       "6           6  1000_6   540.08   2018-09-07     1000      9  2018\n",
       "7           7  1000_7   415.70   2018-07-11     1000      7  2018\n",
       "8           8  1000_8   505.40   2018-10-08     1000     10  2018\n",
       "9           9  1000_9   345.54   2018-09-03     1000      9  2018"
      ]
     },
     "execution_count": 19,
     "metadata": {},
     "output_type": "execute_result"
    }
   ],
   "source": [
    "internet['month'] = pd.DatetimeIndex(internet['session_date']).month\n",
    "internet['year'] = pd.DatetimeIndex(internet['session_date']).year\n",
    "internet.head(10)"
   ]
  },
  {
   "cell_type": "markdown",
   "metadata": {},
   "source": [
    "На всякий случай проверим, не попался ли нам лишний год:"
   ]
  },
  {
   "cell_type": "code",
   "execution_count": 20,
   "metadata": {},
   "outputs": [
    {
     "data": {
      "text/html": [
       "<div>\n",
       "<style scoped>\n",
       "    .dataframe tbody tr th:only-of-type {\n",
       "        vertical-align: middle;\n",
       "    }\n",
       "\n",
       "    .dataframe tbody tr th {\n",
       "        vertical-align: top;\n",
       "    }\n",
       "\n",
       "    .dataframe thead th {\n",
       "        text-align: right;\n",
       "    }\n",
       "</style>\n",
       "<table border=\"1\" class=\"dataframe\">\n",
       "  <thead>\n",
       "    <tr style=\"text-align: right;\">\n",
       "      <th></th>\n",
       "      <th>Unnamed: 0</th>\n",
       "      <th>id</th>\n",
       "      <th>mb_used</th>\n",
       "      <th>session_date</th>\n",
       "      <th>user_id</th>\n",
       "      <th>month</th>\n",
       "    </tr>\n",
       "    <tr>\n",
       "      <th>year</th>\n",
       "      <th></th>\n",
       "      <th></th>\n",
       "      <th></th>\n",
       "      <th></th>\n",
       "      <th></th>\n",
       "      <th></th>\n",
       "    </tr>\n",
       "  </thead>\n",
       "  <tbody>\n",
       "    <tr>\n",
       "      <th>2018</th>\n",
       "      <td>149396</td>\n",
       "      <td>149396</td>\n",
       "      <td>149396</td>\n",
       "      <td>149396</td>\n",
       "      <td>149396</td>\n",
       "      <td>149396</td>\n",
       "    </tr>\n",
       "  </tbody>\n",
       "</table>\n",
       "</div>"
      ],
      "text/plain": [
       "      Unnamed: 0      id  mb_used  session_date  user_id   month\n",
       "year                                                            \n",
       "2018      149396  149396   149396        149396   149396  149396"
      ]
     },
     "execution_count": 20,
     "metadata": {},
     "output_type": "execute_result"
    }
   ],
   "source": [
    "internet.groupby('year').count()"
   ]
  },
  {
   "cell_type": "markdown",
   "metadata": {},
   "source": [
    "Всё нормально, год можно удалить. Заодно избавимся от столбца Unnamed: 0:"
   ]
  },
  {
   "cell_type": "code",
   "execution_count": 21,
   "metadata": {},
   "outputs": [
    {
     "data": {
      "text/html": [
       "<div>\n",
       "<style scoped>\n",
       "    .dataframe tbody tr th:only-of-type {\n",
       "        vertical-align: middle;\n",
       "    }\n",
       "\n",
       "    .dataframe tbody tr th {\n",
       "        vertical-align: top;\n",
       "    }\n",
       "\n",
       "    .dataframe thead th {\n",
       "        text-align: right;\n",
       "    }\n",
       "</style>\n",
       "<table border=\"1\" class=\"dataframe\">\n",
       "  <thead>\n",
       "    <tr style=\"text-align: right;\">\n",
       "      <th></th>\n",
       "      <th>id</th>\n",
       "      <th>mb_used</th>\n",
       "      <th>session_date</th>\n",
       "      <th>user_id</th>\n",
       "      <th>month</th>\n",
       "    </tr>\n",
       "  </thead>\n",
       "  <tbody>\n",
       "    <tr>\n",
       "      <th>0</th>\n",
       "      <td>1000_0</td>\n",
       "      <td>112.95</td>\n",
       "      <td>2018-11-25</td>\n",
       "      <td>1000</td>\n",
       "      <td>11</td>\n",
       "    </tr>\n",
       "    <tr>\n",
       "      <th>1</th>\n",
       "      <td>1000_1</td>\n",
       "      <td>1052.81</td>\n",
       "      <td>2018-09-07</td>\n",
       "      <td>1000</td>\n",
       "      <td>9</td>\n",
       "    </tr>\n",
       "    <tr>\n",
       "      <th>2</th>\n",
       "      <td>1000_2</td>\n",
       "      <td>1197.26</td>\n",
       "      <td>2018-06-25</td>\n",
       "      <td>1000</td>\n",
       "      <td>6</td>\n",
       "    </tr>\n",
       "    <tr>\n",
       "      <th>3</th>\n",
       "      <td>1000_3</td>\n",
       "      <td>550.27</td>\n",
       "      <td>2018-08-22</td>\n",
       "      <td>1000</td>\n",
       "      <td>8</td>\n",
       "    </tr>\n",
       "    <tr>\n",
       "      <th>4</th>\n",
       "      <td>1000_4</td>\n",
       "      <td>302.56</td>\n",
       "      <td>2018-09-24</td>\n",
       "      <td>1000</td>\n",
       "      <td>9</td>\n",
       "    </tr>\n",
       "    <tr>\n",
       "      <th>5</th>\n",
       "      <td>1000_5</td>\n",
       "      <td>399.97</td>\n",
       "      <td>2018-10-02</td>\n",
       "      <td>1000</td>\n",
       "      <td>10</td>\n",
       "    </tr>\n",
       "    <tr>\n",
       "      <th>6</th>\n",
       "      <td>1000_6</td>\n",
       "      <td>540.08</td>\n",
       "      <td>2018-09-07</td>\n",
       "      <td>1000</td>\n",
       "      <td>9</td>\n",
       "    </tr>\n",
       "    <tr>\n",
       "      <th>7</th>\n",
       "      <td>1000_7</td>\n",
       "      <td>415.70</td>\n",
       "      <td>2018-07-11</td>\n",
       "      <td>1000</td>\n",
       "      <td>7</td>\n",
       "    </tr>\n",
       "    <tr>\n",
       "      <th>8</th>\n",
       "      <td>1000_8</td>\n",
       "      <td>505.40</td>\n",
       "      <td>2018-10-08</td>\n",
       "      <td>1000</td>\n",
       "      <td>10</td>\n",
       "    </tr>\n",
       "    <tr>\n",
       "      <th>9</th>\n",
       "      <td>1000_9</td>\n",
       "      <td>345.54</td>\n",
       "      <td>2018-09-03</td>\n",
       "      <td>1000</td>\n",
       "      <td>9</td>\n",
       "    </tr>\n",
       "  </tbody>\n",
       "</table>\n",
       "</div>"
      ],
      "text/plain": [
       "       id  mb_used session_date  user_id  month\n",
       "0  1000_0   112.95   2018-11-25     1000     11\n",
       "1  1000_1  1052.81   2018-09-07     1000      9\n",
       "2  1000_2  1197.26   2018-06-25     1000      6\n",
       "3  1000_3   550.27   2018-08-22     1000      8\n",
       "4  1000_4   302.56   2018-09-24     1000      9\n",
       "5  1000_5   399.97   2018-10-02     1000     10\n",
       "6  1000_6   540.08   2018-09-07     1000      9\n",
       "7  1000_7   415.70   2018-07-11     1000      7\n",
       "8  1000_8   505.40   2018-10-08     1000     10\n",
       "9  1000_9   345.54   2018-09-03     1000      9"
      ]
     },
     "execution_count": 21,
     "metadata": {},
     "output_type": "execute_result"
    }
   ],
   "source": [
    "internet = internet.drop(['Unnamed: 0', 'year'], axis=1)\n",
    "internet.head(10)"
   ]
  },
  {
   "cell_type": "markdown",
   "metadata": {},
   "source": [
    "Теперь сгруппируем датафрейм:"
   ]
  },
  {
   "cell_type": "code",
   "execution_count": 22,
   "metadata": {},
   "outputs": [
    {
     "name": "stdout",
     "output_type": "stream",
     "text": [
      "<class 'pandas.core.frame.DataFrame'>\n",
      "RangeIndex: 3203 entries, 0 to 3202\n",
      "Data columns (total 4 columns):\n",
      " #   Column         Non-Null Count  Dtype  \n",
      "---  ------         --------------  -----  \n",
      " 0   user_id        3203 non-null   int64  \n",
      " 1   month          3203 non-null   int64  \n",
      " 2   mb_used_count  3203 non-null   int64  \n",
      " 3   mb_used_sum    3203 non-null   float64\n",
      "dtypes: float64(1), int64(3)\n",
      "memory usage: 100.2 KB\n"
     ]
    },
    {
     "data": {
      "text/html": [
       "<div>\n",
       "<style scoped>\n",
       "    .dataframe tbody tr th:only-of-type {\n",
       "        vertical-align: middle;\n",
       "    }\n",
       "\n",
       "    .dataframe tbody tr th {\n",
       "        vertical-align: top;\n",
       "    }\n",
       "\n",
       "    .dataframe thead th {\n",
       "        text-align: right;\n",
       "    }\n",
       "</style>\n",
       "<table border=\"1\" class=\"dataframe\">\n",
       "  <thead>\n",
       "    <tr style=\"text-align: right;\">\n",
       "      <th></th>\n",
       "      <th>user_id</th>\n",
       "      <th>month</th>\n",
       "      <th>mb_used_count</th>\n",
       "      <th>mb_used_sum</th>\n",
       "    </tr>\n",
       "  </thead>\n",
       "  <tbody>\n",
       "    <tr>\n",
       "      <th>0</th>\n",
       "      <td>1000</td>\n",
       "      <td>5</td>\n",
       "      <td>5</td>\n",
       "      <td>2253.49</td>\n",
       "    </tr>\n",
       "    <tr>\n",
       "      <th>1</th>\n",
       "      <td>1000</td>\n",
       "      <td>6</td>\n",
       "      <td>49</td>\n",
       "      <td>23233.77</td>\n",
       "    </tr>\n",
       "    <tr>\n",
       "      <th>2</th>\n",
       "      <td>1000</td>\n",
       "      <td>7</td>\n",
       "      <td>29</td>\n",
       "      <td>14003.64</td>\n",
       "    </tr>\n",
       "    <tr>\n",
       "      <th>3</th>\n",
       "      <td>1000</td>\n",
       "      <td>8</td>\n",
       "      <td>29</td>\n",
       "      <td>14055.93</td>\n",
       "    </tr>\n",
       "    <tr>\n",
       "      <th>4</th>\n",
       "      <td>1000</td>\n",
       "      <td>9</td>\n",
       "      <td>27</td>\n",
       "      <td>14568.91</td>\n",
       "    </tr>\n",
       "    <tr>\n",
       "      <th>5</th>\n",
       "      <td>1000</td>\n",
       "      <td>10</td>\n",
       "      <td>27</td>\n",
       "      <td>14702.49</td>\n",
       "    </tr>\n",
       "    <tr>\n",
       "      <th>6</th>\n",
       "      <td>1000</td>\n",
       "      <td>11</td>\n",
       "      <td>24</td>\n",
       "      <td>14756.47</td>\n",
       "    </tr>\n",
       "    <tr>\n",
       "      <th>7</th>\n",
       "      <td>1000</td>\n",
       "      <td>12</td>\n",
       "      <td>21</td>\n",
       "      <td>9817.61</td>\n",
       "    </tr>\n",
       "    <tr>\n",
       "      <th>8</th>\n",
       "      <td>1001</td>\n",
       "      <td>11</td>\n",
       "      <td>55</td>\n",
       "      <td>18429.34</td>\n",
       "    </tr>\n",
       "    <tr>\n",
       "      <th>9</th>\n",
       "      <td>1001</td>\n",
       "      <td>12</td>\n",
       "      <td>41</td>\n",
       "      <td>14036.66</td>\n",
       "    </tr>\n",
       "  </tbody>\n",
       "</table>\n",
       "</div>"
      ],
      "text/plain": [
       "   user_id  month  mb_used_count  mb_used_sum\n",
       "0     1000      5              5      2253.49\n",
       "1     1000      6             49     23233.77\n",
       "2     1000      7             29     14003.64\n",
       "3     1000      8             29     14055.93\n",
       "4     1000      9             27     14568.91\n",
       "5     1000     10             27     14702.49\n",
       "6     1000     11             24     14756.47\n",
       "7     1000     12             21      9817.61\n",
       "8     1001     11             55     18429.34\n",
       "9     1001     12             41     14036.66"
      ]
     },
     "execution_count": 22,
     "metadata": {},
     "output_type": "execute_result"
    }
   ],
   "source": [
    "internet = internet.groupby(['user_id', 'month']).agg({'mb_used': ['count', 'sum']})\n",
    "internet.columns = ['mb_used_count', 'mb_used_sum']\n",
    "internet = internet.reset_index()\n",
    "internet.info()\n",
    "internet.head(10)"
   ]
  },
  {
   "cell_type": "markdown",
   "metadata": {},
   "source": [
    "Построим гистограмму, чтобы проверить распределение значений.\n"
   ]
  },
  {
   "cell_type": "code",
   "execution_count": 23,
   "metadata": {},
   "outputs": [
    {
     "data": {
      "text/plain": [
       "<AxesSubplot:>"
      ]
     },
     "execution_count": 23,
     "metadata": {},
     "output_type": "execute_result"
    },
    {
     "data": {
      "image/png": "[encoded data removed]",
      "text/plain": [
       "<Figure size 432x288 with 1 Axes>"
      ]
     },
     "metadata": {
      "needs_background": "light"
     },
     "output_type": "display_data"
    }
   ],
   "source": [
    "internet['mb_used_sum'].hist(bins=5000, range=(0, 45000))"
   ]
  },
  {
   "cell_type": "markdown",
   "metadata": {},
   "source": [
    "Есть несколько выбросов в районе 40гб, но это вполне нормальное значение в используемом трафике."
   ]
  },
  {
   "cell_type": "markdown",
   "metadata": {},
   "source": [
    "### Сообщения"
   ]
  },
  {
   "cell_type": "markdown",
   "metadata": {},
   "source": [
    "Снова взглянем на датафрейм с информацией по сообщениям:"
   ]
  },
  {
   "cell_type": "code",
   "execution_count": 24,
   "metadata": {},
   "outputs": [
    {
     "name": "stdout",
     "output_type": "stream",
     "text": [
      "<class 'pandas.core.frame.DataFrame'>\n",
      "RangeIndex: 123036 entries, 0 to 123035\n",
      "Data columns (total 3 columns):\n",
      " #   Column        Non-Null Count   Dtype \n",
      "---  ------        --------------   ----- \n",
      " 0   id            123036 non-null  object\n",
      " 1   message_date  123036 non-null  object\n",
      " 2   user_id       123036 non-null  int64 \n",
      "dtypes: int64(1), object(2)\n",
      "memory usage: 2.8+ MB\n"
     ]
    },
    {
     "data": {
      "text/html": [
       "<div>\n",
       "<style scoped>\n",
       "    .dataframe tbody tr th:only-of-type {\n",
       "        vertical-align: middle;\n",
       "    }\n",
       "\n",
       "    .dataframe tbody tr th {\n",
       "        vertical-align: top;\n",
       "    }\n",
       "\n",
       "    .dataframe thead th {\n",
       "        text-align: right;\n",
       "    }\n",
       "</style>\n",
       "<table border=\"1\" class=\"dataframe\">\n",
       "  <thead>\n",
       "    <tr style=\"text-align: right;\">\n",
       "      <th></th>\n",
       "      <th>id</th>\n",
       "      <th>message_date</th>\n",
       "      <th>user_id</th>\n",
       "    </tr>\n",
       "  </thead>\n",
       "  <tbody>\n",
       "    <tr>\n",
       "      <th>0</th>\n",
       "      <td>1000_0</td>\n",
       "      <td>2018-06-27</td>\n",
       "      <td>1000</td>\n",
       "    </tr>\n",
       "    <tr>\n",
       "      <th>1</th>\n",
       "      <td>1000_1</td>\n",
       "      <td>2018-10-08</td>\n",
       "      <td>1000</td>\n",
       "    </tr>\n",
       "    <tr>\n",
       "      <th>2</th>\n",
       "      <td>1000_2</td>\n",
       "      <td>2018-08-04</td>\n",
       "      <td>1000</td>\n",
       "    </tr>\n",
       "    <tr>\n",
       "      <th>3</th>\n",
       "      <td>1000_3</td>\n",
       "      <td>2018-06-16</td>\n",
       "      <td>1000</td>\n",
       "    </tr>\n",
       "    <tr>\n",
       "      <th>4</th>\n",
       "      <td>1000_4</td>\n",
       "      <td>2018-12-05</td>\n",
       "      <td>1000</td>\n",
       "    </tr>\n",
       "    <tr>\n",
       "      <th>5</th>\n",
       "      <td>1000_5</td>\n",
       "      <td>2018-06-20</td>\n",
       "      <td>1000</td>\n",
       "    </tr>\n",
       "    <tr>\n",
       "      <th>6</th>\n",
       "      <td>1000_6</td>\n",
       "      <td>2018-11-19</td>\n",
       "      <td>1000</td>\n",
       "    </tr>\n",
       "    <tr>\n",
       "      <th>7</th>\n",
       "      <td>1000_7</td>\n",
       "      <td>2018-10-29</td>\n",
       "      <td>1000</td>\n",
       "    </tr>\n",
       "    <tr>\n",
       "      <th>8</th>\n",
       "      <td>1000_8</td>\n",
       "      <td>2018-06-25</td>\n",
       "      <td>1000</td>\n",
       "    </tr>\n",
       "    <tr>\n",
       "      <th>9</th>\n",
       "      <td>1000_9</td>\n",
       "      <td>2018-12-18</td>\n",
       "      <td>1000</td>\n",
       "    </tr>\n",
       "  </tbody>\n",
       "</table>\n",
       "</div>"
      ],
      "text/plain": [
       "       id message_date  user_id\n",
       "0  1000_0   2018-06-27     1000\n",
       "1  1000_1   2018-10-08     1000\n",
       "2  1000_2   2018-08-04     1000\n",
       "3  1000_3   2018-06-16     1000\n",
       "4  1000_4   2018-12-05     1000\n",
       "5  1000_5   2018-06-20     1000\n",
       "6  1000_6   2018-11-19     1000\n",
       "7  1000_7   2018-10-29     1000\n",
       "8  1000_8   2018-06-25     1000\n",
       "9  1000_9   2018-12-18     1000"
      ]
     },
     "metadata": {},
     "output_type": "display_data"
    }
   ],
   "source": [
    "messages_df.info()  # получим общую информацию о таблице\n",
    "display(messages_df.head(10))  # выведем первые 10 строк таблицы\n",
    "messages = messages_df"
   ]
  },
  {
   "cell_type": "markdown",
   "metadata": {},
   "source": [
    "Преобразуем дату сообщения в формат datetime:"
   ]
  },
  {
   "cell_type": "code",
   "execution_count": 25,
   "metadata": {},
   "outputs": [
    {
     "name": "stdout",
     "output_type": "stream",
     "text": [
      "<class 'pandas.core.frame.DataFrame'>\n",
      "RangeIndex: 123036 entries, 0 to 123035\n",
      "Data columns (total 3 columns):\n",
      " #   Column        Non-Null Count   Dtype         \n",
      "---  ------        --------------   -----         \n",
      " 0   id            123036 non-null  object        \n",
      " 1   message_date  123036 non-null  datetime64[ns]\n",
      " 2   user_id       123036 non-null  int64         \n",
      "dtypes: datetime64[ns](1), int64(1), object(1)\n",
      "memory usage: 2.8+ MB\n"
     ]
    },
    {
     "data": {
      "text/html": [
       "<div>\n",
       "<style scoped>\n",
       "    .dataframe tbody tr th:only-of-type {\n",
       "        vertical-align: middle;\n",
       "    }\n",
       "\n",
       "    .dataframe tbody tr th {\n",
       "        vertical-align: top;\n",
       "    }\n",
       "\n",
       "    .dataframe thead th {\n",
       "        text-align: right;\n",
       "    }\n",
       "</style>\n",
       "<table border=\"1\" class=\"dataframe\">\n",
       "  <thead>\n",
       "    <tr style=\"text-align: right;\">\n",
       "      <th></th>\n",
       "      <th>id</th>\n",
       "      <th>message_date</th>\n",
       "      <th>user_id</th>\n",
       "    </tr>\n",
       "  </thead>\n",
       "  <tbody>\n",
       "    <tr>\n",
       "      <th>0</th>\n",
       "      <td>1000_0</td>\n",
       "      <td>2018-06-27</td>\n",
       "      <td>1000</td>\n",
       "    </tr>\n",
       "    <tr>\n",
       "      <th>1</th>\n",
       "      <td>1000_1</td>\n",
       "      <td>2018-10-08</td>\n",
       "      <td>1000</td>\n",
       "    </tr>\n",
       "    <tr>\n",
       "      <th>2</th>\n",
       "      <td>1000_2</td>\n",
       "      <td>2018-08-04</td>\n",
       "      <td>1000</td>\n",
       "    </tr>\n",
       "    <tr>\n",
       "      <th>3</th>\n",
       "      <td>1000_3</td>\n",
       "      <td>2018-06-16</td>\n",
       "      <td>1000</td>\n",
       "    </tr>\n",
       "    <tr>\n",
       "      <th>4</th>\n",
       "      <td>1000_4</td>\n",
       "      <td>2018-12-05</td>\n",
       "      <td>1000</td>\n",
       "    </tr>\n",
       "    <tr>\n",
       "      <th>5</th>\n",
       "      <td>1000_5</td>\n",
       "      <td>2018-06-20</td>\n",
       "      <td>1000</td>\n",
       "    </tr>\n",
       "    <tr>\n",
       "      <th>6</th>\n",
       "      <td>1000_6</td>\n",
       "      <td>2018-11-19</td>\n",
       "      <td>1000</td>\n",
       "    </tr>\n",
       "    <tr>\n",
       "      <th>7</th>\n",
       "      <td>1000_7</td>\n",
       "      <td>2018-10-29</td>\n",
       "      <td>1000</td>\n",
       "    </tr>\n",
       "    <tr>\n",
       "      <th>8</th>\n",
       "      <td>1000_8</td>\n",
       "      <td>2018-06-25</td>\n",
       "      <td>1000</td>\n",
       "    </tr>\n",
       "    <tr>\n",
       "      <th>9</th>\n",
       "      <td>1000_9</td>\n",
       "      <td>2018-12-18</td>\n",
       "      <td>1000</td>\n",
       "    </tr>\n",
       "  </tbody>\n",
       "</table>\n",
       "</div>"
      ],
      "text/plain": [
       "       id message_date  user_id\n",
       "0  1000_0   2018-06-27     1000\n",
       "1  1000_1   2018-10-08     1000\n",
       "2  1000_2   2018-08-04     1000\n",
       "3  1000_3   2018-06-16     1000\n",
       "4  1000_4   2018-12-05     1000\n",
       "5  1000_5   2018-06-20     1000\n",
       "6  1000_6   2018-11-19     1000\n",
       "7  1000_7   2018-10-29     1000\n",
       "8  1000_8   2018-06-25     1000\n",
       "9  1000_9   2018-12-18     1000"
      ]
     },
     "execution_count": 25,
     "metadata": {},
     "output_type": "execute_result"
    }
   ],
   "source": [
    "messages['message_date'] = pd.to_datetime(messages['message_date'], format='%Y-%m-%d', errors='raise')\n",
    "messages.info()  # получим общую информацию о таблице\n",
    "messages.head(10)  # выведем первые 10 строк таблицы"
   ]
  },
  {
   "cell_type": "markdown",
   "metadata": {},
   "source": [
    "Так как у нас ежемесячная оплата по тарифам, нам необходимо создать дополнительный столбец с месяцем для группировки данных:"
   ]
  },
  {
   "cell_type": "code",
   "execution_count": 26,
   "metadata": {},
   "outputs": [
    {
     "data": {
      "text/html": [
       "<div>\n",
       "<style scoped>\n",
       "    .dataframe tbody tr th:only-of-type {\n",
       "        vertical-align: middle;\n",
       "    }\n",
       "\n",
       "    .dataframe tbody tr th {\n",
       "        vertical-align: top;\n",
       "    }\n",
       "\n",
       "    .dataframe thead th {\n",
       "        text-align: right;\n",
       "    }\n",
       "</style>\n",
       "<table border=\"1\" class=\"dataframe\">\n",
       "  <thead>\n",
       "    <tr style=\"text-align: right;\">\n",
       "      <th></th>\n",
       "      <th>id</th>\n",
       "      <th>message_date</th>\n",
       "      <th>user_id</th>\n",
       "      <th>month</th>\n",
       "      <th>year</th>\n",
       "    </tr>\n",
       "  </thead>\n",
       "  <tbody>\n",
       "    <tr>\n",
       "      <th>0</th>\n",
       "      <td>1000_0</td>\n",
       "      <td>2018-06-27</td>\n",
       "      <td>1000</td>\n",
       "      <td>6</td>\n",
       "      <td>2018</td>\n",
       "    </tr>\n",
       "    <tr>\n",
       "      <th>1</th>\n",
       "      <td>1000_1</td>\n",
       "      <td>2018-10-08</td>\n",
       "      <td>1000</td>\n",
       "      <td>10</td>\n",
       "      <td>2018</td>\n",
       "    </tr>\n",
       "    <tr>\n",
       "      <th>2</th>\n",
       "      <td>1000_2</td>\n",
       "      <td>2018-08-04</td>\n",
       "      <td>1000</td>\n",
       "      <td>8</td>\n",
       "      <td>2018</td>\n",
       "    </tr>\n",
       "    <tr>\n",
       "      <th>3</th>\n",
       "      <td>1000_3</td>\n",
       "      <td>2018-06-16</td>\n",
       "      <td>1000</td>\n",
       "      <td>6</td>\n",
       "      <td>2018</td>\n",
       "    </tr>\n",
       "    <tr>\n",
       "      <th>4</th>\n",
       "      <td>1000_4</td>\n",
       "      <td>2018-12-05</td>\n",
       "      <td>1000</td>\n",
       "      <td>12</td>\n",
       "      <td>2018</td>\n",
       "    </tr>\n",
       "    <tr>\n",
       "      <th>5</th>\n",
       "      <td>1000_5</td>\n",
       "      <td>2018-06-20</td>\n",
       "      <td>1000</td>\n",
       "      <td>6</td>\n",
       "      <td>2018</td>\n",
       "    </tr>\n",
       "    <tr>\n",
       "      <th>6</th>\n",
       "      <td>1000_6</td>\n",
       "      <td>2018-11-19</td>\n",
       "      <td>1000</td>\n",
       "      <td>11</td>\n",
       "      <td>2018</td>\n",
       "    </tr>\n",
       "    <tr>\n",
       "      <th>7</th>\n",
       "      <td>1000_7</td>\n",
       "      <td>2018-10-29</td>\n",
       "      <td>1000</td>\n",
       "      <td>10</td>\n",
       "      <td>2018</td>\n",
       "    </tr>\n",
       "    <tr>\n",
       "      <th>8</th>\n",
       "      <td>1000_8</td>\n",
       "      <td>2018-06-25</td>\n",
       "      <td>1000</td>\n",
       "      <td>6</td>\n",
       "      <td>2018</td>\n",
       "    </tr>\n",
       "    <tr>\n",
       "      <th>9</th>\n",
       "      <td>1000_9</td>\n",
       "      <td>2018-12-18</td>\n",
       "      <td>1000</td>\n",
       "      <td>12</td>\n",
       "      <td>2018</td>\n",
       "    </tr>\n",
       "  </tbody>\n",
       "</table>\n",
       "</div>"
      ],
      "text/plain": [
       "       id message_date  user_id  month  year\n",
       "0  1000_0   2018-06-27     1000      6  2018\n",
       "1  1000_1   2018-10-08     1000     10  2018\n",
       "2  1000_2   2018-08-04     1000      8  2018\n",
       "3  1000_3   2018-06-16     1000      6  2018\n",
       "4  1000_4   2018-12-05     1000     12  2018\n",
       "5  1000_5   2018-06-20     1000      6  2018\n",
       "6  1000_6   2018-11-19     1000     11  2018\n",
       "7  1000_7   2018-10-29     1000     10  2018\n",
       "8  1000_8   2018-06-25     1000      6  2018\n",
       "9  1000_9   2018-12-18     1000     12  2018"
      ]
     },
     "execution_count": 26,
     "metadata": {},
     "output_type": "execute_result"
    }
   ],
   "source": [
    "messages['month'] = pd.DatetimeIndex(messages['message_date']).month\n",
    "messages['year'] = pd.DatetimeIndex(messages['message_date']).year\n",
    "messages.head(10)"
   ]
  },
  {
   "cell_type": "code",
   "execution_count": 27,
   "metadata": {},
   "outputs": [
    {
     "data": {
      "text/html": [
       "<div>\n",
       "<style scoped>\n",
       "    .dataframe tbody tr th:only-of-type {\n",
       "        vertical-align: middle;\n",
       "    }\n",
       "\n",
       "    .dataframe tbody tr th {\n",
       "        vertical-align: top;\n",
       "    }\n",
       "\n",
       "    .dataframe thead th {\n",
       "        text-align: right;\n",
       "    }\n",
       "</style>\n",
       "<table border=\"1\" class=\"dataframe\">\n",
       "  <thead>\n",
       "    <tr style=\"text-align: right;\">\n",
       "      <th></th>\n",
       "      <th>id</th>\n",
       "      <th>message_date</th>\n",
       "      <th>user_id</th>\n",
       "      <th>month</th>\n",
       "    </tr>\n",
       "    <tr>\n",
       "      <th>year</th>\n",
       "      <th></th>\n",
       "      <th></th>\n",
       "      <th></th>\n",
       "      <th></th>\n",
       "    </tr>\n",
       "  </thead>\n",
       "  <tbody>\n",
       "    <tr>\n",
       "      <th>2018</th>\n",
       "      <td>123036</td>\n",
       "      <td>123036</td>\n",
       "      <td>123036</td>\n",
       "      <td>123036</td>\n",
       "    </tr>\n",
       "  </tbody>\n",
       "</table>\n",
       "</div>"
      ],
      "text/plain": [
       "          id  message_date  user_id   month\n",
       "year                                       \n",
       "2018  123036        123036   123036  123036"
      ]
     },
     "execution_count": 27,
     "metadata": {},
     "output_type": "execute_result"
    }
   ],
   "source": [
    "#На всякий случай проверим, не попался ли нам лишний год:\n",
    "messages.groupby('year').count()"
   ]
  },
  {
   "cell_type": "markdown",
   "metadata": {},
   "source": [
    "Всё нормально, год можно удалить."
   ]
  },
  {
   "cell_type": "code",
   "execution_count": 28,
   "metadata": {},
   "outputs": [
    {
     "data": {
      "text/html": [
       "<div>\n",
       "<style scoped>\n",
       "    .dataframe tbody tr th:only-of-type {\n",
       "        vertical-align: middle;\n",
       "    }\n",
       "\n",
       "    .dataframe tbody tr th {\n",
       "        vertical-align: top;\n",
       "    }\n",
       "\n",
       "    .dataframe thead th {\n",
       "        text-align: right;\n",
       "    }\n",
       "</style>\n",
       "<table border=\"1\" class=\"dataframe\">\n",
       "  <thead>\n",
       "    <tr style=\"text-align: right;\">\n",
       "      <th></th>\n",
       "      <th>id</th>\n",
       "      <th>message_date</th>\n",
       "      <th>user_id</th>\n",
       "      <th>month</th>\n",
       "    </tr>\n",
       "  </thead>\n",
       "  <tbody>\n",
       "    <tr>\n",
       "      <th>0</th>\n",
       "      <td>1000_0</td>\n",
       "      <td>2018-06-27</td>\n",
       "      <td>1000</td>\n",
       "      <td>6</td>\n",
       "    </tr>\n",
       "    <tr>\n",
       "      <th>1</th>\n",
       "      <td>1000_1</td>\n",
       "      <td>2018-10-08</td>\n",
       "      <td>1000</td>\n",
       "      <td>10</td>\n",
       "    </tr>\n",
       "    <tr>\n",
       "      <th>2</th>\n",
       "      <td>1000_2</td>\n",
       "      <td>2018-08-04</td>\n",
       "      <td>1000</td>\n",
       "      <td>8</td>\n",
       "    </tr>\n",
       "    <tr>\n",
       "      <th>3</th>\n",
       "      <td>1000_3</td>\n",
       "      <td>2018-06-16</td>\n",
       "      <td>1000</td>\n",
       "      <td>6</td>\n",
       "    </tr>\n",
       "    <tr>\n",
       "      <th>4</th>\n",
       "      <td>1000_4</td>\n",
       "      <td>2018-12-05</td>\n",
       "      <td>1000</td>\n",
       "      <td>12</td>\n",
       "    </tr>\n",
       "    <tr>\n",
       "      <th>5</th>\n",
       "      <td>1000_5</td>\n",
       "      <td>2018-06-20</td>\n",
       "      <td>1000</td>\n",
       "      <td>6</td>\n",
       "    </tr>\n",
       "    <tr>\n",
       "      <th>6</th>\n",
       "      <td>1000_6</td>\n",
       "      <td>2018-11-19</td>\n",
       "      <td>1000</td>\n",
       "      <td>11</td>\n",
       "    </tr>\n",
       "    <tr>\n",
       "      <th>7</th>\n",
       "      <td>1000_7</td>\n",
       "      <td>2018-10-29</td>\n",
       "      <td>1000</td>\n",
       "      <td>10</td>\n",
       "    </tr>\n",
       "    <tr>\n",
       "      <th>8</th>\n",
       "      <td>1000_8</td>\n",
       "      <td>2018-06-25</td>\n",
       "      <td>1000</td>\n",
       "      <td>6</td>\n",
       "    </tr>\n",
       "    <tr>\n",
       "      <th>9</th>\n",
       "      <td>1000_9</td>\n",
       "      <td>2018-12-18</td>\n",
       "      <td>1000</td>\n",
       "      <td>12</td>\n",
       "    </tr>\n",
       "  </tbody>\n",
       "</table>\n",
       "</div>"
      ],
      "text/plain": [
       "       id message_date  user_id  month\n",
       "0  1000_0   2018-06-27     1000      6\n",
       "1  1000_1   2018-10-08     1000     10\n",
       "2  1000_2   2018-08-04     1000      8\n",
       "3  1000_3   2018-06-16     1000      6\n",
       "4  1000_4   2018-12-05     1000     12\n",
       "5  1000_5   2018-06-20     1000      6\n",
       "6  1000_6   2018-11-19     1000     11\n",
       "7  1000_7   2018-10-29     1000     10\n",
       "8  1000_8   2018-06-25     1000      6\n",
       "9  1000_9   2018-12-18     1000     12"
      ]
     },
     "execution_count": 28,
     "metadata": {},
     "output_type": "execute_result"
    }
   ],
   "source": [
    "messages = messages.drop(['year'], axis=1)\n",
    "messages.head(10)"
   ]
  },
  {
   "cell_type": "markdown",
   "metadata": {},
   "source": [
    "Теперь сгруппируем датафрейм:"
   ]
  },
  {
   "cell_type": "code",
   "execution_count": 29,
   "metadata": {},
   "outputs": [
    {
     "name": "stdout",
     "output_type": "stream",
     "text": [
      "<class 'pandas.core.frame.DataFrame'>\n",
      "RangeIndex: 2717 entries, 0 to 2716\n",
      "Data columns (total 3 columns):\n",
      " #   Column         Non-Null Count  Dtype\n",
      "---  ------         --------------  -----\n",
      " 0   user_id        2717 non-null   int64\n",
      " 1   month          2717 non-null   int64\n",
      " 2   message_count  2717 non-null   int64\n",
      "dtypes: int64(3)\n",
      "memory usage: 63.8 KB\n"
     ]
    },
    {
     "data": {
      "text/html": [
       "<div>\n",
       "<style scoped>\n",
       "    .dataframe tbody tr th:only-of-type {\n",
       "        vertical-align: middle;\n",
       "    }\n",
       "\n",
       "    .dataframe tbody tr th {\n",
       "        vertical-align: top;\n",
       "    }\n",
       "\n",
       "    .dataframe thead th {\n",
       "        text-align: right;\n",
       "    }\n",
       "</style>\n",
       "<table border=\"1\" class=\"dataframe\">\n",
       "  <thead>\n",
       "    <tr style=\"text-align: right;\">\n",
       "      <th></th>\n",
       "      <th>user_id</th>\n",
       "      <th>month</th>\n",
       "      <th>message_count</th>\n",
       "    </tr>\n",
       "  </thead>\n",
       "  <tbody>\n",
       "    <tr>\n",
       "      <th>0</th>\n",
       "      <td>1000</td>\n",
       "      <td>5</td>\n",
       "      <td>22</td>\n",
       "    </tr>\n",
       "    <tr>\n",
       "      <th>1</th>\n",
       "      <td>1000</td>\n",
       "      <td>6</td>\n",
       "      <td>60</td>\n",
       "    </tr>\n",
       "    <tr>\n",
       "      <th>2</th>\n",
       "      <td>1000</td>\n",
       "      <td>7</td>\n",
       "      <td>75</td>\n",
       "    </tr>\n",
       "    <tr>\n",
       "      <th>3</th>\n",
       "      <td>1000</td>\n",
       "      <td>8</td>\n",
       "      <td>81</td>\n",
       "    </tr>\n",
       "    <tr>\n",
       "      <th>4</th>\n",
       "      <td>1000</td>\n",
       "      <td>9</td>\n",
       "      <td>57</td>\n",
       "    </tr>\n",
       "    <tr>\n",
       "      <th>5</th>\n",
       "      <td>1000</td>\n",
       "      <td>10</td>\n",
       "      <td>73</td>\n",
       "    </tr>\n",
       "    <tr>\n",
       "      <th>6</th>\n",
       "      <td>1000</td>\n",
       "      <td>11</td>\n",
       "      <td>58</td>\n",
       "    </tr>\n",
       "    <tr>\n",
       "      <th>7</th>\n",
       "      <td>1000</td>\n",
       "      <td>12</td>\n",
       "      <td>70</td>\n",
       "    </tr>\n",
       "    <tr>\n",
       "      <th>8</th>\n",
       "      <td>1002</td>\n",
       "      <td>6</td>\n",
       "      <td>4</td>\n",
       "    </tr>\n",
       "    <tr>\n",
       "      <th>9</th>\n",
       "      <td>1002</td>\n",
       "      <td>7</td>\n",
       "      <td>11</td>\n",
       "    </tr>\n",
       "  </tbody>\n",
       "</table>\n",
       "</div>"
      ],
      "text/plain": [
       "   user_id  month  message_count\n",
       "0     1000      5             22\n",
       "1     1000      6             60\n",
       "2     1000      7             75\n",
       "3     1000      8             81\n",
       "4     1000      9             57\n",
       "5     1000     10             73\n",
       "6     1000     11             58\n",
       "7     1000     12             70\n",
       "8     1002      6              4\n",
       "9     1002      7             11"
      ]
     },
     "execution_count": 29,
     "metadata": {},
     "output_type": "execute_result"
    }
   ],
   "source": [
    "messages = messages.groupby(['user_id', 'month']).agg({'id': ['count']})\n",
    "messages.columns = ['message_count']\n",
    "messages = messages.reset_index()\n",
    "messages.info()\n",
    "messages.head(10)"
   ]
  },
  {
   "cell_type": "markdown",
   "metadata": {},
   "source": [
    "### Тарифы"
   ]
  },
  {
   "cell_type": "markdown",
   "metadata": {},
   "source": [
    "Снова взглянем на датафрейм с информацией по тарифам:"
   ]
  },
  {
   "cell_type": "code",
   "execution_count": 30,
   "metadata": {},
   "outputs": [
    {
     "name": "stdout",
     "output_type": "stream",
     "text": [
      "<class 'pandas.core.frame.DataFrame'>\n",
      "RangeIndex: 2 entries, 0 to 1\n",
      "Data columns (total 8 columns):\n",
      " #   Column                 Non-Null Count  Dtype \n",
      "---  ------                 --------------  ----- \n",
      " 0   messages_included      2 non-null      int64 \n",
      " 1   mb_per_month_included  2 non-null      int64 \n",
      " 2   minutes_included       2 non-null      int64 \n",
      " 3   rub_monthly_fee        2 non-null      int64 \n",
      " 4   rub_per_gb             2 non-null      int64 \n",
      " 5   rub_per_message        2 non-null      int64 \n",
      " 6   rub_per_minute         2 non-null      int64 \n",
      " 7   tariff_name            2 non-null      object\n",
      "dtypes: int64(7), object(1)\n",
      "memory usage: 256.0+ bytes\n"
     ]
    },
    {
     "data": {
      "text/html": [
       "<div>\n",
       "<style scoped>\n",
       "    .dataframe tbody tr th:only-of-type {\n",
       "        vertical-align: middle;\n",
       "    }\n",
       "\n",
       "    .dataframe tbody tr th {\n",
       "        vertical-align: top;\n",
       "    }\n",
       "\n",
       "    .dataframe thead th {\n",
       "        text-align: right;\n",
       "    }\n",
       "</style>\n",
       "<table border=\"1\" class=\"dataframe\">\n",
       "  <thead>\n",
       "    <tr style=\"text-align: right;\">\n",
       "      <th></th>\n",
       "      <th>messages_included</th>\n",
       "      <th>mb_per_month_included</th>\n",
       "      <th>minutes_included</th>\n",
       "      <th>rub_monthly_fee</th>\n",
       "      <th>rub_per_gb</th>\n",
       "      <th>rub_per_message</th>\n",
       "      <th>rub_per_minute</th>\n",
       "      <th>tariff_name</th>\n",
       "    </tr>\n",
       "  </thead>\n",
       "  <tbody>\n",
       "    <tr>\n",
       "      <th>0</th>\n",
       "      <td>50</td>\n",
       "      <td>15360</td>\n",
       "      <td>500</td>\n",
       "      <td>550</td>\n",
       "      <td>200</td>\n",
       "      <td>3</td>\n",
       "      <td>3</td>\n",
       "      <td>smart</td>\n",
       "    </tr>\n",
       "    <tr>\n",
       "      <th>1</th>\n",
       "      <td>1000</td>\n",
       "      <td>30720</td>\n",
       "      <td>3000</td>\n",
       "      <td>1950</td>\n",
       "      <td>150</td>\n",
       "      <td>1</td>\n",
       "      <td>1</td>\n",
       "      <td>ultra</td>\n",
       "    </tr>\n",
       "  </tbody>\n",
       "</table>\n",
       "</div>"
      ],
      "text/plain": [
       "   messages_included  mb_per_month_included  minutes_included  \\\n",
       "0                 50                  15360               500   \n",
       "1               1000                  30720              3000   \n",
       "\n",
       "   rub_monthly_fee  rub_per_gb  rub_per_message  rub_per_minute tariff_name  \n",
       "0              550         200                3               3       smart  \n",
       "1             1950         150                1               1       ultra  "
      ]
     },
     "metadata": {},
     "output_type": "display_data"
    }
   ],
   "source": [
    "tariffs_df.info()  # получим общую информацию о таблице\n",
    "display(tariffs_df.head(10))  # выведем первые 10 строк таблицы\n",
    "tariffs = tariffs_df"
   ]
  },
  {
   "cell_type": "markdown",
   "metadata": {},
   "source": [
    "Как уже говорили выше, проблем тут не видно, так что просто поменяем порядок столбцов для наглядности:"
   ]
  },
  {
   "cell_type": "code",
   "execution_count": 31,
   "metadata": {},
   "outputs": [
    {
     "name": "stdout",
     "output_type": "stream",
     "text": [
      "<class 'pandas.core.frame.DataFrame'>\n",
      "RangeIndex: 2 entries, 0 to 1\n",
      "Data columns (total 8 columns):\n",
      " #   Column                 Non-Null Count  Dtype \n",
      "---  ------                 --------------  ----- \n",
      " 0   tariff                 2 non-null      object\n",
      " 1   rub_monthly_fee        2 non-null      int64 \n",
      " 2   minutes_included       2 non-null      int64 \n",
      " 3   rub_per_minute         2 non-null      int64 \n",
      " 4   mb_per_month_included  2 non-null      int64 \n",
      " 5   rub_per_gb             2 non-null      int64 \n",
      " 6   messages_included      2 non-null      int64 \n",
      " 7   rub_per_message        2 non-null      int64 \n",
      "dtypes: int64(7), object(1)\n",
      "memory usage: 256.0+ bytes\n"
     ]
    },
    {
     "data": {
      "text/html": [
       "<div>\n",
       "<style scoped>\n",
       "    .dataframe tbody tr th:only-of-type {\n",
       "        vertical-align: middle;\n",
       "    }\n",
       "\n",
       "    .dataframe tbody tr th {\n",
       "        vertical-align: top;\n",
       "    }\n",
       "\n",
       "    .dataframe thead th {\n",
       "        text-align: right;\n",
       "    }\n",
       "</style>\n",
       "<table border=\"1\" class=\"dataframe\">\n",
       "  <thead>\n",
       "    <tr style=\"text-align: right;\">\n",
       "      <th></th>\n",
       "      <th>tariff</th>\n",
       "      <th>rub_monthly_fee</th>\n",
       "      <th>minutes_included</th>\n",
       "      <th>rub_per_minute</th>\n",
       "      <th>mb_per_month_included</th>\n",
       "      <th>rub_per_gb</th>\n",
       "      <th>messages_included</th>\n",
       "      <th>rub_per_message</th>\n",
       "    </tr>\n",
       "  </thead>\n",
       "  <tbody>\n",
       "    <tr>\n",
       "      <th>0</th>\n",
       "      <td>smart</td>\n",
       "      <td>550</td>\n",
       "      <td>500</td>\n",
       "      <td>3</td>\n",
       "      <td>15360</td>\n",
       "      <td>200</td>\n",
       "      <td>50</td>\n",
       "      <td>3</td>\n",
       "    </tr>\n",
       "    <tr>\n",
       "      <th>1</th>\n",
       "      <td>ultra</td>\n",
       "      <td>1950</td>\n",
       "      <td>3000</td>\n",
       "      <td>1</td>\n",
       "      <td>30720</td>\n",
       "      <td>150</td>\n",
       "      <td>1000</td>\n",
       "      <td>1</td>\n",
       "    </tr>\n",
       "  </tbody>\n",
       "</table>\n",
       "</div>"
      ],
      "text/plain": [
       "  tariff  rub_monthly_fee  minutes_included  rub_per_minute  \\\n",
       "0  smart              550               500               3   \n",
       "1  ultra             1950              3000               1   \n",
       "\n",
       "   mb_per_month_included  rub_per_gb  messages_included  rub_per_message  \n",
       "0                  15360         200                 50                3  \n",
       "1                  30720         150               1000                1  "
      ]
     },
     "execution_count": 31,
     "metadata": {},
     "output_type": "execute_result"
    }
   ],
   "source": [
    "tariffs.rename(columns={'tariff_name': 'tariff'}, inplace=True)\n",
    "cols = ['tariff', 'rub_monthly_fee', 'minutes_included', 'rub_per_minute', 'mb_per_month_included', 'rub_per_gb', \n",
    "        'messages_included', 'rub_per_message']\n",
    "tariffs = tariffs[cols]\n",
    "tariffs.info()  # получим общую информацию о таблице\n",
    "tariffs.head(10)  # выведем первые 10 строк таблицы"
   ]
  },
  {
   "cell_type": "markdown",
   "metadata": {},
   "source": [
    "### Пользователи"
   ]
  },
  {
   "cell_type": "markdown",
   "metadata": {},
   "source": [
    "Снова взглянем на датафрейм с информацией по пользователям:"
   ]
  },
  {
   "cell_type": "code",
   "execution_count": 32,
   "metadata": {},
   "outputs": [
    {
     "name": "stdout",
     "output_type": "stream",
     "text": [
      "<class 'pandas.core.frame.DataFrame'>\n",
      "RangeIndex: 500 entries, 0 to 499\n",
      "Data columns (total 8 columns):\n",
      " #   Column      Non-Null Count  Dtype \n",
      "---  ------      --------------  ----- \n",
      " 0   user_id     500 non-null    int64 \n",
      " 1   age         500 non-null    int64 \n",
      " 2   churn_date  38 non-null     object\n",
      " 3   city        500 non-null    object\n",
      " 4   first_name  500 non-null    object\n",
      " 5   last_name   500 non-null    object\n",
      " 6   reg_date    500 non-null    object\n",
      " 7   tariff      500 non-null    object\n",
      "dtypes: int64(2), object(6)\n",
      "memory usage: 31.4+ KB\n"
     ]
    },
    {
     "data": {
      "text/html": [
       "<div>\n",
       "<style scoped>\n",
       "    .dataframe tbody tr th:only-of-type {\n",
       "        vertical-align: middle;\n",
       "    }\n",
       "\n",
       "    .dataframe tbody tr th {\n",
       "        vertical-align: top;\n",
       "    }\n",
       "\n",
       "    .dataframe thead th {\n",
       "        text-align: right;\n",
       "    }\n",
       "</style>\n",
       "<table border=\"1\" class=\"dataframe\">\n",
       "  <thead>\n",
       "    <tr style=\"text-align: right;\">\n",
       "      <th></th>\n",
       "      <th>user_id</th>\n",
       "      <th>age</th>\n",
       "      <th>churn_date</th>\n",
       "      <th>city</th>\n",
       "      <th>first_name</th>\n",
       "      <th>last_name</th>\n",
       "      <th>reg_date</th>\n",
       "      <th>tariff</th>\n",
       "    </tr>\n",
       "  </thead>\n",
       "  <tbody>\n",
       "    <tr>\n",
       "      <th>0</th>\n",
       "      <td>1000</td>\n",
       "      <td>52</td>\n",
       "      <td>NaN</td>\n",
       "      <td>Краснодар</td>\n",
       "      <td>Рафаил</td>\n",
       "      <td>Верещагин</td>\n",
       "      <td>2018-05-25</td>\n",
       "      <td>ultra</td>\n",
       "    </tr>\n",
       "    <tr>\n",
       "      <th>1</th>\n",
       "      <td>1001</td>\n",
       "      <td>41</td>\n",
       "      <td>NaN</td>\n",
       "      <td>Москва</td>\n",
       "      <td>Иван</td>\n",
       "      <td>Ежов</td>\n",
       "      <td>2018-11-01</td>\n",
       "      <td>smart</td>\n",
       "    </tr>\n",
       "    <tr>\n",
       "      <th>2</th>\n",
       "      <td>1002</td>\n",
       "      <td>59</td>\n",
       "      <td>NaN</td>\n",
       "      <td>Стерлитамак</td>\n",
       "      <td>Евгений</td>\n",
       "      <td>Абрамович</td>\n",
       "      <td>2018-06-17</td>\n",
       "      <td>smart</td>\n",
       "    </tr>\n",
       "    <tr>\n",
       "      <th>3</th>\n",
       "      <td>1003</td>\n",
       "      <td>23</td>\n",
       "      <td>NaN</td>\n",
       "      <td>Москва</td>\n",
       "      <td>Белла</td>\n",
       "      <td>Белякова</td>\n",
       "      <td>2018-08-17</td>\n",
       "      <td>ultra</td>\n",
       "    </tr>\n",
       "    <tr>\n",
       "      <th>4</th>\n",
       "      <td>1004</td>\n",
       "      <td>68</td>\n",
       "      <td>NaN</td>\n",
       "      <td>Новокузнецк</td>\n",
       "      <td>Татьяна</td>\n",
       "      <td>Авдеенко</td>\n",
       "      <td>2018-05-14</td>\n",
       "      <td>ultra</td>\n",
       "    </tr>\n",
       "    <tr>\n",
       "      <th>5</th>\n",
       "      <td>1005</td>\n",
       "      <td>67</td>\n",
       "      <td>NaN</td>\n",
       "      <td>Набережные Челны</td>\n",
       "      <td>Афанасий</td>\n",
       "      <td>Горлов</td>\n",
       "      <td>2018-01-25</td>\n",
       "      <td>smart</td>\n",
       "    </tr>\n",
       "    <tr>\n",
       "      <th>6</th>\n",
       "      <td>1006</td>\n",
       "      <td>21</td>\n",
       "      <td>NaN</td>\n",
       "      <td>Ульяновск</td>\n",
       "      <td>Леонид</td>\n",
       "      <td>Ермолаев</td>\n",
       "      <td>2018-02-26</td>\n",
       "      <td>smart</td>\n",
       "    </tr>\n",
       "    <tr>\n",
       "      <th>7</th>\n",
       "      <td>1007</td>\n",
       "      <td>65</td>\n",
       "      <td>NaN</td>\n",
       "      <td>Москва</td>\n",
       "      <td>Юна</td>\n",
       "      <td>Березина</td>\n",
       "      <td>2018-04-19</td>\n",
       "      <td>smart</td>\n",
       "    </tr>\n",
       "    <tr>\n",
       "      <th>8</th>\n",
       "      <td>1008</td>\n",
       "      <td>63</td>\n",
       "      <td>NaN</td>\n",
       "      <td>Челябинск</td>\n",
       "      <td>Рустэм</td>\n",
       "      <td>Пономарёв</td>\n",
       "      <td>2018-12-19</td>\n",
       "      <td>smart</td>\n",
       "    </tr>\n",
       "    <tr>\n",
       "      <th>9</th>\n",
       "      <td>1009</td>\n",
       "      <td>24</td>\n",
       "      <td>NaN</td>\n",
       "      <td>Пермь</td>\n",
       "      <td>Василиса</td>\n",
       "      <td>Блинова</td>\n",
       "      <td>2018-03-22</td>\n",
       "      <td>smart</td>\n",
       "    </tr>\n",
       "  </tbody>\n",
       "</table>\n",
       "</div>"
      ],
      "text/plain": [
       "   user_id  age churn_date              city first_name  last_name  \\\n",
       "0     1000   52        NaN         Краснодар     Рафаил  Верещагин   \n",
       "1     1001   41        NaN            Москва       Иван       Ежов   \n",
       "2     1002   59        NaN       Стерлитамак    Евгений  Абрамович   \n",
       "3     1003   23        NaN            Москва      Белла   Белякова   \n",
       "4     1004   68        NaN       Новокузнецк    Татьяна   Авдеенко   \n",
       "5     1005   67        NaN  Набережные Челны   Афанасий     Горлов   \n",
       "6     1006   21        NaN         Ульяновск     Леонид   Ермолаев   \n",
       "7     1007   65        NaN            Москва        Юна   Березина   \n",
       "8     1008   63        NaN         Челябинск     Рустэм  Пономарёв   \n",
       "9     1009   24        NaN             Пермь   Василиса    Блинова   \n",
       "\n",
       "     reg_date tariff  \n",
       "0  2018-05-25  ultra  \n",
       "1  2018-11-01  smart  \n",
       "2  2018-06-17  smart  \n",
       "3  2018-08-17  ultra  \n",
       "4  2018-05-14  ultra  \n",
       "5  2018-01-25  smart  \n",
       "6  2018-02-26  smart  \n",
       "7  2018-04-19  smart  \n",
       "8  2018-12-19  smart  \n",
       "9  2018-03-22  smart  "
      ]
     },
     "metadata": {},
     "output_type": "display_data"
    }
   ],
   "source": [
    "users_df.info()  # получим общую информацию о таблице\n",
    "display(users_df.head(10))  # выведем первые 10 строк таблицы\n",
    "users = users_df"
   ]
  },
  {
   "cell_type": "markdown",
   "metadata": {},
   "source": [
    "Так как информация у нас за 2018 год, значит всем кто не покинул оператора мы можем поствить churn_date 2018-12-31. А чтобы отличить выбывших пользователей, добавим столбец is_churn."
   ]
  },
  {
   "cell_type": "code",
   "execution_count": 33,
   "metadata": {},
   "outputs": [
    {
     "name": "stdout",
     "output_type": "stream",
     "text": [
      "<class 'pandas.core.frame.DataFrame'>\n",
      "RangeIndex: 500 entries, 0 to 499\n",
      "Data columns (total 10 columns):\n",
      " #   Column      Non-Null Count  Dtype          \n",
      "---  ------      --------------  -----          \n",
      " 0   user_id     500 non-null    int64          \n",
      " 1   age         500 non-null    int64          \n",
      " 2   churn_date  500 non-null    datetime64[ns] \n",
      " 3   city        500 non-null    object         \n",
      " 4   first_name  500 non-null    object         \n",
      " 5   last_name   500 non-null    object         \n",
      " 6   reg_date    500 non-null    datetime64[ns] \n",
      " 7   tariff      500 non-null    object         \n",
      " 8   is_churn    500 non-null    object         \n",
      " 9   days_used   500 non-null    timedelta64[ns]\n",
      "dtypes: datetime64[ns](2), int64(2), object(5), timedelta64[ns](1)\n",
      "memory usage: 39.2+ KB\n"
     ]
    },
    {
     "data": {
      "text/html": [
       "<div>\n",
       "<style scoped>\n",
       "    .dataframe tbody tr th:only-of-type {\n",
       "        vertical-align: middle;\n",
       "    }\n",
       "\n",
       "    .dataframe tbody tr th {\n",
       "        vertical-align: top;\n",
       "    }\n",
       "\n",
       "    .dataframe thead th {\n",
       "        text-align: right;\n",
       "    }\n",
       "</style>\n",
       "<table border=\"1\" class=\"dataframe\">\n",
       "  <thead>\n",
       "    <tr style=\"text-align: right;\">\n",
       "      <th></th>\n",
       "      <th>user_id</th>\n",
       "      <th>age</th>\n",
       "      <th>churn_date</th>\n",
       "      <th>city</th>\n",
       "      <th>first_name</th>\n",
       "      <th>last_name</th>\n",
       "      <th>reg_date</th>\n",
       "      <th>tariff</th>\n",
       "      <th>is_churn</th>\n",
       "      <th>days_used</th>\n",
       "    </tr>\n",
       "  </thead>\n",
       "  <tbody>\n",
       "    <tr>\n",
       "      <th>0</th>\n",
       "      <td>1000</td>\n",
       "      <td>52</td>\n",
       "      <td>2018-12-31</td>\n",
       "      <td>Краснодар</td>\n",
       "      <td>Рафаил</td>\n",
       "      <td>Верещагин</td>\n",
       "      <td>2018-05-25</td>\n",
       "      <td>ultra</td>\n",
       "      <td>False</td>\n",
       "      <td>220 days</td>\n",
       "    </tr>\n",
       "    <tr>\n",
       "      <th>1</th>\n",
       "      <td>1001</td>\n",
       "      <td>41</td>\n",
       "      <td>2018-12-31</td>\n",
       "      <td>Москва</td>\n",
       "      <td>Иван</td>\n",
       "      <td>Ежов</td>\n",
       "      <td>2018-11-01</td>\n",
       "      <td>smart</td>\n",
       "      <td>False</td>\n",
       "      <td>60 days</td>\n",
       "    </tr>\n",
       "    <tr>\n",
       "      <th>2</th>\n",
       "      <td>1002</td>\n",
       "      <td>59</td>\n",
       "      <td>2018-12-31</td>\n",
       "      <td>Стерлитамак</td>\n",
       "      <td>Евгений</td>\n",
       "      <td>Абрамович</td>\n",
       "      <td>2018-06-17</td>\n",
       "      <td>smart</td>\n",
       "      <td>False</td>\n",
       "      <td>197 days</td>\n",
       "    </tr>\n",
       "    <tr>\n",
       "      <th>3</th>\n",
       "      <td>1003</td>\n",
       "      <td>23</td>\n",
       "      <td>2018-12-31</td>\n",
       "      <td>Москва</td>\n",
       "      <td>Белла</td>\n",
       "      <td>Белякова</td>\n",
       "      <td>2018-08-17</td>\n",
       "      <td>ultra</td>\n",
       "      <td>False</td>\n",
       "      <td>136 days</td>\n",
       "    </tr>\n",
       "    <tr>\n",
       "      <th>4</th>\n",
       "      <td>1004</td>\n",
       "      <td>68</td>\n",
       "      <td>2018-12-31</td>\n",
       "      <td>Новокузнецк</td>\n",
       "      <td>Татьяна</td>\n",
       "      <td>Авдеенко</td>\n",
       "      <td>2018-05-14</td>\n",
       "      <td>ultra</td>\n",
       "      <td>False</td>\n",
       "      <td>231 days</td>\n",
       "    </tr>\n",
       "    <tr>\n",
       "      <th>5</th>\n",
       "      <td>1005</td>\n",
       "      <td>67</td>\n",
       "      <td>2018-12-31</td>\n",
       "      <td>Набережные Челны</td>\n",
       "      <td>Афанасий</td>\n",
       "      <td>Горлов</td>\n",
       "      <td>2018-01-25</td>\n",
       "      <td>smart</td>\n",
       "      <td>False</td>\n",
       "      <td>340 days</td>\n",
       "    </tr>\n",
       "    <tr>\n",
       "      <th>6</th>\n",
       "      <td>1006</td>\n",
       "      <td>21</td>\n",
       "      <td>2018-12-31</td>\n",
       "      <td>Ульяновск</td>\n",
       "      <td>Леонид</td>\n",
       "      <td>Ермолаев</td>\n",
       "      <td>2018-02-26</td>\n",
       "      <td>smart</td>\n",
       "      <td>False</td>\n",
       "      <td>308 days</td>\n",
       "    </tr>\n",
       "    <tr>\n",
       "      <th>7</th>\n",
       "      <td>1007</td>\n",
       "      <td>65</td>\n",
       "      <td>2018-12-31</td>\n",
       "      <td>Москва</td>\n",
       "      <td>Юна</td>\n",
       "      <td>Березина</td>\n",
       "      <td>2018-04-19</td>\n",
       "      <td>smart</td>\n",
       "      <td>False</td>\n",
       "      <td>256 days</td>\n",
       "    </tr>\n",
       "    <tr>\n",
       "      <th>8</th>\n",
       "      <td>1008</td>\n",
       "      <td>63</td>\n",
       "      <td>2018-12-31</td>\n",
       "      <td>Челябинск</td>\n",
       "      <td>Рустэм</td>\n",
       "      <td>Пономарёв</td>\n",
       "      <td>2018-12-19</td>\n",
       "      <td>smart</td>\n",
       "      <td>False</td>\n",
       "      <td>12 days</td>\n",
       "    </tr>\n",
       "    <tr>\n",
       "      <th>9</th>\n",
       "      <td>1009</td>\n",
       "      <td>24</td>\n",
       "      <td>2018-12-31</td>\n",
       "      <td>Пермь</td>\n",
       "      <td>Василиса</td>\n",
       "      <td>Блинова</td>\n",
       "      <td>2018-03-22</td>\n",
       "      <td>smart</td>\n",
       "      <td>False</td>\n",
       "      <td>284 days</td>\n",
       "    </tr>\n",
       "  </tbody>\n",
       "</table>\n",
       "</div>"
      ],
      "text/plain": [
       "   user_id  age churn_date              city first_name  last_name   reg_date  \\\n",
       "0     1000   52 2018-12-31         Краснодар     Рафаил  Верещагин 2018-05-25   \n",
       "1     1001   41 2018-12-31            Москва       Иван       Ежов 2018-11-01   \n",
       "2     1002   59 2018-12-31       Стерлитамак    Евгений  Абрамович 2018-06-17   \n",
       "3     1003   23 2018-12-31            Москва      Белла   Белякова 2018-08-17   \n",
       "4     1004   68 2018-12-31       Новокузнецк    Татьяна   Авдеенко 2018-05-14   \n",
       "5     1005   67 2018-12-31  Набережные Челны   Афанасий     Горлов 2018-01-25   \n",
       "6     1006   21 2018-12-31         Ульяновск     Леонид   Ермолаев 2018-02-26   \n",
       "7     1007   65 2018-12-31            Москва        Юна   Березина 2018-04-19   \n",
       "8     1008   63 2018-12-31         Челябинск     Рустэм  Пономарёв 2018-12-19   \n",
       "9     1009   24 2018-12-31             Пермь   Василиса    Блинова 2018-03-22   \n",
       "\n",
       "  tariff is_churn days_used  \n",
       "0  ultra    False  220 days  \n",
       "1  smart    False   60 days  \n",
       "2  smart    False  197 days  \n",
       "3  ultra    False  136 days  \n",
       "4  ultra    False  231 days  \n",
       "5  smart    False  340 days  \n",
       "6  smart    False  308 days  \n",
       "7  smart    False  256 days  \n",
       "8  smart    False   12 days  \n",
       "9  smart    False  284 days  "
      ]
     },
     "execution_count": 33,
     "metadata": {},
     "output_type": "execute_result"
    }
   ],
   "source": [
    "users.loc[users['churn_date'].isnull(), 'is_churn'] = False\n",
    "users.loc[~users['churn_date'].isnull(), 'is_churn'] = True\n",
    "users.loc[users['churn_date'].isnull(), 'churn_date'] = '2018-12-31'\n",
    "users['reg_date'] = pd.to_datetime(users['reg_date'], format='%Y-%m-%d', errors='raise')\n",
    "users['churn_date'] = pd.to_datetime(users['churn_date'], format='%Y-%m-%d', errors='raise')\n",
    "users['days_used'] = users['churn_date'] - users['reg_date']\n",
    "users.info() # получим общую информацию о таблице\n",
    "users.head(10)  # выведем первые 10 строк таблицы"
   ]
  },
  {
   "cell_type": "markdown",
   "metadata": {},
   "source": [
    "А теперь поменяем порядок столбцов:"
   ]
  },
  {
   "cell_type": "code",
   "execution_count": 34,
   "metadata": {},
   "outputs": [
    {
     "name": "stdout",
     "output_type": "stream",
     "text": [
      "<class 'pandas.core.frame.DataFrame'>\n",
      "RangeIndex: 500 entries, 0 to 499\n",
      "Data columns (total 10 columns):\n",
      " #   Column      Non-Null Count  Dtype          \n",
      "---  ------      --------------  -----          \n",
      " 0   user_id     500 non-null    int64          \n",
      " 1   first_name  500 non-null    object         \n",
      " 2   last_name   500 non-null    object         \n",
      " 3   age         500 non-null    int64          \n",
      " 4   city        500 non-null    object         \n",
      " 5   tariff      500 non-null    object         \n",
      " 6   reg_date    500 non-null    datetime64[ns] \n",
      " 7   churn_date  500 non-null    datetime64[ns] \n",
      " 8   days_used   500 non-null    timedelta64[ns]\n",
      " 9   is_churn    500 non-null    object         \n",
      "dtypes: datetime64[ns](2), int64(2), object(5), timedelta64[ns](1)\n",
      "memory usage: 39.2+ KB\n"
     ]
    },
    {
     "data": {
      "text/html": [
       "<div>\n",
       "<style scoped>\n",
       "    .dataframe tbody tr th:only-of-type {\n",
       "        vertical-align: middle;\n",
       "    }\n",
       "\n",
       "    .dataframe tbody tr th {\n",
       "        vertical-align: top;\n",
       "    }\n",
       "\n",
       "    .dataframe thead th {\n",
       "        text-align: right;\n",
       "    }\n",
       "</style>\n",
       "<table border=\"1\" class=\"dataframe\">\n",
       "  <thead>\n",
       "    <tr style=\"text-align: right;\">\n",
       "      <th></th>\n",
       "      <th>user_id</th>\n",
       "      <th>first_name</th>\n",
       "      <th>last_name</th>\n",
       "      <th>age</th>\n",
       "      <th>city</th>\n",
       "      <th>tariff</th>\n",
       "      <th>reg_date</th>\n",
       "      <th>churn_date</th>\n",
       "      <th>days_used</th>\n",
       "      <th>is_churn</th>\n",
       "    </tr>\n",
       "  </thead>\n",
       "  <tbody>\n",
       "    <tr>\n",
       "      <th>0</th>\n",
       "      <td>1000</td>\n",
       "      <td>Рафаил</td>\n",
       "      <td>Верещагин</td>\n",
       "      <td>52</td>\n",
       "      <td>Краснодар</td>\n",
       "      <td>ultra</td>\n",
       "      <td>2018-05-25</td>\n",
       "      <td>2018-12-31</td>\n",
       "      <td>220 days</td>\n",
       "      <td>False</td>\n",
       "    </tr>\n",
       "    <tr>\n",
       "      <th>1</th>\n",
       "      <td>1001</td>\n",
       "      <td>Иван</td>\n",
       "      <td>Ежов</td>\n",
       "      <td>41</td>\n",
       "      <td>Москва</td>\n",
       "      <td>smart</td>\n",
       "      <td>2018-11-01</td>\n",
       "      <td>2018-12-31</td>\n",
       "      <td>60 days</td>\n",
       "      <td>False</td>\n",
       "    </tr>\n",
       "    <tr>\n",
       "      <th>2</th>\n",
       "      <td>1002</td>\n",
       "      <td>Евгений</td>\n",
       "      <td>Абрамович</td>\n",
       "      <td>59</td>\n",
       "      <td>Стерлитамак</td>\n",
       "      <td>smart</td>\n",
       "      <td>2018-06-17</td>\n",
       "      <td>2018-12-31</td>\n",
       "      <td>197 days</td>\n",
       "      <td>False</td>\n",
       "    </tr>\n",
       "    <tr>\n",
       "      <th>3</th>\n",
       "      <td>1003</td>\n",
       "      <td>Белла</td>\n",
       "      <td>Белякова</td>\n",
       "      <td>23</td>\n",
       "      <td>Москва</td>\n",
       "      <td>ultra</td>\n",
       "      <td>2018-08-17</td>\n",
       "      <td>2018-12-31</td>\n",
       "      <td>136 days</td>\n",
       "      <td>False</td>\n",
       "    </tr>\n",
       "    <tr>\n",
       "      <th>4</th>\n",
       "      <td>1004</td>\n",
       "      <td>Татьяна</td>\n",
       "      <td>Авдеенко</td>\n",
       "      <td>68</td>\n",
       "      <td>Новокузнецк</td>\n",
       "      <td>ultra</td>\n",
       "      <td>2018-05-14</td>\n",
       "      <td>2018-12-31</td>\n",
       "      <td>231 days</td>\n",
       "      <td>False</td>\n",
       "    </tr>\n",
       "    <tr>\n",
       "      <th>5</th>\n",
       "      <td>1005</td>\n",
       "      <td>Афанасий</td>\n",
       "      <td>Горлов</td>\n",
       "      <td>67</td>\n",
       "      <td>Набережные Челны</td>\n",
       "      <td>smart</td>\n",
       "      <td>2018-01-25</td>\n",
       "      <td>2018-12-31</td>\n",
       "      <td>340 days</td>\n",
       "      <td>False</td>\n",
       "    </tr>\n",
       "    <tr>\n",
       "      <th>6</th>\n",
       "      <td>1006</td>\n",
       "      <td>Леонид</td>\n",
       "      <td>Ермолаев</td>\n",
       "      <td>21</td>\n",
       "      <td>Ульяновск</td>\n",
       "      <td>smart</td>\n",
       "      <td>2018-02-26</td>\n",
       "      <td>2018-12-31</td>\n",
       "      <td>308 days</td>\n",
       "      <td>False</td>\n",
       "    </tr>\n",
       "    <tr>\n",
       "      <th>7</th>\n",
       "      <td>1007</td>\n",
       "      <td>Юна</td>\n",
       "      <td>Березина</td>\n",
       "      <td>65</td>\n",
       "      <td>Москва</td>\n",
       "      <td>smart</td>\n",
       "      <td>2018-04-19</td>\n",
       "      <td>2018-12-31</td>\n",
       "      <td>256 days</td>\n",
       "      <td>False</td>\n",
       "    </tr>\n",
       "    <tr>\n",
       "      <th>8</th>\n",
       "      <td>1008</td>\n",
       "      <td>Рустэм</td>\n",
       "      <td>Пономарёв</td>\n",
       "      <td>63</td>\n",
       "      <td>Челябинск</td>\n",
       "      <td>smart</td>\n",
       "      <td>2018-12-19</td>\n",
       "      <td>2018-12-31</td>\n",
       "      <td>12 days</td>\n",
       "      <td>False</td>\n",
       "    </tr>\n",
       "    <tr>\n",
       "      <th>9</th>\n",
       "      <td>1009</td>\n",
       "      <td>Василиса</td>\n",
       "      <td>Блинова</td>\n",
       "      <td>24</td>\n",
       "      <td>Пермь</td>\n",
       "      <td>smart</td>\n",
       "      <td>2018-03-22</td>\n",
       "      <td>2018-12-31</td>\n",
       "      <td>284 days</td>\n",
       "      <td>False</td>\n",
       "    </tr>\n",
       "  </tbody>\n",
       "</table>\n",
       "</div>"
      ],
      "text/plain": [
       "   user_id first_name  last_name  age              city tariff   reg_date  \\\n",
       "0     1000     Рафаил  Верещагин   52         Краснодар  ultra 2018-05-25   \n",
       "1     1001       Иван       Ежов   41            Москва  smart 2018-11-01   \n",
       "2     1002    Евгений  Абрамович   59       Стерлитамак  smart 2018-06-17   \n",
       "3     1003      Белла   Белякова   23            Москва  ultra 2018-08-17   \n",
       "4     1004    Татьяна   Авдеенко   68       Новокузнецк  ultra 2018-05-14   \n",
       "5     1005   Афанасий     Горлов   67  Набережные Челны  smart 2018-01-25   \n",
       "6     1006     Леонид   Ермолаев   21         Ульяновск  smart 2018-02-26   \n",
       "7     1007        Юна   Березина   65            Москва  smart 2018-04-19   \n",
       "8     1008     Рустэм  Пономарёв   63         Челябинск  smart 2018-12-19   \n",
       "9     1009   Василиса    Блинова   24             Пермь  smart 2018-03-22   \n",
       "\n",
       "  churn_date days_used is_churn  \n",
       "0 2018-12-31  220 days    False  \n",
       "1 2018-12-31   60 days    False  \n",
       "2 2018-12-31  197 days    False  \n",
       "3 2018-12-31  136 days    False  \n",
       "4 2018-12-31  231 days    False  \n",
       "5 2018-12-31  340 days    False  \n",
       "6 2018-12-31  308 days    False  \n",
       "7 2018-12-31  256 days    False  \n",
       "8 2018-12-31   12 days    False  \n",
       "9 2018-12-31  284 days    False  "
      ]
     },
     "execution_count": 34,
     "metadata": {},
     "output_type": "execute_result"
    }
   ],
   "source": [
    "cols = ['user_id', 'first_name', 'last_name', 'age', 'city', 'tariff', 'reg_date', 'churn_date', 'days_used', 'is_churn']\n",
    "users = users[cols]\n",
    "users.info() # получим общую информацию о таблице\n",
    "users.head(10)  # выведем первые 10 строк таблицы"
   ]
  },
  {
   "cell_type": "markdown",
   "metadata": {},
   "source": [
    "### Объединение данных"
   ]
  },
  {
   "cell_type": "markdown",
   "metadata": {},
   "source": [
    "Для того, чтобы перейти к анализу данных, нам необходимо объединить всю информацию в один датафрейм."
   ]
  },
  {
   "cell_type": "code",
   "execution_count": 35,
   "metadata": {},
   "outputs": [
    {
     "name": "stdout",
     "output_type": "stream",
     "text": [
      "<class 'pandas.core.frame.DataFrame'>\n",
      "Int64Index: 3214 entries, 0 to 3213\n",
      "Data columns (total 21 columns):\n",
      " #   Column                 Non-Null Count  Dtype          \n",
      "---  ------                 --------------  -----          \n",
      " 0   user_id                3214 non-null   int64          \n",
      " 1   month                  3214 non-null   int64          \n",
      " 2   duration_sum           3174 non-null   float64        \n",
      " 3   duration_count         3174 non-null   float64        \n",
      " 4   mb_used_count          3203 non-null   float64        \n",
      " 5   mb_used_sum            3203 non-null   float64        \n",
      " 6   message_count          2717 non-null   float64        \n",
      " 7   tariff                 3214 non-null   object         \n",
      " 8   age                    3214 non-null   int64          \n",
      " 9   city                   3214 non-null   object         \n",
      " 10  reg_date               3214 non-null   datetime64[ns] \n",
      " 11  churn_date             3214 non-null   datetime64[ns] \n",
      " 12  days_used              3214 non-null   timedelta64[ns]\n",
      " 13  is_churn               3214 non-null   object         \n",
      " 14  rub_monthly_fee        3214 non-null   int64          \n",
      " 15  minutes_included       3214 non-null   int64          \n",
      " 16  rub_per_minute         3214 non-null   int64          \n",
      " 17  mb_per_month_included  3214 non-null   int64          \n",
      " 18  rub_per_gb             3214 non-null   int64          \n",
      " 19  messages_included      3214 non-null   int64          \n",
      " 20  rub_per_message        3214 non-null   int64          \n",
      "dtypes: datetime64[ns](2), float64(5), int64(10), object(3), timedelta64[ns](1)\n",
      "memory usage: 552.4+ KB\n"
     ]
    }
   ],
   "source": [
    "df = calls\n",
    "df = df.merge(internet, on=['user_id', 'month'], how='outer')\n",
    "df = df.merge(messages, on=['user_id', 'month'], how='outer')\n",
    "df = df.merge(users[['user_id','tariff', 'age', 'city', 'reg_date', 'churn_date', 'days_used', 'is_churn']], on='user_id')\n",
    "df = df.merge(tariffs, on='tariff')\n",
    "df.info()"
   ]
  },
  {
   "cell_type": "markdown",
   "metadata": {},
   "source": [
    "Слегка поменяем порядок колонок и заменим пропущенные значения в кол-во минут разговора и соответственно в сумме, так как есть месяцы, когда абоненты не использовали тариф для общения, но пользовались интернетом. Скорее всего пользователь мог использовать интернет связь для общения:"
   ]
  },
  {
   "cell_type": "code",
   "execution_count": 36,
   "metadata": {},
   "outputs": [
    {
     "name": "stdout",
     "output_type": "stream",
     "text": [
      "<class 'pandas.core.frame.DataFrame'>\n",
      "Int64Index: 3214 entries, 0 to 3213\n",
      "Data columns (total 21 columns):\n",
      " #   Column                 Non-Null Count  Dtype          \n",
      "---  ------                 --------------  -----          \n",
      " 0   user_id                3214 non-null   int64          \n",
      " 1   tariff                 3214 non-null   object         \n",
      " 2   age                    3214 non-null   int64          \n",
      " 3   city                   3214 non-null   object         \n",
      " 4   reg_date               3214 non-null   datetime64[ns] \n",
      " 5   churn_date             3214 non-null   datetime64[ns] \n",
      " 6   days_used              3214 non-null   timedelta64[ns]\n",
      " 7   is_churn               3214 non-null   object         \n",
      " 8   month                  3214 non-null   int64          \n",
      " 9   duration_count         3214 non-null   float64        \n",
      " 10  duration_sum           3214 non-null   float64        \n",
      " 11  mb_used_count          3203 non-null   float64        \n",
      " 12  mb_used_sum            3203 non-null   float64        \n",
      " 13  message_count          2717 non-null   float64        \n",
      " 14  rub_monthly_fee        3214 non-null   int64          \n",
      " 15  minutes_included       3214 non-null   int64          \n",
      " 16  rub_per_minute         3214 non-null   int64          \n",
      " 17  mb_per_month_included  3214 non-null   int64          \n",
      " 18  rub_per_gb             3214 non-null   int64          \n",
      " 19  messages_included      3214 non-null   int64          \n",
      " 20  rub_per_message        3214 non-null   int64          \n",
      "dtypes: datetime64[ns](2), float64(5), int64(10), object(3), timedelta64[ns](1)\n",
      "memory usage: 552.4+ KB\n"
     ]
    }
   ],
   "source": [
    "cols = ['user_id', 'tariff', 'age', 'city', 'reg_date', 'churn_date', 'days_used', 'is_churn', 'month', 'duration_count', \n",
    "        'duration_sum', 'mb_used_count', 'mb_used_sum', 'message_count', 'rub_monthly_fee', 'minutes_included', \n",
    "        'rub_per_minute', 'mb_per_month_included', 'rub_per_gb', 'messages_included', 'rub_per_message']\n",
    "df = df[cols]\n",
    "df['duration_count'] = df['duration_count'].fillna(0)\n",
    "df['duration_sum'] = df['duration_sum'].fillna(0)\n",
    "df.info()"
   ]
  },
  {
   "cell_type": "markdown",
   "metadata": {},
   "source": [
    "Остались еще нулевые значения, нужно их проверить.\n",
    "- Есть люди, которые не отправляют сообщения, поэтому скорее всего они их не отправляли. Заменим кол-во значений на 0.\n",
    "- Скорее всего не все пользуются интернетом и не у всех устройства позволяют им пользоваться. Так же заменим пропущенные значения на 0."
   ]
  },
  {
   "cell_type": "code",
   "execution_count": 37,
   "metadata": {},
   "outputs": [
    {
     "name": "stdout",
     "output_type": "stream",
     "text": [
      "<class 'pandas.core.frame.DataFrame'>\n",
      "Int64Index: 3214 entries, 0 to 3213\n",
      "Data columns (total 21 columns):\n",
      " #   Column                 Non-Null Count  Dtype          \n",
      "---  ------                 --------------  -----          \n",
      " 0   user_id                3214 non-null   int64          \n",
      " 1   tariff                 3214 non-null   object         \n",
      " 2   age                    3214 non-null   int64          \n",
      " 3   city                   3214 non-null   object         \n",
      " 4   reg_date               3214 non-null   datetime64[ns] \n",
      " 5   churn_date             3214 non-null   datetime64[ns] \n",
      " 6   days_used              3214 non-null   timedelta64[ns]\n",
      " 7   is_churn               3214 non-null   object         \n",
      " 8   month                  3214 non-null   int64          \n",
      " 9   duration_count         3214 non-null   float64        \n",
      " 10  duration_sum           3214 non-null   float64        \n",
      " 11  mb_used_count          3214 non-null   float64        \n",
      " 12  mb_used_sum            3214 non-null   float64        \n",
      " 13  message_count          3214 non-null   float64        \n",
      " 14  rub_monthly_fee        3214 non-null   int64          \n",
      " 15  minutes_included       3214 non-null   int64          \n",
      " 16  rub_per_minute         3214 non-null   int64          \n",
      " 17  mb_per_month_included  3214 non-null   int64          \n",
      " 18  rub_per_gb             3214 non-null   int64          \n",
      " 19  messages_included      3214 non-null   int64          \n",
      " 20  rub_per_message        3214 non-null   int64          \n",
      "dtypes: datetime64[ns](2), float64(5), int64(10), object(3), timedelta64[ns](1)\n",
      "memory usage: 552.4+ KB\n"
     ]
    }
   ],
   "source": [
    "df['mb_used_count'] = df['mb_used_count'].fillna(0)\n",
    "df['mb_used_sum'] = df['mb_used_sum'].fillna(0)\n",
    "df['message_count'] = df['message_count'].fillna(0)\n",
    "df.info()\n",
    "\n",
    "    "
   ]
  },
  {
   "cell_type": "markdown",
   "metadata": {},
   "source": [
    "### Вывод"
   ]
  },
  {
   "cell_type": "markdown",
   "metadata": {},
   "source": [
    "На этапе предобработки данных мы подготовили датафреймы для дальнейшего анализа. Мы преобразовали типы данных и значения, заполнили пропущенные значения, добавили новые столбцы и удалили ненужные. Так же мы подсчитали минимальные, максимальные, средние, медианные значения, количество и сумму по датафреймам со звонками, интернет трафиком и сообщениями. В конце мы собрали данные в общий датафрейм и теперь готовы приступить к анализу."
   ]
  },
  {
   "cell_type": "markdown",
   "metadata": {},
   "source": [
    "## Анализ данных"
   ]
  },
  {
   "cell_type": "markdown",
   "metadata": {},
   "source": [
    "*Опишите поведение клиентов оператора, исходя из выборки. Сколько минут разговора, сколько сообщений и какой объём интернет-трафика требуется пользователям каждого тарифа в месяц? Посчитайте среднее количество, дисперсию и стандартное отклонение. Постройте гистограммы. Опишите распределения.*"
   ]
  },
  {
   "cell_type": "markdown",
   "metadata": {},
   "source": [
    "### Cреднее, дисперсия и стандартное отклонение"
   ]
  },
  {
   "cell_type": "markdown",
   "metadata": {},
   "source": [
    "Для нахождения среднего значения и стандартного отклонения воспользуемся методом agg():"
   ]
  },
  {
   "cell_type": "code",
   "execution_count": 38,
   "metadata": {},
   "outputs": [],
   "source": [
    "df_mds = df.groupby(['tariff'])['duration_sum', 'mb_used_sum', 'message_count'].agg(['mean', 'std', np.var])\n",
    "\n",
    "df_mds.columns = ['duration_sum_mean', 'duration_sum_std', 'duration_sum_var', 'mb_used_sum_mean', 'mb_used_sum_std', \n",
    "'mb_used_sum_var', 'message_count_mean', 'message_count_std', 'message_count_var']\n",
    "df_mds = df_mds.reset_index()\n",
    "\n",
    "df_mds['mb_used_sum_var'] = df_mds['mb_used_sum_var'].round(2)\n",
    "df_mds_dur = df_mds[['tariff', 'duration_sum_mean', 'duration_sum_std', 'duration_sum_var']]\n",
    "df_mds_int = df_mds[['tariff', 'mb_used_sum_mean', 'mb_used_sum_std', 'mb_used_sum_var']]\n",
    "df_mds_msg = df_mds[['tariff', 'message_count_mean', 'message_count_std', 'message_count_var']]"
   ]
  },
  {
   "cell_type": "markdown",
   "metadata": {},
   "source": [
    "Cреднее, стандартное отклонение и дисперсия для минут разговора:"
   ]
  },
  {
   "cell_type": "code",
   "execution_count": 39,
   "metadata": {},
   "outputs": [
    {
     "data": {
      "text/html": [
       "<div>\n",
       "<style scoped>\n",
       "    .dataframe tbody tr th:only-of-type {\n",
       "        vertical-align: middle;\n",
       "    }\n",
       "\n",
       "    .dataframe tbody tr th {\n",
       "        vertical-align: top;\n",
       "    }\n",
       "\n",
       "    .dataframe thead th {\n",
       "        text-align: right;\n",
       "    }\n",
       "</style>\n",
       "<table border=\"1\" class=\"dataframe\">\n",
       "  <thead>\n",
       "    <tr style=\"text-align: right;\">\n",
       "      <th></th>\n",
       "      <th>tariff</th>\n",
       "      <th>duration_sum_mean</th>\n",
       "      <th>duration_sum_std</th>\n",
       "      <th>duration_sum_var</th>\n",
       "    </tr>\n",
       "  </thead>\n",
       "  <tbody>\n",
       "    <tr>\n",
       "      <th>0</th>\n",
       "      <td>smart</td>\n",
       "      <td>417.93</td>\n",
       "      <td>190.31</td>\n",
       "      <td>36219.32</td>\n",
       "    </tr>\n",
       "    <tr>\n",
       "      <th>1</th>\n",
       "      <td>ultra</td>\n",
       "      <td>526.62</td>\n",
       "      <td>317.61</td>\n",
       "      <td>100873.63</td>\n",
       "    </tr>\n",
       "  </tbody>\n",
       "</table>\n",
       "</div>"
      ],
      "text/plain": [
       "  tariff  duration_sum_mean  duration_sum_std  duration_sum_var\n",
       "0  smart             417.93            190.31          36219.32\n",
       "1  ultra             526.62            317.61         100873.63"
      ]
     },
     "execution_count": 39,
     "metadata": {},
     "output_type": "execute_result"
    }
   ],
   "source": [
    "df_mds_dur.round(2)"
   ]
  },
  {
   "cell_type": "markdown",
   "metadata": {},
   "source": [
    "Cреднее, стандартное отклонение и дисперсия для мегабайт трафика:"
   ]
  },
  {
   "cell_type": "code",
   "execution_count": 40,
   "metadata": {},
   "outputs": [
    {
     "data": {
      "text/html": [
       "<div>\n",
       "<style scoped>\n",
       "    .dataframe tbody tr th:only-of-type {\n",
       "        vertical-align: middle;\n",
       "    }\n",
       "\n",
       "    .dataframe tbody tr th {\n",
       "        vertical-align: top;\n",
       "    }\n",
       "\n",
       "    .dataframe thead th {\n",
       "        text-align: right;\n",
       "    }\n",
       "</style>\n",
       "<table border=\"1\" class=\"dataframe\">\n",
       "  <thead>\n",
       "    <tr style=\"text-align: right;\">\n",
       "      <th></th>\n",
       "      <th>tariff</th>\n",
       "      <th>mb_used_sum_mean</th>\n",
       "      <th>mb_used_sum_std</th>\n",
       "      <th>mb_used_sum_var</th>\n",
       "    </tr>\n",
       "  </thead>\n",
       "  <tbody>\n",
       "    <tr>\n",
       "      <th>0</th>\n",
       "      <td>smart</td>\n",
       "      <td>16208.39</td>\n",
       "      <td>5870.48</td>\n",
       "      <td>3.446250e+07</td>\n",
       "    </tr>\n",
       "    <tr>\n",
       "      <th>1</th>\n",
       "      <td>ultra</td>\n",
       "      <td>19468.81</td>\n",
       "      <td>10087.17</td>\n",
       "      <td>1.017510e+08</td>\n",
       "    </tr>\n",
       "  </tbody>\n",
       "</table>\n",
       "</div>"
      ],
      "text/plain": [
       "  tariff  mb_used_sum_mean  mb_used_sum_std  mb_used_sum_var\n",
       "0  smart          16208.39          5870.48     3.446250e+07\n",
       "1  ultra          19468.81         10087.17     1.017510e+08"
      ]
     },
     "execution_count": 40,
     "metadata": {},
     "output_type": "execute_result"
    }
   ],
   "source": [
    "df_mds_int.round(2)"
   ]
  },
  {
   "cell_type": "markdown",
   "metadata": {},
   "source": [
    "Cреднее, стандартное отклонение и дисперсия для количества сообщений:"
   ]
  },
  {
   "cell_type": "code",
   "execution_count": 41,
   "metadata": {},
   "outputs": [
    {
     "data": {
      "text/html": [
       "<div>\n",
       "<style scoped>\n",
       "    .dataframe tbody tr th:only-of-type {\n",
       "        vertical-align: middle;\n",
       "    }\n",
       "\n",
       "    .dataframe tbody tr th {\n",
       "        vertical-align: top;\n",
       "    }\n",
       "\n",
       "    .dataframe thead th {\n",
       "        text-align: right;\n",
       "    }\n",
       "</style>\n",
       "<table border=\"1\" class=\"dataframe\">\n",
       "  <thead>\n",
       "    <tr style=\"text-align: right;\">\n",
       "      <th></th>\n",
       "      <th>tariff</th>\n",
       "      <th>message_count_mean</th>\n",
       "      <th>message_count_std</th>\n",
       "      <th>message_count_var</th>\n",
       "    </tr>\n",
       "  </thead>\n",
       "  <tbody>\n",
       "    <tr>\n",
       "      <th>0</th>\n",
       "      <td>smart</td>\n",
       "      <td>33.38</td>\n",
       "      <td>28.23</td>\n",
       "      <td>796.81</td>\n",
       "    </tr>\n",
       "    <tr>\n",
       "      <th>1</th>\n",
       "      <td>ultra</td>\n",
       "      <td>49.36</td>\n",
       "      <td>47.80</td>\n",
       "      <td>2285.27</td>\n",
       "    </tr>\n",
       "  </tbody>\n",
       "</table>\n",
       "</div>"
      ],
      "text/plain": [
       "  tariff  message_count_mean  message_count_std  message_count_var\n",
       "0  smart               33.38              28.23             796.81\n",
       "1  ultra               49.36              47.80            2285.27"
      ]
     },
     "execution_count": 41,
     "metadata": {},
     "output_type": "execute_result"
    }
   ],
   "source": [
    "df_mds_msg.round(2)"
   ]
  },
  {
   "cell_type": "code",
   "execution_count": 42,
   "metadata": {},
   "outputs": [
    {
     "data": {
      "text/plain": [
       "0.18181703466666665"
      ]
     },
     "execution_count": 42,
     "metadata": {},
     "output_type": "execute_result"
    }
   ],
   "source": [
    "545.451104 / 3000"
   ]
  },
  {
   "cell_type": "markdown",
   "metadata": {},
   "source": [
    "Посмотрев на эти значения, можем сказать, что средние значения для тарифа smart меньше, чем для тарифа ultra. Дисперсия и стандартное отклонение для тарифа smart тоже меньше, поэтому значения будут ближе к среднему, а график распределения будет «сжат». Для тарифа ultra дисперсия и стандартное отклонение, напротив, больше — разброс значений намного больше, график будет «растянут»."
   ]
  },
  {
   "cell_type": "markdown",
   "metadata": {},
   "source": [
    "### Графики распределения"
   ]
  },
  {
   "cell_type": "markdown",
   "metadata": {},
   "source": [
    "Построим гистограммы по этим параметрам:"
   ]
  },
  {
   "cell_type": "code",
   "execution_count": 43,
   "metadata": {
    "scrolled": true
   },
   "outputs": [
    {
     "data": {
      "image/png": "[encoded data removed]",
      "text/plain": [
       "<Figure size 1280x960 with 4 Axes>"
      ]
     },
     "metadata": {
      "needs_background": "light"
     },
     "output_type": "display_data"
    }
   ],
   "source": [
    "fig, ((ax0, ax1), (ax2, ax3)) = plt.subplots(2, 2, figsize=(16,12), dpi=80)\n",
    "\n",
    "x0, y0 = df.loc[df['tariff'] == 'smart', 'duration_sum'], df.loc[df['tariff'] == 'ultra', 'duration_sum']\n",
    "x1, y1 = df.loc[df['tariff'] == 'smart', 'duration_count'], df.loc[df['tariff'] == 'ultra', 'duration_count']\n",
    "x2, y2 = df.loc[df['tariff'] == 'smart', 'mb_used_sum'], df.loc[df['tariff'] == 'ultra', 'mb_used_sum']\n",
    "x3, y3 = df.loc[df['tariff'] == 'smart', 'message_count'], df.loc[df['tariff'] == 'ultra', 'message_count']\n",
    "\n",
    "#  гистограмма по звонкам без 0\n",
    "ax0.hist(x0, 50, facecolor='tab:blue', alpha=1, label='smart')\n",
    "ax0.hist(y0, 50, facecolor='tab:red', alpha=.7, label='ultra')\n",
    "ax0.set_xlabel('Минут звонков в месяц', fontsize=10, color='tab:blue')\n",
    "ax0.set_ylabel('Количество', fontsize=10, color='tab:blue')\n",
    "ax0.set_title('минут звонков', fontsize=15)\n",
    "ax0.legend()\n",
    "ax0.grid(True)\n",
    "\n",
    "#  гистограмма по звонкам с 0\n",
    "ax1.hist(x1, 50, facecolor='tab:blue', alpha=1, label='smart')\n",
    "ax1.hist(y1, 50, facecolor='tab:red', alpha=.7, label='ultra')\n",
    "ax1.set_xlabel('Количество звонков в месяц', fontsize=10, color='tab:blue')\n",
    "ax1.set_ylabel('Количество', fontsize=10, color='tab:blue')\n",
    "ax1.set_title('частоты звонков', fontsize=15)\n",
    "ax1.legend()\n",
    "ax1.grid(True)\n",
    "\n",
    "#  гистограмма по интернету\n",
    "ax2.hist(x2, 50, facecolor='tab:blue', alpha=1, label='smart')\n",
    "ax2.hist(y2, 50, facecolor='tab:red', alpha=.7, label='ultra')\n",
    "ax2.set_xlabel('Мегабайт трафика в месяц', fontsize=10, color='tab:blue')\n",
    "ax2.set_ylabel('Количество', fontsize=10, color='tab:blue')\n",
    "ax2.set_title('трафика', fontsize=15)\n",
    "ax2.legend()\n",
    "ax2.grid(True)\n",
    "\n",
    "#  гистограмма по сообщениям\n",
    "ax3.hist(x3, 50, facecolor='tab:blue', alpha=1, label='smart')\n",
    "ax3.hist(y3, 50, facecolor='tab:red', alpha=.7, label='ultra')\n",
    "ax3.set_xlabel('Сообщений в месяц', fontsize=10, color='tab:blue')\n",
    "ax3.set_ylabel('Количество', fontsize=10, color='tab:blue')\n",
    "ax3.set_title('сообщений', fontsize=15)\n",
    "ax3.legend()\n",
    "ax3.grid(True)\n",
    "\n",
    "fig.suptitle('Гистограммы распределения', fontsize=20)\n",
    "plt.show()"
   ]
  },
  {
   "cell_type": "markdown",
   "metadata": {},
   "source": [
    "И графики плотностей распределения:"
   ]
  },
  {
   "cell_type": "code",
   "execution_count": 44,
   "metadata": {
    "scrolled": true
   },
   "outputs": [
    {
     "data": {
      "image/png": "[encoded data removed]",
      "text/plain": [
       "<Figure size 1280x960 with 4 Axes>"
      ]
     },
     "metadata": {
      "needs_background": "light"
     },
     "output_type": "display_data"
    }
   ],
   "source": [
    "fig, ((ax0, ax1), (ax2, ax3)) = plt.subplots(2, 2, figsize=(16,12), dpi=80)\n",
    "\n",
    "#  гистограмма по звонкам без 0\n",
    "sns.kdeplot(x0, ax=ax0, shade=True, color=\"tab:blue\", label=\"smart\", alpha=.7)\n",
    "sns.kdeplot(y0, ax=ax0, shade=True, color=\"tab:red\", label=\"ultra\", alpha=.7)\n",
    "ax0.set_xlabel('Минут звонков в месяц', fontsize=10, color='tab:blue')\n",
    "ax0.set_ylabel('Плотность', fontsize=10, color='tab:blue')\n",
    "ax0.set_title('минут звонков', fontsize=15)\n",
    "ax0.legend()\n",
    "ax0.grid(True)\n",
    "\n",
    "#  гистограмма по звонкам с 0\n",
    "sns.kdeplot(x1, ax=ax1, shade=True, color=\"tab:blue\", label=\"smart\", alpha=.7)\n",
    "sns.kdeplot(y1, ax=ax1, shade=True, color=\"tab:red\", label=\"ultra\", alpha=.7)\n",
    "ax1.set_xlabel('Количество звонков в месяц', fontsize=10, color='tab:blue')\n",
    "ax1.set_ylabel('Плотность', fontsize=10, color='tab:blue')\n",
    "ax1.set_title('частоты звонков', fontsize=15)\n",
    "ax1.legend()\n",
    "ax1.grid(True)\n",
    "\n",
    "#  гистограмма по интернету\n",
    "sns.kdeplot(x2, ax=ax2, shade=True, color=\"tab:blue\", label=\"smart\", alpha=.7)\n",
    "sns.kdeplot(y2, ax=ax2, shade=True, color=\"tab:red\", label=\"ultra\", alpha=.7)\n",
    "ax2.set_xlabel('Мегабайт трафика в месяц', fontsize=10, color='tab:blue')\n",
    "ax2.set_ylabel('Плотность', fontsize=10, color='tab:blue')\n",
    "ax2.set_title('трафика', fontsize=15)\n",
    "ax2.legend()\n",
    "ax2.grid(True)\n",
    "\n",
    "#  гистограмма по сообщениям\n",
    "sns.kdeplot(x3, ax=ax3, shade=True, color=\"tab:blue\", label=\"smart\", alpha=.7)\n",
    "sns.kdeplot(y3, ax=ax3, shade=True, color=\"tab:red\", label=\"ultra\", alpha=.7)\n",
    "ax3.set_xlabel('Сообщений в месяц', fontsize=10, color='tab:blue')\n",
    "ax3.set_ylabel('Плотность', fontsize=10, color='tab:blue')\n",
    "ax3.set_title('сообщений', fontsize=15)\n",
    "ax3.legend()\n",
    "ax3.grid(True)\n",
    "\n",
    "fig.suptitle('Гистограммы распределения', fontsize=20)\n",
    "plt.show()"
   ]
  },
  {
   "cell_type": "markdown",
   "metadata": {},
   "source": [
    "На графиках наглядно подтвердились наши предположения. Видим, что значения по тарифу smart сильнее стремятся к среднему значению, чем значения по тарифу ultra."
   ]
  },
  {
   "cell_type": "markdown",
   "metadata": {},
   "source": [
    "### Вывод"
   ]
  },
  {
   "cell_type": "markdown",
   "metadata": {},
   "source": [
    "Оценив среднее, дисперсию и стандартное отклонение, а также взглянув на графики распределения и гистограммы мы видим, что по звонкам и трафику распределение напоминает нормальное, а вот по сообщениям — скорее Пуассоновское. Кроме того, Значения по тарифу smart сильнее стремятся к среднему значению, чем значения по тарифу ultra. Если сравнить средние значения с тарифными лимитами, окажется что значения по тарифу smart близки к лимитам, а значения по трафику даже превышают его. Если же мы возьмём тариф ultra, то средние значения находятся очень далеко от лимитов. Только среднее значение по трафику составляет порядка двух третей от лимита. Значения по звонкам составляют не больше 20%, а по сообщениям — 10%.\n",
    "\n",
    "Эти данные говорят нам о том, что лимиты тарифа smart действительно умные, и настроены вполне адекватно. А вот у тарифа ultra слишком большие лимиты — только малая часть пользователей использует его на полную. А вот тем клиентам тарифа smart, которые регулярно превышают лимиты, можно предложить перейти на тариф ultra."
   ]
  },
  {
   "cell_type": "markdown",
   "metadata": {},
   "source": [
    "## Проверка гипотез"
   ]
  },
  {
   "cell_type": "markdown",
   "metadata": {},
   "source": [
    "### «Ультра» и «Смарт»: различается ли средняя выручка?"
   ]
  },
  {
   "cell_type": "markdown",
   "metadata": {},
   "source": [
    "Теперь проверим гипотезы. Для начала сформулируем нулевую гипотезу — средняя выручка по тарифам «Ультра» и «Смарт» равна. Соответственно альтернативной гипотезой будет их неравенство.\n",
    "\n",
    "Для начала посчитаем выручку по каждому клиенту за каждый месяц. Для этого напишем функцию, которая посчитает выручку, затем применим её к датафрейму и сохраним результат в столбец profit:"
   ]
  },
  {
   "cell_type": "code",
   "execution_count": 45,
   "metadata": {},
   "outputs": [
    {
     "data": {
      "text/html": [
       "<div>\n",
       "<style scoped>\n",
       "    .dataframe tbody tr th:only-of-type {\n",
       "        vertical-align: middle;\n",
       "    }\n",
       "\n",
       "    .dataframe tbody tr th {\n",
       "        vertical-align: top;\n",
       "    }\n",
       "\n",
       "    .dataframe thead th {\n",
       "        text-align: right;\n",
       "    }\n",
       "</style>\n",
       "<table border=\"1\" class=\"dataframe\">\n",
       "  <thead>\n",
       "    <tr style=\"text-align: right;\">\n",
       "      <th></th>\n",
       "      <th>user_id</th>\n",
       "      <th>tariff</th>\n",
       "      <th>age</th>\n",
       "      <th>city</th>\n",
       "      <th>reg_date</th>\n",
       "      <th>churn_date</th>\n",
       "      <th>days_used</th>\n",
       "      <th>is_churn</th>\n",
       "      <th>month</th>\n",
       "      <th>duration_count</th>\n",
       "      <th>duration_sum</th>\n",
       "      <th>mb_used_count</th>\n",
       "      <th>mb_used_sum</th>\n",
       "      <th>message_count</th>\n",
       "      <th>rub_monthly_fee</th>\n",
       "      <th>minutes_included</th>\n",
       "      <th>rub_per_minute</th>\n",
       "      <th>mb_per_month_included</th>\n",
       "      <th>rub_per_gb</th>\n",
       "      <th>messages_included</th>\n",
       "      <th>rub_per_message</th>\n",
       "      <th>profit</th>\n",
       "    </tr>\n",
       "  </thead>\n",
       "  <tbody>\n",
       "    <tr>\n",
       "      <th>0</th>\n",
       "      <td>1000</td>\n",
       "      <td>ultra</td>\n",
       "      <td>52</td>\n",
       "      <td>Краснодар</td>\n",
       "      <td>2018-05-25</td>\n",
       "      <td>2018-12-31</td>\n",
       "      <td>220 days</td>\n",
       "      <td>False</td>\n",
       "      <td>5</td>\n",
       "      <td>22.0</td>\n",
       "      <td>159.0</td>\n",
       "      <td>5.0</td>\n",
       "      <td>2253.49</td>\n",
       "      <td>22.0</td>\n",
       "      <td>1950</td>\n",
       "      <td>3000</td>\n",
       "      <td>1</td>\n",
       "      <td>30720</td>\n",
       "      <td>150</td>\n",
       "      <td>1000</td>\n",
       "      <td>1</td>\n",
       "      <td>1950.0</td>\n",
       "    </tr>\n",
       "    <tr>\n",
       "      <th>1</th>\n",
       "      <td>1000</td>\n",
       "      <td>ultra</td>\n",
       "      <td>52</td>\n",
       "      <td>Краснодар</td>\n",
       "      <td>2018-05-25</td>\n",
       "      <td>2018-12-31</td>\n",
       "      <td>220 days</td>\n",
       "      <td>False</td>\n",
       "      <td>6</td>\n",
       "      <td>43.0</td>\n",
       "      <td>172.0</td>\n",
       "      <td>49.0</td>\n",
       "      <td>23233.77</td>\n",
       "      <td>60.0</td>\n",
       "      <td>1950</td>\n",
       "      <td>3000</td>\n",
       "      <td>1</td>\n",
       "      <td>30720</td>\n",
       "      <td>150</td>\n",
       "      <td>1000</td>\n",
       "      <td>1</td>\n",
       "      <td>1950.0</td>\n",
       "    </tr>\n",
       "    <tr>\n",
       "      <th>2</th>\n",
       "      <td>1000</td>\n",
       "      <td>ultra</td>\n",
       "      <td>52</td>\n",
       "      <td>Краснодар</td>\n",
       "      <td>2018-05-25</td>\n",
       "      <td>2018-12-31</td>\n",
       "      <td>220 days</td>\n",
       "      <td>False</td>\n",
       "      <td>7</td>\n",
       "      <td>47.0</td>\n",
       "      <td>340.0</td>\n",
       "      <td>29.0</td>\n",
       "      <td>14003.64</td>\n",
       "      <td>75.0</td>\n",
       "      <td>1950</td>\n",
       "      <td>3000</td>\n",
       "      <td>1</td>\n",
       "      <td>30720</td>\n",
       "      <td>150</td>\n",
       "      <td>1000</td>\n",
       "      <td>1</td>\n",
       "      <td>1950.0</td>\n",
       "    </tr>\n",
       "    <tr>\n",
       "      <th>3</th>\n",
       "      <td>1000</td>\n",
       "      <td>ultra</td>\n",
       "      <td>52</td>\n",
       "      <td>Краснодар</td>\n",
       "      <td>2018-05-25</td>\n",
       "      <td>2018-12-31</td>\n",
       "      <td>220 days</td>\n",
       "      <td>False</td>\n",
       "      <td>8</td>\n",
       "      <td>52.0</td>\n",
       "      <td>408.0</td>\n",
       "      <td>29.0</td>\n",
       "      <td>14055.93</td>\n",
       "      <td>81.0</td>\n",
       "      <td>1950</td>\n",
       "      <td>3000</td>\n",
       "      <td>1</td>\n",
       "      <td>30720</td>\n",
       "      <td>150</td>\n",
       "      <td>1000</td>\n",
       "      <td>1</td>\n",
       "      <td>1950.0</td>\n",
       "    </tr>\n",
       "    <tr>\n",
       "      <th>4</th>\n",
       "      <td>1000</td>\n",
       "      <td>ultra</td>\n",
       "      <td>52</td>\n",
       "      <td>Краснодар</td>\n",
       "      <td>2018-05-25</td>\n",
       "      <td>2018-12-31</td>\n",
       "      <td>220 days</td>\n",
       "      <td>False</td>\n",
       "      <td>9</td>\n",
       "      <td>58.0</td>\n",
       "      <td>466.0</td>\n",
       "      <td>27.0</td>\n",
       "      <td>14568.91</td>\n",
       "      <td>57.0</td>\n",
       "      <td>1950</td>\n",
       "      <td>3000</td>\n",
       "      <td>1</td>\n",
       "      <td>30720</td>\n",
       "      <td>150</td>\n",
       "      <td>1000</td>\n",
       "      <td>1</td>\n",
       "      <td>1950.0</td>\n",
       "    </tr>\n",
       "    <tr>\n",
       "      <th>...</th>\n",
       "      <td>...</td>\n",
       "      <td>...</td>\n",
       "      <td>...</td>\n",
       "      <td>...</td>\n",
       "      <td>...</td>\n",
       "      <td>...</td>\n",
       "      <td>...</td>\n",
       "      <td>...</td>\n",
       "      <td>...</td>\n",
       "      <td>...</td>\n",
       "      <td>...</td>\n",
       "      <td>...</td>\n",
       "      <td>...</td>\n",
       "      <td>...</td>\n",
       "      <td>...</td>\n",
       "      <td>...</td>\n",
       "      <td>...</td>\n",
       "      <td>...</td>\n",
       "      <td>...</td>\n",
       "      <td>...</td>\n",
       "      <td>...</td>\n",
       "      <td>...</td>\n",
       "    </tr>\n",
       "    <tr>\n",
       "      <th>3209</th>\n",
       "      <td>1489</td>\n",
       "      <td>smart</td>\n",
       "      <td>35</td>\n",
       "      <td>Санкт-Петербург</td>\n",
       "      <td>2018-08-15</td>\n",
       "      <td>2018-12-31</td>\n",
       "      <td>138 days</td>\n",
       "      <td>False</td>\n",
       "      <td>8</td>\n",
       "      <td>0.0</td>\n",
       "      <td>0.0</td>\n",
       "      <td>34.0</td>\n",
       "      <td>11050.56</td>\n",
       "      <td>17.0</td>\n",
       "      <td>550</td>\n",
       "      <td>500</td>\n",
       "      <td>3</td>\n",
       "      <td>15360</td>\n",
       "      <td>200</td>\n",
       "      <td>50</td>\n",
       "      <td>3</td>\n",
       "      <td>550.0</td>\n",
       "    </tr>\n",
       "    <tr>\n",
       "      <th>3210</th>\n",
       "      <td>1489</td>\n",
       "      <td>smart</td>\n",
       "      <td>35</td>\n",
       "      <td>Санкт-Петербург</td>\n",
       "      <td>2018-08-15</td>\n",
       "      <td>2018-12-31</td>\n",
       "      <td>138 days</td>\n",
       "      <td>False</td>\n",
       "      <td>9</td>\n",
       "      <td>0.0</td>\n",
       "      <td>0.0</td>\n",
       "      <td>63.0</td>\n",
       "      <td>17206.30</td>\n",
       "      <td>32.0</td>\n",
       "      <td>550</td>\n",
       "      <td>500</td>\n",
       "      <td>3</td>\n",
       "      <td>15360</td>\n",
       "      <td>200</td>\n",
       "      <td>50</td>\n",
       "      <td>3</td>\n",
       "      <td>950.0</td>\n",
       "    </tr>\n",
       "    <tr>\n",
       "      <th>3211</th>\n",
       "      <td>1489</td>\n",
       "      <td>smart</td>\n",
       "      <td>35</td>\n",
       "      <td>Санкт-Петербург</td>\n",
       "      <td>2018-08-15</td>\n",
       "      <td>2018-12-31</td>\n",
       "      <td>138 days</td>\n",
       "      <td>False</td>\n",
       "      <td>10</td>\n",
       "      <td>0.0</td>\n",
       "      <td>0.0</td>\n",
       "      <td>63.0</td>\n",
       "      <td>19559.44</td>\n",
       "      <td>21.0</td>\n",
       "      <td>550</td>\n",
       "      <td>500</td>\n",
       "      <td>3</td>\n",
       "      <td>15360</td>\n",
       "      <td>200</td>\n",
       "      <td>50</td>\n",
       "      <td>3</td>\n",
       "      <td>1550.0</td>\n",
       "    </tr>\n",
       "    <tr>\n",
       "      <th>3212</th>\n",
       "      <td>1489</td>\n",
       "      <td>smart</td>\n",
       "      <td>35</td>\n",
       "      <td>Санкт-Петербург</td>\n",
       "      <td>2018-08-15</td>\n",
       "      <td>2018-12-31</td>\n",
       "      <td>138 days</td>\n",
       "      <td>False</td>\n",
       "      <td>11</td>\n",
       "      <td>0.0</td>\n",
       "      <td>0.0</td>\n",
       "      <td>55.0</td>\n",
       "      <td>17491.56</td>\n",
       "      <td>20.0</td>\n",
       "      <td>550</td>\n",
       "      <td>500</td>\n",
       "      <td>3</td>\n",
       "      <td>15360</td>\n",
       "      <td>200</td>\n",
       "      <td>50</td>\n",
       "      <td>3</td>\n",
       "      <td>1150.0</td>\n",
       "    </tr>\n",
       "    <tr>\n",
       "      <th>3213</th>\n",
       "      <td>1489</td>\n",
       "      <td>smart</td>\n",
       "      <td>35</td>\n",
       "      <td>Санкт-Петербург</td>\n",
       "      <td>2018-08-15</td>\n",
       "      <td>2018-12-31</td>\n",
       "      <td>138 days</td>\n",
       "      <td>False</td>\n",
       "      <td>12</td>\n",
       "      <td>0.0</td>\n",
       "      <td>0.0</td>\n",
       "      <td>51.0</td>\n",
       "      <td>17322.51</td>\n",
       "      <td>35.0</td>\n",
       "      <td>550</td>\n",
       "      <td>500</td>\n",
       "      <td>3</td>\n",
       "      <td>15360</td>\n",
       "      <td>200</td>\n",
       "      <td>50</td>\n",
       "      <td>3</td>\n",
       "      <td>950.0</td>\n",
       "    </tr>\n",
       "  </tbody>\n",
       "</table>\n",
       "<p>3214 rows × 22 columns</p>\n",
       "</div>"
      ],
      "text/plain": [
       "      user_id tariff  age             city   reg_date churn_date days_used  \\\n",
       "0        1000  ultra   52        Краснодар 2018-05-25 2018-12-31  220 days   \n",
       "1        1000  ultra   52        Краснодар 2018-05-25 2018-12-31  220 days   \n",
       "2        1000  ultra   52        Краснодар 2018-05-25 2018-12-31  220 days   \n",
       "3        1000  ultra   52        Краснодар 2018-05-25 2018-12-31  220 days   \n",
       "4        1000  ultra   52        Краснодар 2018-05-25 2018-12-31  220 days   \n",
       "...       ...    ...  ...              ...        ...        ...       ...   \n",
       "3209     1489  smart   35  Санкт-Петербург 2018-08-15 2018-12-31  138 days   \n",
       "3210     1489  smart   35  Санкт-Петербург 2018-08-15 2018-12-31  138 days   \n",
       "3211     1489  smart   35  Санкт-Петербург 2018-08-15 2018-12-31  138 days   \n",
       "3212     1489  smart   35  Санкт-Петербург 2018-08-15 2018-12-31  138 days   \n",
       "3213     1489  smart   35  Санкт-Петербург 2018-08-15 2018-12-31  138 days   \n",
       "\n",
       "     is_churn  month  duration_count  duration_sum  mb_used_count  \\\n",
       "0       False      5            22.0         159.0            5.0   \n",
       "1       False      6            43.0         172.0           49.0   \n",
       "2       False      7            47.0         340.0           29.0   \n",
       "3       False      8            52.0         408.0           29.0   \n",
       "4       False      9            58.0         466.0           27.0   \n",
       "...       ...    ...             ...           ...            ...   \n",
       "3209    False      8             0.0           0.0           34.0   \n",
       "3210    False      9             0.0           0.0           63.0   \n",
       "3211    False     10             0.0           0.0           63.0   \n",
       "3212    False     11             0.0           0.0           55.0   \n",
       "3213    False     12             0.0           0.0           51.0   \n",
       "\n",
       "      mb_used_sum  message_count  rub_monthly_fee  minutes_included  \\\n",
       "0         2253.49           22.0             1950              3000   \n",
       "1        23233.77           60.0             1950              3000   \n",
       "2        14003.64           75.0             1950              3000   \n",
       "3        14055.93           81.0             1950              3000   \n",
       "4        14568.91           57.0             1950              3000   \n",
       "...           ...            ...              ...               ...   \n",
       "3209     11050.56           17.0              550               500   \n",
       "3210     17206.30           32.0              550               500   \n",
       "3211     19559.44           21.0              550               500   \n",
       "3212     17491.56           20.0              550               500   \n",
       "3213     17322.51           35.0              550               500   \n",
       "\n",
       "      rub_per_minute  mb_per_month_included  rub_per_gb  messages_included  \\\n",
       "0                  1                  30720         150               1000   \n",
       "1                  1                  30720         150               1000   \n",
       "2                  1                  30720         150               1000   \n",
       "3                  1                  30720         150               1000   \n",
       "4                  1                  30720         150               1000   \n",
       "...              ...                    ...         ...                ...   \n",
       "3209               3                  15360         200                 50   \n",
       "3210               3                  15360         200                 50   \n",
       "3211               3                  15360         200                 50   \n",
       "3212               3                  15360         200                 50   \n",
       "3213               3                  15360         200                 50   \n",
       "\n",
       "      rub_per_message  profit  \n",
       "0                   1  1950.0  \n",
       "1                   1  1950.0  \n",
       "2                   1  1950.0  \n",
       "3                   1  1950.0  \n",
       "4                   1  1950.0  \n",
       "...               ...     ...  \n",
       "3209                3   550.0  \n",
       "3210                3   950.0  \n",
       "3211                3  1550.0  \n",
       "3212                3  1150.0  \n",
       "3213                3   950.0  \n",
       "\n",
       "[3214 rows x 22 columns]"
      ]
     },
     "execution_count": 45,
     "metadata": {},
     "output_type": "execute_result"
    }
   ],
   "source": [
    "def profit_calc(df):\n",
    "    #  объявляем переменные\n",
    "    fee = calls_profit = internet_profit = messages_profit = 0\n",
    "    fee = df['rub_monthly_fee']  #  заключаем стоимость тарифа в переменную\n",
    "    \n",
    "    #  считаем превышение ежемесячных лимитов\n",
    "    calls = df['duration_sum'] - df['minutes_included']\n",
    "    internet = (df['mb_used_sum'] - df['mb_per_month_included']) / 1024\n",
    "    messages = df['message_count'] - df['messages_included']\n",
    "    \n",
    "    #  обнуляем отрицательные значения с помощью умножения на False\n",
    "    calls *= (calls >= 0)\n",
    "    internet *= (internet >= 0)\n",
    "    messages *= (messages >= 0)\n",
    "    \n",
    "    #  считаем стоимость дополнительных услуг\n",
    "    calls_profit = calls * df['rub_per_minute']\n",
    "    internet_profit = np.ceil(internet) * df['rub_per_gb']\n",
    "    messages_profit = messages * df['rub_per_message']\n",
    "    \n",
    "    #  возвращаем затраты пользователя за месяц\n",
    "    return fee + calls_profit + internet_profit + messages_profit\n",
    "\n",
    "df_profit = df\n",
    "df_profit.fillna(pd.Timedelta(0))\n",
    "df_profit['profit'] = profit_calc(df_profit)\n",
    "df_profit.groupby('tariff')['profit'].mean()\n",
    "df"
   ]
  },
  {
   "cell_type": "markdown",
   "metadata": {},
   "source": [
    "Видим, что средние значения по тарифам отличаются.\n",
    "\n",
    "Теперь построим графики:"
   ]
  },
  {
   "cell_type": "code",
   "execution_count": 46,
   "metadata": {},
   "outputs": [
    {
     "data": {
      "image/png": "[encoded data removed]",
      "text/plain": [
       "<Figure size 1280x480 with 2 Axes>"
      ]
     },
     "metadata": {
      "needs_background": "light"
     },
     "output_type": "display_data"
    }
   ],
   "source": [
    "fig, (ax0, ax1) = plt.subplots(1, 2, figsize=(16,6), dpi=80)\n",
    "\n",
    "x0, y0 = df_profit.loc[df_profit['tariff'] == 'smart', 'profit'], df_profit.loc[df_profit['tariff'] == 'ultra', 'profit']\n",
    "\n",
    "#  гистограмма по звонкам без 0\n",
    "ax0.hist(x0, 50, facecolor='tab:blue', alpha=1, label='smart')\n",
    "ax0.hist(y0, 50, facecolor='tab:red', alpha=.7, label='ultra')\n",
    "ax0.set_xlabel('Рублей в месяц', fontsize=10, color='tab:blue')\n",
    "ax0.set_ylabel('Количество', fontsize=10, color='tab:blue')\n",
    "ax0.set_title('количества доходов', fontsize=15)\n",
    "ax0.legend()\n",
    "ax0.grid(True)\n",
    "\n",
    "#  гистограмма по звонкам с 0\n",
    "sns.kdeplot(x0, ax=ax1, shade=True, color=\"tab:blue\", label=\"smart\", alpha=.7)\n",
    "sns.kdeplot(y0, ax=ax1, shade=True, color=\"tab:red\", label=\"ultra\", alpha=.7)\n",
    "ax1.set_xlabel('Рублей в месяц', fontsize=10, color='tab:blue')\n",
    "ax1.set_ylabel('Плотность', fontsize=10, color='tab:blue')\n",
    "ax1.set_title('плотности доходов', fontsize=15)\n",
    "ax1.legend()\n",
    "ax1.grid(True)\n",
    "\n",
    "fig.suptitle('Графики распределения', fontsize=20)\n",
    "plt.show()"
   ]
  },
  {
   "cell_type": "markdown",
   "metadata": {},
   "source": [
    "Графики получились очень своеобразными, но кажется тоже разными. Но пойдём до конца и проверим гипотезу с помощью сравнения самих совокупностей. Возьмём α=.05:"
   ]
  },
  {
   "cell_type": "code",
   "execution_count": 47,
   "metadata": {},
   "outputs": [
    {
     "name": "stdout",
     "output_type": "stream",
     "text": [
      "различие выборок: 373.5592%\n",
      "p-значение: 1.4229814360764067e-160\n",
      "Гипотеза не подтвердилась: средняя выручка различается\n"
     ]
    }
   ],
   "source": [
    "df_smart = df_profit.loc[df_profit['tariff'] == 'smart', 'profit']\n",
    "df_smart = df_smart.fillna(0)\n",
    "df_ultra = df_profit.loc[df_profit['tariff'] == 'ultra', 'profit']\n",
    "df_ultra = df_ultra.fillna(0)\n",
    "\n",
    "alpha = .05\n",
    "e_var = abs((np.var(df_smart) - np.var(df_ultra)) / np.var(df_ultra))\n",
    "equal = e_var < alpha\n",
    "\n",
    "results = st.ttest_ind(df_smart, df_ultra, equal_var=e_var)\n",
    "\n",
    "print('различие выборок: {:.4%}'.format(e_var))\n",
    "print('p-значение:', results.pvalue)\n",
    "\n",
    "if (results.pvalue < alpha):\n",
    "    print(\"Гипотеза не подтвердилась: средняя выручка различается\")\n",
    "else:\n",
    "    print(\"Гипотеза подтвердилась: средняя выручка не различается\")"
   ]
  },
  {
   "cell_type": "markdown",
   "metadata": {},
   "source": [
    "Как видим, гипотеза не подтвердилась и средняя выручка с клиента в месяц по каждому тарифу действительно различается."
   ]
  },
  {
   "cell_type": "markdown",
   "metadata": {},
   "source": [
    "### Отличается ли средняя выручка пользователей из Москвы от выручки пользователей из других регионов?"
   ]
  },
  {
   "cell_type": "markdown",
   "metadata": {},
   "source": [
    "Теперь сформулируем вторую гипотезу. Нулевая гипотеза: средняя выручка по пользователям из Москвы равна средней выручке по пользователям из других регионов. Альтернативной гипотезой будет их неравенство.\n",
    "\n",
    "Теперь возьмём наш датафрейм и заменим все города, кроме Москвы на Другой:"
   ]
  },
  {
   "cell_type": "code",
   "execution_count": 48,
   "metadata": {},
   "outputs": [
    {
     "data": {
      "text/plain": [
       "city\n",
       "Другой    1524.936227\n",
       "Москва    1546.713584\n",
       "Name: profit, dtype: float64"
      ]
     },
     "execution_count": 48,
     "metadata": {},
     "output_type": "execute_result"
    }
   ],
   "source": [
    "df_cities = df_profit\n",
    "df_cities.loc[df_cities['city'] != 'Москва', 'city'] = 'Другой'\n",
    "df_cities.groupby('city')['profit'].mean()"
   ]
  },
  {
   "cell_type": "code",
   "execution_count": 49,
   "metadata": {},
   "outputs": [
    {
     "data": {
      "image/png": "[encoded data removed]",
      "text/plain": [
       "<Figure size 1280x480 with 2 Axes>"
      ]
     },
     "metadata": {
      "needs_background": "light"
     },
     "output_type": "display_data"
    }
   ],
   "source": [
    "fig, (ax0, ax1) = plt.subplots(1, 2, figsize=(16,6), dpi=80)\n",
    "\n",
    "x0 = df_cities.loc[(df_cities['tariff'] == 'smart') & (df_cities['city'] == 'Москва'), 'profit']\n",
    "x1 = df_cities.loc[(df_cities['tariff'] == 'ultra') & (df_cities['city'] == 'Москва'), 'profit']\n",
    "y0 = df_cities.loc[(df_cities['tariff'] == 'smart') & (df_cities['city'] == 'Другой'), 'profit']\n",
    "y1 = df_cities.loc[(df_cities['tariff'] == 'ultra') & (df_cities['city'] == 'Другой'), 'profit']\n",
    "\n",
    "#  гистограмма по звонкам без 0\n",
    "ax0.hist(x0, 50, facecolor='tab:blue', alpha=1, label='Москва - smart')\n",
    "ax0.hist(x1, 50, facecolor='tab:green', alpha=.7, label='Москва - ultra')\n",
    "ax0.hist(y0, 50, facecolor='tab:red', alpha=.5, label='Другой - smart')\n",
    "ax0.hist(y1, 50, facecolor='tab:orange', alpha=.3, label='Другой - ultra')\n",
    "ax0.set_xlabel('Рублей в месяц', fontsize=10, color='tab:blue')\n",
    "ax0.set_ylabel('Количество', fontsize=10, color='tab:blue')\n",
    "ax0.set_title('количества доходов', fontsize=15)\n",
    "ax0.legend()\n",
    "ax0.grid(True)\n",
    "\n",
    "#  гистограмма по звонкам с 0\n",
    "sns.kdeplot(x0, ax=ax1, shade=True, color=\"tab:blue\", label=\"Москва - smart\", alpha=1)\n",
    "sns.kdeplot(x1, ax=ax1, shade=True, color=\"tab:green\", label=\"Москва - ultra\", alpha=.7)\n",
    "sns.kdeplot(y0, ax=ax1, shade=True, color=\"tab:red\", label=\"Другой - smart\", alpha=.5)\n",
    "sns.kdeplot(y1, ax=ax1, shade=True, color=\"tab:orange\", label=\"Другой - ultra\", alpha=.3)\n",
    "ax1.set_xlabel('Рублей в месяц', fontsize=10, color='tab:blue')\n",
    "ax1.set_ylabel('Плотность', fontsize=10, color='tab:blue')\n",
    "ax1.set_title('плотности доходов', fontsize=15)\n",
    "ax1.legend()\n",
    "ax1.grid(True)\n",
    "\n",
    "fig.suptitle('Графики распределения', fontsize=20)\n",
    "plt.show()"
   ]
  },
  {
   "cell_type": "markdown",
   "metadata": {},
   "source": [
    "На графиках видим, что в Москве хоть и меньше пользователей, плотность их распределения почти не отличается от остальной России.\n",
    "\n",
    "Далее сравним сами совокупности. Возьмём α=.05:"
   ]
  },
  {
   "cell_type": "code",
   "execution_count": 50,
   "metadata": {},
   "outputs": [
    {
     "name": "stdout",
     "output_type": "stream",
     "text": [
      "различие выборок: 13.6378%\n",
      "p-значение: 0.5440152911670224\n",
      "Гипотеза подтвердилась: средняя выручка не различается\n"
     ]
    }
   ],
   "source": [
    "df_moscow = df_cities.loc[df_cities['city'] == 'Москва', 'profit']\n",
    "df_moscow = df_moscow.fillna(0)\n",
    "df_other = df_cities.loc[df_cities['city'] == 'Другой', 'profit']\n",
    "df_other = df_other.fillna(0)\n",
    "\n",
    "alpha = .05\n",
    "e_var = abs((np.var(df_moscow) - np.var(df_other)) / np.var(df_other))\n",
    "equal = e_var < alpha\n",
    "\n",
    "results = st.ttest_ind(df_moscow, df_other, equal_var=e_var)\n",
    "\n",
    "print('различие выборок: {:.4%}'.format(e_var))\n",
    "print('p-значение:', results.pvalue)\n",
    "\n",
    "if (results.pvalue < alpha):\n",
    "    print(\"Гипотеза не подтвердилась: средняя выручка различается\")\n",
    "else:\n",
    "    print(\"Гипотеза подтвердилась: средняя выручка не различается\")"
   ]
  },
  {
   "cell_type": "markdown",
   "metadata": {},
   "source": [
    "Наши прошлые наблюдения подтвердились — средняя выручка по Москве и по остальной России отличается незначительно."
   ]
  },
  {
   "cell_type": "markdown",
   "metadata": {},
   "source": [
    "## Результаты исследования"
   ]
  },
  {
   "cell_type": "markdown",
   "metadata": {},
   "source": [
    "### Общие выводы"
   ]
  },
  {
   "cell_type": "markdown",
   "metadata": {},
   "source": [
    "В этом исследовании нас интересовали ответы на следующие вопросы:\n",
    "\n",
    "* Какой тариф приносит больше денег?\n",
    "* Пользователи «Мегалайна»: кто они, откуда, каким тарифом пользуются, сколько звонков и сообщений каждый отправил за 2018 год.\n",
    "* Различается ли средняя выручка пользователей тарифов «Ультра» и «Смарт»?\n",
    "* Различается ли средняя выручка пользователей из Москвы от выручки пользователей из других регионов?\n",
    "\n",
    "**Общие результаты**\n",
    "\n",
    "В этом исследовании мы анализировали 500 клиентов компании «Мегалайн» и то, как они пользуются своими тарифами. Большая часть (&ap;70%) пользуется более дешёвым тарифом smart. При этом отток клиентов больше именно с более затратного тарифа ultra (&ap;10% у ultra против &ap;6% у smart). Вероятно это связано с тем, что лимиты тарифа ultra слишком большие, и большинство пользователей не в состоянии потратить их за месяц, поэтому они смотрят на тарифы с более низкими лимитами, которые наверняка окажутся дешевле.\n",
    "\n",
    "Мы оценили среднее, дисперсию и стандартное отклонение, графики распределения и гистограммы мы видим, что по звонкам и трафику распределение напоминает нормальное, а вот по сообщениям — скорее Пуассоновское (Пуассоновское распределение в сообщениях скорее всего говорит нам о том, что этот способ связи всё менее актуален, потому что большинство современных людей общается в мессенджерах). Значения по тарифу smart сильнее стремятся к среднему значению, чем значения по тарифу ultra. Значения по тарифу smart близки к лимитам, а значения тарифа ultra находятся очень далеко от лимитов.\n",
    "\n",
    "Мы сформулировали две нулевые гипотезы: «средняя выручка по тарифам «Ультра» и «Смарт» равна» и «средняя выручка по пользователям из Москвы равна средней выручке по пользователям из других регионов». Первая гипотеза не подтвердилась — выручка по тарифам оказалась разной. В среднем больше денег платят клиенты тарифа ultra, что неудивительно. Вторая гипотеза подтвердилась — выручка с клиента по Москве незначительно отличается от выручки в других городах.\n",
    "\n",
    "На основании этого исследования мы сформулировали рекомендации, которые помогут улучшить бизнес-показатели компании «Мегалайн»."
   ]
  },
  {
   "cell_type": "markdown",
   "metadata": {},
   "source": [
    "### Рекомендации"
   ]
  },
  {
   "cell_type": "markdown",
   "metadata": {},
   "source": [
    "Несмотря на то, что по итогам исследования тариф ultra показал большую выручку с клиента, этот тариф не является оптимальным по нескольким причинам:\n",
    "\n",
    "Лимиты тарифа слишком большие, и для большинства клиентов бесполезны. Это заставляет их задуматься о переходе на более приближённый к их потребностям тариф, который скорее всего окажется ещё и дешевле.\n",
    "Отток клиентов с этого тарифа почти в два раза выше, что вероятно связано с излишними лимитами и высокой ценой, но необязательно ограничивается этим. В рамках исследования этого не видно, но возможно с тарифом есть и другие проблемы.\n",
    "Затраты на поддержку тарифа вероятно выше, поэтому высокая выручка ещё не гарантирует прибыль.\n",
    "В связи с этим предлагается два варианта:\n",
    "\n",
    "* Изменить лимиты тарифа ultra и приблизить их к текущим средним значениям по звонкам, трафику и сообщениям. Соответственно снизить цену на тариф.\n",
    "* Не изменять лимиты тарифа, а оставить его в этой ценовой категории, добавить премиальное обслуживание. Добавить тариф, который займёт нишу между smart и ultra (средний сегмент): подобрать его лимиты по текущим средним значениям тарифа ultra, установить среднюю стоимость обслуживания.\n",
    "\n",
    "Что касается маркетинговых бюджетов, то для тарифа ultra необходимо скорректировать рекламную кампанию, судя по всему ЦА о нём недостаточно осведомлена. Для тарифа smart ситцация сложилась более благоприятная ситуация, большая часть абонентов вписывается в рамки тарифа. Поэтому рекомендуется сменить стратегию в отношении тарифа ultra, соответственно большую часть средств направить на продвижение этого тарифа.\n",
    "\n",
    "Кроме того, рекомендуется отследить природу большого количества пропущенных звонков: возможно номера клиентов используются для спам-звонков и мошеннических схем. Также можно предложить адресатам этих звонков дополнительные услуги по фильтрации звонков, если они окажутся клиентами компании."
   ]
  },
  {
   "cell_type": "code",
   "execution_count": null,
   "metadata": {},
   "outputs": [],
   "source": []
  }
 ],
 "metadata": {
  "ExecuteTimeLog": [
   {
    "duration": 3,
    "start_time": "2022-04-03T17:52:18.042Z"
   },
   {
    "duration": 3,
    "start_time": "2022-04-03T17:52:59.536Z"
   },
   {
    "duration": 1599,
    "start_time": "2022-04-03T17:53:34.705Z"
   },
   {
    "duration": 462,
    "start_time": "2022-04-03T17:54:52.199Z"
   },
   {
    "duration": 45,
    "start_time": "2022-04-03T17:55:31.177Z"
   },
   {
    "duration": 30,
    "start_time": "2022-04-03T17:57:15.053Z"
   },
   {
    "duration": 15,
    "start_time": "2022-04-03T17:57:51.226Z"
   },
   {
    "duration": 25,
    "start_time": "2022-04-03T17:57:57.656Z"
   },
   {
    "duration": 31,
    "start_time": "2022-04-03T17:58:27.241Z"
   },
   {
    "duration": 21,
    "start_time": "2022-04-03T17:58:40.187Z"
   },
   {
    "duration": 1259,
    "start_time": "2022-04-03T18:03:26.609Z"
   },
   {
    "duration": 427,
    "start_time": "2022-04-03T18:03:27.870Z"
   },
   {
    "duration": 36,
    "start_time": "2022-04-03T18:03:28.299Z"
   },
   {
    "duration": 44,
    "start_time": "2022-04-03T18:03:28.338Z"
   },
   {
    "duration": 31,
    "start_time": "2022-04-03T18:03:28.384Z"
   },
   {
    "duration": 28,
    "start_time": "2022-04-03T18:03:28.417Z"
   },
   {
    "duration": 15,
    "start_time": "2022-04-03T18:03:28.447Z"
   },
   {
    "duration": 61,
    "start_time": "2022-04-03T18:03:28.464Z"
   },
   {
    "duration": 40,
    "start_time": "2022-04-03T18:05:08.275Z"
   },
   {
    "duration": 13,
    "start_time": "2022-04-03T18:05:24.477Z"
   },
   {
    "duration": 63,
    "start_time": "2022-04-03T18:05:38.194Z"
   },
   {
    "duration": 61,
    "start_time": "2022-04-03T18:05:49.890Z"
   },
   {
    "duration": 33,
    "start_time": "2022-04-03T18:06:00.593Z"
   },
   {
    "duration": 194,
    "start_time": "2022-04-03T18:06:18.962Z"
   },
   {
    "duration": 12,
    "start_time": "2022-04-03T18:06:23.760Z"
   },
   {
    "duration": 31,
    "start_time": "2022-04-03T18:06:50.418Z"
   },
   {
    "duration": 29,
    "start_time": "2022-04-03T18:07:22.257Z"
   },
   {
    "duration": 102,
    "start_time": "2022-04-03T18:07:36.116Z"
   },
   {
    "duration": 12,
    "start_time": "2022-04-03T18:08:18.425Z"
   },
   {
    "duration": 46,
    "start_time": "2022-04-03T18:08:34.425Z"
   },
   {
    "duration": 40,
    "start_time": "2022-04-03T18:08:46.769Z"
   },
   {
    "duration": 38,
    "start_time": "2022-04-03T18:09:11.633Z"
   },
   {
    "duration": 16,
    "start_time": "2022-04-03T18:09:26.377Z"
   },
   {
    "duration": 42,
    "start_time": "2022-04-03T18:09:41.239Z"
   },
   {
    "duration": 24,
    "start_time": "2022-04-03T18:10:03.874Z"
   },
   {
    "duration": 47,
    "start_time": "2022-04-03T18:10:32.187Z"
   },
   {
    "duration": 38,
    "start_time": "2022-04-03T18:10:47.779Z"
   },
   {
    "duration": 21,
    "start_time": "2022-04-03T18:11:11.239Z"
   },
   {
    "duration": 15,
    "start_time": "2022-04-03T18:11:19.113Z"
   },
   {
    "duration": 35,
    "start_time": "2022-04-03T18:11:33.131Z"
   },
   {
    "duration": 15,
    "start_time": "2022-04-03T18:12:02.751Z"
   },
   {
    "duration": 19,
    "start_time": "2022-04-03T18:12:16.636Z"
   },
   {
    "duration": 23,
    "start_time": "2022-04-03T18:12:51.171Z"
   },
   {
    "duration": 39,
    "start_time": "2022-04-03T18:13:05.883Z"
   },
   {
    "duration": 22,
    "start_time": "2022-04-03T18:13:20.860Z"
   },
   {
    "duration": 28,
    "start_time": "2022-04-03T18:13:48.843Z"
   },
   {
    "duration": 7,
    "start_time": "2022-04-03T18:14:05.068Z"
   },
   {
    "duration": 28,
    "start_time": "2022-04-03T18:14:16.647Z"
   },
   {
    "duration": 16,
    "start_time": "2022-04-03T18:16:23.368Z"
   },
   {
    "duration": 12,
    "start_time": "2022-04-03T18:17:11.300Z"
   },
   {
    "duration": 10,
    "start_time": "2022-04-03T18:17:23.355Z"
   },
   {
    "duration": 15,
    "start_time": "2022-04-03T18:17:36.405Z"
   },
   {
    "duration": 5,
    "start_time": "2022-04-03T18:17:42.724Z"
   },
   {
    "duration": 1129,
    "start_time": "2022-04-03T18:18:19.286Z"
   },
   {
    "duration": 1262,
    "start_time": "2022-04-03T18:18:45.756Z"
   },
   {
    "duration": 20,
    "start_time": "2022-04-03T18:20:30.117Z"
   },
   {
    "duration": 21,
    "start_time": "2022-04-03T18:21:03.407Z"
   },
   {
    "duration": 13,
    "start_time": "2022-04-03T18:22:11.111Z"
   },
   {
    "duration": 19,
    "start_time": "2022-04-03T18:22:26.990Z"
   },
   {
    "duration": 22,
    "start_time": "2022-04-03T18:48:56.553Z"
   },
   {
    "duration": 468,
    "start_time": "2022-04-03T18:49:28.329Z"
   },
   {
    "duration": 10,
    "start_time": "2022-04-03T18:49:42.826Z"
   },
   {
    "duration": 8,
    "start_time": "2022-04-03T18:51:06.794Z"
   },
   {
    "duration": 672,
    "start_time": "2022-04-03T18:51:14.270Z"
   },
   {
    "duration": 8,
    "start_time": "2022-04-03T18:51:27.239Z"
   },
   {
    "duration": 8,
    "start_time": "2022-04-03T18:54:43.219Z"
   },
   {
    "duration": 8,
    "start_time": "2022-04-03T18:54:55.795Z"
   },
   {
    "duration": 1390,
    "start_time": "2022-04-14T09:12:11.072Z"
   },
   {
    "duration": 450,
    "start_time": "2022-04-14T09:12:12.464Z"
   },
   {
    "duration": 46,
    "start_time": "2022-04-14T09:12:12.916Z"
   },
   {
    "duration": 37,
    "start_time": "2022-04-14T09:12:12.965Z"
   },
   {
    "duration": 11,
    "start_time": "2022-04-14T09:12:13.004Z"
   },
   {
    "duration": 60,
    "start_time": "2022-04-14T09:12:13.017Z"
   },
   {
    "duration": 22,
    "start_time": "2022-04-14T09:12:13.079Z"
   },
   {
    "duration": 53,
    "start_time": "2022-04-14T09:12:13.103Z"
   },
   {
    "duration": 42,
    "start_time": "2022-04-14T09:12:13.159Z"
   },
   {
    "duration": 15,
    "start_time": "2022-04-14T09:12:13.205Z"
   },
   {
    "duration": 103,
    "start_time": "2022-04-14T09:12:13.222Z"
   },
   {
    "duration": 83,
    "start_time": "2022-04-14T09:12:13.327Z"
   },
   {
    "duration": 67,
    "start_time": "2022-04-14T09:12:13.413Z"
   },
   {
    "duration": 20,
    "start_time": "2022-04-14T09:12:13.482Z"
   },
   {
    "duration": 67,
    "start_time": "2022-04-14T09:12:13.504Z"
   },
   {
    "duration": 39,
    "start_time": "2022-04-14T09:12:13.573Z"
   },
   {
    "duration": 39,
    "start_time": "2022-04-14T09:12:13.614Z"
   },
   {
    "duration": 63,
    "start_time": "2022-04-14T09:12:13.656Z"
   },
   {
    "duration": 75,
    "start_time": "2022-04-14T09:12:13.721Z"
   },
   {
    "duration": 57,
    "start_time": "2022-04-14T09:12:13.798Z"
   },
   {
    "duration": 18,
    "start_time": "2022-04-14T09:12:13.857Z"
   },
   {
    "duration": 42,
    "start_time": "2022-04-14T09:12:13.877Z"
   },
   {
    "duration": 56,
    "start_time": "2022-04-14T09:12:13.921Z"
   },
   {
    "duration": 50,
    "start_time": "2022-04-14T09:12:13.979Z"
   },
   {
    "duration": 44,
    "start_time": "2022-04-14T09:12:14.051Z"
   },
   {
    "duration": 26,
    "start_time": "2022-04-14T09:12:14.098Z"
   },
   {
    "duration": 17,
    "start_time": "2022-04-14T09:12:14.151Z"
   },
   {
    "duration": 40,
    "start_time": "2022-04-14T09:12:14.173Z"
   },
   {
    "duration": 48,
    "start_time": "2022-04-14T09:12:14.216Z"
   },
   {
    "duration": 25,
    "start_time": "2022-04-14T09:12:14.266Z"
   },
   {
    "duration": 62,
    "start_time": "2022-04-14T09:12:14.293Z"
   },
   {
    "duration": 47,
    "start_time": "2022-04-14T09:12:14.357Z"
   },
   {
    "duration": 55,
    "start_time": "2022-04-14T09:12:14.406Z"
   },
   {
    "duration": 42,
    "start_time": "2022-04-14T09:12:14.463Z"
   },
   {
    "duration": 72,
    "start_time": "2022-04-14T09:12:14.507Z"
   },
   {
    "duration": 26,
    "start_time": "2022-04-14T09:12:14.581Z"
   },
   {
    "duration": 14,
    "start_time": "2022-04-14T09:12:14.610Z"
   },
   {
    "duration": 15,
    "start_time": "2022-04-14T09:12:14.652Z"
   },
   {
    "duration": 16,
    "start_time": "2022-04-14T09:12:14.669Z"
   },
   {
    "duration": 7,
    "start_time": "2022-04-14T09:12:14.687Z"
   },
   {
    "duration": 1911,
    "start_time": "2022-04-14T09:12:14.697Z"
   },
   {
    "duration": 1423,
    "start_time": "2022-04-14T09:12:16.610Z"
   },
   {
    "duration": 39,
    "start_time": "2022-04-14T09:12:18.036Z"
   },
   {
    "duration": 784,
    "start_time": "2022-04-14T09:12:18.077Z"
   },
   {
    "duration": 12,
    "start_time": "2022-04-14T09:12:18.863Z"
   },
   {
    "duration": 12,
    "start_time": "2022-04-14T09:12:18.877Z"
   },
   {
    "duration": 1091,
    "start_time": "2022-04-14T09:12:18.892Z"
   },
   {
    "duration": 12,
    "start_time": "2022-04-14T09:12:19.985Z"
   },
   {
    "duration": 19,
    "start_time": "2022-04-14T09:15:13.158Z"
   },
   {
    "duration": 25,
    "start_time": "2022-04-14T09:17:27.764Z"
   },
   {
    "duration": 9,
    "start_time": "2022-04-14T09:19:34.632Z"
   },
   {
    "duration": 9,
    "start_time": "2022-04-14T09:19:55.069Z"
   },
   {
    "duration": 73,
    "start_time": "2022-04-23T06:38:58.316Z"
   },
   {
    "duration": 9,
    "start_time": "2022-04-23T06:41:49.331Z"
   },
   {
    "duration": 1788,
    "start_time": "2022-04-23T06:42:42.256Z"
   },
   {
    "duration": 510,
    "start_time": "2022-04-23T06:42:44.047Z"
   },
   {
    "duration": 48,
    "start_time": "2022-04-23T06:42:44.559Z"
   },
   {
    "duration": 38,
    "start_time": "2022-04-23T06:42:44.610Z"
   },
   {
    "duration": 15,
    "start_time": "2022-04-23T06:42:44.651Z"
   },
   {
    "duration": 33,
    "start_time": "2022-04-23T06:42:44.694Z"
   },
   {
    "duration": 29,
    "start_time": "2022-04-23T06:42:44.729Z"
   },
   {
    "duration": 62,
    "start_time": "2022-04-23T06:42:44.761Z"
   },
   {
    "duration": 61,
    "start_time": "2022-04-23T06:42:45.605Z"
   },
   {
    "duration": 20,
    "start_time": "2022-04-23T06:42:46.757Z"
   },
   {
    "duration": 82,
    "start_time": "2022-04-23T06:42:47.447Z"
   },
   {
    "duration": 66,
    "start_time": "2022-04-23T06:42:47.925Z"
   },
   {
    "duration": 49,
    "start_time": "2022-04-23T06:42:48.324Z"
   },
   {
    "duration": 21,
    "start_time": "2022-04-23T06:42:48.557Z"
   },
   {
    "duration": 142,
    "start_time": "2022-04-23T06:42:49.101Z"
   },
   {
    "duration": 46,
    "start_time": "2022-04-23T06:43:11.524Z"
   },
   {
    "duration": 42,
    "start_time": "2022-04-23T06:43:17.319Z"
   },
   {
    "duration": 42,
    "start_time": "2022-04-23T06:43:28.117Z"
   },
   {
    "duration": 43,
    "start_time": "2022-04-23T06:43:35.631Z"
   },
   {
    "duration": 11,
    "start_time": "2022-04-23T06:59:22.857Z"
   },
   {
    "duration": 4,
    "start_time": "2022-04-23T06:59:32.009Z"
   },
   {
    "duration": 579,
    "start_time": "2022-04-23T06:59:32.937Z"
   },
   {
    "duration": 42,
    "start_time": "2022-04-23T06:59:33.519Z"
   },
   {
    "duration": 38,
    "start_time": "2022-04-23T06:59:33.563Z"
   },
   {
    "duration": 10,
    "start_time": "2022-04-23T06:59:33.651Z"
   },
   {
    "duration": 34,
    "start_time": "2022-04-23T06:59:33.760Z"
   },
   {
    "duration": 23,
    "start_time": "2022-04-23T06:59:34.017Z"
   },
   {
    "duration": 27,
    "start_time": "2022-04-23T06:59:34.281Z"
   },
   {
    "duration": 43,
    "start_time": "2022-04-23T06:59:35.497Z"
   },
   {
    "duration": 15,
    "start_time": "2022-04-23T06:59:35.777Z"
   },
   {
    "duration": 72,
    "start_time": "2022-04-23T06:59:36.193Z"
   },
   {
    "duration": 67,
    "start_time": "2022-04-23T06:59:36.473Z"
   },
   {
    "duration": 43,
    "start_time": "2022-04-23T06:59:36.752Z"
   },
   {
    "duration": 20,
    "start_time": "2022-04-23T06:59:36.890Z"
   },
   {
    "duration": 46,
    "start_time": "2022-04-23T06:59:37.167Z"
   },
   {
    "duration": 41,
    "start_time": "2022-04-23T06:59:37.625Z"
   },
   {
    "duration": 38,
    "start_time": "2022-04-23T06:59:37.876Z"
   },
   {
    "duration": 15,
    "start_time": "2022-04-23T06:59:38.153Z"
   },
   {
    "duration": 58,
    "start_time": "2022-04-23T06:59:38.729Z"
   },
   {
    "duration": 52,
    "start_time": "2022-04-23T06:59:39.057Z"
   },
   {
    "duration": 38,
    "start_time": "2022-04-23T06:59:40.103Z"
   },
   {
    "duration": 20,
    "start_time": "2022-04-23T06:59:40.465Z"
   },
   {
    "duration": 42,
    "start_time": "2022-04-23T06:59:40.889Z"
   },
   {
    "duration": 32,
    "start_time": "2022-04-23T06:59:41.463Z"
   },
   {
    "duration": 49,
    "start_time": "2022-04-23T06:59:41.776Z"
   },
   {
    "duration": 44,
    "start_time": "2022-04-23T06:59:42.111Z"
   },
   {
    "duration": 28,
    "start_time": "2022-04-23T06:59:42.279Z"
   },
   {
    "duration": 17,
    "start_time": "2022-04-23T06:59:42.615Z"
   },
   {
    "duration": 40,
    "start_time": "2022-04-23T06:59:42.936Z"
   },
   {
    "duration": 22,
    "start_time": "2022-04-23T06:59:43.536Z"
   },
   {
    "duration": 26,
    "start_time": "2022-04-23T06:59:43.800Z"
   },
   {
    "duration": 28,
    "start_time": "2022-04-23T06:59:44.208Z"
   },
   {
    "duration": 45,
    "start_time": "2022-04-23T06:59:44.480Z"
   },
   {
    "duration": 34,
    "start_time": "2022-04-23T06:59:44.752Z"
   },
   {
    "duration": 46,
    "start_time": "2022-04-23T06:59:45.192Z"
   },
   {
    "duration": 29,
    "start_time": "2022-04-23T06:59:48.626Z"
   },
   {
    "duration": 45,
    "start_time": "2022-04-23T07:00:30.525Z"
   },
   {
    "duration": 45,
    "start_time": "2022-04-23T07:00:52.882Z"
   },
   {
    "duration": 48,
    "start_time": "2022-04-23T07:03:11.211Z"
   },
   {
    "duration": 5,
    "start_time": "2022-04-23T07:03:58.586Z"
   },
   {
    "duration": 519,
    "start_time": "2022-04-23T07:03:59.794Z"
   },
   {
    "duration": 40,
    "start_time": "2022-04-23T07:04:00.433Z"
   },
   {
    "duration": 36,
    "start_time": "2022-04-23T07:04:00.524Z"
   },
   {
    "duration": 9,
    "start_time": "2022-04-23T07:04:00.612Z"
   },
   {
    "duration": 31,
    "start_time": "2022-04-23T07:04:00.660Z"
   },
   {
    "duration": 25,
    "start_time": "2022-04-23T07:04:00.898Z"
   },
   {
    "duration": 30,
    "start_time": "2022-04-23T07:04:01.194Z"
   },
   {
    "duration": 41,
    "start_time": "2022-04-23T07:04:02.456Z"
   },
   {
    "duration": 16,
    "start_time": "2022-04-23T07:04:02.721Z"
   },
   {
    "duration": 73,
    "start_time": "2022-04-23T07:04:03.074Z"
   },
   {
    "duration": 68,
    "start_time": "2022-04-23T07:04:03.364Z"
   },
   {
    "duration": 44,
    "start_time": "2022-04-23T07:04:03.645Z"
   },
   {
    "duration": 20,
    "start_time": "2022-04-23T07:04:03.808Z"
   },
   {
    "duration": 46,
    "start_time": "2022-04-23T07:04:04.113Z"
   },
   {
    "duration": 43,
    "start_time": "2022-04-23T07:04:04.577Z"
   },
   {
    "duration": 39,
    "start_time": "2022-04-23T07:04:04.859Z"
   },
   {
    "duration": 14,
    "start_time": "2022-04-23T07:04:05.091Z"
   },
   {
    "duration": 61,
    "start_time": "2022-04-23T07:04:05.602Z"
   },
   {
    "duration": 55,
    "start_time": "2022-04-23T07:04:05.867Z"
   },
   {
    "duration": 38,
    "start_time": "2022-04-23T07:04:06.135Z"
   },
   {
    "duration": 19,
    "start_time": "2022-04-23T07:04:06.409Z"
   },
   {
    "duration": 43,
    "start_time": "2022-04-23T07:04:06.681Z"
   },
   {
    "duration": 33,
    "start_time": "2022-04-23T07:04:07.089Z"
   },
   {
    "duration": 52,
    "start_time": "2022-04-23T07:04:07.381Z"
   },
   {
    "duration": 46,
    "start_time": "2022-04-23T07:04:07.657Z"
   },
   {
    "duration": 29,
    "start_time": "2022-04-23T07:04:07.801Z"
   },
   {
    "duration": 17,
    "start_time": "2022-04-23T07:04:08.097Z"
   },
   {
    "duration": 41,
    "start_time": "2022-04-23T07:04:08.376Z"
   },
   {
    "duration": 22,
    "start_time": "2022-04-23T07:04:08.946Z"
   },
   {
    "duration": 26,
    "start_time": "2022-04-23T07:04:09.235Z"
   },
   {
    "duration": 27,
    "start_time": "2022-04-23T07:04:09.658Z"
   },
   {
    "duration": 41,
    "start_time": "2022-04-23T07:04:09.938Z"
   },
   {
    "duration": 33,
    "start_time": "2022-04-23T07:04:10.234Z"
   },
   {
    "duration": 46,
    "start_time": "2022-04-23T07:04:10.658Z"
   },
   {
    "duration": 46,
    "start_time": "2022-04-23T07:04:11.669Z"
   },
   {
    "duration": 24,
    "start_time": "2022-04-23T07:04:16.361Z"
   },
   {
    "duration": 14,
    "start_time": "2022-04-23T07:04:19.993Z"
   },
   {
    "duration": 13,
    "start_time": "2022-04-23T07:04:20.617Z"
   },
   {
    "duration": 13,
    "start_time": "2022-04-23T07:04:21.361Z"
   },
   {
    "duration": 4,
    "start_time": "2022-04-23T07:04:21.776Z"
   },
   {
    "duration": 1901,
    "start_time": "2022-04-23T07:04:25.877Z"
   },
   {
    "duration": 1573,
    "start_time": "2022-04-23T07:04:27.781Z"
   },
   {
    "duration": 29,
    "start_time": "2022-04-23T07:04:31.051Z"
   },
   {
    "duration": 842,
    "start_time": "2022-04-23T07:04:32.340Z"
   },
   {
    "duration": 12,
    "start_time": "2022-04-23T07:04:33.503Z"
   },
   {
    "duration": 13,
    "start_time": "2022-04-23T07:07:25.626Z"
   },
   {
    "duration": 23,
    "start_time": "2022-04-23T07:08:52.098Z"
   },
   {
    "duration": 19,
    "start_time": "2022-04-23T07:09:05.299Z"
   },
   {
    "duration": 16,
    "start_time": "2022-04-23T07:10:25.706Z"
   },
   {
    "duration": 13,
    "start_time": "2022-04-23T07:10:36.514Z"
   },
   {
    "duration": 65,
    "start_time": "2022-04-23T07:13:01.844Z"
   },
   {
    "duration": 780,
    "start_time": "2022-04-23T07:13:13.822Z"
   },
   {
    "duration": 12,
    "start_time": "2022-04-23T07:13:16.489Z"
   },
   {
    "duration": 13,
    "start_time": "2022-04-23T07:13:53.298Z"
   },
   {
    "duration": 13,
    "start_time": "2022-04-23T07:14:54.803Z"
   },
   {
    "duration": 12,
    "start_time": "2022-04-23T07:15:04.893Z"
   },
   {
    "duration": 13,
    "start_time": "2022-04-23T07:16:33.201Z"
   },
   {
    "duration": 1202,
    "start_time": "2022-04-23T07:16:33.966Z"
   },
   {
    "duration": 13,
    "start_time": "2022-04-23T07:16:36.259Z"
   },
   {
    "duration": 13,
    "start_time": "2022-04-23T07:17:22.787Z"
   },
   {
    "duration": 1413,
    "start_time": "2022-04-24T08:32:06.596Z"
   },
   {
    "duration": 408,
    "start_time": "2022-04-24T08:32:08.012Z"
   },
   {
    "duration": 53,
    "start_time": "2022-04-24T08:32:08.422Z"
   },
   {
    "duration": 28,
    "start_time": "2022-04-24T08:32:08.477Z"
   },
   {
    "duration": 9,
    "start_time": "2022-04-24T08:32:08.507Z"
   },
   {
    "duration": 57,
    "start_time": "2022-04-24T08:32:08.519Z"
   },
   {
    "duration": 22,
    "start_time": "2022-04-24T08:32:08.578Z"
   },
   {
    "duration": 27,
    "start_time": "2022-04-24T08:32:08.602Z"
   },
   {
    "duration": 65,
    "start_time": "2022-04-24T08:32:08.631Z"
   },
   {
    "duration": 11,
    "start_time": "2022-04-24T08:32:08.699Z"
   },
   {
    "duration": 95,
    "start_time": "2022-04-24T08:32:08.712Z"
   },
   {
    "duration": 73,
    "start_time": "2022-04-24T08:32:08.809Z"
   },
   {
    "duration": 55,
    "start_time": "2022-04-24T08:32:08.884Z"
   },
   {
    "duration": 47,
    "start_time": "2022-04-24T08:32:08.941Z"
   },
   {
    "duration": 81,
    "start_time": "2022-04-24T08:32:08.990Z"
   },
   {
    "duration": 30,
    "start_time": "2022-04-24T08:32:09.075Z"
   },
   {
    "duration": 28,
    "start_time": "2022-04-24T08:32:09.106Z"
   },
   {
    "duration": 16,
    "start_time": "2022-04-24T08:32:09.162Z"
   },
   {
    "duration": 88,
    "start_time": "2022-04-24T08:32:09.181Z"
   },
   {
    "duration": 38,
    "start_time": "2022-04-24T08:32:09.272Z"
   },
   {
    "duration": 48,
    "start_time": "2022-04-24T08:32:09.312Z"
   },
   {
    "duration": 16,
    "start_time": "2022-04-24T08:32:09.362Z"
   },
   {
    "duration": 38,
    "start_time": "2022-04-24T08:32:09.379Z"
   },
   {
    "duration": 49,
    "start_time": "2022-04-24T08:32:09.418Z"
   },
   {
    "duration": 41,
    "start_time": "2022-04-24T08:32:09.469Z"
   },
   {
    "duration": 57,
    "start_time": "2022-04-24T08:32:09.511Z"
   },
   {
    "duration": 30,
    "start_time": "2022-04-24T08:32:09.570Z"
   },
   {
    "duration": 17,
    "start_time": "2022-04-24T08:32:09.605Z"
   },
   {
    "duration": 69,
    "start_time": "2022-04-24T08:32:09.624Z"
   },
   {
    "duration": 23,
    "start_time": "2022-04-24T08:32:09.695Z"
   },
   {
    "duration": 47,
    "start_time": "2022-04-24T08:32:09.720Z"
   },
   {
    "duration": 37,
    "start_time": "2022-04-24T08:32:09.769Z"
   },
   {
    "duration": 53,
    "start_time": "2022-04-24T08:32:09.808Z"
   },
   {
    "duration": 26,
    "start_time": "2022-04-24T08:32:09.867Z"
   },
   {
    "duration": 29,
    "start_time": "2022-04-24T08:32:09.895Z"
   },
   {
    "duration": 52,
    "start_time": "2022-04-24T08:32:09.926Z"
   },
   {
    "duration": 16,
    "start_time": "2022-04-24T08:32:09.979Z"
   },
   {
    "duration": 10,
    "start_time": "2022-04-24T08:32:09.997Z"
   },
   {
    "duration": 12,
    "start_time": "2022-04-24T08:32:10.009Z"
   },
   {
    "duration": 12,
    "start_time": "2022-04-24T08:32:10.060Z"
   },
   {
    "duration": 13,
    "start_time": "2022-04-24T08:32:10.073Z"
   },
   {
    "duration": 1111,
    "start_time": "2022-04-24T08:32:10.088Z"
   },
   {
    "duration": 1472,
    "start_time": "2022-04-24T08:32:11.201Z"
   },
   {
    "duration": 41,
    "start_time": "2022-04-24T08:32:12.676Z"
   },
   {
    "duration": 871,
    "start_time": "2022-04-24T08:32:12.718Z"
   },
   {
    "duration": 13,
    "start_time": "2022-04-24T08:32:13.591Z"
   },
   {
    "duration": 15,
    "start_time": "2022-04-24T08:32:13.607Z"
   },
   {
    "duration": 727,
    "start_time": "2022-04-24T08:32:13.624Z"
   },
   {
    "duration": 11,
    "start_time": "2022-04-24T08:32:14.358Z"
   },
   {
    "duration": 14,
    "start_time": "2022-04-24T08:35:32.278Z"
   },
   {
    "duration": 1291,
    "start_time": "2022-04-25T09:00:04.827Z"
   },
   {
    "duration": 405,
    "start_time": "2022-04-25T09:00:06.120Z"
   },
   {
    "duration": 33,
    "start_time": "2022-04-25T09:00:06.527Z"
   },
   {
    "duration": 26,
    "start_time": "2022-04-25T09:00:06.562Z"
   },
   {
    "duration": 11,
    "start_time": "2022-04-25T09:00:06.589Z"
   },
   {
    "duration": 30,
    "start_time": "2022-04-25T09:00:06.602Z"
   },
   {
    "duration": 13,
    "start_time": "2022-04-25T09:00:06.634Z"
   },
   {
    "duration": 18,
    "start_time": "2022-04-25T09:00:06.649Z"
   },
   {
    "duration": 40,
    "start_time": "2022-04-25T09:00:06.668Z"
   },
   {
    "duration": 10,
    "start_time": "2022-04-25T09:00:06.710Z"
   },
   {
    "duration": 50,
    "start_time": "2022-04-25T09:00:06.722Z"
   },
   {
    "duration": 68,
    "start_time": "2022-04-25T09:00:06.773Z"
   },
   {
    "duration": 32,
    "start_time": "2022-04-25T09:00:06.843Z"
   },
   {
    "duration": 24,
    "start_time": "2022-04-25T09:00:06.877Z"
   },
   {
    "duration": 45,
    "start_time": "2022-04-25T09:00:06.902Z"
   },
   {
    "duration": 26,
    "start_time": "2022-04-25T09:00:06.949Z"
   },
   {
    "duration": 42,
    "start_time": "2022-04-25T09:00:06.976Z"
   },
   {
    "duration": 8,
    "start_time": "2022-04-25T09:00:07.020Z"
   },
   {
    "duration": 41,
    "start_time": "2022-04-25T09:00:07.029Z"
   },
   {
    "duration": 56,
    "start_time": "2022-04-25T09:00:07.072Z"
   },
   {
    "duration": 27,
    "start_time": "2022-04-25T09:00:07.130Z"
   },
   {
    "duration": 13,
    "start_time": "2022-04-25T09:00:07.158Z"
   },
   {
    "duration": 67,
    "start_time": "2022-04-25T09:00:07.173Z"
   },
   {
    "duration": 45,
    "start_time": "2022-04-25T09:00:07.242Z"
   },
   {
    "duration": 44,
    "start_time": "2022-04-25T09:00:07.289Z"
   },
   {
    "duration": 31,
    "start_time": "2022-04-25T09:00:07.334Z"
   },
   {
    "duration": 37,
    "start_time": "2022-04-25T09:00:07.366Z"
   },
   {
    "duration": 11,
    "start_time": "2022-04-25T09:00:07.407Z"
   },
   {
    "duration": 30,
    "start_time": "2022-04-25T09:00:07.419Z"
   },
   {
    "duration": 14,
    "start_time": "2022-04-25T09:00:07.451Z"
   },
   {
    "duration": 44,
    "start_time": "2022-04-25T09:00:07.467Z"
   },
   {
    "duration": 18,
    "start_time": "2022-04-25T09:00:07.512Z"
   },
   {
    "duration": 30,
    "start_time": "2022-04-25T09:00:07.531Z"
   },
   {
    "duration": 46,
    "start_time": "2022-04-25T09:00:07.562Z"
   },
   {
    "duration": 28,
    "start_time": "2022-04-25T09:00:07.610Z"
   },
   {
    "duration": 26,
    "start_time": "2022-04-25T09:00:07.639Z"
   },
   {
    "duration": 34,
    "start_time": "2022-04-25T09:00:07.667Z"
   },
   {
    "duration": 8,
    "start_time": "2022-04-25T09:00:07.703Z"
   },
   {
    "duration": 10,
    "start_time": "2022-04-25T09:00:07.713Z"
   },
   {
    "duration": 14,
    "start_time": "2022-04-25T09:00:07.725Z"
   },
   {
    "duration": 11,
    "start_time": "2022-04-25T09:00:07.740Z"
   },
   {
    "duration": 1064,
    "start_time": "2022-04-25T09:00:07.752Z"
   },
   {
    "duration": 895,
    "start_time": "2022-04-25T09:00:08.818Z"
   },
   {
    "duration": 39,
    "start_time": "2022-04-25T09:00:09.715Z"
   },
   {
    "duration": 444,
    "start_time": "2022-04-25T09:00:09.756Z"
   },
   {
    "duration": 9,
    "start_time": "2022-04-25T09:00:10.202Z"
   },
   {
    "duration": 10,
    "start_time": "2022-04-25T09:00:10.213Z"
   },
   {
    "duration": 631,
    "start_time": "2022-04-25T09:00:10.225Z"
   },
   {
    "duration": 10,
    "start_time": "2022-04-25T09:00:10.858Z"
   },
   {
    "duration": 16,
    "start_time": "2022-04-25T09:00:19.853Z"
   },
   {
    "duration": 6,
    "start_time": "2022-04-25T09:02:32.185Z"
   },
   {
    "duration": 5,
    "start_time": "2022-04-25T09:02:43.718Z"
   },
   {
    "duration": 4,
    "start_time": "2022-04-25T09:02:55.460Z"
   },
   {
    "duration": 4,
    "start_time": "2022-04-25T09:03:00.381Z"
   },
   {
    "duration": 4,
    "start_time": "2022-04-25T09:05:20.389Z"
   },
   {
    "duration": 6,
    "start_time": "2022-04-25T09:05:29.534Z"
   },
   {
    "duration": 6,
    "start_time": "2022-04-25T09:05:45.525Z"
   },
   {
    "duration": 6,
    "start_time": "2022-04-25T09:06:43.109Z"
   },
   {
    "duration": 6,
    "start_time": "2022-04-25T09:07:00.153Z"
   },
   {
    "duration": 6,
    "start_time": "2022-04-25T09:07:15.174Z"
   },
   {
    "duration": 88,
    "start_time": "2022-04-25T09:29:50.014Z"
   },
   {
    "duration": 12,
    "start_time": "2022-04-25T09:30:06.400Z"
   },
   {
    "duration": 16,
    "start_time": "2022-04-25T09:30:35.801Z"
   },
   {
    "duration": 11,
    "start_time": "2022-04-25T09:30:43.023Z"
   },
   {
    "duration": 11,
    "start_time": "2022-04-25T09:31:05.449Z"
   },
   {
    "duration": 5,
    "start_time": "2022-04-25T09:31:40.176Z"
   },
   {
    "duration": 13,
    "start_time": "2022-04-25T09:32:18.201Z"
   },
   {
    "duration": 3277,
    "start_time": "2022-04-25T09:32:46.920Z"
   },
   {
    "duration": 7,
    "start_time": "2022-04-25T09:33:06.012Z"
   },
   {
    "duration": 21,
    "start_time": "2022-04-25T09:35:30.888Z"
   },
   {
    "duration": 3064,
    "start_time": "2022-04-25T09:44:13.602Z"
   },
   {
    "duration": 3521,
    "start_time": "2022-04-25T09:45:06.437Z"
   },
   {
    "duration": 26,
    "start_time": "2022-04-25T09:45:13.868Z"
   },
   {
    "duration": 5,
    "start_time": "2022-04-25T09:45:37.339Z"
   },
   {
    "duration": 1110,
    "start_time": "2022-04-25T09:45:59.002Z"
   },
   {
    "duration": 2188,
    "start_time": "2022-04-25T09:46:40.692Z"
   },
   {
    "duration": 2362,
    "start_time": "2022-04-25T09:47:13.876Z"
   },
   {
    "duration": 5794,
    "start_time": "2022-04-25T09:47:23.877Z"
   },
   {
    "duration": 1250,
    "start_time": "2022-04-26T08:44:04.835Z"
   },
   {
    "duration": 413,
    "start_time": "2022-04-26T08:44:06.087Z"
   },
   {
    "duration": 34,
    "start_time": "2022-04-26T08:44:06.502Z"
   },
   {
    "duration": 26,
    "start_time": "2022-04-26T08:44:06.538Z"
   },
   {
    "duration": 9,
    "start_time": "2022-04-26T08:44:06.565Z"
   },
   {
    "duration": 43,
    "start_time": "2022-04-26T08:44:06.576Z"
   },
   {
    "duration": 14,
    "start_time": "2022-04-26T08:44:06.620Z"
   },
   {
    "duration": 17,
    "start_time": "2022-04-26T08:44:06.635Z"
   },
   {
    "duration": 52,
    "start_time": "2022-04-26T08:44:06.654Z"
   },
   {
    "duration": 10,
    "start_time": "2022-04-26T08:44:06.709Z"
   },
   {
    "duration": 51,
    "start_time": "2022-04-26T08:44:06.721Z"
   },
   {
    "duration": 66,
    "start_time": "2022-04-26T08:44:06.774Z"
   },
   {
    "duration": 33,
    "start_time": "2022-04-26T08:44:06.841Z"
   },
   {
    "duration": 28,
    "start_time": "2022-04-26T08:44:06.876Z"
   },
   {
    "duration": 37,
    "start_time": "2022-04-26T08:44:06.906Z"
   },
   {
    "duration": 26,
    "start_time": "2022-04-26T08:44:06.945Z"
   },
   {
    "duration": 41,
    "start_time": "2022-04-26T08:44:06.972Z"
   },
   {
    "duration": 39,
    "start_time": "2022-04-26T08:44:07.015Z"
   },
   {
    "duration": 57,
    "start_time": "2022-04-26T08:44:07.056Z"
   },
   {
    "duration": 26,
    "start_time": "2022-04-26T08:44:07.114Z"
   },
   {
    "duration": 12,
    "start_time": "2022-04-26T08:44:07.142Z"
   },
   {
    "duration": 49,
    "start_time": "2022-04-26T08:44:07.156Z"
   },
   {
    "duration": 5457,
    "start_time": "2022-04-26T08:44:07.207Z"
   },
   {
    "duration": 23,
    "start_time": "2022-04-26T08:44:12.666Z"
   },
   {
    "duration": 34,
    "start_time": "2022-04-26T08:44:12.700Z"
   },
   {
    "duration": 29,
    "start_time": "2022-04-26T08:44:12.735Z"
   },
   {
    "duration": 43,
    "start_time": "2022-04-26T08:44:12.765Z"
   },
   {
    "duration": 10,
    "start_time": "2022-04-26T08:44:12.811Z"
   },
   {
    "duration": 29,
    "start_time": "2022-04-26T08:44:12.823Z"
   },
   {
    "duration": 13,
    "start_time": "2022-04-26T08:44:12.854Z"
   },
   {
    "duration": 45,
    "start_time": "2022-04-26T08:44:12.869Z"
   },
   {
    "duration": 16,
    "start_time": "2022-04-26T08:44:12.916Z"
   },
   {
    "duration": 26,
    "start_time": "2022-04-26T08:44:12.934Z"
   },
   {
    "duration": 50,
    "start_time": "2022-04-26T08:44:12.962Z"
   },
   {
    "duration": 27,
    "start_time": "2022-04-26T08:44:13.013Z"
   },
   {
    "duration": 13,
    "start_time": "2022-04-26T08:44:13.042Z"
   },
   {
    "duration": 12,
    "start_time": "2022-04-26T08:44:13.057Z"
   },
   {
    "duration": 43,
    "start_time": "2022-04-26T08:44:13.071Z"
   },
   {
    "duration": 8,
    "start_time": "2022-04-26T08:44:13.116Z"
   },
   {
    "duration": 10,
    "start_time": "2022-04-26T08:44:13.126Z"
   },
   {
    "duration": 9,
    "start_time": "2022-04-26T08:44:13.138Z"
   },
   {
    "duration": 4,
    "start_time": "2022-04-26T08:44:13.149Z"
   },
   {
    "duration": 1071,
    "start_time": "2022-04-26T08:44:13.155Z"
   },
   {
    "duration": 813,
    "start_time": "2022-04-26T08:44:14.228Z"
   },
   {
    "duration": 35,
    "start_time": "2022-04-26T08:44:15.043Z"
   },
   {
    "duration": 442,
    "start_time": "2022-04-26T08:44:15.079Z"
   },
   {
    "duration": 8,
    "start_time": "2022-04-26T08:44:15.523Z"
   },
   {
    "duration": 9,
    "start_time": "2022-04-26T08:44:15.533Z"
   },
   {
    "duration": 632,
    "start_time": "2022-04-26T08:44:15.543Z"
   },
   {
    "duration": 23,
    "start_time": "2022-04-26T08:44:16.177Z"
   },
   {
    "duration": 1359,
    "start_time": "2022-07-25T17:22:03.995Z"
   },
   {
    "duration": 1137,
    "start_time": "2022-07-25T17:22:05.356Z"
   },
   {
    "duration": 39,
    "start_time": "2022-07-25T17:22:06.495Z"
   },
   {
    "duration": 34,
    "start_time": "2022-07-25T17:22:06.535Z"
   },
   {
    "duration": 9,
    "start_time": "2022-07-25T17:22:06.570Z"
   },
   {
    "duration": 46,
    "start_time": "2022-07-25T17:22:06.581Z"
   },
   {
    "duration": 16,
    "start_time": "2022-07-25T17:22:06.629Z"
   },
   {
    "duration": 22,
    "start_time": "2022-07-25T17:22:06.646Z"
   },
   {
    "duration": 56,
    "start_time": "2022-07-25T17:22:06.669Z"
   },
   {
    "duration": 12,
    "start_time": "2022-07-25T17:22:06.728Z"
   },
   {
    "duration": 79,
    "start_time": "2022-07-25T17:22:06.742Z"
   },
   {
    "duration": 58,
    "start_time": "2022-07-25T17:22:06.822Z"
   },
   {
    "duration": 56,
    "start_time": "2022-07-25T17:22:06.882Z"
   },
   {
    "duration": 14,
    "start_time": "2022-07-25T17:22:06.940Z"
   },
   {
    "duration": 64,
    "start_time": "2022-07-25T17:22:06.956Z"
   },
   {
    "duration": 31,
    "start_time": "2022-07-25T17:22:07.022Z"
   },
   {
    "duration": 31,
    "start_time": "2022-07-25T17:22:07.054Z"
   },
   {
    "duration": 67,
    "start_time": "2022-07-25T17:22:07.087Z"
   },
   {
    "duration": 56,
    "start_time": "2022-07-25T17:22:07.156Z"
   },
   {
    "duration": 30,
    "start_time": "2022-07-25T17:22:07.215Z"
   },
   {
    "duration": 15,
    "start_time": "2022-07-25T17:22:07.247Z"
   },
   {
    "duration": 63,
    "start_time": "2022-07-25T17:22:07.264Z"
   },
   {
    "duration": 7346,
    "start_time": "2022-07-25T17:22:07.329Z"
   },
   {
    "duration": 35,
    "start_time": "2022-07-25T17:22:14.677Z"
   },
   {
    "duration": 41,
    "start_time": "2022-07-25T17:22:14.714Z"
   },
   {
    "duration": 55,
    "start_time": "2022-07-25T17:22:14.756Z"
   },
   {
    "duration": 27,
    "start_time": "2022-07-25T17:22:14.813Z"
   },
   {
    "duration": 12,
    "start_time": "2022-07-25T17:22:14.843Z"
   },
   {
    "duration": 54,
    "start_time": "2022-07-25T17:22:14.857Z"
   },
   {
    "duration": 17,
    "start_time": "2022-07-25T17:22:14.913Z"
   },
   {
    "duration": 20,
    "start_time": "2022-07-25T17:22:14.931Z"
   },
   {
    "duration": 23,
    "start_time": "2022-07-25T17:22:14.953Z"
   },
   {
    "duration": 61,
    "start_time": "2022-07-25T17:22:14.978Z"
   },
   {
    "duration": 28,
    "start_time": "2022-07-25T17:22:15.042Z"
   },
   {
    "duration": 62,
    "start_time": "2022-07-25T17:22:15.072Z"
   },
   {
    "duration": 19,
    "start_time": "2022-07-25T17:22:15.136Z"
   },
   {
    "duration": 17,
    "start_time": "2022-07-25T17:22:15.157Z"
   },
   {
    "duration": 50,
    "start_time": "2022-07-25T17:22:15.176Z"
   },
   {
    "duration": 11,
    "start_time": "2022-07-25T17:22:15.228Z"
   },
   {
    "duration": 13,
    "start_time": "2022-07-25T17:22:15.241Z"
   },
   {
    "duration": 18,
    "start_time": "2022-07-25T17:22:15.257Z"
   },
   {
    "duration": 6,
    "start_time": "2022-07-25T17:22:15.276Z"
   },
   {
    "duration": 1404,
    "start_time": "2022-07-25T17:22:15.284Z"
   },
   {
    "duration": 1049,
    "start_time": "2022-07-25T17:22:16.689Z"
   },
   {
    "duration": 54,
    "start_time": "2022-07-25T17:22:17.739Z"
   },
   {
    "duration": 654,
    "start_time": "2022-07-25T17:22:17.795Z"
   },
   {
    "duration": 12,
    "start_time": "2022-07-25T17:22:18.451Z"
   },
   {
    "duration": 13,
    "start_time": "2022-07-25T17:22:18.465Z"
   },
   {
    "duration": 815,
    "start_time": "2022-07-25T17:22:18.480Z"
   },
   {
    "duration": 19,
    "start_time": "2022-07-25T17:22:19.298Z"
   }
  ],
  "kernelspec": {
   "display_name": "Python 3 (ipykernel)",
   "language": "python",
   "name": "python3"
  },
  "language_info": {
   "codemirror_mode": {
    "name": "ipython",
    "version": 3
   },
   "file_extension": ".py",
   "mimetype": "text/x-python",
   "name": "python",
   "nbconvert_exporter": "python",
   "pygments_lexer": "ipython3",
   "version": "3.9.5"
  },
  "toc": {
   "base_numbering": 1,
   "nav_menu": {},
   "number_sections": false,
   "sideBar": true,
   "skip_h1_title": false,
   "title_cell": "Table of Contents",
   "title_sidebar": "Contents",
   "toc_cell": false,
   "toc_position": {
    "height": "calc(100% - 180px)",
    "left": "10px",
    "top": "150px",
    "width": "256px"
   },
   "toc_section_display": true,
   "toc_window_display": true
  }
 },
 "nbformat": 4,
 "nbformat_minor": 2
}
