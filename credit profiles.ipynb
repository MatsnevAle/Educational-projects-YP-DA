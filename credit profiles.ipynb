{
 "cells": [
  {
   "cell_type": "markdown",
   "id": "a481b2b1",
   "metadata": {},
   "source": [
    "# Исследование надежности заемщиков. <a id='intro'></a>"
   ]
  },
  {
   "cell_type": "markdown",
   "id": "b8a08139",
   "metadata": {},
   "source": [
    "### Данные"
   ]
  },
  {
   "cell_type": "markdown",
   "id": "224f4b1a",
   "metadata": {},
   "source": [
    "В наличии были следующие данные клиентах банка:\n",
    "\n",
    "- `children` — количество детей в семье;\n",
    "- `days_employed` — общий трудовой стаж в днях;\n",
    "- `dob_years` — возраст клиента в годах;\n",
    "- `education` — уровень образования клиента;\n",
    "- `education_id` — идентификатор уровня образования;\n",
    "- `family_status` — семейное положение;\n",
    "- `family_status_id` — идентификатор семейного положения;\n",
    "- `gender` — пол клиента;\n",
    "- `income_type` — тип занятости;\n",
    "- `debt` — имел ли задолженность по возврату кредитов;\n",
    "- `total_income` — ежемесячный доход;\n",
    "- `purpose` — цель получения кредита;"
   ]
  },
  {
   "cell_type": "markdown",
   "id": "2e23bf12",
   "metadata": {},
   "source": [
    "## Получение данных"
   ]
  },
  {
   "cell_type": "markdown",
   "id": "4427ad64",
   "metadata": {},
   "source": [
    "### Чтение файла"
   ]
  },
  {
   "cell_type": "markdown",
   "id": "1b4622e0",
   "metadata": {},
   "source": [
    "Импортируем библиотеку `pandas` и прочитаем файл /datasets/data.csv и сохраним его в переменной `df`:"
   ]
  },
  {
   "cell_type": "code",
   "execution_count": 1,
   "id": "52607fe9",
   "metadata": {},
   "outputs": [],
   "source": [
    "import pandas as pd\n",
    "import matplotlib.pyplot as plt\n",
    "import random\n",
    "import warnings\n",
    "warnings.simplefilter(\"ignore\")"
   ]
  },
  {
   "cell_type": "code",
   "execution_count": 2,
   "id": "0b8ab804",
   "metadata": {},
   "outputs": [],
   "source": [
    "df = pd.read_csv('/datasets/data.csv')"
   ]
  },
  {
   "cell_type": "markdown",
   "id": "c473724d",
   "metadata": {},
   "source": [
    "Получим общую информацию о таблице:"
   ]
  },
  {
   "cell_type": "code",
   "execution_count": 3,
   "id": "a16beaf5",
   "metadata": {},
   "outputs": [
    {
     "name": "stdout",
     "output_type": "stream",
     "text": [
      "<class 'pandas.core.frame.DataFrame'>\n",
      "RangeIndex: 21525 entries, 0 to 21524\n",
      "Data columns (total 12 columns):\n",
      " #   Column            Non-Null Count  Dtype  \n",
      "---  ------            --------------  -----  \n",
      " 0   children          21525 non-null  int64  \n",
      " 1   days_employed     19351 non-null  float64\n",
      " 2   dob_years         21525 non-null  int64  \n",
      " 3   education         21525 non-null  object \n",
      " 4   education_id      21525 non-null  int64  \n",
      " 5   family_status     21525 non-null  object \n",
      " 6   family_status_id  21525 non-null  int64  \n",
      " 7   gender            21525 non-null  object \n",
      " 8   income_type       21525 non-null  object \n",
      " 9   debt              21525 non-null  int64  \n",
      " 10  total_income      19351 non-null  float64\n",
      " 11  purpose           21525 non-null  object \n",
      "dtypes: float64(2), int64(5), object(5)\n",
      "memory usage: 2.0+ MB\n"
     ]
    }
   ],
   "source": [
    "df.info()"
   ]
  },
  {
   "cell_type": "markdown",
   "id": "2e32238d",
   "metadata": {},
   "source": [
    "Посмотрим на разброс значений в датафрейме и на первые 5 строк датафрейма."
   ]
  },
  {
   "cell_type": "code",
   "execution_count": 4,
   "id": "5c2a98d8",
   "metadata": {
    "scrolled": true
   },
   "outputs": [
    {
     "data": {
      "text/html": [
       "<div>\n",
       "<style scoped>\n",
       "    .dataframe tbody tr th:only-of-type {\n",
       "        vertical-align: middle;\n",
       "    }\n",
       "\n",
       "    .dataframe tbody tr th {\n",
       "        vertical-align: top;\n",
       "    }\n",
       "\n",
       "    .dataframe thead th {\n",
       "        text-align: right;\n",
       "    }\n",
       "</style>\n",
       "<table border=\"1\" class=\"dataframe\">\n",
       "  <thead>\n",
       "    <tr style=\"text-align: right;\">\n",
       "      <th></th>\n",
       "      <th>children</th>\n",
       "      <th>days_employed</th>\n",
       "      <th>dob_years</th>\n",
       "      <th>education_id</th>\n",
       "      <th>family_status_id</th>\n",
       "      <th>debt</th>\n",
       "      <th>total_income</th>\n",
       "    </tr>\n",
       "  </thead>\n",
       "  <tbody>\n",
       "    <tr>\n",
       "      <th>count</th>\n",
       "      <td>21525.000000</td>\n",
       "      <td>19351.000000</td>\n",
       "      <td>21525.000000</td>\n",
       "      <td>21525.000000</td>\n",
       "      <td>21525.000000</td>\n",
       "      <td>21525.000000</td>\n",
       "      <td>1.935100e+04</td>\n",
       "    </tr>\n",
       "    <tr>\n",
       "      <th>mean</th>\n",
       "      <td>0.538908</td>\n",
       "      <td>63046.497661</td>\n",
       "      <td>43.293380</td>\n",
       "      <td>0.817236</td>\n",
       "      <td>0.972544</td>\n",
       "      <td>0.080883</td>\n",
       "      <td>1.674223e+05</td>\n",
       "    </tr>\n",
       "    <tr>\n",
       "      <th>std</th>\n",
       "      <td>1.381587</td>\n",
       "      <td>140827.311974</td>\n",
       "      <td>12.574584</td>\n",
       "      <td>0.548138</td>\n",
       "      <td>1.420324</td>\n",
       "      <td>0.272661</td>\n",
       "      <td>1.029716e+05</td>\n",
       "    </tr>\n",
       "    <tr>\n",
       "      <th>min</th>\n",
       "      <td>-1.000000</td>\n",
       "      <td>-18388.949901</td>\n",
       "      <td>0.000000</td>\n",
       "      <td>0.000000</td>\n",
       "      <td>0.000000</td>\n",
       "      <td>0.000000</td>\n",
       "      <td>2.066726e+04</td>\n",
       "    </tr>\n",
       "    <tr>\n",
       "      <th>25%</th>\n",
       "      <td>0.000000</td>\n",
       "      <td>-2747.423625</td>\n",
       "      <td>33.000000</td>\n",
       "      <td>1.000000</td>\n",
       "      <td>0.000000</td>\n",
       "      <td>0.000000</td>\n",
       "      <td>1.030532e+05</td>\n",
       "    </tr>\n",
       "    <tr>\n",
       "      <th>50%</th>\n",
       "      <td>0.000000</td>\n",
       "      <td>-1203.369529</td>\n",
       "      <td>42.000000</td>\n",
       "      <td>1.000000</td>\n",
       "      <td>0.000000</td>\n",
       "      <td>0.000000</td>\n",
       "      <td>1.450179e+05</td>\n",
       "    </tr>\n",
       "    <tr>\n",
       "      <th>75%</th>\n",
       "      <td>1.000000</td>\n",
       "      <td>-291.095954</td>\n",
       "      <td>53.000000</td>\n",
       "      <td>1.000000</td>\n",
       "      <td>1.000000</td>\n",
       "      <td>0.000000</td>\n",
       "      <td>2.034351e+05</td>\n",
       "    </tr>\n",
       "    <tr>\n",
       "      <th>max</th>\n",
       "      <td>20.000000</td>\n",
       "      <td>401755.400475</td>\n",
       "      <td>75.000000</td>\n",
       "      <td>4.000000</td>\n",
       "      <td>4.000000</td>\n",
       "      <td>1.000000</td>\n",
       "      <td>2.265604e+06</td>\n",
       "    </tr>\n",
       "  </tbody>\n",
       "</table>\n",
       "</div>"
      ],
      "text/plain": [
       "           children  days_employed     dob_years  education_id  \\\n",
       "count  21525.000000   19351.000000  21525.000000  21525.000000   \n",
       "mean       0.538908   63046.497661     43.293380      0.817236   \n",
       "std        1.381587  140827.311974     12.574584      0.548138   \n",
       "min       -1.000000  -18388.949901      0.000000      0.000000   \n",
       "25%        0.000000   -2747.423625     33.000000      1.000000   \n",
       "50%        0.000000   -1203.369529     42.000000      1.000000   \n",
       "75%        1.000000    -291.095954     53.000000      1.000000   \n",
       "max       20.000000  401755.400475     75.000000      4.000000   \n",
       "\n",
       "       family_status_id          debt  total_income  \n",
       "count      21525.000000  21525.000000  1.935100e+04  \n",
       "mean           0.972544      0.080883  1.674223e+05  \n",
       "std            1.420324      0.272661  1.029716e+05  \n",
       "min            0.000000      0.000000  2.066726e+04  \n",
       "25%            0.000000      0.000000  1.030532e+05  \n",
       "50%            0.000000      0.000000  1.450179e+05  \n",
       "75%            1.000000      0.000000  2.034351e+05  \n",
       "max            4.000000      1.000000  2.265604e+06  "
      ]
     },
     "execution_count": 4,
     "metadata": {},
     "output_type": "execute_result"
    }
   ],
   "source": [
    "df.describe()"
   ]
  },
  {
   "cell_type": "code",
   "execution_count": 5,
   "id": "5cb3621b",
   "metadata": {},
   "outputs": [
    {
     "data": {
      "text/html": [
       "<div>\n",
       "<style scoped>\n",
       "    .dataframe tbody tr th:only-of-type {\n",
       "        vertical-align: middle;\n",
       "    }\n",
       "\n",
       "    .dataframe tbody tr th {\n",
       "        vertical-align: top;\n",
       "    }\n",
       "\n",
       "    .dataframe thead th {\n",
       "        text-align: right;\n",
       "    }\n",
       "</style>\n",
       "<table border=\"1\" class=\"dataframe\">\n",
       "  <thead>\n",
       "    <tr style=\"text-align: right;\">\n",
       "      <th></th>\n",
       "      <th>children</th>\n",
       "      <th>days_employed</th>\n",
       "      <th>dob_years</th>\n",
       "      <th>education</th>\n",
       "      <th>education_id</th>\n",
       "      <th>family_status</th>\n",
       "      <th>family_status_id</th>\n",
       "      <th>gender</th>\n",
       "      <th>income_type</th>\n",
       "      <th>debt</th>\n",
       "      <th>total_income</th>\n",
       "      <th>purpose</th>\n",
       "    </tr>\n",
       "  </thead>\n",
       "  <tbody>\n",
       "    <tr>\n",
       "      <th>0</th>\n",
       "      <td>1</td>\n",
       "      <td>-8437.673028</td>\n",
       "      <td>42</td>\n",
       "      <td>высшее</td>\n",
       "      <td>0</td>\n",
       "      <td>женат / замужем</td>\n",
       "      <td>0</td>\n",
       "      <td>F</td>\n",
       "      <td>сотрудник</td>\n",
       "      <td>0</td>\n",
       "      <td>253875.639453</td>\n",
       "      <td>покупка жилья</td>\n",
       "    </tr>\n",
       "    <tr>\n",
       "      <th>1</th>\n",
       "      <td>1</td>\n",
       "      <td>-4024.803754</td>\n",
       "      <td>36</td>\n",
       "      <td>среднее</td>\n",
       "      <td>1</td>\n",
       "      <td>женат / замужем</td>\n",
       "      <td>0</td>\n",
       "      <td>F</td>\n",
       "      <td>сотрудник</td>\n",
       "      <td>0</td>\n",
       "      <td>112080.014102</td>\n",
       "      <td>приобретение автомобиля</td>\n",
       "    </tr>\n",
       "    <tr>\n",
       "      <th>2</th>\n",
       "      <td>0</td>\n",
       "      <td>-5623.422610</td>\n",
       "      <td>33</td>\n",
       "      <td>Среднее</td>\n",
       "      <td>1</td>\n",
       "      <td>женат / замужем</td>\n",
       "      <td>0</td>\n",
       "      <td>M</td>\n",
       "      <td>сотрудник</td>\n",
       "      <td>0</td>\n",
       "      <td>145885.952297</td>\n",
       "      <td>покупка жилья</td>\n",
       "    </tr>\n",
       "    <tr>\n",
       "      <th>3</th>\n",
       "      <td>3</td>\n",
       "      <td>-4124.747207</td>\n",
       "      <td>32</td>\n",
       "      <td>среднее</td>\n",
       "      <td>1</td>\n",
       "      <td>женат / замужем</td>\n",
       "      <td>0</td>\n",
       "      <td>M</td>\n",
       "      <td>сотрудник</td>\n",
       "      <td>0</td>\n",
       "      <td>267628.550329</td>\n",
       "      <td>дополнительное образование</td>\n",
       "    </tr>\n",
       "    <tr>\n",
       "      <th>4</th>\n",
       "      <td>0</td>\n",
       "      <td>340266.072047</td>\n",
       "      <td>53</td>\n",
       "      <td>среднее</td>\n",
       "      <td>1</td>\n",
       "      <td>гражданский брак</td>\n",
       "      <td>1</td>\n",
       "      <td>F</td>\n",
       "      <td>пенсионер</td>\n",
       "      <td>0</td>\n",
       "      <td>158616.077870</td>\n",
       "      <td>сыграть свадьбу</td>\n",
       "    </tr>\n",
       "  </tbody>\n",
       "</table>\n",
       "</div>"
      ],
      "text/plain": [
       "   children  days_employed  dob_years education  education_id  \\\n",
       "0         1   -8437.673028         42    высшее             0   \n",
       "1         1   -4024.803754         36   среднее             1   \n",
       "2         0   -5623.422610         33   Среднее             1   \n",
       "3         3   -4124.747207         32   среднее             1   \n",
       "4         0  340266.072047         53   среднее             1   \n",
       "\n",
       "      family_status  family_status_id gender income_type  debt   total_income  \\\n",
       "0   женат / замужем                 0      F   сотрудник     0  253875.639453   \n",
       "1   женат / замужем                 0      F   сотрудник     0  112080.014102   \n",
       "2   женат / замужем                 0      M   сотрудник     0  145885.952297   \n",
       "3   женат / замужем                 0      M   сотрудник     0  267628.550329   \n",
       "4  гражданский брак                 1      F   пенсионер     0  158616.077870   \n",
       "\n",
       "                      purpose  \n",
       "0               покупка жилья  \n",
       "1     приобретение автомобиля  \n",
       "2               покупка жилья  \n",
       "3  дополнительное образование  \n",
       "4             сыграть свадьбу  "
      ]
     },
     "execution_count": 5,
     "metadata": {},
     "output_type": "execute_result"
    }
   ],
   "source": [
    "df.head()"
   ]
  },
  {
   "cell_type": "markdown",
   "id": "6f1c14b2",
   "metadata": {},
   "source": [
    "Теперь рассмотрим наши данные.\n",
    "\n",
    "Всего в таблице **11** столбцов, типы данных - float64 (2), int64 (5), object (5).\n",
    "\n",
    "Всего строк **21525**, однако в столбцах `days_employed` и `total_income` по **19351** значений. Это говорит о том, что во-первых, в этих столбцах присутсвуют пропущенные значения, а во-вторых, что у отстутствия этих значений может быть общая причина."
   ]
  },
  {
   "cell_type": "markdown",
   "id": "9ddbff18",
   "metadata": {},
   "source": [
    "### Выводы по первому этапу"
   ]
  },
  {
   "cell_type": "markdown",
   "id": "22ad19b2",
   "metadata": {},
   "source": [
    "Каждая строка таблицы содержит информацию по отдельному клиенту банка, который обращался за кредитом. С точки зрения поставленной задачи, в первую очередь нас будут интересовать столбцы `children` и `family_status`, однако и в других столбцах может скрываться интересующая нас информация. Для начала нужно разобраться со следующими проблемами в данных: поправить названия столбцов, исследовать и отработать пропущенные значения, привести типы значений к единому формату (например в столбце `education`), а так же вынести их в словари, разобраться с отрицательными значениями в столбце `days_employed` и привести тип данных в столбцах к подходящему."
   ]
  },
  {
   "cell_type": "markdown",
   "id": "6a7e7d9e",
   "metadata": {},
   "source": [
    "## Предобработка данных"
   ]
  },
  {
   "cell_type": "markdown",
   "id": "002a5b15",
   "metadata": {},
   "source": [
    "### Заголовки и дубликаты"
   ]
  },
  {
   "cell_type": "markdown",
   "id": "e0b0ef0b",
   "metadata": {},
   "source": [
    "Для начала обработаем названия столбцов нашей таблицы."
   ]
  },
  {
   "cell_type": "code",
   "execution_count": 6,
   "id": "ad682c29",
   "metadata": {},
   "outputs": [
    {
     "data": {
      "text/plain": [
       "Index(['children', 'days_employed', 'dob_years', 'education', 'education_id',\n",
       "       'family_status', 'family_status_id', 'gender', 'income_type', 'debt',\n",
       "       'total_income', 'purpose'],\n",
       "      dtype='object')"
      ]
     },
     "execution_count": 6,
     "metadata": {},
     "output_type": "execute_result"
    }
   ],
   "source": [
    "df.columns # выведем названия столбцов"
   ]
  },
  {
   "cell_type": "markdown",
   "id": "e2018d13",
   "metadata": {},
   "source": [
    "Видим, что с точки зрения формата проблем нет: названия столбцов написаны в нижнем регистре, с подчёркиваниями вместо пробелов, лишних пробелов или иных символов нет. Однако, названия столбцов не совсем корректно отображают их содержание, поэтому заменим их:"
   ]
  },
  {
   "cell_type": "code",
   "execution_count": 7,
   "id": "e5e05232",
   "metadata": {},
   "outputs": [],
   "source": [
    "# переименуем столбцы\n",
    "df.set_axis(['number_of_children', 'days_employed', 'age_in_years', \n",
    "             'education_level', 'education_level_id', \n",
    "             'family_status', 'family_status_id', 'sex', \n",
    "             'employment_type', 'failed_to_pay_debt', 'monthly_income', \n",
    "             'credit_purpose'], axis = 'columns', inplace = True)"
   ]
  },
  {
   "cell_type": "markdown",
   "id": "03ad4a43",
   "metadata": {},
   "source": [
    "Проверим, успешно ли прошло переименование:"
   ]
  },
  {
   "cell_type": "code",
   "execution_count": 8,
   "id": "91b5e080",
   "metadata": {},
   "outputs": [
    {
     "data": {
      "text/plain": [
       "Index(['number_of_children', 'days_employed', 'age_in_years',\n",
       "       'education_level', 'education_level_id', 'family_status',\n",
       "       'family_status_id', 'sex', 'employment_type', 'failed_to_pay_debt',\n",
       "       'monthly_income', 'credit_purpose'],\n",
       "      dtype='object')"
      ]
     },
     "execution_count": 8,
     "metadata": {},
     "output_type": "execute_result"
    }
   ],
   "source": [
    "df.columns # еще раз выведем названия столбцов"
   ]
  },
  {
   "cell_type": "markdown",
   "id": "fe6d06c0",
   "metadata": {},
   "source": [
    "Теперь заголовки столбцов в таблице выглядят так:\n",
    "\n",
    "* `number_of_children` — количество детей в семье;\n",
    "* `days_employed` — общий трудовой стаж в днях;\n",
    "* `age_in_years` — возраст клиента в годах;\n",
    "* `education_level` — уровень образования клиента;\n",
    "* `education_level_id` — идентификатор уровня образования;\n",
    "* `family_status` — семейное положение;\n",
    "* `family_status_id` — идентификатор семейного положения;\n",
    "* `sex` — пол клиента;\n",
    "* `employment_type` — тип занятости;\n",
    "* `failed_to_pay_debt` — имел ли задолженность по возврату кредитов;\n",
    "* `monthly_income` — ежемесячный доход;\n",
    "* `credit_purpose` — цель получения кредита.\n"
   ]
  },
  {
   "cell_type": "markdown",
   "id": "6da811d0",
   "metadata": {},
   "source": [
    "Кроме того, перед обработкой остальных данных, приведем все столбцы с типом **object** (`education_level`, `family_status`, `sex`, `employment_type` и `credit_purpose`) к нижнему регистру:"
   ]
  },
  {
   "cell_type": "code",
   "execution_count": 9,
   "id": "ea3cb5be",
   "metadata": {},
   "outputs": [],
   "source": [
    "df['education_level'] = df['education_level'].str.lower()\n",
    "df['family_status'] = df['family_status'].str.lower()\n",
    "df['sex'] = df['sex'].str.lower()\n",
    "df['employment_type'] = df['employment_type'].str.lower()\n",
    "df['credit_purpose'] = df['credit_purpose'].str.lower()"
   ]
  },
  {
   "cell_type": "markdown",
   "id": "1bf1aa56",
   "metadata": {},
   "source": [
    "### Пропущенные значения"
   ]
  },
  {
   "cell_type": "markdown",
   "id": "0e40e68f",
   "metadata": {},
   "source": [
    "Проверим наличие пропущенных значений в таблице:"
   ]
  },
  {
   "cell_type": "code",
   "execution_count": 10,
   "id": "8ea53b8b",
   "metadata": {},
   "outputs": [
    {
     "data": {
      "text/plain": [
       "number_of_children       0\n",
       "days_employed         2174\n",
       "age_in_years             0\n",
       "education_level          0\n",
       "education_level_id       0\n",
       "family_status            0\n",
       "family_status_id         0\n",
       "sex                      0\n",
       "employment_type          0\n",
       "failed_to_pay_debt       0\n",
       "monthly_income        2174\n",
       "credit_purpose           0\n",
       "dtype: int64"
      ]
     },
     "execution_count": 10,
     "metadata": {},
     "output_type": "execute_result"
    }
   ],
   "source": [
    "df.isnull().sum() # считаем все пропущенные значения"
   ]
  },
  {
   "cell_type": "markdown",
   "id": "3f94a54c",
   "metadata": {},
   "source": [
    "Как видим, значения пропущены в столбцах `days_employed` и `monthly_income`. Проверим, связаны ли эти пропуски между собой:"
   ]
  },
  {
   "cell_type": "code",
   "execution_count": 11,
   "id": "1a76b37c",
   "metadata": {},
   "outputs": [
    {
     "name": "stdout",
     "output_type": "stream",
     "text": [
      "<class 'pandas.core.frame.DataFrame'>\n",
      "Int64Index: 2174 entries, 12 to 21510\n",
      "Data columns (total 12 columns):\n",
      " #   Column              Non-Null Count  Dtype  \n",
      "---  ------              --------------  -----  \n",
      " 0   number_of_children  2174 non-null   int64  \n",
      " 1   days_employed       0 non-null      float64\n",
      " 2   age_in_years        2174 non-null   int64  \n",
      " 3   education_level     2174 non-null   object \n",
      " 4   education_level_id  2174 non-null   int64  \n",
      " 5   family_status       2174 non-null   object \n",
      " 6   family_status_id    2174 non-null   int64  \n",
      " 7   sex                 2174 non-null   object \n",
      " 8   employment_type     2174 non-null   object \n",
      " 9   failed_to_pay_debt  2174 non-null   int64  \n",
      " 10  monthly_income      0 non-null      float64\n",
      " 11  credit_purpose      2174 non-null   object \n",
      "dtypes: float64(2), int64(5), object(5)\n",
      "memory usage: 220.8+ KB\n"
     ]
    }
   ],
   "source": [
    "# Ищем такие строки в таблице, \n",
    "# чтобы И в столбце days_employed И в столбце monthly_income \n",
    "# были пропущенные значения\n",
    "df[(df['days_employed'].isnull() == True) & \n",
    "   (df['monthly_income'].isnull() == True)].info()"
   ]
  },
  {
   "cell_type": "markdown",
   "id": "f26c61e0",
   "metadata": {},
   "source": [
    "Получился DataFrame с **2174** строками. Столько же пропущенных значений в каждом из столбцов `days_employed` и `monthly_income` в оригинальной таблице. То есть, значения в этих столбцах отсутствуют попарно, а строк с отсутвующим значением только в одном из столбцов нет. Таким образом, наиболее правдоподобной будет версия, что пропуски в этих значениях имеют общее происхождение."
   ]
  },
  {
   "cell_type": "code",
   "execution_count": 12,
   "id": "92f9d4c9",
   "metadata": {},
   "outputs": [
    {
     "data": {
      "text/html": [
       "<div>\n",
       "<style scoped>\n",
       "    .dataframe tbody tr th:only-of-type {\n",
       "        vertical-align: middle;\n",
       "    }\n",
       "\n",
       "    .dataframe tbody tr th {\n",
       "        vertical-align: top;\n",
       "    }\n",
       "\n",
       "    .dataframe thead th {\n",
       "        text-align: right;\n",
       "    }\n",
       "</style>\n",
       "<table border=\"1\" class=\"dataframe\">\n",
       "  <thead>\n",
       "    <tr style=\"text-align: right;\">\n",
       "      <th></th>\n",
       "      <th>number_of_children</th>\n",
       "      <th>days_employed</th>\n",
       "      <th>age_in_years</th>\n",
       "      <th>education_level</th>\n",
       "      <th>education_level_id</th>\n",
       "      <th>family_status</th>\n",
       "      <th>family_status_id</th>\n",
       "      <th>sex</th>\n",
       "      <th>employment_type</th>\n",
       "      <th>failed_to_pay_debt</th>\n",
       "      <th>monthly_income</th>\n",
       "      <th>credit_purpose</th>\n",
       "    </tr>\n",
       "  </thead>\n",
       "  <tbody>\n",
       "    <tr>\n",
       "      <th>12</th>\n",
       "      <td>0</td>\n",
       "      <td>NaN</td>\n",
       "      <td>65</td>\n",
       "      <td>среднее</td>\n",
       "      <td>1</td>\n",
       "      <td>гражданский брак</td>\n",
       "      <td>1</td>\n",
       "      <td>m</td>\n",
       "      <td>пенсионер</td>\n",
       "      <td>0</td>\n",
       "      <td>NaN</td>\n",
       "      <td>сыграть свадьбу</td>\n",
       "    </tr>\n",
       "    <tr>\n",
       "      <th>26</th>\n",
       "      <td>0</td>\n",
       "      <td>NaN</td>\n",
       "      <td>41</td>\n",
       "      <td>среднее</td>\n",
       "      <td>1</td>\n",
       "      <td>женат / замужем</td>\n",
       "      <td>0</td>\n",
       "      <td>m</td>\n",
       "      <td>госслужащий</td>\n",
       "      <td>0</td>\n",
       "      <td>NaN</td>\n",
       "      <td>образование</td>\n",
       "    </tr>\n",
       "    <tr>\n",
       "      <th>29</th>\n",
       "      <td>0</td>\n",
       "      <td>NaN</td>\n",
       "      <td>63</td>\n",
       "      <td>среднее</td>\n",
       "      <td>1</td>\n",
       "      <td>не женат / не замужем</td>\n",
       "      <td>4</td>\n",
       "      <td>f</td>\n",
       "      <td>пенсионер</td>\n",
       "      <td>0</td>\n",
       "      <td>NaN</td>\n",
       "      <td>строительство жилой недвижимости</td>\n",
       "    </tr>\n",
       "    <tr>\n",
       "      <th>41</th>\n",
       "      <td>0</td>\n",
       "      <td>NaN</td>\n",
       "      <td>50</td>\n",
       "      <td>среднее</td>\n",
       "      <td>1</td>\n",
       "      <td>женат / замужем</td>\n",
       "      <td>0</td>\n",
       "      <td>f</td>\n",
       "      <td>госслужащий</td>\n",
       "      <td>0</td>\n",
       "      <td>NaN</td>\n",
       "      <td>сделка с подержанным автомобилем</td>\n",
       "    </tr>\n",
       "    <tr>\n",
       "      <th>55</th>\n",
       "      <td>0</td>\n",
       "      <td>NaN</td>\n",
       "      <td>54</td>\n",
       "      <td>среднее</td>\n",
       "      <td>1</td>\n",
       "      <td>гражданский брак</td>\n",
       "      <td>1</td>\n",
       "      <td>f</td>\n",
       "      <td>пенсионер</td>\n",
       "      <td>1</td>\n",
       "      <td>NaN</td>\n",
       "      <td>сыграть свадьбу</td>\n",
       "    </tr>\n",
       "    <tr>\n",
       "      <th>65</th>\n",
       "      <td>0</td>\n",
       "      <td>NaN</td>\n",
       "      <td>21</td>\n",
       "      <td>среднее</td>\n",
       "      <td>1</td>\n",
       "      <td>не женат / не замужем</td>\n",
       "      <td>4</td>\n",
       "      <td>m</td>\n",
       "      <td>компаньон</td>\n",
       "      <td>0</td>\n",
       "      <td>NaN</td>\n",
       "      <td>операции с коммерческой недвижимостью</td>\n",
       "    </tr>\n",
       "    <tr>\n",
       "      <th>67</th>\n",
       "      <td>0</td>\n",
       "      <td>NaN</td>\n",
       "      <td>52</td>\n",
       "      <td>высшее</td>\n",
       "      <td>0</td>\n",
       "      <td>женат / замужем</td>\n",
       "      <td>0</td>\n",
       "      <td>f</td>\n",
       "      <td>пенсионер</td>\n",
       "      <td>0</td>\n",
       "      <td>NaN</td>\n",
       "      <td>покупка жилья для семьи</td>\n",
       "    </tr>\n",
       "    <tr>\n",
       "      <th>72</th>\n",
       "      <td>1</td>\n",
       "      <td>NaN</td>\n",
       "      <td>32</td>\n",
       "      <td>высшее</td>\n",
       "      <td>0</td>\n",
       "      <td>женат / замужем</td>\n",
       "      <td>0</td>\n",
       "      <td>m</td>\n",
       "      <td>госслужащий</td>\n",
       "      <td>0</td>\n",
       "      <td>NaN</td>\n",
       "      <td>операции с коммерческой недвижимостью</td>\n",
       "    </tr>\n",
       "    <tr>\n",
       "      <th>82</th>\n",
       "      <td>2</td>\n",
       "      <td>NaN</td>\n",
       "      <td>50</td>\n",
       "      <td>высшее</td>\n",
       "      <td>0</td>\n",
       "      <td>женат / замужем</td>\n",
       "      <td>0</td>\n",
       "      <td>f</td>\n",
       "      <td>сотрудник</td>\n",
       "      <td>0</td>\n",
       "      <td>NaN</td>\n",
       "      <td>жилье</td>\n",
       "    </tr>\n",
       "    <tr>\n",
       "      <th>83</th>\n",
       "      <td>0</td>\n",
       "      <td>NaN</td>\n",
       "      <td>52</td>\n",
       "      <td>среднее</td>\n",
       "      <td>1</td>\n",
       "      <td>женат / замужем</td>\n",
       "      <td>0</td>\n",
       "      <td>m</td>\n",
       "      <td>сотрудник</td>\n",
       "      <td>0</td>\n",
       "      <td>NaN</td>\n",
       "      <td>жилье</td>\n",
       "    </tr>\n",
       "  </tbody>\n",
       "</table>\n",
       "</div>"
      ],
      "text/plain": [
       "    number_of_children  days_employed  age_in_years education_level  \\\n",
       "12                   0            NaN            65         среднее   \n",
       "26                   0            NaN            41         среднее   \n",
       "29                   0            NaN            63         среднее   \n",
       "41                   0            NaN            50         среднее   \n",
       "55                   0            NaN            54         среднее   \n",
       "65                   0            NaN            21         среднее   \n",
       "67                   0            NaN            52          высшее   \n",
       "72                   1            NaN            32          высшее   \n",
       "82                   2            NaN            50          высшее   \n",
       "83                   0            NaN            52         среднее   \n",
       "\n",
       "    education_level_id          family_status  family_status_id sex  \\\n",
       "12                   1       гражданский брак                 1   m   \n",
       "26                   1        женат / замужем                 0   m   \n",
       "29                   1  не женат / не замужем                 4   f   \n",
       "41                   1        женат / замужем                 0   f   \n",
       "55                   1       гражданский брак                 1   f   \n",
       "65                   1  не женат / не замужем                 4   m   \n",
       "67                   0        женат / замужем                 0   f   \n",
       "72                   0        женат / замужем                 0   m   \n",
       "82                   0        женат / замужем                 0   f   \n",
       "83                   1        женат / замужем                 0   m   \n",
       "\n",
       "   employment_type  failed_to_pay_debt  monthly_income  \\\n",
       "12       пенсионер                   0             NaN   \n",
       "26     госслужащий                   0             NaN   \n",
       "29       пенсионер                   0             NaN   \n",
       "41     госслужащий                   0             NaN   \n",
       "55       пенсионер                   1             NaN   \n",
       "65       компаньон                   0             NaN   \n",
       "67       пенсионер                   0             NaN   \n",
       "72     госслужащий                   0             NaN   \n",
       "82       сотрудник                   0             NaN   \n",
       "83       сотрудник                   0             NaN   \n",
       "\n",
       "                           credit_purpose  \n",
       "12                        сыграть свадьбу  \n",
       "26                            образование  \n",
       "29       строительство жилой недвижимости  \n",
       "41       сделка с подержанным автомобилем  \n",
       "55                        сыграть свадьбу  \n",
       "65  операции с коммерческой недвижимостью  \n",
       "67                покупка жилья для семьи  \n",
       "72  операции с коммерческой недвижимостью  \n",
       "82                                  жилье  \n",
       "83                                  жилье  "
      ]
     },
     "execution_count": 12,
     "metadata": {},
     "output_type": "execute_result"
    }
   ],
   "source": [
    "# выведем первые 10 строк с пропущенными значениями на экран\n",
    "df[df.isnull().any(axis = 1)].head(10)"
   ]
  },
  {
   "cell_type": "markdown",
   "id": "0b9b6f47",
   "metadata": {},
   "source": [
    "При этом, как видно даже из первых 10 строк таблицы, зависимости пропусков от других значений не наблюдается. Все остальные столбцы наполнены разнообразной информацией. Таким образом, эти пропуски случайны. Скорее всего их появление связано с технической неисправностью или с ошибкой оператора базы данных, при этом возможно их появление зависит от какого-то другого параметра, не указанного в этой таблице."
   ]
  },
  {
   "cell_type": "markdown",
   "id": "22d1a3ca",
   "metadata": {},
   "source": [
    "Теперь заполним пустые значения."
   ]
  },
  {
   "cell_type": "code",
   "execution_count": 13,
   "id": "ca458720",
   "metadata": {},
   "outputs": [],
   "source": [
    "df['days_employed']=df['days_employed'].fillna(value = df[\"days_employed\"].median())\n",
    "df['monthly_income']=df['monthly_income'].fillna(value = df[\"monthly_income\"].median())"
   ]
  },
  {
   "cell_type": "markdown",
   "id": "18ddf19d",
   "metadata": {},
   "source": [
    "Далее проверим заполненность значений."
   ]
  },
  {
   "cell_type": "code",
   "execution_count": 14,
   "id": "f736e147",
   "metadata": {},
   "outputs": [
    {
     "data": {
      "text/plain": [
       "number_of_children    0\n",
       "days_employed         0\n",
       "age_in_years          0\n",
       "education_level       0\n",
       "education_level_id    0\n",
       "family_status         0\n",
       "family_status_id      0\n",
       "sex                   0\n",
       "employment_type       0\n",
       "failed_to_pay_debt    0\n",
       "monthly_income        0\n",
       "credit_purpose        0\n",
       "dtype: int64"
      ]
     },
     "execution_count": 14,
     "metadata": {},
     "output_type": "execute_result"
    }
   ],
   "source": [
    "df.isnull().sum()"
   ]
  },
  {
   "cell_type": "markdown",
   "id": "791f3c31",
   "metadata": {},
   "source": [
    "Преобразуем тип данных в столбце `monthly_income` в целочисленный."
   ]
  },
  {
   "cell_type": "code",
   "execution_count": 15,
   "id": "f8f86609",
   "metadata": {},
   "outputs": [],
   "source": [
    "df['monthly_income'] = df['monthly_income'].astype('int')"
   ]
  },
  {
   "cell_type": "code",
   "execution_count": 16,
   "id": "3390269e",
   "metadata": {},
   "outputs": [
    {
     "name": "stdout",
     "output_type": "stream",
     "text": [
      "<class 'pandas.core.frame.DataFrame'>\n",
      "RangeIndex: 21525 entries, 0 to 21524\n",
      "Data columns (total 12 columns):\n",
      " #   Column              Non-Null Count  Dtype  \n",
      "---  ------              --------------  -----  \n",
      " 0   number_of_children  21525 non-null  int64  \n",
      " 1   days_employed       21525 non-null  float64\n",
      " 2   age_in_years        21525 non-null  int64  \n",
      " 3   education_level     21525 non-null  object \n",
      " 4   education_level_id  21525 non-null  int64  \n",
      " 5   family_status       21525 non-null  object \n",
      " 6   family_status_id    21525 non-null  int64  \n",
      " 7   sex                 21525 non-null  object \n",
      " 8   employment_type     21525 non-null  object \n",
      " 9   failed_to_pay_debt  21525 non-null  int64  \n",
      " 10  monthly_income      21525 non-null  int64  \n",
      " 11  credit_purpose      21525 non-null  object \n",
      "dtypes: float64(1), int64(6), object(5)\n",
      "memory usage: 2.0+ MB\n"
     ]
    }
   ],
   "source": [
    "#Проверим тип данных\n",
    "df.info()"
   ]
  },
  {
   "cell_type": "markdown",
   "id": "b4200d32",
   "metadata": {},
   "source": [
    "На этом этапе мы завершили обработку пропущенных значений. Однако есть еще несколько моментов, требующих нашего внимания."
   ]
  },
  {
   "cell_type": "markdown",
   "id": "3057751f",
   "metadata": {},
   "source": [
    "### Аномальные значения"
   ]
  },
  {
   "cell_type": "markdown",
   "id": "672cd420",
   "metadata": {},
   "source": [
    "Кроме собственно пропущенных, пустых значений, в таблице присутствуют и аномальные значения, которые противоречат здравому смыслу и выглядят выбивающимися из общей картины (отрицательное или большое количество детей, отрицательный или слишком большой трудовой стаж).\n",
    "\n",
    "Возьмём, например, количество детей (столбец `number_of_children`):"
   ]
  },
  {
   "cell_type": "code",
   "execution_count": 17,
   "id": "61865588",
   "metadata": {},
   "outputs": [
    {
     "data": {
      "text/html": [
       "<div>\n",
       "<style scoped>\n",
       "    .dataframe tbody tr th:only-of-type {\n",
       "        vertical-align: middle;\n",
       "    }\n",
       "\n",
       "    .dataframe tbody tr th {\n",
       "        vertical-align: top;\n",
       "    }\n",
       "\n",
       "    .dataframe thead th {\n",
       "        text-align: right;\n",
       "    }\n",
       "</style>\n",
       "<table border=\"1\" class=\"dataframe\">\n",
       "  <thead>\n",
       "    <tr style=\"text-align: right;\">\n",
       "      <th></th>\n",
       "      <th>count</th>\n",
       "      <th>mean</th>\n",
       "    </tr>\n",
       "    <tr>\n",
       "      <th>groups</th>\n",
       "      <th></th>\n",
       "      <th></th>\n",
       "    </tr>\n",
       "  </thead>\n",
       "  <tbody>\n",
       "    <tr>\n",
       "      <th>(-999, -1]</th>\n",
       "      <td>47</td>\n",
       "      <td>-1.00000</td>\n",
       "    </tr>\n",
       "    <tr>\n",
       "      <th>(-1, 0]</th>\n",
       "      <td>14149</td>\n",
       "      <td>0.00000</td>\n",
       "    </tr>\n",
       "    <tr>\n",
       "      <th>(0, 5]</th>\n",
       "      <td>7253</td>\n",
       "      <td>1.39625</td>\n",
       "    </tr>\n",
       "    <tr>\n",
       "      <th>(5, 999]</th>\n",
       "      <td>76</td>\n",
       "      <td>20.00000</td>\n",
       "    </tr>\n",
       "  </tbody>\n",
       "</table>\n",
       "</div>"
      ],
      "text/plain": [
       "            count      mean\n",
       "groups                     \n",
       "(-999, -1]     47  -1.00000\n",
       "(-1, 0]     14149   0.00000\n",
       "(0, 5]       7253   1.39625\n",
       "(5, 999]       76  20.00000"
      ]
     },
     "execution_count": 17,
     "metadata": {},
     "output_type": "execute_result"
    }
   ],
   "source": [
    "# создадим сводную таблицу и разделим на промежутки\n",
    "df['groups'] = pd.cut(df['number_of_children'],[-999,-1,0,5,999])\n",
    "# посчитаем количество значений и среднее по указанным промежуткам\n",
    "df.groupby('groups')['number_of_children'].agg(['count','mean'])"
   ]
  },
  {
   "cell_type": "markdown",
   "id": "e305a4b9",
   "metadata": {},
   "source": [
    "Видно, что подавляющее большинство значений находятся в рамках разумного, однако в 47 случаях количество детей отрицательное (при этом ровно -1), а в 76 случаях - ровно 20. Уберём эти аномалии и приравняем оба этих значения к нулю."
   ]
  },
  {
   "cell_type": "code",
   "execution_count": 18,
   "id": "f3a66954",
   "metadata": {},
   "outputs": [],
   "source": [
    "# заменим значения ниже нуля на ноль\n",
    "df.loc[(df['number_of_children'] < 0), 'number_of_children'] = 0\n",
    "# заменим значения равные 20 на ноль\n",
    "df.loc[(df['number_of_children'] == 20), 'number_of_children'] = 0"
   ]
  },
  {
   "cell_type": "markdown",
   "id": "475ea1fc",
   "metadata": {},
   "source": [
    "Снова проверим распределение значений:"
   ]
  },
  {
   "cell_type": "code",
   "execution_count": 19,
   "id": "046aad37",
   "metadata": {},
   "outputs": [
    {
     "data": {
      "text/html": [
       "<div>\n",
       "<style scoped>\n",
       "    .dataframe tbody tr th:only-of-type {\n",
       "        vertical-align: middle;\n",
       "    }\n",
       "\n",
       "    .dataframe tbody tr th {\n",
       "        vertical-align: top;\n",
       "    }\n",
       "\n",
       "    .dataframe thead th {\n",
       "        text-align: right;\n",
       "    }\n",
       "</style>\n",
       "<table border=\"1\" class=\"dataframe\">\n",
       "  <thead>\n",
       "    <tr style=\"text-align: right;\">\n",
       "      <th></th>\n",
       "      <th>count</th>\n",
       "      <th>mean</th>\n",
       "    </tr>\n",
       "    <tr>\n",
       "      <th>groups</th>\n",
       "      <th></th>\n",
       "      <th></th>\n",
       "    </tr>\n",
       "  </thead>\n",
       "  <tbody>\n",
       "    <tr>\n",
       "      <th>(-999, -1]</th>\n",
       "      <td>0</td>\n",
       "      <td>NaN</td>\n",
       "    </tr>\n",
       "    <tr>\n",
       "      <th>(-1, 0]</th>\n",
       "      <td>14272</td>\n",
       "      <td>0.00000</td>\n",
       "    </tr>\n",
       "    <tr>\n",
       "      <th>(0, 5]</th>\n",
       "      <td>7253</td>\n",
       "      <td>1.39625</td>\n",
       "    </tr>\n",
       "    <tr>\n",
       "      <th>(5, 999]</th>\n",
       "      <td>0</td>\n",
       "      <td>NaN</td>\n",
       "    </tr>\n",
       "  </tbody>\n",
       "</table>\n",
       "</div>"
      ],
      "text/plain": [
       "            count     mean\n",
       "groups                    \n",
       "(-999, -1]      0      NaN\n",
       "(-1, 0]     14272  0.00000\n",
       "(0, 5]       7253  1.39625\n",
       "(5, 999]        0      NaN"
      ]
     },
     "execution_count": 19,
     "metadata": {},
     "output_type": "execute_result"
    }
   ],
   "source": [
    "# создадим сводную таблицу и разделим на промежутки\n",
    "df['groups'] = pd.cut(df['number_of_children'],[-999,-1,0,5,999])\n",
    "# посчитаем количество значений и среднее по указанным промежуткам\n",
    "df.groupby('groups')['number_of_children'].agg(['count','mean'])"
   ]
  },
  {
   "cell_type": "markdown",
   "id": "386b7c45",
   "metadata": {},
   "source": [
    "Мы преобразовали аномальные значения, и теперь данные выглядят более адекватно.\n",
    "\n",
    "Возьмём следующий столбец `days_employed`:"
   ]
  },
  {
   "cell_type": "code",
   "execution_count": 20,
   "id": "4cc001df",
   "metadata": {},
   "outputs": [
    {
     "data": {
      "text/html": [
       "<div>\n",
       "<style scoped>\n",
       "    .dataframe tbody tr th:only-of-type {\n",
       "        vertical-align: middle;\n",
       "    }\n",
       "\n",
       "    .dataframe tbody tr th {\n",
       "        vertical-align: top;\n",
       "    }\n",
       "\n",
       "    .dataframe thead th {\n",
       "        text-align: right;\n",
       "    }\n",
       "</style>\n",
       "<table border=\"1\" class=\"dataframe\">\n",
       "  <thead>\n",
       "    <tr style=\"text-align: right;\">\n",
       "      <th></th>\n",
       "      <th>count</th>\n",
       "      <th>mean</th>\n",
       "      <th>median</th>\n",
       "      <th>min</th>\n",
       "      <th>max</th>\n",
       "    </tr>\n",
       "    <tr>\n",
       "      <th>groups</th>\n",
       "      <th></th>\n",
       "      <th></th>\n",
       "      <th></th>\n",
       "      <th></th>\n",
       "      <th></th>\n",
       "    </tr>\n",
       "  </thead>\n",
       "  <tbody>\n",
       "    <tr>\n",
       "      <th>(-999999, -1]</th>\n",
       "      <td>18080</td>\n",
       "      <td>40.276825</td>\n",
       "      <td>40.0</td>\n",
       "      <td>0.0</td>\n",
       "      <td>75.0</td>\n",
       "    </tr>\n",
       "    <tr>\n",
       "      <th>(-1, 0]</th>\n",
       "      <td>0</td>\n",
       "      <td>NaN</td>\n",
       "      <td>NaN</td>\n",
       "      <td>NaN</td>\n",
       "      <td>NaN</td>\n",
       "    </tr>\n",
       "    <tr>\n",
       "      <th>(0, 29930]</th>\n",
       "      <td>0</td>\n",
       "      <td>NaN</td>\n",
       "      <td>NaN</td>\n",
       "      <td>NaN</td>\n",
       "      <td>NaN</td>\n",
       "    </tr>\n",
       "    <tr>\n",
       "      <th>(29930, 999999]</th>\n",
       "      <td>3445</td>\n",
       "      <td>59.124819</td>\n",
       "      <td>60.0</td>\n",
       "      <td>0.0</td>\n",
       "      <td>74.0</td>\n",
       "    </tr>\n",
       "  </tbody>\n",
       "</table>\n",
       "</div>"
      ],
      "text/plain": [
       "                 count       mean  median  min   max\n",
       "groups                                              \n",
       "(-999999, -1]    18080  40.276825    40.0  0.0  75.0\n",
       "(-1, 0]              0        NaN     NaN  NaN   NaN\n",
       "(0, 29930]           0        NaN     NaN  NaN   NaN\n",
       "(29930, 999999]   3445  59.124819    60.0  0.0  74.0"
      ]
     },
     "execution_count": 20,
     "metadata": {},
     "output_type": "execute_result"
    }
   ],
   "source": [
    "# создадим сводную таблицу и разделим на промежутки, возьмем за отправную точку условный стажж в 82 года работы.\n",
    "#Считая, что человек начал работать с 18 лет и проработал 82 года до 100 лет - 29930 дней.\n",
    "df['groups'] = pd.cut(df['days_employed'],[-999999,-1,0,29930,999999])\n",
    "# посчитаем количество значений и среднее по указанным промежуткам\n",
    "#df.groupby('groups')['days_employed'].agg(['count','mean','median','min','max'])\n",
    "df.groupby('groups')['age_in_years'].agg(['count','mean','median','min','max'])"
   ]
  },
  {
   "cell_type": "markdown",
   "id": "6b3cae70",
   "metadata": {},
   "source": [
    "Импортируем библиотеку `matplotlib.pyplot` и сделаем гистограмму:"
   ]
  },
  {
   "cell_type": "code",
   "execution_count": 21,
   "id": "be5184b2",
   "metadata": {},
   "outputs": [
    {
     "data": {
      "image/png": "[encoded data removed]",
      "text/plain": [
       "<Figure size 432x288 with 1 Axes>"
      ]
     },
     "metadata": {
      "needs_background": "light"
     },
     "output_type": "display_data"
    }
   ],
   "source": [
    "\n",
    "df['days_employed'].hist() # построим гистограмму\n",
    "plt.title('Распределение стажа по категориям', fontsize=15)\n",
    "plt.xlabel('Стаж, дней', fontsize=12, color='blue')\n",
    "plt.ylabel('Количество значений, шт', fontsize=12, color='blue')\n",
    "plt.grid(True)"
   ]
  },
  {
   "cell_type": "markdown",
   "id": "b91b6478",
   "metadata": {},
   "source": [
    "Видим ещё одно аномальное распределение. Подавляющее большинство значений находятся в промежутке от **-19000** до **0**, но при этом **3445** значения оказались положительными и на порядок больше по модулю. Допустим, что действительный стаж оказался по каким-то причинам отрицательным числом.\n",
    "\n",
    "Возьмём самое большое по модулю значение из первой группы:"
   ]
  },
  {
   "cell_type": "code",
   "execution_count": 22,
   "id": "832c2d59",
   "metadata": {},
   "outputs": [
    {
     "data": {
      "text/plain": [
       "50.38068466027397"
      ]
     },
     "execution_count": 22,
     "metadata": {},
     "output_type": "execute_result"
    }
   ],
   "source": [
    "18388.949901 / 365 # переведем дни в годы"
   ]
  },
  {
   "cell_type": "markdown",
   "id": "90241a9a",
   "metadata": {},
   "source": [
    "Стаж в 50 лет кажется значительным, но при этом допустимым. Всё-таки это наибольшее по модулю число в этой группе.\n",
    "\n",
    "Теперь посмотрим на наименьшее число из второй группы:"
   ]
  },
  {
   "cell_type": "code",
   "execution_count": 23,
   "id": "8412cc06",
   "metadata": {},
   "outputs": [
    {
     "data": {
      "text/plain": [
       "900.6266317945204"
      ]
     },
     "execution_count": 23,
     "metadata": {},
     "output_type": "execute_result"
    }
   ],
   "source": [
    "328728.720605 / 365 # переведем дни в годы"
   ]
  },
  {
   "cell_type": "markdown",
   "id": "2c46ed75",
   "metadata": {},
   "source": [
    "Стаж более 900 лет. Это явная аномалия в данных, которая может исказить дальнейшие рез-ты исследования."
   ]
  },
  {
   "cell_type": "markdown",
   "id": "611aafa4",
   "metadata": {},
   "source": [
    "Посмотрим на данные еще раз. \n",
    "В первой группе - у нас адекватный стаж в годах(по модулю), списываем это на ошибку ввода данных оператором при переносе значений.\n",
    "Во второй группе стаж в годах от 900 лет, а таких значений - 3445 - это достаточно существенная часть от всего датафрейма. Предположим, что на самом деле данным во второй группе указаны в часах и проверим эту гипотезу."
   ]
  },
  {
   "cell_type": "code",
   "execution_count": 24,
   "id": "6a1eda03",
   "metadata": {},
   "outputs": [
    {
     "data": {
      "text/plain": [
       "37.52610965810502"
      ]
     },
     "execution_count": 24,
     "metadata": {},
     "output_type": "execute_result"
    }
   ],
   "source": [
    "328728.720605 / (24*365) # переведём в часы в годы"
   ]
  },
  {
   "cell_type": "markdown",
   "id": "04609983",
   "metadata": {},
   "source": [
    "Действительно, получается намного более правдиво. Теперь это можно назвать стажем. Получается, этих людей записывали в другом формате — возможно это устаревший формат, либо данные некорректно перенесены из другой системы. Напишем функцию, преобазующую стаж в нормальный формат:"
   ]
  },
  {
   "cell_type": "code",
   "execution_count": 25,
   "id": "4d84f6d0",
   "metadata": {},
   "outputs": [],
   "source": [
    "# функция для перевода значений из часов в дни\n",
    "def hours_to_days(df):\n",
    "    if df['days_employed'] > 0:\n",
    "        return df['days_employed'] / -24\n",
    "    else:\n",
    "        return df['days_employed']"
   ]
  },
  {
   "cell_type": "markdown",
   "id": "bd378013",
   "metadata": {},
   "source": [
    "Предварительно посмотрим как значения распределены на графике:"
   ]
  },
  {
   "cell_type": "code",
   "execution_count": 26,
   "id": "24243354",
   "metadata": {},
   "outputs": [
    {
     "data": {
      "image/png": "[encoded data removed]",
      "text/plain": [
       "<Figure size 432x288 with 1 Axes>"
      ]
     },
     "metadata": {
      "needs_background": "light"
     },
     "output_type": "display_data"
    }
   ],
   "source": [
    "# строим scatter-график\n",
    "df.plot.scatter(x='age_in_years', y='days_employed')\n",
    "plt.title('Зависимость стажа и возраста', fontsize=15)\n",
    "plt.xlabel('Возраст, лет', fontsize=12, color='blue')\n",
    "plt.ylabel('Стаж, дней', fontsize=12, color='blue')\n",
    "plt.grid(True)"
   ]
  },
  {
   "cell_type": "markdown",
   "id": "7792f4df",
   "metadata": {},
   "source": [
    "Теперь применим её к таблице:"
   ]
  },
  {
   "cell_type": "code",
   "execution_count": 27,
   "id": "4572571d",
   "metadata": {},
   "outputs": [],
   "source": [
    "# применяем функцию к таблице\n",
    "df['days_employed'] = df.apply(hours_to_days, axis=1)"
   ]
  },
  {
   "cell_type": "markdown",
   "id": "d43d4ba4",
   "metadata": {},
   "source": [
    "Посмотрим, как изменился наш график:"
   ]
  },
  {
   "cell_type": "code",
   "execution_count": 28,
   "id": "6ac5e2fc",
   "metadata": {},
   "outputs": [
    {
     "data": {
      "image/png": "[encoded data removed]",
      "text/plain": [
       "<Figure size 432x288 with 1 Axes>"
      ]
     },
     "metadata": {
      "needs_background": "light"
     },
     "output_type": "display_data"
    }
   ],
   "source": [
    "# строим scatter-график\n",
    "df.plot.scatter(x='age_in_years', y='days_employed')\n",
    "plt.title('Зависимость стажа и возраста', fontsize=15)\n",
    "plt.xlabel('Возраст, лет', fontsize=12, color='blue')\n",
    "plt.ylabel('Стаж, дней', fontsize=12, color='blue')\n",
    "plt.grid(True)"
   ]
  },
  {
   "cell_type": "markdown",
   "id": "b3892e45",
   "metadata": {},
   "source": [
    "Видим, что у нас есть две группы значений, которые сильно выбиваются из общего ряда. Для начала раберёмся с той группой, где возраст равен нулю. Изначально мы проставляли возраст по медиане соответствующего типа занятости. В этот раз попробуем использовать стаж для предположения возраста. Посмотрим коэффициенты корреляции:"
   ]
  },
  {
   "cell_type": "code",
   "execution_count": 29,
   "id": "19ef3d21",
   "metadata": {},
   "outputs": [
    {
     "data": {
      "text/html": [
       "<div>\n",
       "<style scoped>\n",
       "    .dataframe tbody tr th:only-of-type {\n",
       "        vertical-align: middle;\n",
       "    }\n",
       "\n",
       "    .dataframe tbody tr th {\n",
       "        vertical-align: top;\n",
       "    }\n",
       "\n",
       "    .dataframe thead th {\n",
       "        text-align: right;\n",
       "    }\n",
       "</style>\n",
       "<table border=\"1\" class=\"dataframe\">\n",
       "  <thead>\n",
       "    <tr style=\"text-align: right;\">\n",
       "      <th></th>\n",
       "      <th>number_of_children</th>\n",
       "      <th>days_employed</th>\n",
       "      <th>age_in_years</th>\n",
       "      <th>education_level_id</th>\n",
       "      <th>family_status_id</th>\n",
       "      <th>failed_to_pay_debt</th>\n",
       "      <th>monthly_income</th>\n",
       "    </tr>\n",
       "  </thead>\n",
       "  <tbody>\n",
       "    <tr>\n",
       "      <th>number_of_children</th>\n",
       "      <td>1.000000</td>\n",
       "      <td>0.223480</td>\n",
       "      <td>-0.310068</td>\n",
       "      <td>-0.027572</td>\n",
       "      <td>-0.157682</td>\n",
       "      <td>0.024951</td>\n",
       "      <td>0.029996</td>\n",
       "    </tr>\n",
       "    <tr>\n",
       "      <th>days_employed</th>\n",
       "      <td>0.223480</td>\n",
       "      <td>1.000000</td>\n",
       "      <td>-0.587416</td>\n",
       "      <td>-0.065740</td>\n",
       "      <td>0.021315</td>\n",
       "      <td>0.064488</td>\n",
       "      <td>0.098849</td>\n",
       "    </tr>\n",
       "    <tr>\n",
       "      <th>age_in_years</th>\n",
       "      <td>-0.310068</td>\n",
       "      <td>-0.587416</td>\n",
       "      <td>1.000000</td>\n",
       "      <td>0.067467</td>\n",
       "      <td>-0.069988</td>\n",
       "      <td>-0.069620</td>\n",
       "      <td>-0.050689</td>\n",
       "    </tr>\n",
       "    <tr>\n",
       "      <th>education_level_id</th>\n",
       "      <td>-0.027572</td>\n",
       "      <td>-0.065740</td>\n",
       "      <td>0.067467</td>\n",
       "      <td>1.000000</td>\n",
       "      <td>0.007876</td>\n",
       "      <td>0.052906</td>\n",
       "      <td>-0.169121</td>\n",
       "    </tr>\n",
       "    <tr>\n",
       "      <th>family_status_id</th>\n",
       "      <td>-0.157682</td>\n",
       "      <td>0.021315</td>\n",
       "      <td>-0.069988</td>\n",
       "      <td>0.007876</td>\n",
       "      <td>1.000000</td>\n",
       "      <td>0.020611</td>\n",
       "      <td>-0.008697</td>\n",
       "    </tr>\n",
       "    <tr>\n",
       "      <th>failed_to_pay_debt</th>\n",
       "      <td>0.024951</td>\n",
       "      <td>0.064488</td>\n",
       "      <td>-0.069620</td>\n",
       "      <td>0.052906</td>\n",
       "      <td>0.020611</td>\n",
       "      <td>1.000000</td>\n",
       "      <td>-0.011592</td>\n",
       "    </tr>\n",
       "    <tr>\n",
       "      <th>monthly_income</th>\n",
       "      <td>0.029996</td>\n",
       "      <td>0.098849</td>\n",
       "      <td>-0.050689</td>\n",
       "      <td>-0.169121</td>\n",
       "      <td>-0.008697</td>\n",
       "      <td>-0.011592</td>\n",
       "      <td>1.000000</td>\n",
       "    </tr>\n",
       "  </tbody>\n",
       "</table>\n",
       "</div>"
      ],
      "text/plain": [
       "                    number_of_children  days_employed  age_in_years  \\\n",
       "number_of_children            1.000000       0.223480     -0.310068   \n",
       "days_employed                 0.223480       1.000000     -0.587416   \n",
       "age_in_years                 -0.310068      -0.587416      1.000000   \n",
       "education_level_id           -0.027572      -0.065740      0.067467   \n",
       "family_status_id             -0.157682       0.021315     -0.069988   \n",
       "failed_to_pay_debt            0.024951       0.064488     -0.069620   \n",
       "monthly_income                0.029996       0.098849     -0.050689   \n",
       "\n",
       "                    education_level_id  family_status_id  failed_to_pay_debt  \\\n",
       "number_of_children           -0.027572         -0.157682            0.024951   \n",
       "days_employed                -0.065740          0.021315            0.064488   \n",
       "age_in_years                  0.067467         -0.069988           -0.069620   \n",
       "education_level_id            1.000000          0.007876            0.052906   \n",
       "family_status_id              0.007876          1.000000            0.020611   \n",
       "failed_to_pay_debt            0.052906          0.020611            1.000000   \n",
       "monthly_income               -0.169121         -0.008697           -0.011592   \n",
       "\n",
       "                    monthly_income  \n",
       "number_of_children        0.029996  \n",
       "days_employed             0.098849  \n",
       "age_in_years             -0.050689  \n",
       "education_level_id       -0.169121  \n",
       "family_status_id         -0.008697  \n",
       "failed_to_pay_debt       -0.011592  \n",
       "monthly_income            1.000000  "
      ]
     },
     "execution_count": 29,
     "metadata": {},
     "output_type": "execute_result"
    }
   ],
   "source": [
    "# вызываем таблицу с коэффициентами корреляции\n",
    "df.corr()"
   ]
  },
  {
   "cell_type": "markdown",
   "id": "efd0cb11",
   "metadata": {},
   "source": [
    "Как видим, корреляция между возрастом и стажем на порядок выше, чем между возрастом и типом занятости.\n",
    "\n",
    "Напишем функцию для предположения возраста. Функция будет заменять нулевой возраст на случайное значение между максимальным возрастом и минимальным возрастом для имеющегося стажа:"
   ]
  },
  {
   "cell_type": "code",
   "execution_count": 30,
   "id": "c59286f4",
   "metadata": {},
   "outputs": [],
   "source": [
    "#импортируем библиотеку random\n",
    "import random\n",
    "\n",
    "# определяем \"константу\" с максимальным возрастом\n",
    "max_age = df['age_in_years'].max()\n",
    "\n",
    "# создаём функцию для замены нулевого возраста\n",
    "def zero_to_age(df):\n",
    "    if df['age_in_years'] == 0:\n",
    "        min = int(df['days_employed'] / -365 + 18)\n",
    "        max = max_age\n",
    "        return random.randint(min,max)\n",
    "    else:\n",
    "        return df['age_in_years']"
   ]
  },
  {
   "cell_type": "markdown",
   "id": "72fb4c7e",
   "metadata": {},
   "source": [
    "Применим функцию на таблице:"
   ]
  },
  {
   "cell_type": "code",
   "execution_count": 31,
   "id": "85aa00cf",
   "metadata": {},
   "outputs": [],
   "source": [
    "# применяем функцию к таблице\n",
    "df['age_in_years'] = df.apply(zero_to_age, axis=1)"
   ]
  },
  {
   "cell_type": "code",
   "execution_count": 32,
   "id": "7f8fce76",
   "metadata": {},
   "outputs": [
    {
     "data": {
      "image/png": "[encoded data removed]",
      "text/plain": [
       "<Figure size 432x288 with 1 Axes>"
      ]
     },
     "metadata": {
      "needs_background": "light"
     },
     "output_type": "display_data"
    }
   ],
   "source": [
    "# строим scatter-график\n",
    "df.plot.scatter(x='age_in_years', y='days_employed')\n",
    "plt.title('Зависимость стажа и возраста', fontsize=15)\n",
    "plt.xlabel('Возраст, лет', fontsize=12, color='blue')\n",
    "plt.ylabel('Стаж, дней', fontsize=12, color='blue')\n",
    "plt.grid(True)"
   ]
  },
  {
   "cell_type": "markdown",
   "id": "67000cd0",
   "metadata": {},
   "source": [
    "Теперь график выглядит намного лучше! Осталась одна группа, которая не вписывается в рамки. Попробуем с ней разобраться.\n",
    "\n",
    "Для начала создадим новый столбец, в котором посчитаем разницу между возрастом и стажем:"
   ]
  },
  {
   "cell_type": "code",
   "execution_count": 33,
   "id": "4e359752",
   "metadata": {},
   "outputs": [],
   "source": [
    "# создаём столбец с разницей возраста и стажа\n",
    "df['delta'] = df['age_in_years'] - (18 + df['days_employed'] / -365)"
   ]
  },
  {
   "cell_type": "markdown",
   "id": "94f636ef",
   "metadata": {},
   "source": [
    "Теперь посчитаем количество строк, в которых стаж больше возраста."
   ]
  },
  {
   "cell_type": "code",
   "execution_count": 34,
   "id": "2767a212",
   "metadata": {},
   "outputs": [
    {
     "data": {
      "text/plain": [
       "number_of_children    2146\n",
       "days_employed         2146\n",
       "age_in_years          2146\n",
       "education_level       2146\n",
       "education_level_id    2146\n",
       "family_status         2146\n",
       "family_status_id      2146\n",
       "sex                   2146\n",
       "employment_type       2146\n",
       "failed_to_pay_debt    2146\n",
       "monthly_income        2146\n",
       "credit_purpose        2146\n",
       "groups                2146\n",
       "delta                 2146\n",
       "dtype: int64"
      ]
     },
     "execution_count": 34,
     "metadata": {},
     "output_type": "execute_result"
    }
   ],
   "source": [
    "# считаем количество строк где стаж больше возраста\n",
    "df[df['delta'] < 0].count()"
   ]
  },
  {
   "cell_type": "markdown",
   "id": "fe7ad3f8",
   "metadata": {},
   "source": [
    "Заодно посмотрим на средние и крайние значения:"
   ]
  },
  {
   "cell_type": "code",
   "execution_count": 35,
   "id": "c79d948e",
   "metadata": {},
   "outputs": [
    {
     "data": {
      "text/plain": [
       "mean    -4.598620\n",
       "min    -36.451731\n",
       "max     -0.000338\n",
       "Name: delta, dtype: float64"
      ]
     },
     "execution_count": 35,
     "metadata": {},
     "output_type": "execute_result"
    }
   ],
   "source": [
    "# выводим среднее, наименьшее и наибольшие значения для строк где стаж юольше возраста\n",
    "df[df['delta'] < 0]['delta'].agg(['mean','min','max'])"
   ]
  },
  {
   "cell_type": "markdown",
   "id": "e7e157f4",
   "metadata": {},
   "source": [
    "Возможно в этих значениях присутствует ошибка, другой вариант — часть значений может относиться к тем, у кого стаж засчитывается с коэффициентом. С другой стороны, если стаж превышает возраст аж на 36 лет, то это аномалия.\n",
    "\n",
    "Попробуем расправиться с этими значениями таким образом: \"отзеркалим\" все возможные значения, то есть сделаем стаж меньше на то же значение, на которое стаж первышал возраст. Если же стаж в таком случае окажется отрицательным, тогда просто вычтем из стажа разницу с возрастом."
   ]
  },
  {
   "cell_type": "code",
   "execution_count": 36,
   "id": "30fff533",
   "metadata": {},
   "outputs": [],
   "source": [
    "# создаём функцию для преобразования значений находящихся за пределами допустимых\n",
    "def overemployment(df):\n",
    "    if (df['delta'] < 0) & (df['days_employed'] < (df['delta'] * 2 * 365)):\n",
    "        return df['days_employed'] - (df['delta'] * 2 * 365)\n",
    "    elif (df['delta'] < 0) & (df['days_employed'] > (df['delta'] * 2 * 365)):\n",
    "        return (df['days_employed'] - (df['delta'] * 365))\n",
    "    else:\n",
    "        return df['days_employed']"
   ]
  },
  {
   "cell_type": "markdown",
   "id": "3f5771f2",
   "metadata": {},
   "source": [
    "Применим эту функцию к таблице:"
   ]
  },
  {
   "cell_type": "code",
   "execution_count": 37,
   "id": "ef0b96ff",
   "metadata": {},
   "outputs": [],
   "source": [
    "# применяем функцию к таблице\n",
    "df['days_employed'] = df.apply(overemployment, axis=1)"
   ]
  },
  {
   "cell_type": "markdown",
   "id": "43ed3cb1",
   "metadata": {},
   "source": [
    "И взглянем на график:"
   ]
  },
  {
   "cell_type": "code",
   "execution_count": 38,
   "id": "958e4035",
   "metadata": {},
   "outputs": [
    {
     "data": {
      "image/png": "[encoded data removed]",
      "text/plain": [
       "<Figure size 432x288 with 1 Axes>"
      ]
     },
     "metadata": {
      "needs_background": "light"
     },
     "output_type": "display_data"
    }
   ],
   "source": [
    "# строим scatter-график\n",
    "df.plot.scatter(x='age_in_years', y='days_employed')\n",
    "plt.title('Зависимость стажа и возраста', fontsize=15)\n",
    "plt.xlabel('Возраст, лет', fontsize=12, color='blue')\n",
    "plt.ylabel('Стаж, дней', fontsize=12, color='blue')\n",
    "plt.grid(True)"
   ]
  },
  {
   "cell_type": "markdown",
   "id": "28e3d71e",
   "metadata": {},
   "source": [
    "Отлично! Мы избавились от аномальных значений, но значения трудового стажа всё ещё отрицательные. Преобразуем же значения:"
   ]
  },
  {
   "cell_type": "code",
   "execution_count": 39,
   "id": "e172bc37",
   "metadata": {},
   "outputs": [],
   "source": [
    "# берём значения столбца по модулю\n",
    "df['days_employed'] = df['days_employed'].abs()"
   ]
  },
  {
   "cell_type": "markdown",
   "id": "bb8d7f66",
   "metadata": {},
   "source": [
    "Ещё раз взглянем на график:"
   ]
  },
  {
   "cell_type": "code",
   "execution_count": 40,
   "id": "30caa7a8",
   "metadata": {},
   "outputs": [
    {
     "data": {
      "image/png": "[encoded data removed]",
      "text/plain": [
       "<Figure size 432x288 with 1 Axes>"
      ]
     },
     "metadata": {
      "needs_background": "light"
     },
     "output_type": "display_data"
    }
   ],
   "source": [
    "# строим scatter-график\n",
    "df.plot.scatter(x='age_in_years', y='days_employed')\n",
    "plt.title('Зависимость стажа и возраста', fontsize=15)\n",
    "plt.xlabel('Возраст, лет', fontsize=12, color='blue')\n",
    "plt.ylabel('Стаж, дней', fontsize=12, color='blue')\n",
    "plt.grid(True)"
   ]
  },
  {
   "cell_type": "markdown",
   "id": "79f5717f",
   "metadata": {},
   "source": [
    "Таким образом, мы разобрались с пропущенными значениями."
   ]
  },
  {
   "cell_type": "markdown",
   "id": "23f78071",
   "metadata": {},
   "source": [
    "### Изменение типа данных"
   ]
  },
  {
   "cell_type": "markdown",
   "id": "3f46c24b",
   "metadata": {},
   "source": [
    "Снова обратимся к общей информации по таблице:"
   ]
  },
  {
   "cell_type": "code",
   "execution_count": 41,
   "id": "c9f74fb4",
   "metadata": {},
   "outputs": [
    {
     "name": "stdout",
     "output_type": "stream",
     "text": [
      "<class 'pandas.core.frame.DataFrame'>\n",
      "RangeIndex: 21525 entries, 0 to 21524\n",
      "Data columns (total 14 columns):\n",
      " #   Column              Non-Null Count  Dtype   \n",
      "---  ------              --------------  -----   \n",
      " 0   number_of_children  21525 non-null  int64   \n",
      " 1   days_employed       21525 non-null  float64 \n",
      " 2   age_in_years        21525 non-null  int64   \n",
      " 3   education_level     21525 non-null  object  \n",
      " 4   education_level_id  21525 non-null  int64   \n",
      " 5   family_status       21525 non-null  object  \n",
      " 6   family_status_id    21525 non-null  int64   \n",
      " 7   sex                 21525 non-null  object  \n",
      " 8   employment_type     21525 non-null  object  \n",
      " 9   failed_to_pay_debt  21525 non-null  int64   \n",
      " 10  monthly_income      21525 non-null  int64   \n",
      " 11  credit_purpose      21525 non-null  object  \n",
      " 12  groups              21525 non-null  category\n",
      " 13  delta               21525 non-null  float64 \n",
      "dtypes: category(1), float64(2), int64(6), object(5)\n",
      "memory usage: 2.2+ MB\n"
     ]
    }
   ],
   "source": [
    "df.info() # получим общую информацию о таблице df"
   ]
  },
  {
   "cell_type": "code",
   "execution_count": 42,
   "id": "f0c31c16",
   "metadata": {},
   "outputs": [],
   "source": [
    "# удаляем лишний столбец groups\n",
    "df.drop('groups', axis = 1, inplace = True)"
   ]
  },
  {
   "cell_type": "code",
   "execution_count": 43,
   "id": "5e64faa4",
   "metadata": {},
   "outputs": [
    {
     "name": "stdout",
     "output_type": "stream",
     "text": [
      "<class 'pandas.core.frame.DataFrame'>\n",
      "RangeIndex: 21525 entries, 0 to 21524\n",
      "Data columns (total 13 columns):\n",
      " #   Column              Non-Null Count  Dtype  \n",
      "---  ------              --------------  -----  \n",
      " 0   number_of_children  21525 non-null  int64  \n",
      " 1   days_employed       21525 non-null  float64\n",
      " 2   age_in_years        21525 non-null  int64  \n",
      " 3   education_level     21525 non-null  object \n",
      " 4   education_level_id  21525 non-null  int64  \n",
      " 5   family_status       21525 non-null  object \n",
      " 6   family_status_id    21525 non-null  int64  \n",
      " 7   sex                 21525 non-null  object \n",
      " 8   employment_type     21525 non-null  object \n",
      " 9   failed_to_pay_debt  21525 non-null  int64  \n",
      " 10  monthly_income      21525 non-null  int64  \n",
      " 11  credit_purpose      21525 non-null  object \n",
      " 12  delta               21525 non-null  float64\n",
      "dtypes: float64(2), int64(6), object(5)\n",
      "memory usage: 2.1+ MB\n"
     ]
    }
   ],
   "source": [
    "df.info() # получим общую информацию о таблице df"
   ]
  },
  {
   "cell_type": "markdown",
   "id": "c6a55a10",
   "metadata": {},
   "source": [
    "Теперь взглянем на типы данных:\n",
    "\n",
    "Возьмём столбцы с типом данных int:\n",
    "\n",
    "В целом, выглядит логично, количество детей, id - всё это целые числа. Взглянем на столбец должников:"
   ]
  },
  {
   "cell_type": "code",
   "execution_count": 44,
   "id": "db62f0b9",
   "metadata": {},
   "outputs": [
    {
     "data": {
      "text/plain": [
       "failed_to_pay_debt\n",
       "0    19784\n",
       "1     1741\n",
       "Name: failed_to_pay_debt, dtype: int64"
      ]
     },
     "execution_count": 44,
     "metadata": {},
     "output_type": "execute_result"
    }
   ],
   "source": [
    "# посчитаем количество значений по категориям\n",
    "df.groupby('failed_to_pay_debt')['failed_to_pay_debt'].count()"
   ]
  },
  {
   "cell_type": "markdown",
   "id": "1cc44082",
   "metadata": {},
   "source": [
    "Всего два значения, которые даже по смыслу напрашиваются на замену на булевы значения. Так давайте так и сделаем:"
   ]
  },
  {
   "cell_type": "code",
   "execution_count": 45,
   "id": "52bfb51a",
   "metadata": {},
   "outputs": [],
   "source": [
    "# преобразуем тип данных\n",
    "df['failed_to_pay_debt'] = df['failed_to_pay_debt'].astype('bool')"
   ]
  },
  {
   "cell_type": "markdown",
   "id": "a75798d6",
   "metadata": {},
   "source": [
    "Посмотрим, получилось ли изменить тип данных:"
   ]
  },
  {
   "cell_type": "code",
   "execution_count": 46,
   "id": "368cb6b9",
   "metadata": {},
   "outputs": [
    {
     "name": "stdout",
     "output_type": "stream",
     "text": [
      "<class 'pandas.core.frame.DataFrame'>\n",
      "RangeIndex: 21525 entries, 0 to 21524\n",
      "Data columns (total 13 columns):\n",
      " #   Column              Non-Null Count  Dtype  \n",
      "---  ------              --------------  -----  \n",
      " 0   number_of_children  21525 non-null  int64  \n",
      " 1   days_employed       21525 non-null  float64\n",
      " 2   age_in_years        21525 non-null  int64  \n",
      " 3   education_level     21525 non-null  object \n",
      " 4   education_level_id  21525 non-null  int64  \n",
      " 5   family_status       21525 non-null  object \n",
      " 6   family_status_id    21525 non-null  int64  \n",
      " 7   sex                 21525 non-null  object \n",
      " 8   employment_type     21525 non-null  object \n",
      " 9   failed_to_pay_debt  21525 non-null  bool   \n",
      " 10  monthly_income      21525 non-null  int64  \n",
      " 11  credit_purpose      21525 non-null  object \n",
      " 12  delta               21525 non-null  float64\n",
      "dtypes: bool(1), float64(2), int64(5), object(5)\n",
      "memory usage: 2.0+ MB\n"
     ]
    }
   ],
   "source": [
    "df.info() # получим общую информацию о таблице df"
   ]
  },
  {
   "cell_type": "markdown",
   "id": "ac5ecf84",
   "metadata": {},
   "source": [
    "Взглянем и на сами значения:"
   ]
  },
  {
   "cell_type": "code",
   "execution_count": 47,
   "id": "ae55f7a9",
   "metadata": {},
   "outputs": [
    {
     "data": {
      "text/plain": [
       "failed_to_pay_debt\n",
       "False    19784\n",
       "True      1741\n",
       "Name: failed_to_pay_debt, dtype: int64"
      ]
     },
     "execution_count": 47,
     "metadata": {},
     "output_type": "execute_result"
    }
   ],
   "source": [
    "# посчитаем количество значений по категориям\n",
    "df.groupby('failed_to_pay_debt')['failed_to_pay_debt'].count()"
   ]
  },
  {
   "cell_type": "markdown",
   "id": "06d16094",
   "metadata": {},
   "source": [
    "Тип данных изменился, теперь взглянем на столбцы с типом данных float:\n",
    "\n",
    "Видно, что для дней и годов тип данных float не очень то и подходит, для дохода допустимо использовать float. К тому же у нас есть пропущенное значение NaN, которое не применяется в тип данных int. Изменим тип данных столбцов days_employed, age_in_years на int:"
   ]
  },
  {
   "cell_type": "code",
   "execution_count": 48,
   "id": "7e8f1e5f",
   "metadata": {},
   "outputs": [],
   "source": [
    "# преобразуем тип данных\n",
    "df['days_employed'] = df['days_employed'].astype('int')\n",
    "df['age_in_years'] = df['age_in_years'].astype('int')"
   ]
  },
  {
   "cell_type": "code",
   "execution_count": 49,
   "id": "d953fb50",
   "metadata": {},
   "outputs": [
    {
     "name": "stdout",
     "output_type": "stream",
     "text": [
      "<class 'pandas.core.frame.DataFrame'>\n",
      "RangeIndex: 21525 entries, 0 to 21524\n",
      "Data columns (total 13 columns):\n",
      " #   Column              Non-Null Count  Dtype  \n",
      "---  ------              --------------  -----  \n",
      " 0   number_of_children  21525 non-null  int64  \n",
      " 1   days_employed       21525 non-null  int64  \n",
      " 2   age_in_years        21525 non-null  int64  \n",
      " 3   education_level     21525 non-null  object \n",
      " 4   education_level_id  21525 non-null  int64  \n",
      " 5   family_status       21525 non-null  object \n",
      " 6   family_status_id    21525 non-null  int64  \n",
      " 7   sex                 21525 non-null  object \n",
      " 8   employment_type     21525 non-null  object \n",
      " 9   failed_to_pay_debt  21525 non-null  bool   \n",
      " 10  monthly_income      21525 non-null  int64  \n",
      " 11  credit_purpose      21525 non-null  object \n",
      " 12  delta               21525 non-null  float64\n",
      "dtypes: bool(1), float64(1), int64(6), object(5)\n",
      "memory usage: 2.0+ MB\n"
     ]
    }
   ],
   "source": [
    "df.info() # получим общую информацию о таблице df"
   ]
  },
  {
   "cell_type": "markdown",
   "id": "4c1cea35",
   "metadata": {},
   "source": [
    "На этом мы заканчиваем преобразование типов данных и переходим к категорированию."
   ]
  },
  {
   "cell_type": "markdown",
   "id": "701ec4c0",
   "metadata": {},
   "source": [
    "### Категоризация данных"
   ]
  },
  {
   "cell_type": "markdown",
   "id": "9aa42658",
   "metadata": {},
   "source": [
    "Нам необходимо сгруппировать различные цели получения кредита для более наглядного восприятия данных. Посмотрим сколько на текущий момент содержится в таблице различных целей получения кредита:"
   ]
  },
  {
   "cell_type": "code",
   "execution_count": 50,
   "id": "efed0cee",
   "metadata": {},
   "outputs": [
    {
     "data": {
      "text/plain": [
       "38"
      ]
     },
     "execution_count": 50,
     "metadata": {},
     "output_type": "execute_result"
    }
   ],
   "source": [
    "df.groupby('credit_purpose')['credit_purpose'].count().count() # считаем количество категорий"
   ]
  },
  {
   "cell_type": "markdown",
   "id": "b8da85e0",
   "metadata": {},
   "source": [
    "Давайте посмотрим с какими же целями клиенты обращаются за дополнительным финансированием в банк:"
   ]
  },
  {
   "cell_type": "code",
   "execution_count": 51,
   "id": "ebef8a95",
   "metadata": {},
   "outputs": [
    {
     "data": {
      "text/plain": [
       "credit_purpose\n",
       "автомобили                                478\n",
       "автомобиль                                495\n",
       "высшее образование                        453\n",
       "дополнительное образование                462\n",
       "жилье                                     647\n",
       "заняться высшим образованием              496\n",
       "заняться образованием                     412\n",
       "на покупку автомобиля                     472\n",
       "на покупку подержанного автомобиля        479\n",
       "на покупку своего автомобиля              505\n",
       "на проведение свадьбы                     777\n",
       "недвижимость                              634\n",
       "образование                               447\n",
       "операции с жильем                         653\n",
       "операции с коммерческой недвижимостью     651\n",
       "операции с недвижимостью                  676\n",
       "операции со своей недвижимостью           630\n",
       "покупка жилой недвижимости                607\n",
       "покупка жилья                             647\n",
       "покупка жилья для сдачи                   653\n",
       "покупка жилья для семьи                   641\n",
       "покупка коммерческой недвижимости         664\n",
       "покупка недвижимости                      624\n",
       "покупка своего жилья                      620\n",
       "получение высшего образования             426\n",
       "получение дополнительного образования     447\n",
       "получение образования                     443\n",
       "приобретение автомобиля                   462\n",
       "профильное образование                    436\n",
       "ремонт жилью                              612\n",
       "свадьба                                   797\n",
       "свой автомобиль                           480\n",
       "сделка с автомобилем                      455\n",
       "сделка с подержанным автомобилем          489\n",
       "строительство жилой недвижимости          626\n",
       "строительство недвижимости                620\n",
       "строительство собственной недвижимости    635\n",
       "сыграть свадьбу                           774\n",
       "Name: credit_purpose, dtype: int64"
      ]
     },
     "execution_count": 51,
     "metadata": {},
     "output_type": "execute_result"
    }
   ],
   "source": [
    "df.groupby('credit_purpose')['credit_purpose'].count() # выводим на экран список категорий"
   ]
  },
  {
   "cell_type": "markdown",
   "id": "78c52442",
   "metadata": {},
   "source": [
    "Оказывается не так уж и разнообразны предпочтения у клиентов банка. 38 разных формулировок похожих запросов. Напишем функцию для категоризации по целям. Но для начала определим эти категории."
   ]
  },
  {
   "cell_type": "code",
   "execution_count": 52,
   "id": "e344bf16",
   "metadata": {},
   "outputs": [],
   "source": [
    "auto_id = 'операции с автомобилем'\n",
    "estate_id = 'операции с недвижимостью'\n",
    "wedding_id = 'проведение свадьбы'\n",
    "edu_id = 'получение образования'"
   ]
  },
  {
   "cell_type": "markdown",
   "id": "c385b01c",
   "metadata": {},
   "source": [
    "Пишем функцию для категоризации. Выделив 4 ключевых слова:\n",
    "* недвижимость (жилье)\n",
    "* автомобиль\n",
    "* образование\n",
    "* свадьба"
   ]
  },
  {
   "cell_type": "code",
   "execution_count": 53,
   "id": "6a9876a7",
   "metadata": {},
   "outputs": [],
   "source": [
    "def purpose_categorizer(row):\n",
    "    if 'недвиж' in row['credit_purpose'] or 'жил' in row['credit_purpose']:\n",
    "        return estate_id\n",
    "    elif 'авто' in row['credit_purpose']:\n",
    "        return auto_id\n",
    "    elif 'образов' in row['credit_purpose']:\n",
    "        return edu_id\n",
    "    elif 'свадь' in row['credit_purpose']:\n",
    "        return wedding_id"
   ]
  },
  {
   "cell_type": "markdown",
   "id": "f188c875",
   "metadata": {},
   "source": [
    "Теперь применим эту функцию к нашей таблице."
   ]
  },
  {
   "cell_type": "code",
   "execution_count": 54,
   "id": "ba5201e1",
   "metadata": {},
   "outputs": [],
   "source": [
    "# применим функцию к таблице и сохраним результат в новый столбец\n",
    "df['purpose_category'] = df.apply(purpose_categorizer, axis = 1)"
   ]
  },
  {
   "cell_type": "code",
   "execution_count": 55,
   "id": "7650b41f",
   "metadata": {},
   "outputs": [
    {
     "data": {
      "text/html": [
       "<div>\n",
       "<style scoped>\n",
       "    .dataframe tbody tr th:only-of-type {\n",
       "        vertical-align: middle;\n",
       "    }\n",
       "\n",
       "    .dataframe tbody tr th {\n",
       "        vertical-align: top;\n",
       "    }\n",
       "\n",
       "    .dataframe thead th {\n",
       "        text-align: right;\n",
       "    }\n",
       "</style>\n",
       "<table border=\"1\" class=\"dataframe\">\n",
       "  <thead>\n",
       "    <tr style=\"text-align: right;\">\n",
       "      <th></th>\n",
       "      <th>number_of_children</th>\n",
       "      <th>days_employed</th>\n",
       "      <th>age_in_years</th>\n",
       "      <th>education_level</th>\n",
       "      <th>education_level_id</th>\n",
       "      <th>family_status</th>\n",
       "      <th>family_status_id</th>\n",
       "      <th>sex</th>\n",
       "      <th>employment_type</th>\n",
       "      <th>failed_to_pay_debt</th>\n",
       "      <th>monthly_income</th>\n",
       "      <th>credit_purpose</th>\n",
       "      <th>delta</th>\n",
       "      <th>purpose_category</th>\n",
       "    </tr>\n",
       "  </thead>\n",
       "  <tbody>\n",
       "    <tr>\n",
       "      <th>0</th>\n",
       "      <td>1</td>\n",
       "      <td>8437</td>\n",
       "      <td>42</td>\n",
       "      <td>высшее</td>\n",
       "      <td>0</td>\n",
       "      <td>женат / замужем</td>\n",
       "      <td>0</td>\n",
       "      <td>f</td>\n",
       "      <td>сотрудник</td>\n",
       "      <td>False</td>\n",
       "      <td>253875</td>\n",
       "      <td>покупка жилья</td>\n",
       "      <td>0.883088</td>\n",
       "      <td>операции с недвижимостью</td>\n",
       "    </tr>\n",
       "    <tr>\n",
       "      <th>1</th>\n",
       "      <td>1</td>\n",
       "      <td>4024</td>\n",
       "      <td>36</td>\n",
       "      <td>среднее</td>\n",
       "      <td>1</td>\n",
       "      <td>женат / замужем</td>\n",
       "      <td>0</td>\n",
       "      <td>f</td>\n",
       "      <td>сотрудник</td>\n",
       "      <td>False</td>\n",
       "      <td>112080</td>\n",
       "      <td>приобретение автомобиля</td>\n",
       "      <td>6.973140</td>\n",
       "      <td>операции с автомобилем</td>\n",
       "    </tr>\n",
       "    <tr>\n",
       "      <th>2</th>\n",
       "      <td>0</td>\n",
       "      <td>5326</td>\n",
       "      <td>33</td>\n",
       "      <td>среднее</td>\n",
       "      <td>1</td>\n",
       "      <td>женат / замужем</td>\n",
       "      <td>0</td>\n",
       "      <td>m</td>\n",
       "      <td>сотрудник</td>\n",
       "      <td>False</td>\n",
       "      <td>145885</td>\n",
       "      <td>покупка жилья</td>\n",
       "      <td>-0.406637</td>\n",
       "      <td>операции с недвижимостью</td>\n",
       "    </tr>\n",
       "    <tr>\n",
       "      <th>3</th>\n",
       "      <td>3</td>\n",
       "      <td>4124</td>\n",
       "      <td>32</td>\n",
       "      <td>среднее</td>\n",
       "      <td>1</td>\n",
       "      <td>женат / замужем</td>\n",
       "      <td>0</td>\n",
       "      <td>m</td>\n",
       "      <td>сотрудник</td>\n",
       "      <td>False</td>\n",
       "      <td>267628</td>\n",
       "      <td>дополнительное образование</td>\n",
       "      <td>2.699323</td>\n",
       "      <td>получение образования</td>\n",
       "    </tr>\n",
       "    <tr>\n",
       "      <th>4</th>\n",
       "      <td>0</td>\n",
       "      <td>11372</td>\n",
       "      <td>53</td>\n",
       "      <td>среднее</td>\n",
       "      <td>1</td>\n",
       "      <td>гражданский брак</td>\n",
       "      <td>1</td>\n",
       "      <td>f</td>\n",
       "      <td>пенсионер</td>\n",
       "      <td>False</td>\n",
       "      <td>158616</td>\n",
       "      <td>сыграть свадьбу</td>\n",
       "      <td>-3.843159</td>\n",
       "      <td>проведение свадьбы</td>\n",
       "    </tr>\n",
       "  </tbody>\n",
       "</table>\n",
       "</div>"
      ],
      "text/plain": [
       "   number_of_children  days_employed  age_in_years education_level  \\\n",
       "0                   1           8437            42          высшее   \n",
       "1                   1           4024            36         среднее   \n",
       "2                   0           5326            33         среднее   \n",
       "3                   3           4124            32         среднее   \n",
       "4                   0          11372            53         среднее   \n",
       "\n",
       "   education_level_id     family_status  family_status_id sex employment_type  \\\n",
       "0                   0   женат / замужем                 0   f       сотрудник   \n",
       "1                   1   женат / замужем                 0   f       сотрудник   \n",
       "2                   1   женат / замужем                 0   m       сотрудник   \n",
       "3                   1   женат / замужем                 0   m       сотрудник   \n",
       "4                   1  гражданский брак                 1   f       пенсионер   \n",
       "\n",
       "   failed_to_pay_debt  monthly_income              credit_purpose     delta  \\\n",
       "0               False          253875               покупка жилья  0.883088   \n",
       "1               False          112080     приобретение автомобиля  6.973140   \n",
       "2               False          145885               покупка жилья -0.406637   \n",
       "3               False          267628  дополнительное образование  2.699323   \n",
       "4               False          158616             сыграть свадьбу -3.843159   \n",
       "\n",
       "           purpose_category  \n",
       "0  операции с недвижимостью  \n",
       "1    операции с автомобилем  \n",
       "2  операции с недвижимостью  \n",
       "3     получение образования  \n",
       "4        проведение свадьбы  "
      ]
     },
     "execution_count": 55,
     "metadata": {},
     "output_type": "execute_result"
    }
   ],
   "source": [
    "df.head()"
   ]
  },
  {
   "cell_type": "markdown",
   "id": "9cfe9a66",
   "metadata": {},
   "source": [
    "Теперь сделаем словарь для семейного положения:"
   ]
  },
  {
   "cell_type": "code",
   "execution_count": 56,
   "id": "8c3dc774",
   "metadata": {},
   "outputs": [
    {
     "data": {
      "text/html": [
       "<div>\n",
       "<style scoped>\n",
       "    .dataframe tbody tr th:only-of-type {\n",
       "        vertical-align: middle;\n",
       "    }\n",
       "\n",
       "    .dataframe tbody tr th {\n",
       "        vertical-align: top;\n",
       "    }\n",
       "\n",
       "    .dataframe thead th {\n",
       "        text-align: right;\n",
       "    }\n",
       "</style>\n",
       "<table border=\"1\" class=\"dataframe\">\n",
       "  <thead>\n",
       "    <tr style=\"text-align: right;\">\n",
       "      <th></th>\n",
       "      <th>family_status_id</th>\n",
       "      <th>family_status</th>\n",
       "    </tr>\n",
       "  </thead>\n",
       "  <tbody>\n",
       "    <tr>\n",
       "      <th>0</th>\n",
       "      <td>0</td>\n",
       "      <td>женат / замужем</td>\n",
       "    </tr>\n",
       "    <tr>\n",
       "      <th>1</th>\n",
       "      <td>1</td>\n",
       "      <td>гражданский брак</td>\n",
       "    </tr>\n",
       "    <tr>\n",
       "      <th>2</th>\n",
       "      <td>2</td>\n",
       "      <td>вдовец / вдова</td>\n",
       "    </tr>\n",
       "    <tr>\n",
       "      <th>3</th>\n",
       "      <td>3</td>\n",
       "      <td>в разводе</td>\n",
       "    </tr>\n",
       "    <tr>\n",
       "      <th>4</th>\n",
       "      <td>4</td>\n",
       "      <td>не женат / не замужем</td>\n",
       "    </tr>\n",
       "  </tbody>\n",
       "</table>\n",
       "</div>"
      ],
      "text/plain": [
       "   family_status_id          family_status\n",
       "0                 0        женат / замужем\n",
       "1                 1       гражданский брак\n",
       "2                 2         вдовец / вдова\n",
       "3                 3              в разводе\n",
       "4                 4  не женат / не замужем"
      ]
     },
     "execution_count": 56,
     "metadata": {},
     "output_type": "execute_result"
    }
   ],
   "source": [
    "# добавим в переменную family_status_dict столбцы 'family_status' и 'family_status_id' из основной таблицы\n",
    "family_status_dict = df[['family_status_id', 'family_status']]\n",
    "# избавимся от дубликатов\n",
    "family_status_dict = family_status_dict.drop_duplicates().reset_index(drop = True)\n",
    "# выведем словарь на экран\n",
    "family_status_dict"
   ]
  },
  {
   "cell_type": "markdown",
   "id": "7e7833bf",
   "metadata": {},
   "source": [
    "Теперь уберём столбцы с названиями этих категорий из основной таблицы:"
   ]
  },
  {
   "cell_type": "code",
   "execution_count": 57,
   "id": "ad9f0b78",
   "metadata": {},
   "outputs": [],
   "source": [
    "# уберём из основной таблицы названия категорий по уровню образования и семейному положению\n",
    "df = df[['number_of_children',\n",
    "         'days_employed',\n",
    "         'age_in_years',\n",
    "         'education_level_id',\n",
    "         'family_status_id',\n",
    "         'sex',\n",
    "         'employment_type',\n",
    "         'failed_to_pay_debt',\n",
    "         'monthly_income',\n",
    "         'purpose_category'\n",
    "        ]]"
   ]
  },
  {
   "cell_type": "markdown",
   "id": "01b1ca53",
   "metadata": {},
   "source": [
    "Взглянем на информацию о таблице:"
   ]
  },
  {
   "cell_type": "code",
   "execution_count": 58,
   "id": "36d4f54f",
   "metadata": {},
   "outputs": [
    {
     "name": "stdout",
     "output_type": "stream",
     "text": [
      "<class 'pandas.core.frame.DataFrame'>\n",
      "RangeIndex: 21525 entries, 0 to 21524\n",
      "Data columns (total 10 columns):\n",
      " #   Column              Non-Null Count  Dtype \n",
      "---  ------              --------------  ----- \n",
      " 0   number_of_children  21525 non-null  int64 \n",
      " 1   days_employed       21525 non-null  int64 \n",
      " 2   age_in_years        21525 non-null  int64 \n",
      " 3   education_level_id  21525 non-null  int64 \n",
      " 4   family_status_id    21525 non-null  int64 \n",
      " 5   sex                 21525 non-null  object\n",
      " 6   employment_type     21525 non-null  object\n",
      " 7   failed_to_pay_debt  21525 non-null  bool  \n",
      " 8   monthly_income      21525 non-null  int64 \n",
      " 9   purpose_category    21525 non-null  object\n",
      "dtypes: bool(1), int64(6), object(3)\n",
      "memory usage: 1.5+ MB\n"
     ]
    }
   ],
   "source": [
    "df.info() # получим общую информацию о таблице df"
   ]
  },
  {
   "cell_type": "markdown",
   "id": "b238f38e",
   "metadata": {},
   "source": [
    "Кроме этих столбцов у нас есть еще два столбца, которые можно категорировать. Например, по количеству детей можно выделить категории бездетных (0 детей), малодетных (от 0 до 3 детей) и многодетных (3 и более детей). Для этого опишем специальную функцию:"
   ]
  },
  {
   "cell_type": "code",
   "execution_count": 59,
   "id": "a5b789d0",
   "metadata": {},
   "outputs": [],
   "source": [
    "# определим функцию для категоризации в зависимости от количества детей\n",
    "def children_categorizer(row):\n",
    "    if row['number_of_children'] == 0:\n",
    "        return 0\n",
    "    elif (row['number_of_children'] > 0) and (row['number_of_children'] < 3):\n",
    "        return 1\n",
    "    elif (row['number_of_children'] >= 3):\n",
    "        return 2"
   ]
  },
  {
   "cell_type": "markdown",
   "id": "3287df66",
   "metadata": {},
   "source": [
    "Теперь применим эту функцию к таблице и сохраним результат в отдельный столбец `number_of_children_id`:"
   ]
  },
  {
   "cell_type": "code",
   "execution_count": 60,
   "id": "71503f32",
   "metadata": {},
   "outputs": [],
   "source": [
    "# применим функцию к таблице и сохраним результат в новый столбец\n",
    "df['number_of_children_id'] = df.apply(children_categorizer, axis = 1)"
   ]
  },
  {
   "cell_type": "markdown",
   "id": "868cc2a8",
   "metadata": {},
   "source": [
    "Проверим, получилось ли создать новый столбец. Выведем на экран сгруппированную по категориям сводку:"
   ]
  },
  {
   "cell_type": "code",
   "execution_count": 61,
   "id": "ea4f8f90",
   "metadata": {},
   "outputs": [
    {
     "data": {
      "text/plain": [
       "number_of_children_id\n",
       "0    14272\n",
       "1     6873\n",
       "2      380\n",
       "Name: number_of_children_id, dtype: int64"
      ]
     },
     "execution_count": 61,
     "metadata": {},
     "output_type": "execute_result"
    }
   ],
   "source": [
    "# выведем на экран новые категории\n",
    "df.groupby('number_of_children_id')['number_of_children_id'].count()"
   ]
  },
  {
   "cell_type": "markdown",
   "id": "a7ccdb90",
   "metadata": {},
   "source": [
    "Также мы можем провести категорирование по столбцу monthly_income. \n",
    "Напишем функцию, которая разделит данные на следующие категории:\n",
    "* `E` - 0 - 30000\n",
    "* `D` - 30001 - 50000\n",
    "* `C` - 50001 - 200000\n",
    "* `B` - 200001 - 1000000\n",
    "* `A` - 1000001 и выше"
   ]
  },
  {
   "cell_type": "code",
   "execution_count": 62,
   "id": "a1866682",
   "metadata": {},
   "outputs": [],
   "source": [
    "def income_categorizer(row):\n",
    "    if row['monthly_income'] < 30000:\n",
    "        return \"E\"\n",
    "    elif 30001 <= row['monthly_income'] <= 50000:\n",
    "        return \"D\"\n",
    "    elif 50001<= row['monthly_income'] <= 200000:\n",
    "        return \"C\"\n",
    "    elif 200001<= row['monthly_income'] <= 1000000:\n",
    "        return \"B\"\n",
    "    elif row['monthly_income'] >= 1000001:\n",
    "        return \"A\""
   ]
  },
  {
   "cell_type": "markdown",
   "id": "5a54f35c",
   "metadata": {},
   "source": [
    "Применим функцию к таблице и сохраним результат в столбце `monthly_income_id`:"
   ]
  },
  {
   "cell_type": "code",
   "execution_count": 63,
   "id": "983992d3",
   "metadata": {},
   "outputs": [],
   "source": [
    "# присваиваем столбцу результат применения функции к таблице\n",
    "df['monthly_income_id'] = df.apply(income_categorizer, axis = 1)"
   ]
  },
  {
   "cell_type": "markdown",
   "id": "8e2da3e8",
   "metadata": {},
   "source": [
    "Проверим, получилось ли создать новый столбец. Выведем на экран сгруппированную по категориям сводку:"
   ]
  },
  {
   "cell_type": "code",
   "execution_count": 64,
   "id": "46d1cd33",
   "metadata": {},
   "outputs": [
    {
     "data": {
      "text/plain": [
       "monthly_income_id\n",
       "A       25\n",
       "B     5041\n",
       "C    16087\n",
       "D      350\n",
       "E       22\n",
       "Name: monthly_income_id, dtype: int64"
      ]
     },
     "execution_count": 64,
     "metadata": {},
     "output_type": "execute_result"
    }
   ],
   "source": [
    "# выведем на экран результат присвоения новых id\n",
    "df.groupby('monthly_income_id')['monthly_income_id'].count()"
   ]
  },
  {
   "cell_type": "markdown",
   "id": "41191fc4",
   "metadata": {},
   "source": [
    "Создадим словарь, сохраним в переменной `monthly_income_dict` и выведем его на экран:"
   ]
  },
  {
   "cell_type": "code",
   "execution_count": 65,
   "id": "c6b7bd92",
   "metadata": {},
   "outputs": [
    {
     "data": {
      "text/html": [
       "<div>\n",
       "<style scoped>\n",
       "    .dataframe tbody tr th:only-of-type {\n",
       "        vertical-align: middle;\n",
       "    }\n",
       "\n",
       "    .dataframe tbody tr th {\n",
       "        vertical-align: top;\n",
       "    }\n",
       "\n",
       "    .dataframe thead th {\n",
       "        text-align: right;\n",
       "    }\n",
       "</style>\n",
       "<table border=\"1\" class=\"dataframe\">\n",
       "  <thead>\n",
       "    <tr style=\"text-align: right;\">\n",
       "      <th></th>\n",
       "      <th>monthly_income_id</th>\n",
       "      <th>monthly_income_type</th>\n",
       "    </tr>\n",
       "  </thead>\n",
       "  <tbody>\n",
       "    <tr>\n",
       "      <th>0</th>\n",
       "      <td>A</td>\n",
       "      <td>1000001 и выше</td>\n",
       "    </tr>\n",
       "    <tr>\n",
       "      <th>1</th>\n",
       "      <td>B</td>\n",
       "      <td>200001 - 1000000</td>\n",
       "    </tr>\n",
       "    <tr>\n",
       "      <th>2</th>\n",
       "      <td>C</td>\n",
       "      <td>50001 - 200000</td>\n",
       "    </tr>\n",
       "    <tr>\n",
       "      <th>3</th>\n",
       "      <td>D</td>\n",
       "      <td>30001 - 50000</td>\n",
       "    </tr>\n",
       "    <tr>\n",
       "      <th>4</th>\n",
       "      <td>E</td>\n",
       "      <td>0 - 30000</td>\n",
       "    </tr>\n",
       "  </tbody>\n",
       "</table>\n",
       "</div>"
      ],
      "text/plain": [
       "  monthly_income_id monthly_income_type\n",
       "0                 A      1000001 и выше\n",
       "1                 B    200001 - 1000000\n",
       "2                 C      50001 - 200000\n",
       "3                 D       30001 - 50000\n",
       "4                 E           0 - 30000"
      ]
     },
     "execution_count": 65,
     "metadata": {},
     "output_type": "execute_result"
    }
   ],
   "source": [
    "# создадим таблицу-словарь\n",
    "monthly_income_dict = pd.DataFrame.from_dict({\n",
    "    'monthly_income_id': ['A', 'B', 'C', 'D', 'E'], \n",
    "    'monthly_income_type': ['1000001 и выше', '200001 - 1000000', '50001 - 200000', '30001 - 50000', '0 - 30000']\n",
    "})\n",
    "# и выведем её на экран\n",
    "monthly_income_dict"
   ]
  },
  {
   "cell_type": "markdown",
   "id": "f2a8ca93",
   "metadata": {},
   "source": [
    "\n"
   ]
  },
  {
   "cell_type": "markdown",
   "id": "a626fdbb",
   "metadata": {},
   "source": [
    "## Проверка гипотез"
   ]
  },
  {
   "cell_type": "markdown",
   "id": "2d370850",
   "metadata": {},
   "source": [
    "Теперь нам необходимо использовать предобработанные данные для ответа на следующие вопросы:\n",
    "\n",
    "- Есть ли зависимость между наличием детей и возвратом кредита в срок?\n",
    "- Есть ли зависимость между семейным положением и возвратом кредита в срок?\n",
    "- Есть ли зависимость между уровнем дохода и возвратом кредита в срок?\n",
    "- Как разные цели кредита влияют на его возврат в срок?"
   ]
  },
  {
   "cell_type": "markdown",
   "id": "a75373cc",
   "metadata": {},
   "source": [
    "Для начала оценим среднюю вероятность невозврата кредита в срок для всех клиентов:"
   ]
  },
  {
   "cell_type": "code",
   "execution_count": 66,
   "id": "4ecf4efc",
   "metadata": {},
   "outputs": [
    {
     "name": "stdout",
     "output_type": "stream",
     "text": [
      "Средняя вероятность невозврата кредита в срок: 8.09%\n"
     ]
    }
   ],
   "source": [
    "# выведем на экран строку и отформатируем среднее по столбцу `failed_to_pay_debt` в процентах с двумя знаками после запятой\n",
    "print('Средняя вероятность невозврата кредита в срок: {:.2%}'.format(df['failed_to_pay_debt'].mean()))"
   ]
  },
  {
   "cell_type": "markdown",
   "id": "447b5df3",
   "metadata": {},
   "source": [
    "Теперь посмотрим как зависит вероятность невозврата кредита в срок от различных параметров."
   ]
  },
  {
   "cell_type": "markdown",
   "id": "44cfe2b2",
   "metadata": {},
   "source": [
    "### 3.1 Как влияет наличие детей на возврат кредита в срок?"
   ]
  },
  {
   "cell_type": "markdown",
   "id": "bdd393ca",
   "metadata": {},
   "source": [
    "Мы уже разделили клиентов на три категории в зависимости от количества детей. Теперь посмотрим какая вероятность невозврата кредита в срок для каждой из категорий:"
   ]
  },
  {
   "cell_type": "code",
   "execution_count": 67,
   "id": "a6565cb5",
   "metadata": {},
   "outputs": [
    {
     "data": {
      "text/html": [
       "<div>\n",
       "<style scoped>\n",
       "    .dataframe tbody tr th:only-of-type {\n",
       "        vertical-align: middle;\n",
       "    }\n",
       "\n",
       "    .dataframe tbody tr th {\n",
       "        vertical-align: top;\n",
       "    }\n",
       "\n",
       "    .dataframe thead th {\n",
       "        text-align: right;\n",
       "    }\n",
       "</style>\n",
       "<table border=\"1\" class=\"dataframe\">\n",
       "  <thead>\n",
       "    <tr style=\"text-align: right;\">\n",
       "      <th></th>\n",
       "      <th>failed_to_pay_debt</th>\n",
       "      <th>mean</th>\n",
       "    </tr>\n",
       "    <tr>\n",
       "      <th>number_of_children_id</th>\n",
       "      <th></th>\n",
       "      <th></th>\n",
       "    </tr>\n",
       "  </thead>\n",
       "  <tbody>\n",
       "    <tr>\n",
       "      <th>1</th>\n",
       "      <td>6873</td>\n",
       "      <td>0.092827</td>\n",
       "    </tr>\n",
       "    <tr>\n",
       "      <th>2</th>\n",
       "      <td>380</td>\n",
       "      <td>0.081579</td>\n",
       "    </tr>\n",
       "    <tr>\n",
       "      <th>0</th>\n",
       "      <td>14272</td>\n",
       "      <td>0.075112</td>\n",
       "    </tr>\n",
       "  </tbody>\n",
       "</table>\n",
       "</div>"
      ],
      "text/plain": [
       "                       failed_to_pay_debt      mean\n",
       "number_of_children_id                              \n",
       "1                                    6873  0.092827\n",
       "2                                     380  0.081579\n",
       "0                                   14272  0.075112"
      ]
     },
     "execution_count": 67,
     "metadata": {},
     "output_type": "execute_result"
    }
   ],
   "source": [
    "# создаём сводную таблицу и сохраняем её в переменную\n",
    "#children_guess = df.groupby('number_of_children_id')['failed_to_pay_debt'].agg(['count', 'mean'])\n",
    "children_guess = df.pivot_table(index=['number_of_children_id'], values='failed_to_pay_debt', aggfunc='count')\n",
    "children_guess['mean'] = df.groupby('number_of_children_id')['failed_to_pay_debt'].agg(['mean'])\n",
    "# сортируем значения в порядке убывания\n",
    "children_guess.sort_values(by = ['mean'], ascending = False)"
   ]
  },
  {
   "cell_type": "markdown",
   "id": "4cc79f72",
   "metadata": {},
   "source": [
    "Как видим, клиенты с детьми в среднем не возвращают долг в срок чаще, чем бездетные. При этом вероятность невозврата и для малодетных и для многодетных клиентов выше средней."
   ]
  },
  {
   "cell_type": "markdown",
   "id": "04580b4c",
   "metadata": {},
   "source": [
    "### С какой веротностью вернут кредит в срок клиенты с разным семейным положением?"
   ]
  },
  {
   "cell_type": "markdown",
   "id": "e820a2c7",
   "metadata": {},
   "source": [
    "Теперь оценим зависимость возврата кредита в срок от семейного положения клиента.\n",
    "\n",
    "Построим сводную таблицу:"
   ]
  },
  {
   "cell_type": "code",
   "execution_count": 68,
   "id": "12ff8b44",
   "metadata": {},
   "outputs": [
    {
     "data": {
      "text/html": [
       "<div>\n",
       "<style scoped>\n",
       "    .dataframe tbody tr th:only-of-type {\n",
       "        vertical-align: middle;\n",
       "    }\n",
       "\n",
       "    .dataframe tbody tr th {\n",
       "        vertical-align: top;\n",
       "    }\n",
       "\n",
       "    .dataframe thead th {\n",
       "        text-align: right;\n",
       "    }\n",
       "</style>\n",
       "<table border=\"1\" class=\"dataframe\">\n",
       "  <thead>\n",
       "    <tr style=\"text-align: right;\">\n",
       "      <th></th>\n",
       "      <th>count</th>\n",
       "      <th>mean</th>\n",
       "      <th>family_status</th>\n",
       "    </tr>\n",
       "    <tr>\n",
       "      <th>family_status_id</th>\n",
       "      <th></th>\n",
       "      <th></th>\n",
       "      <th></th>\n",
       "    </tr>\n",
       "  </thead>\n",
       "  <tbody>\n",
       "    <tr>\n",
       "      <th>4</th>\n",
       "      <td>2813</td>\n",
       "      <td>0.097405</td>\n",
       "      <td>не женат / не замужем</td>\n",
       "    </tr>\n",
       "    <tr>\n",
       "      <th>1</th>\n",
       "      <td>4177</td>\n",
       "      <td>0.092890</td>\n",
       "      <td>гражданский брак</td>\n",
       "    </tr>\n",
       "    <tr>\n",
       "      <th>0</th>\n",
       "      <td>12380</td>\n",
       "      <td>0.075202</td>\n",
       "      <td>женат / замужем</td>\n",
       "    </tr>\n",
       "    <tr>\n",
       "      <th>3</th>\n",
       "      <td>1195</td>\n",
       "      <td>0.071130</td>\n",
       "      <td>в разводе</td>\n",
       "    </tr>\n",
       "    <tr>\n",
       "      <th>2</th>\n",
       "      <td>960</td>\n",
       "      <td>0.065625</td>\n",
       "      <td>вдовец / вдова</td>\n",
       "    </tr>\n",
       "  </tbody>\n",
       "</table>\n",
       "</div>"
      ],
      "text/plain": [
       "                  count      mean          family_status\n",
       "family_status_id                                        \n",
       "4                  2813  0.097405  не женат / не замужем\n",
       "1                  4177  0.092890       гражданский брак\n",
       "0                 12380  0.075202        женат / замужем\n",
       "3                  1195  0.071130              в разводе\n",
       "2                   960  0.065625         вдовец / вдова"
      ]
     },
     "execution_count": 68,
     "metadata": {},
     "output_type": "execute_result"
    }
   ],
   "source": [
    "# создаём сводную таблицу и сохраняем её в переменную\n",
    "family_guess = df.groupby('family_status_id')['failed_to_pay_debt'].agg(['count', 'mean'])\n",
    "# добавляем столбец с названиями групп\n",
    "family_guess['family_status'] = family_status_dict['family_status']\n",
    "# сортируем значения в порядке убывания\n",
    "family_guess.sort_values(by = ['mean'], ascending = False)"
   ]
  },
  {
   "cell_type": "markdown",
   "id": "a5261758",
   "metadata": {},
   "source": [
    "Видим, что те клиенты, которые не состояли в брачных отношениях или не зарегистрировали их официально показывают вероятность не расплатиться в срок выше средней. Клиенты, состоящие или состоявшие в браке, показывают повышенную относительно средней вероятность вернуть кредит вовремя. При этом вдовцы и вдовы оказались надёжнее разведённых клиентов, а они, в свою очередь, надёжнее клиентов, состоящих в браке."
   ]
  },
  {
   "cell_type": "markdown",
   "id": "f1aec51f",
   "metadata": {},
   "source": [
    "### Кто вероятнее расплатится в срок - бедный или богатый?"
   ]
  },
  {
   "cell_type": "markdown",
   "id": "ef576fd5",
   "metadata": {},
   "source": [
    "Проверим, как зависит вероятность расплатится в срок от дохода клиента в месяц. Посмотрим на сводную таблицу по группам по уровню дохода:"
   ]
  },
  {
   "cell_type": "code",
   "execution_count": 69,
   "id": "4d1171d1",
   "metadata": {},
   "outputs": [
    {
     "data": {
      "text/html": [
       "<div>\n",
       "<style scoped>\n",
       "    .dataframe tbody tr th:only-of-type {\n",
       "        vertical-align: middle;\n",
       "    }\n",
       "\n",
       "    .dataframe tbody tr th {\n",
       "        vertical-align: top;\n",
       "    }\n",
       "\n",
       "    .dataframe thead th {\n",
       "        text-align: right;\n",
       "    }\n",
       "</style>\n",
       "<table border=\"1\" class=\"dataframe\">\n",
       "  <thead>\n",
       "    <tr style=\"text-align: right;\">\n",
       "      <th></th>\n",
       "      <th>count</th>\n",
       "      <th>mean</th>\n",
       "    </tr>\n",
       "    <tr>\n",
       "      <th>monthly_income_id</th>\n",
       "      <th></th>\n",
       "      <th></th>\n",
       "    </tr>\n",
       "  </thead>\n",
       "  <tbody>\n",
       "    <tr>\n",
       "      <th>E</th>\n",
       "      <td>22</td>\n",
       "      <td>0.090909</td>\n",
       "    </tr>\n",
       "    <tr>\n",
       "      <th>C</th>\n",
       "      <td>16087</td>\n",
       "      <td>0.084540</td>\n",
       "    </tr>\n",
       "    <tr>\n",
       "      <th>A</th>\n",
       "      <td>25</td>\n",
       "      <td>0.080000</td>\n",
       "    </tr>\n",
       "    <tr>\n",
       "      <th>B</th>\n",
       "      <td>5041</td>\n",
       "      <td>0.070621</td>\n",
       "    </tr>\n",
       "    <tr>\n",
       "      <th>D</th>\n",
       "      <td>350</td>\n",
       "      <td>0.060000</td>\n",
       "    </tr>\n",
       "  </tbody>\n",
       "</table>\n",
       "</div>"
      ],
      "text/plain": [
       "                   count      mean\n",
       "monthly_income_id                 \n",
       "E                     22  0.090909\n",
       "C                  16087  0.084540\n",
       "A                     25  0.080000\n",
       "B                   5041  0.070621\n",
       "D                    350  0.060000"
      ]
     },
     "execution_count": 69,
     "metadata": {},
     "output_type": "execute_result"
    }
   ],
   "source": [
    "# создаём сводную таблицу и сохраняем её в переменную\n",
    "monthly_income_guess = df.groupby('monthly_income_id')['failed_to_pay_debt'].agg(['count', 'mean'])\n",
    "\n",
    "# сортируем значения в порядке убывания, убираем строку с отсутствующим доходом\n",
    "monthly_income_guess.sort_values(by = ['mean'], ascending = False)"
   ]
  },
  {
   "cell_type": "markdown",
   "id": "eec14e72",
   "metadata": {},
   "source": [
    "Оказалось, что наименее надёжными оказались клиенты с доходами от 200001 до 1000000, следом за ними идут клиенты с доходами от 30001 до 50000."
   ]
  },
  {
   "cell_type": "markdown",
   "id": "33997558",
   "metadata": {},
   "source": [
    "### Свадьба или образование? Автомобиль или недвижимость? Где риски невозврата кредита выше?"
   ]
  },
  {
   "cell_type": "markdown",
   "id": "4c3205fc",
   "metadata": {},
   "source": [
    "Ответим теперь на последний вопрос: как связаны цели кредита и вероятность его возврата в срок?\n",
    "\n",
    "Построим сводную таблицу:"
   ]
  },
  {
   "cell_type": "code",
   "execution_count": 70,
   "id": "8ed2255e",
   "metadata": {},
   "outputs": [
    {
     "data": {
      "text/html": [
       "<div>\n",
       "<style scoped>\n",
       "    .dataframe tbody tr th:only-of-type {\n",
       "        vertical-align: middle;\n",
       "    }\n",
       "\n",
       "    .dataframe tbody tr th {\n",
       "        vertical-align: top;\n",
       "    }\n",
       "\n",
       "    .dataframe thead th {\n",
       "        text-align: right;\n",
       "    }\n",
       "</style>\n",
       "<table border=\"1\" class=\"dataframe\">\n",
       "  <thead>\n",
       "    <tr style=\"text-align: right;\">\n",
       "      <th></th>\n",
       "      <th>count</th>\n",
       "      <th>mean</th>\n",
       "    </tr>\n",
       "    <tr>\n",
       "      <th>purpose_category</th>\n",
       "      <th></th>\n",
       "      <th></th>\n",
       "    </tr>\n",
       "  </thead>\n",
       "  <tbody>\n",
       "    <tr>\n",
       "      <th>операции с автомобилем</th>\n",
       "      <td>4315</td>\n",
       "      <td>0.093395</td>\n",
       "    </tr>\n",
       "    <tr>\n",
       "      <th>получение образования</th>\n",
       "      <td>4022</td>\n",
       "      <td>0.091994</td>\n",
       "    </tr>\n",
       "    <tr>\n",
       "      <th>проведение свадьбы</th>\n",
       "      <td>2348</td>\n",
       "      <td>0.079216</td>\n",
       "    </tr>\n",
       "    <tr>\n",
       "      <th>операции с недвижимостью</th>\n",
       "      <td>10840</td>\n",
       "      <td>0.072140</td>\n",
       "    </tr>\n",
       "  </tbody>\n",
       "</table>\n",
       "</div>"
      ],
      "text/plain": [
       "                          count      mean\n",
       "purpose_category                         \n",
       "операции с автомобилем     4315  0.093395\n",
       "получение образования      4022  0.091994\n",
       "проведение свадьбы         2348  0.079216\n",
       "операции с недвижимостью  10840  0.072140"
      ]
     },
     "execution_count": 70,
     "metadata": {},
     "output_type": "execute_result"
    }
   ],
   "source": [
    "# создаём сводную таблицу и сортируем в порядке убывания\n",
    "df.groupby('purpose_category')['failed_to_pay_debt'].agg(['count', 'mean']).sort_values(by = ['mean'], ascending = False)"
   ]
  },
  {
   "cell_type": "markdown",
   "id": "b229d2ce",
   "metadata": {},
   "source": [
    "Из таблицы следует, что когда целью кредита выступает автомобиль или образование, риск невозврата кредита в срок возрастает и оказывается выше среднего. При этом, если кредит приобретается для свадьбы или недвижимости, риски наоборот ниже средних."
   ]
  },
  {
   "cell_type": "markdown",
   "id": "18b5f5ba",
   "metadata": {},
   "source": [
    "## Результаты исследования"
   ]
  },
  {
   "cell_type": "markdown",
   "id": "6cf71cf1",
   "metadata": {},
   "source": [
    "### Общие выводы"
   ]
  },
  {
   "cell_type": "markdown",
   "id": "9b0f1449",
   "metadata": {},
   "source": [
    "В этом исследовании нас интересовали ответы на следующие вопросы:\n",
    "\n",
    "* Есть ли зависимость между наличием детей и возвратом кредита в срок?\n",
    "* Есть ли зависимость между семейным положением и возвратом кредита в срок?\n",
    "* Есть ли зависимость между уровнем дохода и возвратом кредита в срок?\n",
    "* Как разные цели кредита влияют на его возврат в срок?\n",
    "\n",
    "Общие результаты\n",
    "Все эти параметры так или иначе связаны с вероятностью невозвращения кредита в срок. При этом не обязательно прямое влияние этих признаков, возможно наличие другого параметра, скрытого, но влияющего и на вероятность возврата кредита и на какой-то из вышеуказанных параметров.\n",
    "\n",
    "При этом можно сказать, что зависимости проявляют себя: ни по одному параметру не было отклонения меньше 1%, не было параметров, по которым между категориями не было различий.\n",
    "\n",
    "Основываясь на результатах исследования, можно сказать, что профиль наиболее рискового клиента: малодетный, не состоящий в браке, со средним доходом, хочет купить автомобиль или оплатить учёбу. Наличие таких признаков не значит, что нужно обязательно отказывать в кредите, однако стоит рассмотреть изменение условий для такого рода клиентов.\n",
    "\n",
    "Кроме того, результаты этого исследования целесообразно учесть при составлении скоринговой модели для оценки кредитоспособности клиентов банка."
   ]
  }
 ],
 "metadata": {
  "ExecuteTimeLog": [
   {
    "duration": 2566,
    "start_time": "2022-03-02T07:50:54.858Z"
   },
   {
    "duration": -481,
    "start_time": "2022-03-02T07:50:57.912Z"
   },
   {
    "duration": -485,
    "start_time": "2022-03-02T07:50:57.917Z"
   },
   {
    "duration": -486,
    "start_time": "2022-03-02T07:50:57.920Z"
   },
   {
    "duration": -488,
    "start_time": "2022-03-02T07:50:57.923Z"
   },
   {
    "duration": -488,
    "start_time": "2022-03-02T07:50:57.925Z"
   },
   {
    "duration": -489,
    "start_time": "2022-03-02T07:50:57.928Z"
   },
   {
    "duration": -491,
    "start_time": "2022-03-02T07:50:57.931Z"
   },
   {
    "duration": -493,
    "start_time": "2022-03-02T07:50:57.935Z"
   },
   {
    "duration": -494,
    "start_time": "2022-03-02T07:50:57.937Z"
   },
   {
    "duration": -495,
    "start_time": "2022-03-02T07:50:57.940Z"
   },
   {
    "duration": -497,
    "start_time": "2022-03-02T07:50:57.943Z"
   },
   {
    "duration": -499,
    "start_time": "2022-03-02T07:50:57.947Z"
   },
   {
    "duration": -501,
    "start_time": "2022-03-02T07:50:57.950Z"
   },
   {
    "duration": -503,
    "start_time": "2022-03-02T07:50:57.954Z"
   },
   {
    "duration": -505,
    "start_time": "2022-03-02T07:50:57.957Z"
   },
   {
    "duration": -507,
    "start_time": "2022-03-02T07:50:57.961Z"
   },
   {
    "duration": -509,
    "start_time": "2022-03-02T07:50:57.964Z"
   },
   {
    "duration": -510,
    "start_time": "2022-03-02T07:50:57.967Z"
   },
   {
    "duration": -511,
    "start_time": "2022-03-02T07:50:57.970Z"
   },
   {
    "duration": -513,
    "start_time": "2022-03-02T07:50:57.973Z"
   },
   {
    "duration": -514,
    "start_time": "2022-03-02T07:50:57.976Z"
   },
   {
    "duration": -516,
    "start_time": "2022-03-02T07:50:57.979Z"
   },
   {
    "duration": -518,
    "start_time": "2022-03-02T07:50:57.982Z"
   },
   {
    "duration": -519,
    "start_time": "2022-03-02T07:50:57.985Z"
   },
   {
    "duration": -520,
    "start_time": "2022-03-02T07:50:57.988Z"
   },
   {
    "duration": -523,
    "start_time": "2022-03-02T07:50:57.992Z"
   },
   {
    "duration": -524,
    "start_time": "2022-03-02T07:50:57.994Z"
   },
   {
    "duration": -526,
    "start_time": "2022-03-02T07:50:57.998Z"
   },
   {
    "duration": -528,
    "start_time": "2022-03-02T07:50:58.001Z"
   },
   {
    "duration": -529,
    "start_time": "2022-03-02T07:50:58.004Z"
   },
   {
    "duration": -531,
    "start_time": "2022-03-02T07:50:58.007Z"
   },
   {
    "duration": -533,
    "start_time": "2022-03-02T07:50:58.011Z"
   },
   {
    "duration": -535,
    "start_time": "2022-03-02T07:50:58.014Z"
   },
   {
    "duration": -538,
    "start_time": "2022-03-02T07:50:58.018Z"
   },
   {
    "duration": -538,
    "start_time": "2022-03-02T07:50:58.020Z"
   },
   {
    "duration": -540,
    "start_time": "2022-03-02T07:50:58.023Z"
   },
   {
    "duration": -542,
    "start_time": "2022-03-02T07:50:58.026Z"
   },
   {
    "duration": -542,
    "start_time": "2022-03-02T07:50:58.028Z"
   },
   {
    "duration": -545,
    "start_time": "2022-03-02T07:50:58.032Z"
   },
   {
    "duration": -550,
    "start_time": "2022-03-02T07:50:58.039Z"
   },
   {
    "duration": -552,
    "start_time": "2022-03-02T07:50:58.042Z"
   },
   {
    "duration": -554,
    "start_time": "2022-03-02T07:50:58.045Z"
   },
   {
    "duration": -556,
    "start_time": "2022-03-02T07:50:58.048Z"
   },
   {
    "duration": -560,
    "start_time": "2022-03-02T07:50:58.054Z"
   },
   {
    "duration": -563,
    "start_time": "2022-03-02T07:50:58.058Z"
   },
   {
    "duration": -564,
    "start_time": "2022-03-02T07:50:58.061Z"
   },
   {
    "duration": -567,
    "start_time": "2022-03-02T07:50:58.065Z"
   },
   {
    "duration": -569,
    "start_time": "2022-03-02T07:50:58.069Z"
   },
   {
    "duration": -571,
    "start_time": "2022-03-02T07:50:58.072Z"
   },
   {
    "duration": -573,
    "start_time": "2022-03-02T07:50:58.075Z"
   },
   {
    "duration": -574,
    "start_time": "2022-03-02T07:50:58.078Z"
   },
   {
    "duration": -577,
    "start_time": "2022-03-02T07:50:58.082Z"
   },
   {
    "duration": -579,
    "start_time": "2022-03-02T07:50:58.085Z"
   },
   {
    "duration": -580,
    "start_time": "2022-03-02T07:50:58.088Z"
   },
   {
    "duration": -516,
    "start_time": "2022-03-02T07:50:58.091Z"
   },
   {
    "duration": -518,
    "start_time": "2022-03-02T07:50:58.094Z"
   },
   {
    "duration": -520,
    "start_time": "2022-03-02T07:50:58.098Z"
   },
   {
    "duration": -524,
    "start_time": "2022-03-02T07:50:58.103Z"
   },
   {
    "duration": -525,
    "start_time": "2022-03-02T07:50:58.106Z"
   },
   {
    "duration": -527,
    "start_time": "2022-03-02T07:50:58.109Z"
   },
   {
    "duration": -529,
    "start_time": "2022-03-02T07:50:58.113Z"
   },
   {
    "duration": -531,
    "start_time": "2022-03-02T07:50:58.116Z"
   },
   {
    "duration": -531,
    "start_time": "2022-03-02T07:50:58.118Z"
   },
   {
    "duration": -534,
    "start_time": "2022-03-02T07:50:58.122Z"
   },
   {
    "duration": -534,
    "start_time": "2022-03-02T07:50:58.124Z"
   },
   {
    "duration": -537,
    "start_time": "2022-03-02T07:50:58.129Z"
   },
   {
    "duration": -538,
    "start_time": "2022-03-02T07:50:58.132Z"
   },
   {
    "duration": 68,
    "start_time": "2022-03-02T07:51:29.713Z"
   },
   {
    "duration": 751,
    "start_time": "2022-03-02T07:51:42.422Z"
   },
   {
    "duration": 62,
    "start_time": "2022-03-02T07:51:43.177Z"
   },
   {
    "duration": 16,
    "start_time": "2022-03-02T07:51:43.242Z"
   },
   {
    "duration": 29,
    "start_time": "2022-03-02T07:51:43.273Z"
   },
   {
    "duration": 5,
    "start_time": "2022-03-02T07:51:43.305Z"
   },
   {
    "duration": 6,
    "start_time": "2022-03-02T07:51:43.312Z"
   },
   {
    "duration": 7,
    "start_time": "2022-03-02T07:51:43.320Z"
   },
   {
    "duration": 104,
    "start_time": "2022-03-02T07:51:43.332Z"
   },
   {
    "duration": 13,
    "start_time": "2022-03-02T07:51:43.439Z"
   },
   {
    "duration": 34,
    "start_time": "2022-03-02T07:51:43.454Z"
   },
   {
    "duration": 29,
    "start_time": "2022-03-02T07:51:43.490Z"
   },
   {
    "duration": 8,
    "start_time": "2022-03-02T07:51:43.521Z"
   },
   {
    "duration": 43,
    "start_time": "2022-03-02T07:51:43.531Z"
   },
   {
    "duration": 5,
    "start_time": "2022-03-02T07:51:43.576Z"
   },
   {
    "duration": 23,
    "start_time": "2022-03-02T07:51:43.583Z"
   },
   {
    "duration": 26,
    "start_time": "2022-03-02T07:51:43.609Z"
   },
   {
    "duration": 42,
    "start_time": "2022-03-02T07:51:43.637Z"
   },
   {
    "duration": 25,
    "start_time": "2022-03-02T07:51:43.682Z"
   },
   {
    "duration": 29,
    "start_time": "2022-03-02T07:51:43.709Z"
   },
   {
    "duration": 445,
    "start_time": "2022-03-02T07:51:43.741Z"
   },
   {
    "duration": 5,
    "start_time": "2022-03-02T07:51:44.189Z"
   },
   {
    "duration": 7,
    "start_time": "2022-03-02T07:51:44.196Z"
   },
   {
    "duration": 6,
    "start_time": "2022-03-02T07:51:44.205Z"
   },
   {
    "duration": 6,
    "start_time": "2022-03-02T07:51:44.213Z"
   },
   {
    "duration": 721,
    "start_time": "2022-03-02T07:51:44.222Z"
   },
   {
    "duration": 3434,
    "start_time": "2022-03-02T07:51:44.949Z"
   },
   {
    "duration": 734,
    "start_time": "2022-03-02T07:51:48.386Z"
   },
   {
    "duration": 19,
    "start_time": "2022-03-02T07:51:49.122Z"
   },
   {
    "duration": 5,
    "start_time": "2022-03-02T07:51:49.144Z"
   },
   {
    "duration": 3553,
    "start_time": "2022-03-02T07:51:49.151Z"
   },
   {
    "duration": 700,
    "start_time": "2022-03-02T07:51:52.706Z"
   },
   {
    "duration": 9,
    "start_time": "2022-03-02T07:51:53.409Z"
   },
   {
    "duration": 19,
    "start_time": "2022-03-02T07:51:53.421Z"
   },
   {
    "duration": 31,
    "start_time": "2022-03-02T07:51:53.442Z"
   },
   {
    "duration": 5,
    "start_time": "2022-03-02T07:51:53.476Z"
   },
   {
    "duration": 4434,
    "start_time": "2022-03-02T07:51:53.484Z"
   },
   {
    "duration": 759,
    "start_time": "2022-03-02T07:51:57.921Z"
   },
   {
    "duration": 5,
    "start_time": "2022-03-02T07:51:58.682Z"
   },
   {
    "duration": 733,
    "start_time": "2022-03-02T07:51:58.689Z"
   },
   {
    "duration": 17,
    "start_time": "2022-03-02T07:51:59.424Z"
   },
   {
    "duration": 31,
    "start_time": "2022-03-02T07:51:59.443Z"
   },
   {
    "duration": 21,
    "start_time": "2022-03-02T07:51:59.476Z"
   },
   {
    "duration": 8,
    "start_time": "2022-03-02T07:51:59.499Z"
   },
   {
    "duration": 6,
    "start_time": "2022-03-02T07:51:59.509Z"
   },
   {
    "duration": 21,
    "start_time": "2022-03-02T07:51:59.517Z"
   },
   {
    "duration": 36,
    "start_time": "2022-03-02T07:51:59.540Z"
   },
   {
    "duration": 6,
    "start_time": "2022-03-02T07:51:59.579Z"
   },
   {
    "duration": 24,
    "start_time": "2022-03-02T07:51:59.587Z"
   },
   {
    "duration": 14,
    "start_time": "2022-03-02T07:51:59.613Z"
   },
   {
    "duration": 48,
    "start_time": "2022-03-02T07:51:59.630Z"
   },
   {
    "duration": 3,
    "start_time": "2022-03-02T07:51:59.681Z"
   },
   {
    "duration": 8,
    "start_time": "2022-03-02T07:51:59.687Z"
   },
   {
    "duration": 858,
    "start_time": "2022-03-02T07:51:59.698Z"
   },
   {
    "duration": 25,
    "start_time": "2022-03-02T07:52:00.558Z"
   },
   {
    "duration": 28,
    "start_time": "2022-03-02T07:52:00.585Z"
   },
   {
    "duration": 16,
    "start_time": "2022-03-02T07:52:00.615Z"
   },
   {
    "duration": 25,
    "start_time": "2022-03-02T07:52:00.634Z"
   },
   {
    "duration": 14,
    "start_time": "2022-03-02T07:52:00.661Z"
   },
   {
    "duration": 548,
    "start_time": "2022-03-02T07:52:00.677Z"
   },
   {
    "duration": 9,
    "start_time": "2022-03-02T07:52:01.228Z"
   },
   {
    "duration": 9,
    "start_time": "2022-03-02T07:52:01.239Z"
   },
   {
    "duration": 886,
    "start_time": "2022-03-02T07:52:01.251Z"
   },
   {
    "duration": 14,
    "start_time": "2022-03-02T07:52:02.139Z"
   },
   {
    "duration": 29,
    "start_time": "2022-03-02T07:52:02.155Z"
   },
   {
    "duration": 6,
    "start_time": "2022-03-02T07:52:02.188Z"
   },
   {
    "duration": 20,
    "start_time": "2022-03-02T07:52:02.197Z"
   },
   {
    "duration": 58,
    "start_time": "2022-03-02T07:52:02.220Z"
   },
   {
    "duration": 19,
    "start_time": "2022-03-02T07:52:02.281Z"
   },
   {
    "duration": 18,
    "start_time": "2022-03-02T07:52:02.302Z"
   },
   {
    "duration": 47,
    "start_time": "2022-03-02T07:55:03.919Z"
   },
   {
    "duration": 46,
    "start_time": "2022-03-02T07:56:54.995Z"
   },
   {
    "duration": 10,
    "start_time": "2022-03-02T07:58:18.422Z"
   },
   {
    "duration": 6023,
    "start_time": "2022-03-02T08:00:09.257Z"
   },
   {
    "duration": 10,
    "start_time": "2022-03-02T08:00:18.520Z"
   },
   {
    "duration": 569,
    "start_time": "2022-03-03T17:24:03.517Z"
   },
   {
    "duration": 48,
    "start_time": "2022-03-03T17:24:04.087Z"
   },
   {
    "duration": 13,
    "start_time": "2022-03-03T17:24:04.137Z"
   },
   {
    "duration": 17,
    "start_time": "2022-03-03T17:24:04.152Z"
   },
   {
    "duration": 4,
    "start_time": "2022-03-03T17:24:04.171Z"
   },
   {
    "duration": 5,
    "start_time": "2022-03-03T17:24:04.177Z"
   },
   {
    "duration": 6,
    "start_time": "2022-03-03T17:24:04.184Z"
   },
   {
    "duration": 81,
    "start_time": "2022-03-03T17:24:04.193Z"
   },
   {
    "duration": 10,
    "start_time": "2022-03-03T17:24:04.276Z"
   },
   {
    "duration": 11,
    "start_time": "2022-03-03T17:24:04.288Z"
   },
   {
    "duration": 43,
    "start_time": "2022-03-03T17:24:04.301Z"
   },
   {
    "duration": 7,
    "start_time": "2022-03-03T17:24:04.346Z"
   },
   {
    "duration": 11,
    "start_time": "2022-03-03T17:24:04.355Z"
   },
   {
    "duration": 4,
    "start_time": "2022-03-03T17:24:04.367Z"
   },
   {
    "duration": 13,
    "start_time": "2022-03-03T17:24:04.373Z"
   },
   {
    "duration": 53,
    "start_time": "2022-03-03T17:24:04.388Z"
   },
   {
    "duration": 9,
    "start_time": "2022-03-03T17:24:04.443Z"
   },
   {
    "duration": 14,
    "start_time": "2022-03-03T17:24:04.453Z"
   },
   {
    "duration": 17,
    "start_time": "2022-03-03T17:24:04.469Z"
   },
   {
    "duration": 272,
    "start_time": "2022-03-03T17:24:04.487Z"
   },
   {
    "duration": 4,
    "start_time": "2022-03-03T17:24:04.761Z"
   },
   {
    "duration": 5,
    "start_time": "2022-03-03T17:24:04.767Z"
   },
   {
    "duration": 3,
    "start_time": "2022-03-03T17:24:04.777Z"
   },
   {
    "duration": 4,
    "start_time": "2022-03-03T17:24:04.783Z"
   },
   {
    "duration": 490,
    "start_time": "2022-03-03T17:24:04.788Z"
   },
   {
    "duration": 1598,
    "start_time": "2022-03-03T17:24:05.280Z"
   },
   {
    "duration": 495,
    "start_time": "2022-03-03T17:24:06.880Z"
   },
   {
    "duration": 11,
    "start_time": "2022-03-03T17:24:07.377Z"
   },
   {
    "duration": 4,
    "start_time": "2022-03-03T17:24:07.389Z"
   },
   {
    "duration": 1602,
    "start_time": "2022-03-03T17:24:07.394Z"
   },
   {
    "duration": 481,
    "start_time": "2022-03-03T17:24:08.998Z"
   },
   {
    "duration": 5,
    "start_time": "2022-03-03T17:24:09.481Z"
   },
   {
    "duration": 15,
    "start_time": "2022-03-03T17:24:09.487Z"
   },
   {
    "duration": 6,
    "start_time": "2022-03-03T17:24:09.504Z"
   },
   {
    "duration": 22,
    "start_time": "2022-03-03T17:24:09.512Z"
   },
   {
    "duration": 2205,
    "start_time": "2022-03-03T17:24:09.535Z"
   },
   {
    "duration": 463,
    "start_time": "2022-03-03T17:24:11.742Z"
   },
   {
    "duration": 3,
    "start_time": "2022-03-03T17:24:12.208Z"
   },
   {
    "duration": 473,
    "start_time": "2022-03-03T17:24:12.213Z"
   },
   {
    "duration": 13,
    "start_time": "2022-03-03T17:24:12.689Z"
   },
   {
    "duration": 6,
    "start_time": "2022-03-03T17:24:12.704Z"
   },
   {
    "duration": 31,
    "start_time": "2022-03-03T17:24:12.712Z"
   },
   {
    "duration": 5,
    "start_time": "2022-03-03T17:24:12.744Z"
   },
   {
    "duration": 3,
    "start_time": "2022-03-03T17:24:12.751Z"
   },
   {
    "duration": 12,
    "start_time": "2022-03-03T17:24:12.755Z"
   },
   {
    "duration": 5,
    "start_time": "2022-03-03T17:24:12.768Z"
   },
   {
    "duration": 3,
    "start_time": "2022-03-03T17:24:12.775Z"
   },
   {
    "duration": 13,
    "start_time": "2022-03-03T17:24:12.780Z"
   },
   {
    "duration": 11,
    "start_time": "2022-03-03T17:24:12.832Z"
   },
   {
    "duration": 8,
    "start_time": "2022-03-03T17:24:12.844Z"
   },
   {
    "duration": 2,
    "start_time": "2022-03-03T17:24:12.854Z"
   },
   {
    "duration": 5,
    "start_time": "2022-03-03T17:24:12.857Z"
   },
   {
    "duration": 425,
    "start_time": "2022-03-03T17:24:12.864Z"
   },
   {
    "duration": 11,
    "start_time": "2022-03-03T17:24:13.291Z"
   },
   {
    "duration": 30,
    "start_time": "2022-03-03T17:24:13.303Z"
   },
   {
    "duration": 5,
    "start_time": "2022-03-03T17:24:13.335Z"
   },
   {
    "duration": 10,
    "start_time": "2022-03-03T17:24:13.341Z"
   },
   {
    "duration": 4,
    "start_time": "2022-03-03T17:24:13.353Z"
   },
   {
    "duration": 300,
    "start_time": "2022-03-03T17:24:13.359Z"
   },
   {
    "duration": 7,
    "start_time": "2022-03-03T17:24:13.661Z"
   },
   {
    "duration": 4,
    "start_time": "2022-03-03T17:24:13.669Z"
   },
   {
    "duration": 482,
    "start_time": "2022-03-03T17:24:13.674Z"
   },
   {
    "duration": 8,
    "start_time": "2022-03-03T17:24:14.158Z"
   },
   {
    "duration": 7,
    "start_time": "2022-03-03T17:24:14.168Z"
   },
   {
    "duration": 5,
    "start_time": "2022-03-03T17:24:14.177Z"
   },
   {
    "duration": 14,
    "start_time": "2022-03-03T17:24:14.183Z"
   },
   {
    "duration": 36,
    "start_time": "2022-03-03T17:24:14.199Z"
   },
   {
    "duration": 12,
    "start_time": "2022-03-03T17:24:14.240Z"
   },
   {
    "duration": 10,
    "start_time": "2022-03-03T17:24:14.253Z"
   },
   {
    "duration": 602,
    "start_time": "2022-03-03T17:24:47.708Z"
   },
   {
    "duration": 49,
    "start_time": "2022-03-03T17:24:48.312Z"
   },
   {
    "duration": 11,
    "start_time": "2022-03-03T17:24:48.363Z"
   },
   {
    "duration": 19,
    "start_time": "2022-03-03T17:24:48.375Z"
   },
   {
    "duration": 4,
    "start_time": "2022-03-03T17:24:48.395Z"
   },
   {
    "duration": 8,
    "start_time": "2022-03-03T17:24:48.401Z"
   },
   {
    "duration": 24,
    "start_time": "2022-03-03T17:24:48.411Z"
   },
   {
    "duration": 44,
    "start_time": "2022-03-03T17:24:48.437Z"
   },
   {
    "duration": 9,
    "start_time": "2022-03-03T17:24:48.484Z"
   },
   {
    "duration": 11,
    "start_time": "2022-03-03T17:24:48.495Z"
   },
   {
    "duration": 44,
    "start_time": "2022-03-03T17:24:48.507Z"
   },
   {
    "duration": 5,
    "start_time": "2022-03-03T17:24:48.553Z"
   },
   {
    "duration": 13,
    "start_time": "2022-03-03T17:24:48.559Z"
   },
   {
    "duration": 4,
    "start_time": "2022-03-03T17:24:48.574Z"
   },
   {
    "duration": 14,
    "start_time": "2022-03-03T17:24:48.579Z"
   },
   {
    "duration": 49,
    "start_time": "2022-03-03T17:24:48.594Z"
   },
   {
    "duration": 9,
    "start_time": "2022-03-03T17:24:48.645Z"
   },
   {
    "duration": 17,
    "start_time": "2022-03-03T17:24:48.655Z"
   },
   {
    "duration": 18,
    "start_time": "2022-03-03T17:24:48.674Z"
   },
   {
    "duration": 276,
    "start_time": "2022-03-03T17:24:48.694Z"
   },
   {
    "duration": 5,
    "start_time": "2022-03-03T17:24:48.972Z"
   },
   {
    "duration": 5,
    "start_time": "2022-03-03T17:24:48.978Z"
   },
   {
    "duration": 4,
    "start_time": "2022-03-03T17:24:48.985Z"
   },
   {
    "duration": 3,
    "start_time": "2022-03-03T17:24:48.990Z"
   },
   {
    "duration": 505,
    "start_time": "2022-03-03T17:24:48.995Z"
   },
   {
    "duration": 1657,
    "start_time": "2022-03-03T17:24:49.502Z"
   },
   {
    "duration": 483,
    "start_time": "2022-03-03T17:24:51.164Z"
   },
   {
    "duration": 13,
    "start_time": "2022-03-03T17:24:51.651Z"
   },
   {
    "duration": 4,
    "start_time": "2022-03-03T17:24:51.666Z"
   },
   {
    "duration": 1632,
    "start_time": "2022-03-03T17:24:51.671Z"
   },
   {
    "duration": 490,
    "start_time": "2022-03-03T17:24:53.304Z"
   },
   {
    "duration": 5,
    "start_time": "2022-03-03T17:24:53.796Z"
   },
   {
    "duration": 12,
    "start_time": "2022-03-03T17:24:53.803Z"
   },
   {
    "duration": 22,
    "start_time": "2022-03-03T17:24:53.816Z"
   },
   {
    "duration": 3,
    "start_time": "2022-03-03T17:24:53.840Z"
   },
   {
    "duration": 2242,
    "start_time": "2022-03-03T17:24:53.845Z"
   },
   {
    "duration": 503,
    "start_time": "2022-03-03T17:24:56.089Z"
   },
   {
    "duration": 3,
    "start_time": "2022-03-03T17:24:56.594Z"
   },
   {
    "duration": 499,
    "start_time": "2022-03-03T17:24:56.598Z"
   },
   {
    "duration": 11,
    "start_time": "2022-03-03T17:24:57.098Z"
   },
   {
    "duration": 5,
    "start_time": "2022-03-03T17:24:57.111Z"
   },
   {
    "duration": 13,
    "start_time": "2022-03-03T17:24:57.132Z"
   },
   {
    "duration": 5,
    "start_time": "2022-03-03T17:24:57.147Z"
   },
   {
    "duration": 4,
    "start_time": "2022-03-03T17:24:57.154Z"
   },
   {
    "duration": 15,
    "start_time": "2022-03-03T17:24:57.159Z"
   },
   {
    "duration": 6,
    "start_time": "2022-03-03T17:24:57.175Z"
   },
   {
    "duration": 4,
    "start_time": "2022-03-03T17:24:57.182Z"
   },
   {
    "duration": 16,
    "start_time": "2022-03-03T17:24:57.188Z"
   },
   {
    "duration": 11,
    "start_time": "2022-03-03T17:24:57.233Z"
   },
   {
    "duration": 8,
    "start_time": "2022-03-03T17:24:57.246Z"
   },
   {
    "duration": 2,
    "start_time": "2022-03-03T17:24:57.256Z"
   },
   {
    "duration": 5,
    "start_time": "2022-03-03T17:24:57.260Z"
   },
   {
    "duration": 431,
    "start_time": "2022-03-03T17:24:57.266Z"
   },
   {
    "duration": 12,
    "start_time": "2022-03-03T17:24:57.699Z"
   },
   {
    "duration": 31,
    "start_time": "2022-03-03T17:24:57.712Z"
   },
   {
    "duration": 5,
    "start_time": "2022-03-03T17:24:57.745Z"
   },
   {
    "duration": 11,
    "start_time": "2022-03-03T17:24:57.751Z"
   },
   {
    "duration": 4,
    "start_time": "2022-03-03T17:24:57.764Z"
   },
   {
    "duration": 319,
    "start_time": "2022-03-03T17:24:57.769Z"
   },
   {
    "duration": 8,
    "start_time": "2022-03-03T17:24:58.090Z"
   },
   {
    "duration": 4,
    "start_time": "2022-03-03T17:24:58.100Z"
   },
   {
    "duration": 504,
    "start_time": "2022-03-03T17:24:58.106Z"
   },
   {
    "duration": 26,
    "start_time": "2022-03-03T17:24:58.612Z"
   },
   {
    "duration": 7,
    "start_time": "2022-03-03T17:24:58.640Z"
   },
   {
    "duration": 5,
    "start_time": "2022-03-03T17:24:58.649Z"
   },
   {
    "duration": 12,
    "start_time": "2022-03-03T17:24:58.656Z"
   },
   {
    "duration": 11,
    "start_time": "2022-03-03T17:24:58.670Z"
   },
   {
    "duration": 11,
    "start_time": "2022-03-03T17:24:58.682Z"
   },
   {
    "duration": 43,
    "start_time": "2022-03-03T17:24:58.695Z"
   },
   {
    "duration": 553,
    "start_time": "2022-03-03T17:26:01.058Z"
   },
   {
    "duration": 48,
    "start_time": "2022-03-03T17:26:01.613Z"
   },
   {
    "duration": 10,
    "start_time": "2022-03-03T17:26:01.663Z"
   },
   {
    "duration": 20,
    "start_time": "2022-03-03T17:26:01.675Z"
   },
   {
    "duration": 8,
    "start_time": "2022-03-03T17:26:01.697Z"
   },
   {
    "duration": 8,
    "start_time": "2022-03-03T17:26:01.706Z"
   },
   {
    "duration": 21,
    "start_time": "2022-03-03T17:26:01.715Z"
   },
   {
    "duration": 51,
    "start_time": "2022-03-03T17:26:01.737Z"
   },
   {
    "duration": 10,
    "start_time": "2022-03-03T17:26:01.791Z"
   },
   {
    "duration": 11,
    "start_time": "2022-03-03T17:26:01.803Z"
   },
   {
    "duration": 20,
    "start_time": "2022-03-03T17:26:01.833Z"
   },
   {
    "duration": 14,
    "start_time": "2022-03-03T17:26:01.854Z"
   },
   {
    "duration": 13,
    "start_time": "2022-03-03T17:26:01.869Z"
   },
   {
    "duration": 3,
    "start_time": "2022-03-03T17:26:01.884Z"
   },
   {
    "duration": 13,
    "start_time": "2022-03-03T17:26:01.888Z"
   },
   {
    "duration": 34,
    "start_time": "2022-03-03T17:26:01.903Z"
   },
   {
    "duration": 7,
    "start_time": "2022-03-03T17:26:01.939Z"
   },
   {
    "duration": 23,
    "start_time": "2022-03-03T17:26:01.948Z"
   },
   {
    "duration": 17,
    "start_time": "2022-03-03T17:26:01.972Z"
   },
   {
    "duration": 272,
    "start_time": "2022-03-03T17:26:01.991Z"
   },
   {
    "duration": 4,
    "start_time": "2022-03-03T17:26:02.265Z"
   },
   {
    "duration": 7,
    "start_time": "2022-03-03T17:26:02.270Z"
   },
   {
    "duration": 7,
    "start_time": "2022-03-03T17:26:02.278Z"
   },
   {
    "duration": 10,
    "start_time": "2022-03-03T17:26:02.287Z"
   },
   {
    "duration": 502,
    "start_time": "2022-03-03T17:26:02.299Z"
   },
   {
    "duration": 1667,
    "start_time": "2022-03-03T17:26:02.803Z"
   },
   {
    "duration": 529,
    "start_time": "2022-03-03T17:26:04.474Z"
   },
   {
    "duration": 13,
    "start_time": "2022-03-03T17:26:05.006Z"
   },
   {
    "duration": 13,
    "start_time": "2022-03-03T17:26:05.020Z"
   },
   {
    "duration": 1665,
    "start_time": "2022-03-03T17:26:05.035Z"
   },
   {
    "duration": 533,
    "start_time": "2022-03-03T17:26:06.702Z"
   },
   {
    "duration": 6,
    "start_time": "2022-03-03T17:26:07.236Z"
   },
   {
    "duration": 15,
    "start_time": "2022-03-03T17:26:07.243Z"
   },
   {
    "duration": 8,
    "start_time": "2022-03-03T17:26:07.259Z"
   },
   {
    "duration": 4,
    "start_time": "2022-03-03T17:26:07.269Z"
   },
   {
    "duration": 2986,
    "start_time": "2022-03-03T17:26:07.274Z"
   },
   {
    "duration": 887,
    "start_time": "2022-03-03T17:26:10.262Z"
   },
   {
    "duration": 3,
    "start_time": "2022-03-03T17:26:11.151Z"
   },
   {
    "duration": 607,
    "start_time": "2022-03-03T17:26:11.155Z"
   },
   {
    "duration": 13,
    "start_time": "2022-03-03T17:26:11.764Z"
   },
   {
    "duration": 5,
    "start_time": "2022-03-03T17:26:11.779Z"
   },
   {
    "duration": 15,
    "start_time": "2022-03-03T17:26:11.786Z"
   },
   {
    "duration": 31,
    "start_time": "2022-03-03T17:26:11.803Z"
   },
   {
    "duration": 3,
    "start_time": "2022-03-03T17:26:11.835Z"
   },
   {
    "duration": 15,
    "start_time": "2022-03-03T17:26:11.840Z"
   },
   {
    "duration": 10,
    "start_time": "2022-03-03T17:26:11.857Z"
   },
   {
    "duration": 7,
    "start_time": "2022-03-03T17:26:11.868Z"
   },
   {
    "duration": 16,
    "start_time": "2022-03-03T17:26:11.876Z"
   },
   {
    "duration": 10,
    "start_time": "2022-03-03T17:26:11.893Z"
   },
   {
    "duration": 30,
    "start_time": "2022-03-03T17:26:11.904Z"
   },
   {
    "duration": 2,
    "start_time": "2022-03-03T17:26:11.935Z"
   },
   {
    "duration": 5,
    "start_time": "2022-03-03T17:26:11.939Z"
   },
   {
    "duration": 418,
    "start_time": "2022-03-03T17:26:11.945Z"
   },
   {
    "duration": 12,
    "start_time": "2022-03-03T17:26:12.365Z"
   },
   {
    "duration": 18,
    "start_time": "2022-03-03T17:26:12.378Z"
   },
   {
    "duration": 5,
    "start_time": "2022-03-03T17:26:12.397Z"
   },
   {
    "duration": 34,
    "start_time": "2022-03-03T17:26:12.403Z"
   },
   {
    "duration": 3,
    "start_time": "2022-03-03T17:26:12.439Z"
   },
   {
    "duration": 308,
    "start_time": "2022-03-03T17:26:12.444Z"
   },
   {
    "duration": 6,
    "start_time": "2022-03-03T17:26:12.754Z"
   },
   {
    "duration": 4,
    "start_time": "2022-03-03T17:26:12.761Z"
   },
   {
    "duration": 495,
    "start_time": "2022-03-03T17:26:12.766Z"
   },
   {
    "duration": 10,
    "start_time": "2022-03-03T17:26:13.262Z"
   },
   {
    "duration": 7,
    "start_time": "2022-03-03T17:26:13.273Z"
   },
   {
    "duration": 6,
    "start_time": "2022-03-03T17:26:13.282Z"
   },
   {
    "duration": 10,
    "start_time": "2022-03-03T17:26:13.290Z"
   },
   {
    "duration": 36,
    "start_time": "2022-03-03T17:26:13.302Z"
   },
   {
    "duration": 11,
    "start_time": "2022-03-03T17:26:13.339Z"
   },
   {
    "duration": 11,
    "start_time": "2022-03-03T17:26:13.351Z"
   },
   {
    "duration": 541,
    "start_time": "2022-03-03T17:35:30.692Z"
   },
   {
    "duration": 48,
    "start_time": "2022-03-03T17:35:31.235Z"
   },
   {
    "duration": 11,
    "start_time": "2022-03-03T17:35:31.287Z"
   },
   {
    "duration": 38,
    "start_time": "2022-03-03T17:35:31.300Z"
   },
   {
    "duration": 12,
    "start_time": "2022-03-03T17:35:31.340Z"
   },
   {
    "duration": 8,
    "start_time": "2022-03-03T17:35:31.353Z"
   },
   {
    "duration": 8,
    "start_time": "2022-03-03T17:35:31.363Z"
   },
   {
    "duration": 51,
    "start_time": "2022-03-03T17:35:31.373Z"
   },
   {
    "duration": 16,
    "start_time": "2022-03-03T17:35:31.426Z"
   },
   {
    "duration": 13,
    "start_time": "2022-03-03T17:35:31.443Z"
   },
   {
    "duration": 24,
    "start_time": "2022-03-03T17:35:31.458Z"
   },
   {
    "duration": 6,
    "start_time": "2022-03-03T17:35:31.484Z"
   },
   {
    "duration": 11,
    "start_time": "2022-03-03T17:35:31.492Z"
   },
   {
    "duration": 3,
    "start_time": "2022-03-03T17:35:31.504Z"
   },
   {
    "duration": 33,
    "start_time": "2022-03-03T17:35:31.509Z"
   },
   {
    "duration": 15,
    "start_time": "2022-03-03T17:35:31.544Z"
   },
   {
    "duration": 11,
    "start_time": "2022-03-03T17:35:31.560Z"
   },
   {
    "duration": 14,
    "start_time": "2022-03-03T17:35:31.573Z"
   },
   {
    "duration": 45,
    "start_time": "2022-03-03T17:35:31.588Z"
   },
   {
    "duration": 497,
    "start_time": "2022-03-03T17:35:31.635Z"
   },
   {
    "duration": 3,
    "start_time": "2022-03-03T17:35:32.134Z"
   },
   {
    "duration": 6,
    "start_time": "2022-03-03T17:35:32.139Z"
   },
   {
    "duration": 5,
    "start_time": "2022-03-03T17:35:32.146Z"
   },
   {
    "duration": 5,
    "start_time": "2022-03-03T17:35:32.152Z"
   },
   {
    "duration": 608,
    "start_time": "2022-03-03T17:35:32.158Z"
   },
   {
    "duration": 1637,
    "start_time": "2022-03-03T17:35:32.770Z"
   },
   {
    "duration": 468,
    "start_time": "2022-03-03T17:35:34.409Z"
   },
   {
    "duration": 12,
    "start_time": "2022-03-03T17:35:34.879Z"
   },
   {
    "duration": 4,
    "start_time": "2022-03-03T17:35:34.892Z"
   },
   {
    "duration": 1604,
    "start_time": "2022-03-03T17:35:34.898Z"
   },
   {
    "duration": 488,
    "start_time": "2022-03-03T17:35:36.504Z"
   },
   {
    "duration": 7,
    "start_time": "2022-03-03T17:35:36.994Z"
   },
   {
    "duration": 32,
    "start_time": "2022-03-03T17:35:37.002Z"
   },
   {
    "duration": 10,
    "start_time": "2022-03-03T17:35:37.036Z"
   },
   {
    "duration": 4,
    "start_time": "2022-03-03T17:35:37.048Z"
   },
   {
    "duration": 2260,
    "start_time": "2022-03-03T17:35:37.054Z"
   },
   {
    "duration": 460,
    "start_time": "2022-03-03T17:35:39.316Z"
   },
   {
    "duration": 4,
    "start_time": "2022-03-03T17:35:39.778Z"
   },
   {
    "duration": 501,
    "start_time": "2022-03-03T17:35:39.784Z"
   },
   {
    "duration": 11,
    "start_time": "2022-03-03T17:35:40.287Z"
   },
   {
    "duration": 5,
    "start_time": "2022-03-03T17:35:40.300Z"
   },
   {
    "duration": 32,
    "start_time": "2022-03-03T17:35:40.307Z"
   },
   {
    "duration": 5,
    "start_time": "2022-03-03T17:35:40.341Z"
   },
   {
    "duration": 3,
    "start_time": "2022-03-03T17:35:40.348Z"
   },
   {
    "duration": 12,
    "start_time": "2022-03-03T17:35:40.352Z"
   },
   {
    "duration": 5,
    "start_time": "2022-03-03T17:35:40.366Z"
   },
   {
    "duration": 4,
    "start_time": "2022-03-03T17:35:40.373Z"
   },
   {
    "duration": 15,
    "start_time": "2022-03-03T17:35:40.378Z"
   },
   {
    "duration": 43,
    "start_time": "2022-03-03T17:35:40.394Z"
   },
   {
    "duration": 9,
    "start_time": "2022-03-03T17:35:40.438Z"
   },
   {
    "duration": 7,
    "start_time": "2022-03-03T17:35:40.448Z"
   },
   {
    "duration": 4,
    "start_time": "2022-03-03T17:35:40.457Z"
   },
   {
    "duration": 414,
    "start_time": "2022-03-03T17:35:40.462Z"
   },
   {
    "duration": 12,
    "start_time": "2022-03-03T17:35:40.877Z"
   },
   {
    "duration": 19,
    "start_time": "2022-03-03T17:35:40.890Z"
   },
   {
    "duration": 23,
    "start_time": "2022-03-03T17:35:40.910Z"
   },
   {
    "duration": 11,
    "start_time": "2022-03-03T17:35:40.935Z"
   },
   {
    "duration": 3,
    "start_time": "2022-03-03T17:35:40.947Z"
   },
   {
    "duration": 306,
    "start_time": "2022-03-03T17:35:40.952Z"
   },
   {
    "duration": 6,
    "start_time": "2022-03-03T17:35:41.260Z"
   },
   {
    "duration": 3,
    "start_time": "2022-03-03T17:35:41.267Z"
   },
   {
    "duration": 486,
    "start_time": "2022-03-03T17:35:41.272Z"
   },
   {
    "duration": 9,
    "start_time": "2022-03-03T17:35:41.759Z"
   },
   {
    "duration": 7,
    "start_time": "2022-03-03T17:35:41.769Z"
   },
   {
    "duration": 5,
    "start_time": "2022-03-03T17:35:41.777Z"
   },
   {
    "duration": 13,
    "start_time": "2022-03-03T17:35:41.784Z"
   },
   {
    "duration": 35,
    "start_time": "2022-03-03T17:35:41.798Z"
   },
   {
    "duration": 10,
    "start_time": "2022-03-03T17:35:41.835Z"
   },
   {
    "duration": 10,
    "start_time": "2022-03-03T17:35:41.847Z"
   },
   {
    "duration": 319,
    "start_time": "2022-03-04T04:30:24.354Z"
   },
   {
    "duration": 343,
    "start_time": "2022-03-04T04:31:01.420Z"
   },
   {
    "duration": 3,
    "start_time": "2022-03-04T04:31:12.703Z"
   },
   {
    "duration": 623,
    "start_time": "2022-03-04T04:34:44.938Z"
   },
   {
    "duration": 443,
    "start_time": "2022-03-04T04:34:45.563Z"
   },
   {
    "duration": 9,
    "start_time": "2022-03-04T04:34:46.008Z"
   },
   {
    "duration": 30,
    "start_time": "2022-03-04T04:34:46.019Z"
   },
   {
    "duration": 4,
    "start_time": "2022-03-04T04:34:46.051Z"
   },
   {
    "duration": 5,
    "start_time": "2022-03-04T04:34:46.056Z"
   },
   {
    "duration": 7,
    "start_time": "2022-03-04T04:34:46.062Z"
   },
   {
    "duration": 58,
    "start_time": "2022-03-04T04:34:46.071Z"
   },
   {
    "duration": 8,
    "start_time": "2022-03-04T04:34:46.131Z"
   },
   {
    "duration": 9,
    "start_time": "2022-03-04T04:34:46.140Z"
   },
   {
    "duration": 16,
    "start_time": "2022-03-04T04:34:46.151Z"
   },
   {
    "duration": 5,
    "start_time": "2022-03-04T04:34:46.168Z"
   },
   {
    "duration": 32,
    "start_time": "2022-03-04T04:34:46.174Z"
   },
   {
    "duration": 4,
    "start_time": "2022-03-04T04:34:46.207Z"
   },
   {
    "duration": 14,
    "start_time": "2022-03-04T04:34:46.212Z"
   },
   {
    "duration": 13,
    "start_time": "2022-03-04T04:34:46.227Z"
   },
   {
    "duration": 7,
    "start_time": "2022-03-04T04:34:46.241Z"
   },
   {
    "duration": 11,
    "start_time": "2022-03-04T04:34:46.249Z"
   },
   {
    "duration": 13,
    "start_time": "2022-03-04T04:34:46.262Z"
   },
   {
    "duration": 169,
    "start_time": "2022-03-04T04:34:46.305Z"
   },
   {
    "duration": 3,
    "start_time": "2022-03-04T04:34:46.475Z"
   },
   {
    "duration": 7,
    "start_time": "2022-03-04T04:34:46.479Z"
   },
   {
    "duration": 16,
    "start_time": "2022-03-04T04:34:46.489Z"
   },
   {
    "duration": 3,
    "start_time": "2022-03-04T04:34:46.507Z"
   },
   {
    "duration": 417,
    "start_time": "2022-03-04T04:34:46.511Z"
   },
   {
    "duration": 1490,
    "start_time": "2022-03-04T04:34:46.930Z"
   },
   {
    "duration": 430,
    "start_time": "2022-03-04T04:34:48.422Z"
   },
   {
    "duration": 11,
    "start_time": "2022-03-04T04:34:48.854Z"
   },
   {
    "duration": 3,
    "start_time": "2022-03-04T04:34:48.866Z"
   },
   {
    "duration": 1493,
    "start_time": "2022-03-04T04:34:48.870Z"
   },
   {
    "duration": 452,
    "start_time": "2022-03-04T04:34:50.364Z"
   },
   {
    "duration": 6,
    "start_time": "2022-03-04T04:34:50.818Z"
   },
   {
    "duration": 9,
    "start_time": "2022-03-04T04:34:50.826Z"
   },
   {
    "duration": 7,
    "start_time": "2022-03-04T04:34:50.836Z"
   },
   {
    "duration": 3,
    "start_time": "2022-03-04T04:34:50.844Z"
   },
   {
    "duration": 2043,
    "start_time": "2022-03-04T04:34:50.849Z"
   },
   {
    "duration": 430,
    "start_time": "2022-03-04T04:34:52.893Z"
   },
   {
    "duration": 3,
    "start_time": "2022-03-04T04:34:53.325Z"
   },
   {
    "duration": 446,
    "start_time": "2022-03-04T04:34:53.329Z"
   },
   {
    "duration": 10,
    "start_time": "2022-03-04T04:34:53.776Z"
   },
   {
    "duration": 5,
    "start_time": "2022-03-04T04:34:53.788Z"
   },
   {
    "duration": 19,
    "start_time": "2022-03-04T04:34:53.794Z"
   },
   {
    "duration": 4,
    "start_time": "2022-03-04T04:34:53.815Z"
   },
   {
    "duration": 3,
    "start_time": "2022-03-04T04:34:53.820Z"
   },
   {
    "duration": 12,
    "start_time": "2022-03-04T04:34:53.825Z"
   },
   {
    "duration": 4,
    "start_time": "2022-03-04T04:34:53.838Z"
   },
   {
    "duration": 4,
    "start_time": "2022-03-04T04:34:53.844Z"
   },
   {
    "duration": 10,
    "start_time": "2022-03-04T04:34:53.850Z"
   },
   {
    "duration": 9,
    "start_time": "2022-03-04T04:34:53.861Z"
   },
   {
    "duration": 7,
    "start_time": "2022-03-04T04:34:53.905Z"
   },
   {
    "duration": 3,
    "start_time": "2022-03-04T04:34:53.913Z"
   },
   {
    "duration": 4,
    "start_time": "2022-03-04T04:34:53.917Z"
   },
   {
    "duration": 390,
    "start_time": "2022-03-04T04:34:53.923Z"
   },
   {
    "duration": 11,
    "start_time": "2022-03-04T04:34:54.314Z"
   },
   {
    "duration": 18,
    "start_time": "2022-03-04T04:34:54.326Z"
   },
   {
    "duration": 4,
    "start_time": "2022-03-04T04:34:54.346Z"
   },
   {
    "duration": 12,
    "start_time": "2022-03-04T04:34:54.351Z"
   },
   {
    "duration": 3,
    "start_time": "2022-03-04T04:34:54.364Z"
   },
   {
    "duration": 288,
    "start_time": "2022-03-04T04:34:54.368Z"
   },
   {
    "duration": 6,
    "start_time": "2022-03-04T04:34:54.657Z"
   },
   {
    "duration": 5,
    "start_time": "2022-03-04T04:34:54.664Z"
   },
   {
    "duration": 448,
    "start_time": "2022-03-04T04:34:54.670Z"
   },
   {
    "duration": 8,
    "start_time": "2022-03-04T04:34:55.120Z"
   },
   {
    "duration": 7,
    "start_time": "2022-03-04T04:34:55.129Z"
   },
   {
    "duration": 8,
    "start_time": "2022-03-04T04:34:55.137Z"
   },
   {
    "duration": 345,
    "start_time": "2022-03-04T04:34:55.146Z"
   },
   {
    "duration": 858,
    "start_time": "2022-03-04T04:34:54.634Z"
   },
   {
    "duration": 852,
    "start_time": "2022-03-04T04:34:54.641Z"
   },
   {
    "duration": 849,
    "start_time": "2022-03-04T04:34:54.645Z"
   },
   {
    "duration": 647,
    "start_time": "2022-03-04T04:35:48.794Z"
   },
   {
    "duration": 165,
    "start_time": "2022-03-04T04:35:54.075Z"
   },
   {
    "duration": 604,
    "start_time": "2022-03-04T04:35:59.886Z"
   },
   {
    "duration": 270,
    "start_time": "2022-03-04T04:36:03.810Z"
   },
   {
    "duration": 264,
    "start_time": "2022-03-04T04:36:06.938Z"
   },
   {
    "duration": 14,
    "start_time": "2022-03-04T04:37:01.084Z"
   },
   {
    "duration": 14,
    "start_time": "2022-03-04T04:37:17.429Z"
   },
   {
    "duration": 14,
    "start_time": "2022-03-04T04:37:34.598Z"
   },
   {
    "duration": 90,
    "start_time": "2022-03-04T04:38:31.866Z"
   },
   {
    "duration": 629,
    "start_time": "2022-03-04T17:11:22.079Z"
   },
   {
    "duration": 45,
    "start_time": "2022-03-04T17:11:22.710Z"
   },
   {
    "duration": 12,
    "start_time": "2022-03-04T17:11:22.757Z"
   },
   {
    "duration": 36,
    "start_time": "2022-03-04T17:11:22.771Z"
   },
   {
    "duration": 3,
    "start_time": "2022-03-04T17:11:22.809Z"
   },
   {
    "duration": 5,
    "start_time": "2022-03-04T17:11:22.814Z"
   },
   {
    "duration": 6,
    "start_time": "2022-03-04T17:11:22.820Z"
   },
   {
    "duration": 71,
    "start_time": "2022-03-04T17:11:22.829Z"
   },
   {
    "duration": 10,
    "start_time": "2022-03-04T17:11:22.902Z"
   },
   {
    "duration": 17,
    "start_time": "2022-03-04T17:11:22.913Z"
   },
   {
    "duration": 32,
    "start_time": "2022-03-04T17:11:22.931Z"
   },
   {
    "duration": 5,
    "start_time": "2022-03-04T17:11:22.964Z"
   },
   {
    "duration": 10,
    "start_time": "2022-03-04T17:11:22.971Z"
   },
   {
    "duration": 4,
    "start_time": "2022-03-04T17:11:22.982Z"
   },
   {
    "duration": 13,
    "start_time": "2022-03-04T17:11:22.988Z"
   },
   {
    "duration": 15,
    "start_time": "2022-03-04T17:11:23.002Z"
   },
   {
    "duration": 43,
    "start_time": "2022-03-04T17:11:23.019Z"
   },
   {
    "duration": 14,
    "start_time": "2022-03-04T17:11:23.063Z"
   },
   {
    "duration": 17,
    "start_time": "2022-03-04T17:11:23.079Z"
   },
   {
    "duration": 227,
    "start_time": "2022-03-04T17:11:23.098Z"
   },
   {
    "duration": 3,
    "start_time": "2022-03-04T17:11:23.327Z"
   },
   {
    "duration": 14,
    "start_time": "2022-03-04T17:11:23.331Z"
   },
   {
    "duration": 17,
    "start_time": "2022-03-04T17:11:23.349Z"
   },
   {
    "duration": 9,
    "start_time": "2022-03-04T17:11:23.368Z"
   },
   {
    "duration": 514,
    "start_time": "2022-03-04T17:11:23.379Z"
   },
   {
    "duration": 1748,
    "start_time": "2022-03-04T17:11:23.895Z"
   },
   {
    "duration": 511,
    "start_time": "2022-03-04T17:11:25.645Z"
   },
   {
    "duration": 14,
    "start_time": "2022-03-04T17:11:26.159Z"
   },
   {
    "duration": 4,
    "start_time": "2022-03-04T17:11:26.175Z"
   },
   {
    "duration": 1768,
    "start_time": "2022-03-04T17:11:26.180Z"
   },
   {
    "duration": 495,
    "start_time": "2022-03-04T17:11:27.950Z"
   },
   {
    "duration": 12,
    "start_time": "2022-03-04T17:11:28.447Z"
   },
   {
    "duration": 9,
    "start_time": "2022-03-04T17:11:28.460Z"
   },
   {
    "duration": 7,
    "start_time": "2022-03-04T17:11:28.471Z"
   },
   {
    "duration": 4,
    "start_time": "2022-03-04T17:11:28.479Z"
   },
   {
    "duration": 2392,
    "start_time": "2022-03-04T17:11:28.484Z"
   },
   {
    "duration": 498,
    "start_time": "2022-03-04T17:11:30.878Z"
   },
   {
    "duration": 3,
    "start_time": "2022-03-04T17:11:31.378Z"
   },
   {
    "duration": 545,
    "start_time": "2022-03-04T17:11:31.383Z"
   },
   {
    "duration": 11,
    "start_time": "2022-03-04T17:11:31.930Z"
   },
   {
    "duration": 17,
    "start_time": "2022-03-04T17:11:31.943Z"
   },
   {
    "duration": 14,
    "start_time": "2022-03-04T17:11:31.961Z"
   },
   {
    "duration": 7,
    "start_time": "2022-03-04T17:11:31.977Z"
   },
   {
    "duration": 5,
    "start_time": "2022-03-04T17:11:31.986Z"
   },
   {
    "duration": 21,
    "start_time": "2022-03-04T17:11:31.993Z"
   },
   {
    "duration": 10,
    "start_time": "2022-03-04T17:11:32.016Z"
   },
   {
    "duration": 18,
    "start_time": "2022-03-04T17:11:32.027Z"
   },
   {
    "duration": 16,
    "start_time": "2022-03-04T17:11:32.047Z"
   },
   {
    "duration": 10,
    "start_time": "2022-03-04T17:11:32.065Z"
   },
   {
    "duration": 9,
    "start_time": "2022-03-04T17:11:32.077Z"
   },
   {
    "duration": 4,
    "start_time": "2022-03-04T17:11:32.088Z"
   },
   {
    "duration": 6,
    "start_time": "2022-03-04T17:11:32.094Z"
   },
   {
    "duration": 456,
    "start_time": "2022-03-04T17:11:32.102Z"
   },
   {
    "duration": 13,
    "start_time": "2022-03-04T17:11:32.559Z"
   },
   {
    "duration": 18,
    "start_time": "2022-03-04T17:11:32.573Z"
   },
   {
    "duration": 5,
    "start_time": "2022-03-04T17:11:32.593Z"
   },
   {
    "duration": 14,
    "start_time": "2022-03-04T17:11:32.599Z"
   },
   {
    "duration": 3,
    "start_time": "2022-03-04T17:11:32.615Z"
   },
   {
    "duration": 346,
    "start_time": "2022-03-04T17:11:32.620Z"
   },
   {
    "duration": 7,
    "start_time": "2022-03-04T17:11:32.967Z"
   },
   {
    "duration": 4,
    "start_time": "2022-03-04T17:11:32.975Z"
   },
   {
    "duration": 521,
    "start_time": "2022-03-04T17:11:32.980Z"
   },
   {
    "duration": 9,
    "start_time": "2022-03-04T17:11:33.503Z"
   },
   {
    "duration": 9,
    "start_time": "2022-03-04T17:11:33.514Z"
   },
   {
    "duration": 8,
    "start_time": "2022-03-04T17:11:33.524Z"
   },
   {
    "duration": 34,
    "start_time": "2022-03-04T17:11:33.534Z"
   },
   {
    "duration": 11,
    "start_time": "2022-03-04T17:11:33.570Z"
   },
   {
    "duration": 10,
    "start_time": "2022-03-04T17:11:33.586Z"
   },
   {
    "duration": 11,
    "start_time": "2022-03-04T17:11:33.597Z"
   },
   {
    "duration": 889,
    "start_time": "2022-07-25T16:53:44.455Z"
   },
   {
    "duration": 143,
    "start_time": "2022-07-25T16:53:45.347Z"
   },
   {
    "duration": 19,
    "start_time": "2022-07-25T16:53:45.670Z"
   },
   {
    "duration": 38,
    "start_time": "2022-07-25T16:53:49.311Z"
   },
   {
    "duration": 35,
    "start_time": "2022-07-25T16:54:02.190Z"
   },
   {
    "duration": 13,
    "start_time": "2022-07-25T16:54:02.894Z"
   },
   {
    "duration": 88,
    "start_time": "2022-07-25T16:57:25.174Z"
   },
   {
    "duration": 710,
    "start_time": "2022-07-25T16:57:41.760Z"
   },
   {
    "duration": 78,
    "start_time": "2022-07-25T16:57:42.472Z"
   },
   {
    "duration": 18,
    "start_time": "2022-07-25T16:57:42.552Z"
   },
   {
    "duration": 60,
    "start_time": "2022-07-25T16:57:42.573Z"
   },
   {
    "duration": 12,
    "start_time": "2022-07-25T16:57:42.635Z"
   },
   {
    "duration": 23,
    "start_time": "2022-07-25T16:57:42.649Z"
   },
   {
    "duration": 23,
    "start_time": "2022-07-25T16:57:42.673Z"
   },
   {
    "duration": 19,
    "start_time": "2022-07-25T16:57:42.698Z"
   },
   {
    "duration": 56,
    "start_time": "2022-07-25T16:57:42.718Z"
   },
   {
    "duration": 13,
    "start_time": "2022-07-25T16:57:42.777Z"
   },
   {
    "duration": 40,
    "start_time": "2022-07-25T16:57:42.791Z"
   },
   {
    "duration": 42,
    "start_time": "2022-07-25T16:57:42.835Z"
   },
   {
    "duration": 6,
    "start_time": "2022-07-25T16:57:42.879Z"
   },
   {
    "duration": 31,
    "start_time": "2022-07-25T16:57:42.887Z"
   },
   {
    "duration": 5,
    "start_time": "2022-07-25T16:57:42.920Z"
   },
   {
    "duration": 19,
    "start_time": "2022-07-25T16:57:42.927Z"
   },
   {
    "duration": 28,
    "start_time": "2022-07-25T16:57:42.947Z"
   },
   {
    "duration": 37,
    "start_time": "2022-07-25T16:57:42.977Z"
   },
   {
    "duration": 24,
    "start_time": "2022-07-25T16:57:43.016Z"
   },
   {
    "duration": 18,
    "start_time": "2022-07-25T16:57:43.042Z"
   },
   {
    "duration": 205,
    "start_time": "2022-07-25T16:57:43.062Z"
   },
   {
    "duration": 4,
    "start_time": "2022-07-25T16:57:43.268Z"
   },
   {
    "duration": 17,
    "start_time": "2022-07-25T16:57:43.274Z"
   },
   {
    "duration": 22,
    "start_time": "2022-07-25T16:57:43.293Z"
   },
   {
    "duration": 16,
    "start_time": "2022-07-25T16:57:43.317Z"
   },
   {
    "duration": 262,
    "start_time": "2022-07-25T16:57:43.335Z"
   },
   {
    "duration": 276,
    "start_time": "2022-07-25T16:57:43.599Z"
   },
   {
    "duration": 262,
    "start_time": "2022-07-25T16:57:43.880Z"
   },
   {
    "duration": 18,
    "start_time": "2022-07-25T16:57:44.145Z"
   },
   {
    "duration": 5,
    "start_time": "2022-07-25T16:57:44.165Z"
   },
   {
    "duration": 249,
    "start_time": "2022-07-25T16:57:44.172Z"
   },
   {
    "duration": 330,
    "start_time": "2022-07-25T16:57:44.423Z"
   },
   {
    "duration": 6,
    "start_time": "2022-07-25T16:57:44.755Z"
   },
   {
    "duration": 28,
    "start_time": "2022-07-25T16:57:44.763Z"
   },
   {
    "duration": 18,
    "start_time": "2022-07-25T16:57:44.794Z"
   },
   {
    "duration": 6,
    "start_time": "2022-07-25T16:57:44.815Z"
   },
   {
    "duration": 554,
    "start_time": "2022-07-25T16:57:44.823Z"
   },
   {
    "duration": 257,
    "start_time": "2022-07-25T16:57:45.379Z"
   },
   {
    "duration": 3,
    "start_time": "2022-07-25T16:57:45.638Z"
   },
   {
    "duration": 258,
    "start_time": "2022-07-25T16:57:45.642Z"
   },
   {
    "duration": 28,
    "start_time": "2022-07-25T16:57:45.902Z"
   },
   {
    "duration": 7,
    "start_time": "2022-07-25T16:57:45.931Z"
   },
   {
    "duration": 24,
    "start_time": "2022-07-25T16:57:45.939Z"
   },
   {
    "duration": 7,
    "start_time": "2022-07-25T16:57:45.965Z"
   },
   {
    "duration": 5,
    "start_time": "2022-07-25T16:57:45.973Z"
   },
   {
    "duration": 17,
    "start_time": "2022-07-25T16:57:46.010Z"
   },
   {
    "duration": 9,
    "start_time": "2022-07-25T16:57:46.029Z"
   },
   {
    "duration": 11,
    "start_time": "2022-07-25T16:57:46.039Z"
   },
   {
    "duration": 33,
    "start_time": "2022-07-25T16:57:46.052Z"
   },
   {
    "duration": 29,
    "start_time": "2022-07-25T16:57:46.087Z"
   },
   {
    "duration": 14,
    "start_time": "2022-07-25T16:57:46.117Z"
   },
   {
    "duration": 4,
    "start_time": "2022-07-25T16:57:46.133Z"
   },
   {
    "duration": 84,
    "start_time": "2022-07-25T16:57:46.139Z"
   },
   {
    "duration": 266,
    "start_time": "2022-07-25T16:57:46.225Z"
   },
   {
    "duration": 18,
    "start_time": "2022-07-25T16:57:46.493Z"
   },
   {
    "duration": 19,
    "start_time": "2022-07-25T16:57:46.513Z"
   },
   {
    "duration": 5,
    "start_time": "2022-07-25T16:57:46.534Z"
   },
   {
    "duration": 19,
    "start_time": "2022-07-25T16:57:46.541Z"
   },
   {
    "duration": 3,
    "start_time": "2022-07-25T16:57:46.562Z"
   },
   {
    "duration": 210,
    "start_time": "2022-07-25T16:57:46.567Z"
   },
   {
    "duration": 6,
    "start_time": "2022-07-25T16:57:46.779Z"
   },
   {
    "duration": 7,
    "start_time": "2022-07-25T16:57:46.787Z"
   },
   {
    "duration": 295,
    "start_time": "2022-07-25T16:57:46.795Z"
   },
   {
    "duration": 10,
    "start_time": "2022-07-25T16:57:47.092Z"
   },
   {
    "duration": 9,
    "start_time": "2022-07-25T16:57:47.111Z"
   },
   {
    "duration": 10,
    "start_time": "2022-07-25T16:57:47.122Z"
   },
   {
    "duration": 24,
    "start_time": "2022-07-25T16:57:47.134Z"
   },
   {
    "duration": 13,
    "start_time": "2022-07-25T16:57:47.160Z"
   },
   {
    "duration": 44,
    "start_time": "2022-07-25T16:57:47.175Z"
   },
   {
    "duration": 13,
    "start_time": "2022-07-25T16:57:47.221Z"
   },
   {
    "duration": 4,
    "start_time": "2022-07-25T16:58:10.859Z"
   },
   {
    "duration": 743,
    "start_time": "2022-07-25T16:58:16.471Z"
   },
   {
    "duration": 76,
    "start_time": "2022-07-25T16:58:17.216Z"
   },
   {
    "duration": 18,
    "start_time": "2022-07-25T16:58:17.294Z"
   },
   {
    "duration": 52,
    "start_time": "2022-07-25T16:58:17.315Z"
   },
   {
    "duration": 13,
    "start_time": "2022-07-25T16:58:17.368Z"
   },
   {
    "duration": 13,
    "start_time": "2022-07-25T16:58:17.383Z"
   },
   {
    "duration": 13,
    "start_time": "2022-07-25T16:58:17.398Z"
   },
   {
    "duration": 9,
    "start_time": "2022-07-25T16:58:17.413Z"
   },
   {
    "duration": 54,
    "start_time": "2022-07-25T16:58:17.424Z"
   },
   {
    "duration": 12,
    "start_time": "2022-07-25T16:58:17.481Z"
   },
   {
    "duration": 29,
    "start_time": "2022-07-25T16:58:17.495Z"
   },
   {
    "duration": 22,
    "start_time": "2022-07-25T16:58:17.526Z"
   },
   {
    "duration": 6,
    "start_time": "2022-07-25T16:58:17.550Z"
   },
   {
    "duration": 12,
    "start_time": "2022-07-25T16:58:17.558Z"
   },
   {
    "duration": 5,
    "start_time": "2022-07-25T16:58:17.571Z"
   },
   {
    "duration": 18,
    "start_time": "2022-07-25T16:58:17.610Z"
   },
   {
    "duration": 16,
    "start_time": "2022-07-25T16:58:17.629Z"
   },
   {
    "duration": 10,
    "start_time": "2022-07-25T16:58:17.647Z"
   },
   {
    "duration": 14,
    "start_time": "2022-07-25T16:58:17.659Z"
   },
   {
    "duration": 48,
    "start_time": "2022-07-25T16:58:17.675Z"
   },
   {
    "duration": 191,
    "start_time": "2022-07-25T16:58:17.725Z"
   },
   {
    "duration": 5,
    "start_time": "2022-07-25T16:58:17.918Z"
   },
   {
    "duration": 11,
    "start_time": "2022-07-25T16:58:17.925Z"
   },
   {
    "duration": 8,
    "start_time": "2022-07-25T16:58:17.938Z"
   },
   {
    "duration": 5,
    "start_time": "2022-07-25T16:58:17.949Z"
   },
   {
    "duration": 289,
    "start_time": "2022-07-25T16:58:17.957Z"
   },
   {
    "duration": 289,
    "start_time": "2022-07-25T16:58:18.248Z"
   },
   {
    "duration": 277,
    "start_time": "2022-07-25T16:58:18.543Z"
   },
   {
    "duration": 23,
    "start_time": "2022-07-25T16:58:18.822Z"
   },
   {
    "duration": 5,
    "start_time": "2022-07-25T16:58:18.847Z"
   },
   {
    "duration": 252,
    "start_time": "2022-07-25T16:58:18.854Z"
   },
   {
    "duration": 313,
    "start_time": "2022-07-25T16:58:19.110Z"
   },
   {
    "duration": 6,
    "start_time": "2022-07-25T16:58:19.424Z"
   },
   {
    "duration": 21,
    "start_time": "2022-07-25T16:58:19.432Z"
   },
   {
    "duration": 8,
    "start_time": "2022-07-25T16:58:19.455Z"
   },
   {
    "duration": 5,
    "start_time": "2022-07-25T16:58:19.465Z"
   },
   {
    "duration": 549,
    "start_time": "2022-07-25T16:58:19.472Z"
   },
   {
    "duration": 260,
    "start_time": "2022-07-25T16:58:20.023Z"
   },
   {
    "duration": 3,
    "start_time": "2022-07-25T16:58:20.285Z"
   },
   {
    "duration": 272,
    "start_time": "2022-07-25T16:58:20.290Z"
   },
   {
    "duration": 18,
    "start_time": "2022-07-25T16:58:20.564Z"
   },
   {
    "duration": 6,
    "start_time": "2022-07-25T16:58:20.584Z"
   },
   {
    "duration": 34,
    "start_time": "2022-07-25T16:58:20.592Z"
   },
   {
    "duration": 7,
    "start_time": "2022-07-25T16:58:20.628Z"
   },
   {
    "duration": 22,
    "start_time": "2022-07-25T16:58:20.637Z"
   },
   {
    "duration": 24,
    "start_time": "2022-07-25T16:58:20.661Z"
   },
   {
    "duration": 16,
    "start_time": "2022-07-25T16:58:20.687Z"
   },
   {
    "duration": 11,
    "start_time": "2022-07-25T16:58:20.705Z"
   },
   {
    "duration": 27,
    "start_time": "2022-07-25T16:58:20.718Z"
   },
   {
    "duration": 12,
    "start_time": "2022-07-25T16:58:20.747Z"
   },
   {
    "duration": 13,
    "start_time": "2022-07-25T16:58:20.761Z"
   },
   {
    "duration": 75,
    "start_time": "2022-07-25T16:58:20.775Z"
   },
   {
    "duration": 9,
    "start_time": "2022-07-25T16:58:20.852Z"
   },
   {
    "duration": 270,
    "start_time": "2022-07-25T16:58:20.863Z"
   },
   {
    "duration": 13,
    "start_time": "2022-07-25T16:58:21.135Z"
   },
   {
    "duration": 30,
    "start_time": "2022-07-25T16:58:21.150Z"
   },
   {
    "duration": 5,
    "start_time": "2022-07-25T16:58:21.182Z"
   },
   {
    "duration": 26,
    "start_time": "2022-07-25T16:58:21.189Z"
   },
   {
    "duration": 9,
    "start_time": "2022-07-25T16:58:21.218Z"
   },
   {
    "duration": 200,
    "start_time": "2022-07-25T16:58:21.229Z"
   },
   {
    "duration": 5,
    "start_time": "2022-07-25T16:58:21.431Z"
   },
   {
    "duration": 16,
    "start_time": "2022-07-25T16:58:21.438Z"
   },
   {
    "duration": 286,
    "start_time": "2022-07-25T16:58:21.456Z"
   },
   {
    "duration": 8,
    "start_time": "2022-07-25T16:58:21.745Z"
   },
   {
    "duration": 12,
    "start_time": "2022-07-25T16:58:21.754Z"
   },
   {
    "duration": 49,
    "start_time": "2022-07-25T16:58:21.767Z"
   },
   {
    "duration": 30,
    "start_time": "2022-07-25T16:58:21.819Z"
   },
   {
    "duration": 34,
    "start_time": "2022-07-25T16:58:21.851Z"
   },
   {
    "duration": 33,
    "start_time": "2022-07-25T16:58:21.887Z"
   },
   {
    "duration": 38,
    "start_time": "2022-07-25T16:58:21.922Z"
   }
  ],
  "kernelspec": {
   "display_name": "Python 3 (ipykernel)",
   "language": "python",
   "name": "python3"
  },
  "language_info": {
   "codemirror_mode": {
    "name": "ipython",
    "version": 3
   },
   "file_extension": ".py",
   "mimetype": "text/x-python",
   "name": "python",
   "nbconvert_exporter": "python",
   "pygments_lexer": "ipython3",
   "version": "3.9.5"
  },
  "toc": {
   "base_numbering": 1,
   "nav_menu": {},
   "number_sections": true,
   "sideBar": true,
   "skip_h1_title": true,
   "title_cell": "Table of Contents",
   "title_sidebar": "Contents",
   "toc_cell": false,
   "toc_position": {},
   "toc_section_display": true,
   "toc_window_display": false
  }
 },
 "nbformat": 4,
 "nbformat_minor": 5
}
