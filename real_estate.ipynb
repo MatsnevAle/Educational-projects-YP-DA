{
 "cells": [
  {
   "cell_type": "markdown",
   "metadata": {
    "toc": true
   },
   "source": [
    "<h1>Содержание<span class=\"tocSkip\"></span></h1>\n",
    "<div class=\"toc\"><ul class=\"toc-item\"><li><ul class=\"toc-item\"><li><span><a href=\"#Описание-данных\" data-toc-modified-id=\"Описание-данных-0.1\"><span class=\"toc-item-num\">0.1&nbsp;&nbsp;</span>Описание данных</a></span></li><li><span><a href=\"#Импорт-библиотек\" data-toc-modified-id=\"Импорт-библиотек-0.2\"><span class=\"toc-item-num\">0.2&nbsp;&nbsp;</span>Импорт библиотек</a></span></li></ul></li><li><span><a href=\"#Изучение-данных-из-файла\" data-toc-modified-id=\"Изучение-данных-из-файла-1\"><span class=\"toc-item-num\">1&nbsp;&nbsp;</span>Изучение данных из файла</a></span><ul class=\"toc-item\"><li><span><a href=\"#Вывод\" data-toc-modified-id=\"Вывод-1.1\"><span class=\"toc-item-num\">1.1&nbsp;&nbsp;</span>Вывод</a></span></li></ul></li><li><span><a href=\"#Предобработка-данных\" data-toc-modified-id=\"Предобработка-данных-2\"><span class=\"toc-item-num\">2&nbsp;&nbsp;</span>Предобработка данных</a></span><ul class=\"toc-item\"><li><span><a href=\"#Заголовки\" data-toc-modified-id=\"Заголовки-2.1\"><span class=\"toc-item-num\">2.1&nbsp;&nbsp;</span>Заголовки</a></span></li><li><span><a href=\"#Пропущенные-значения\" data-toc-modified-id=\"Пропущенные-значения-2.2\"><span class=\"toc-item-num\">2.2&nbsp;&nbsp;</span>Пропущенные значения</a></span></li><li><span><a href=\"#Названия-населенного-пункта\" data-toc-modified-id=\"Названия-населенного-пункта-2.3\"><span class=\"toc-item-num\">2.3&nbsp;&nbsp;</span>Названия населенного пункта</a></span></li><li><span><a href=\"#Дата-размещения-объявления-и-продолжительность-продажи\" data-toc-modified-id=\"Дата-размещения-объявления-и-продолжительность-продажи-2.4\"><span class=\"toc-item-num\">2.4&nbsp;&nbsp;</span>Дата размещения объявления и продолжительность продажи</a></span></li><li><span><a href=\"#Количество-балконов\" data-toc-modified-id=\"Количество-балконов-2.5\"><span class=\"toc-item-num\">2.5&nbsp;&nbsp;</span>Количество балконов</a></span></li><li><span><a href=\"#Жилая-площадь-и-площадь-кухни\" data-toc-modified-id=\"Жилая-площадь-и-площадь-кухни-2.6\"><span class=\"toc-item-num\">2.6&nbsp;&nbsp;</span>Жилая площадь и площадь кухни</a></span></li><li><span><a href=\"#Расстояние-до-центра-города,-коды-населённых-пунктов\" data-toc-modified-id=\"Расстояние-до-центра-города,-коды-населённых-пунктов-2.7\"><span class=\"toc-item-num\">2.7&nbsp;&nbsp;</span>Расстояние до центра города, коды населённых пунктов</a></span></li><li><span><a href=\"#Аэропорты,-парки-и-зоны-отдыха\" data-toc-modified-id=\"Аэропорты,-парки-и-зоны-отдыха-2.8\"><span class=\"toc-item-num\">2.8&nbsp;&nbsp;</span>Аэропорты, парки и зоны отдыха</a></span></li><li><span><a href=\"#Высота-потолка\" data-toc-modified-id=\"Высота-потолка-2.9\"><span class=\"toc-item-num\">2.9&nbsp;&nbsp;</span>Высота потолка</a></span></li><li><span><a href=\"#Количество-этажей-в-доме\" data-toc-modified-id=\"Количество-этажей-в-доме-2.10\"><span class=\"toc-item-num\">2.10&nbsp;&nbsp;</span>Количество этажей в доме</a></span></li><li><span><a href=\"#Преобразование-типов-данных,-округление\" data-toc-modified-id=\"Преобразование-типов-данных,-округление-2.11\"><span class=\"toc-item-num\">2.11&nbsp;&nbsp;</span>Преобразование типов данных, округление</a></span></li><li><span><a href=\"#Выводы-по-второму-этапу\" data-toc-modified-id=\"Выводы-по-второму-этапу-2.12\"><span class=\"toc-item-num\">2.12&nbsp;&nbsp;</span>Выводы по второму этапу</a></span></li></ul></li><li><span><a href=\"#Добавляем-новые-столбцы\" data-toc-modified-id=\"Добавляем-новые-столбцы-3\"><span class=\"toc-item-num\">3&nbsp;&nbsp;</span>Добавляем новые столбцы</a></span><ul class=\"toc-item\"><li><span><a href=\"#Цена-за-квадратный-метр\" data-toc-modified-id=\"Цена-за-квадратный-метр-3.1\"><span class=\"toc-item-num\">3.1&nbsp;&nbsp;</span>Цена за квадратный метр</a></span></li><li><span><a href=\"#День,-месяц-и-год-выставления-на-продажу\" data-toc-modified-id=\"День,-месяц-и-год-выставления-на-продажу-3.2\"><span class=\"toc-item-num\">3.2&nbsp;&nbsp;</span>День, месяц и год выставления на продажу</a></span></li><li><span><a href=\"#Категория-этажа\" data-toc-modified-id=\"Категория-этажа-3.3\"><span class=\"toc-item-num\">3.3&nbsp;&nbsp;</span>Категория этажа</a></span></li><li><span><a href=\"#Отношения-жилой-площади-и-площади-кухни-к-общей-площади\" data-toc-modified-id=\"Отношения-жилой-площади-и-площади-кухни-к-общей-площади-3.4\"><span class=\"toc-item-num\">3.4&nbsp;&nbsp;</span>Отношения жилой площади и площади кухни к общей площади</a></span></li><li><span><a href=\"#Стоимость-в-миллионах-рублей\" data-toc-modified-id=\"Стоимость-в-миллионах-рублей-3.5\"><span class=\"toc-item-num\">3.5&nbsp;&nbsp;</span>Стоимость в миллионах рублей</a></span></li><li><span><a href=\"#Новый-порядок-столбцов\" data-toc-modified-id=\"Новый-порядок-столбцов-3.6\"><span class=\"toc-item-num\">3.6&nbsp;&nbsp;</span>Новый порядок столбцов</a></span></li><li><span><a href=\"#Выводы-по-третьему-этапу\" data-toc-modified-id=\"Выводы-по-третьему-этапу-3.7\"><span class=\"toc-item-num\">3.7&nbsp;&nbsp;</span>Выводы по третьему этапу</a></span></li></ul></li><li><span><a href=\"#Исследовательский-анализ-данных\" data-toc-modified-id=\"Исследовательский-анализ-данных-4\"><span class=\"toc-item-num\">4&nbsp;&nbsp;</span>Исследовательский анализ данных</a></span><ul class=\"toc-item\"><li><span><a href=\"#Изучаем-площадь,-цену,-число-комнат-и-высоту-потолков\" data-toc-modified-id=\"Изучаем-площадь,-цену,-число-комнат-и-высоту-потолков-4.1\"><span class=\"toc-item-num\">4.1&nbsp;&nbsp;</span>Изучаем площадь, цену, число комнат и высоту потолков</a></span></li><li><span><a href=\"#Редкие-и-выбивающиеся-значения\" data-toc-modified-id=\"Редкие-и-выбивающиеся-значения-4.2\"><span class=\"toc-item-num\">4.2&nbsp;&nbsp;</span>Редкие и выбивающиеся значения</a></span></li><li><span><a href=\"#Какие-факторы-больше-всего-влияют-на-стоимость-квартиры?\" data-toc-modified-id=\"Какие-факторы-больше-всего-влияют-на-стоимость-квартиры?-4.3\"><span class=\"toc-item-num\">4.3&nbsp;&nbsp;</span>Какие факторы больше всего влияют на стоимость квартиры?</a></span></li><li><span><a href=\"#Как-цена-зависит-от-удалённости-от-центра?\" data-toc-modified-id=\"Как-цена-зависит-от-удалённости-от-центра?-4.4\"><span class=\"toc-item-num\">4.4&nbsp;&nbsp;</span>Как цена зависит от удалённости от центра?</a></span></li><li><span><a href=\"#Сегмент-квартир-в-центре:-отклоняются-ли-они-от-общих-показателей-по-всему-городу?\" data-toc-modified-id=\"Сегмент-квартир-в-центре:-отклоняются-ли-они-от-общих-показателей-по-всему-городу?-4.5\"><span class=\"toc-item-num\">4.5&nbsp;&nbsp;</span>Сегмент квартир в центре: отклоняются ли они от общих показателей по всему городу?</a></span></li></ul></li><li><span><a href=\"#Общий-вывод\" data-toc-modified-id=\"Общий-вывод-5\"><span class=\"toc-item-num\">5&nbsp;&nbsp;</span>Общий вывод</a></span><ul class=\"toc-item\"><li><span><a href=\"#Результаты-исследования\" data-toc-modified-id=\"Результаты-исследования-5.1\"><span class=\"toc-item-num\">5.1&nbsp;&nbsp;</span>Результаты исследования</a></span></li></ul></li></ul></div>"
   ]
  },
  {
   "cell_type": "markdown",
   "metadata": {},
   "source": [
    "# Исследование объявлений о продаже квартир\n",
    "\n",
    "В вашем распоряжении данные сервиса Яндекc Недвижимость — архив объявлений о продаже квартир в Санкт-Петербурге и соседних населённых пунктах за несколько лет. Нужно научиться определять рыночную стоимость объектов недвижимости. Ваша задача — установить параметры. Это позволит построить автоматизированную систему: она отследит аномалии и мошенническую деятельность. \n",
    "\n",
    "По каждой квартире на продажу доступны два вида данных. Первые вписаны пользователем, вторые получены автоматически на основе картографических данных. Например, расстояние до центра, аэропорта, ближайшего парка и водоёма.\n",
    "\n",
    "### Описание данных\n",
    "- `airports_nearest` — расстояние до ближайшего аэропорта в метрах (м)\n",
    "- `balcony` — число балконов\n",
    "- `ceiling_height` — высота потолков (м)\n",
    "- `cityCenters_nearest` — расстояние до центра города (м)\n",
    "- `days_exposition` — сколько дней было размещено объявление (от публикации до снятия)\n",
    "- `first_day_exposition` — дата публикации\n",
    "- `floor` — этаж\n",
    "- `floors_total` — всего этажей в доме\n",
    "- `is_apartment` — апартаменты (булев тип)\n",
    "- `kitchen_area` — площадь кухни в квадратных метрах (м²)\n",
    "- `last_price` — цена на момент снятия с публикации\n",
    "- `living_area` — жилая площадь в квадратных метрах (м²)\n",
    "- `locality_name` — название населённого пункта\n",
    "- `open_plan` — свободная планировка (булев тип)\n",
    "- `parks_around3000` — число парков в радиусе 3 км\n",
    "- `parks_nearest` — расстояние до ближайшего парка (м)\n",
    "- `ponds_around3000` — число водоёмов в радиусе 3 км\n",
    "- `ponds_nearest` — расстояние до ближайшего водоёма (м)\n",
    "- `rooms` — число комнат\n",
    "- `studio` — квартира-студия (булев тип)\n",
    "- `total_area` — площадь квартиры в квадратных метрах (м²)\n",
    "- `total_images` — число фотографий квартиры в объявлении\n"
   ]
  },
  {
   "cell_type": "markdown",
   "metadata": {},
   "source": [
    "### Импорт библиотек"
   ]
  },
  {
   "cell_type": "code",
   "execution_count": 1,
   "metadata": {},
   "outputs": [],
   "source": [
    "import pandas as pd\n",
    "import matplotlib.pyplot as plt\n",
    "import warnings as wng\n",
    "import platform\n",
    "import random\n",
    "import numpy as np\n",
    "from matplotlib.ticker import MaxNLocator, StrMethodFormatter\n",
    "from matplotlib.gridspec import GridSpec\n",
    "from sklearn import datasets, linear_model\n",
    "wng.filterwarnings(\"ignore\") # исключим дальнейшие ошибки по ошибкам"
   ]
  },
  {
   "cell_type": "markdown",
   "metadata": {},
   "source": [
    "## Изучение данных из файла"
   ]
  },
  {
   "cell_type": "code",
   "execution_count": 2,
   "metadata": {},
   "outputs": [
    {
     "name": "stdout",
     "output_type": "stream",
     "text": [
      "<class 'pandas.core.frame.DataFrame'>\n",
      "RangeIndex: 23699 entries, 0 to 23698\n",
      "Data columns (total 22 columns):\n",
      " #   Column                Non-Null Count  Dtype  \n",
      "---  ------                --------------  -----  \n",
      " 0   total_images          23699 non-null  int64  \n",
      " 1   last_price            23699 non-null  float64\n",
      " 2   total_area            23699 non-null  float64\n",
      " 3   first_day_exposition  23699 non-null  object \n",
      " 4   rooms                 23699 non-null  int64  \n",
      " 5   ceiling_height        14504 non-null  float64\n",
      " 6   floors_total          23613 non-null  float64\n",
      " 7   living_area           21796 non-null  float64\n",
      " 8   floor                 23699 non-null  int64  \n",
      " 9   is_apartment          2775 non-null   object \n",
      " 10  studio                23699 non-null  bool   \n",
      " 11  open_plan             23699 non-null  bool   \n",
      " 12  kitchen_area          21421 non-null  float64\n",
      " 13  balcony               12180 non-null  float64\n",
      " 14  locality_name         23650 non-null  object \n",
      " 15  airports_nearest      18157 non-null  float64\n",
      " 16  cityCenters_nearest   18180 non-null  float64\n",
      " 17  parks_around3000      18181 non-null  float64\n",
      " 18  parks_nearest         8079 non-null   float64\n",
      " 19  ponds_around3000      18181 non-null  float64\n",
      " 20  ponds_nearest         9110 non-null   float64\n",
      " 21  days_exposition       20518 non-null  float64\n",
      "dtypes: bool(2), float64(14), int64(3), object(3)\n",
      "memory usage: 3.7+ MB\n"
     ]
    }
   ],
   "source": [
    "df = pd.read_csv('/datasets/real_estate_data.csv', sep='\\t')\n",
    "df.info()"
   ]
  },
  {
   "cell_type": "markdown",
   "metadata": {},
   "source": [
    "При первичном осмотре данных, необходимо проверить следующие данные:\n",
    "- `ceiling_height` - в столбце достаточно много пропущенных значений, надо проверить\n",
    "- `floors total` - незначительное кол-во строк с пропущенным кол-вом этажей\n",
    "- `living_area` - в столбце достаточно много пропущенных значений, надо проверить\n",
    "- `is_apartment` - перевести данные в булев тип данных\n",
    "- `airports_nearest` - в столбце достаточно много пропущенных значений, надо проверить\n",
    "- `cityCenters_nearest` - в столбце достаточно много пропущенных значений, надо проверить. Привести название столбца к змеиному регистру.\n",
    "- `parks_nearest` - в столбце достаточно много пропущенных значений, надо проверить\n",
    "- `ponds_nearest` - в столбце достаточно много пропущенных значений, надо проверить\n"
   ]
  },
  {
   "cell_type": "code",
   "execution_count": 3,
   "metadata": {
    "scrolled": true
   },
   "outputs": [
    {
     "data": {
      "text/html": [
       "<div>\n",
       "<style scoped>\n",
       "    .dataframe tbody tr th:only-of-type {\n",
       "        vertical-align: middle;\n",
       "    }\n",
       "\n",
       "    .dataframe tbody tr th {\n",
       "        vertical-align: top;\n",
       "    }\n",
       "\n",
       "    .dataframe thead th {\n",
       "        text-align: right;\n",
       "    }\n",
       "</style>\n",
       "<table border=\"1\" class=\"dataframe\">\n",
       "  <thead>\n",
       "    <tr style=\"text-align: right;\">\n",
       "      <th></th>\n",
       "      <th>total_images</th>\n",
       "      <th>last_price</th>\n",
       "      <th>total_area</th>\n",
       "      <th>rooms</th>\n",
       "      <th>ceiling_height</th>\n",
       "      <th>floors_total</th>\n",
       "      <th>living_area</th>\n",
       "      <th>floor</th>\n",
       "      <th>kitchen_area</th>\n",
       "      <th>balcony</th>\n",
       "      <th>airports_nearest</th>\n",
       "      <th>cityCenters_nearest</th>\n",
       "      <th>parks_around3000</th>\n",
       "      <th>parks_nearest</th>\n",
       "      <th>ponds_around3000</th>\n",
       "      <th>ponds_nearest</th>\n",
       "      <th>days_exposition</th>\n",
       "    </tr>\n",
       "  </thead>\n",
       "  <tbody>\n",
       "    <tr>\n",
       "      <th>count</th>\n",
       "      <td>23699.000000</td>\n",
       "      <td>2.369900e+04</td>\n",
       "      <td>23699.000000</td>\n",
       "      <td>23699.000000</td>\n",
       "      <td>14504.000000</td>\n",
       "      <td>23613.000000</td>\n",
       "      <td>21796.000000</td>\n",
       "      <td>23699.000000</td>\n",
       "      <td>21421.000000</td>\n",
       "      <td>12180.000000</td>\n",
       "      <td>18157.000000</td>\n",
       "      <td>18180.000000</td>\n",
       "      <td>18181.000000</td>\n",
       "      <td>8079.000000</td>\n",
       "      <td>18181.000000</td>\n",
       "      <td>9110.000000</td>\n",
       "      <td>20518.000000</td>\n",
       "    </tr>\n",
       "    <tr>\n",
       "      <th>mean</th>\n",
       "      <td>9.858475</td>\n",
       "      <td>6.541549e+06</td>\n",
       "      <td>60.348651</td>\n",
       "      <td>2.070636</td>\n",
       "      <td>2.771499</td>\n",
       "      <td>10.673824</td>\n",
       "      <td>34.457852</td>\n",
       "      <td>5.892358</td>\n",
       "      <td>10.569807</td>\n",
       "      <td>1.150082</td>\n",
       "      <td>28793.672193</td>\n",
       "      <td>14191.277833</td>\n",
       "      <td>0.611408</td>\n",
       "      <td>490.804555</td>\n",
       "      <td>0.770255</td>\n",
       "      <td>517.980900</td>\n",
       "      <td>180.888634</td>\n",
       "    </tr>\n",
       "    <tr>\n",
       "      <th>std</th>\n",
       "      <td>5.682529</td>\n",
       "      <td>1.088701e+07</td>\n",
       "      <td>35.654083</td>\n",
       "      <td>1.078405</td>\n",
       "      <td>1.261056</td>\n",
       "      <td>6.597173</td>\n",
       "      <td>22.030445</td>\n",
       "      <td>4.885249</td>\n",
       "      <td>5.905438</td>\n",
       "      <td>1.071300</td>\n",
       "      <td>12630.880622</td>\n",
       "      <td>8608.386210</td>\n",
       "      <td>0.802074</td>\n",
       "      <td>342.317995</td>\n",
       "      <td>0.938346</td>\n",
       "      <td>277.720643</td>\n",
       "      <td>219.727988</td>\n",
       "    </tr>\n",
       "    <tr>\n",
       "      <th>min</th>\n",
       "      <td>0.000000</td>\n",
       "      <td>1.219000e+04</td>\n",
       "      <td>12.000000</td>\n",
       "      <td>0.000000</td>\n",
       "      <td>1.000000</td>\n",
       "      <td>1.000000</td>\n",
       "      <td>2.000000</td>\n",
       "      <td>1.000000</td>\n",
       "      <td>1.300000</td>\n",
       "      <td>0.000000</td>\n",
       "      <td>0.000000</td>\n",
       "      <td>181.000000</td>\n",
       "      <td>0.000000</td>\n",
       "      <td>1.000000</td>\n",
       "      <td>0.000000</td>\n",
       "      <td>13.000000</td>\n",
       "      <td>1.000000</td>\n",
       "    </tr>\n",
       "    <tr>\n",
       "      <th>25%</th>\n",
       "      <td>6.000000</td>\n",
       "      <td>3.400000e+06</td>\n",
       "      <td>40.000000</td>\n",
       "      <td>1.000000</td>\n",
       "      <td>2.520000</td>\n",
       "      <td>5.000000</td>\n",
       "      <td>18.600000</td>\n",
       "      <td>2.000000</td>\n",
       "      <td>7.000000</td>\n",
       "      <td>0.000000</td>\n",
       "      <td>18585.000000</td>\n",
       "      <td>9238.000000</td>\n",
       "      <td>0.000000</td>\n",
       "      <td>288.000000</td>\n",
       "      <td>0.000000</td>\n",
       "      <td>294.000000</td>\n",
       "      <td>45.000000</td>\n",
       "    </tr>\n",
       "    <tr>\n",
       "      <th>50%</th>\n",
       "      <td>9.000000</td>\n",
       "      <td>4.650000e+06</td>\n",
       "      <td>52.000000</td>\n",
       "      <td>2.000000</td>\n",
       "      <td>2.650000</td>\n",
       "      <td>9.000000</td>\n",
       "      <td>30.000000</td>\n",
       "      <td>4.000000</td>\n",
       "      <td>9.100000</td>\n",
       "      <td>1.000000</td>\n",
       "      <td>26726.000000</td>\n",
       "      <td>13098.500000</td>\n",
       "      <td>0.000000</td>\n",
       "      <td>455.000000</td>\n",
       "      <td>1.000000</td>\n",
       "      <td>502.000000</td>\n",
       "      <td>95.000000</td>\n",
       "    </tr>\n",
       "    <tr>\n",
       "      <th>75%</th>\n",
       "      <td>14.000000</td>\n",
       "      <td>6.800000e+06</td>\n",
       "      <td>69.900000</td>\n",
       "      <td>3.000000</td>\n",
       "      <td>2.800000</td>\n",
       "      <td>16.000000</td>\n",
       "      <td>42.300000</td>\n",
       "      <td>8.000000</td>\n",
       "      <td>12.000000</td>\n",
       "      <td>2.000000</td>\n",
       "      <td>37273.000000</td>\n",
       "      <td>16293.000000</td>\n",
       "      <td>1.000000</td>\n",
       "      <td>612.000000</td>\n",
       "      <td>1.000000</td>\n",
       "      <td>729.000000</td>\n",
       "      <td>232.000000</td>\n",
       "    </tr>\n",
       "    <tr>\n",
       "      <th>max</th>\n",
       "      <td>50.000000</td>\n",
       "      <td>7.630000e+08</td>\n",
       "      <td>900.000000</td>\n",
       "      <td>19.000000</td>\n",
       "      <td>100.000000</td>\n",
       "      <td>60.000000</td>\n",
       "      <td>409.700000</td>\n",
       "      <td>33.000000</td>\n",
       "      <td>112.000000</td>\n",
       "      <td>5.000000</td>\n",
       "      <td>84869.000000</td>\n",
       "      <td>65968.000000</td>\n",
       "      <td>3.000000</td>\n",
       "      <td>3190.000000</td>\n",
       "      <td>3.000000</td>\n",
       "      <td>1344.000000</td>\n",
       "      <td>1580.000000</td>\n",
       "    </tr>\n",
       "  </tbody>\n",
       "</table>\n",
       "</div>"
      ],
      "text/plain": [
       "       total_images    last_price    total_area         rooms  ceiling_height  \\\n",
       "count  23699.000000  2.369900e+04  23699.000000  23699.000000    14504.000000   \n",
       "mean       9.858475  6.541549e+06     60.348651      2.070636        2.771499   \n",
       "std        5.682529  1.088701e+07     35.654083      1.078405        1.261056   \n",
       "min        0.000000  1.219000e+04     12.000000      0.000000        1.000000   \n",
       "25%        6.000000  3.400000e+06     40.000000      1.000000        2.520000   \n",
       "50%        9.000000  4.650000e+06     52.000000      2.000000        2.650000   \n",
       "75%       14.000000  6.800000e+06     69.900000      3.000000        2.800000   \n",
       "max       50.000000  7.630000e+08    900.000000     19.000000      100.000000   \n",
       "\n",
       "       floors_total   living_area         floor  kitchen_area       balcony  \\\n",
       "count  23613.000000  21796.000000  23699.000000  21421.000000  12180.000000   \n",
       "mean      10.673824     34.457852      5.892358     10.569807      1.150082   \n",
       "std        6.597173     22.030445      4.885249      5.905438      1.071300   \n",
       "min        1.000000      2.000000      1.000000      1.300000      0.000000   \n",
       "25%        5.000000     18.600000      2.000000      7.000000      0.000000   \n",
       "50%        9.000000     30.000000      4.000000      9.100000      1.000000   \n",
       "75%       16.000000     42.300000      8.000000     12.000000      2.000000   \n",
       "max       60.000000    409.700000     33.000000    112.000000      5.000000   \n",
       "\n",
       "       airports_nearest  cityCenters_nearest  parks_around3000  parks_nearest  \\\n",
       "count      18157.000000         18180.000000      18181.000000    8079.000000   \n",
       "mean       28793.672193         14191.277833          0.611408     490.804555   \n",
       "std        12630.880622          8608.386210          0.802074     342.317995   \n",
       "min            0.000000           181.000000          0.000000       1.000000   \n",
       "25%        18585.000000          9238.000000          0.000000     288.000000   \n",
       "50%        26726.000000         13098.500000          0.000000     455.000000   \n",
       "75%        37273.000000         16293.000000          1.000000     612.000000   \n",
       "max        84869.000000         65968.000000          3.000000    3190.000000   \n",
       "\n",
       "       ponds_around3000  ponds_nearest  days_exposition  \n",
       "count      18181.000000    9110.000000     20518.000000  \n",
       "mean           0.770255     517.980900       180.888634  \n",
       "std            0.938346     277.720643       219.727988  \n",
       "min            0.000000      13.000000         1.000000  \n",
       "25%            0.000000     294.000000        45.000000  \n",
       "50%            1.000000     502.000000        95.000000  \n",
       "75%            1.000000     729.000000       232.000000  \n",
       "max            3.000000    1344.000000      1580.000000  "
      ]
     },
     "execution_count": 3,
     "metadata": {},
     "output_type": "execute_result"
    }
   ],
   "source": [
    "df.describe()"
   ]
  },
  {
   "cell_type": "markdown",
   "metadata": {},
   "source": [
    "Из-за большого кол-ва нулевых строк, некорректно рассчитываются данные. Нужен дальнейший анализ данных."
   ]
  },
  {
   "cell_type": "code",
   "execution_count": 4,
   "metadata": {},
   "outputs": [
    {
     "data": {
      "text/html": [
       "<div>\n",
       "<style scoped>\n",
       "    .dataframe tbody tr th:only-of-type {\n",
       "        vertical-align: middle;\n",
       "    }\n",
       "\n",
       "    .dataframe tbody tr th {\n",
       "        vertical-align: top;\n",
       "    }\n",
       "\n",
       "    .dataframe thead th {\n",
       "        text-align: right;\n",
       "    }\n",
       "</style>\n",
       "<table border=\"1\" class=\"dataframe\">\n",
       "  <thead>\n",
       "    <tr style=\"text-align: right;\">\n",
       "      <th></th>\n",
       "      <th>total_images</th>\n",
       "      <th>last_price</th>\n",
       "      <th>total_area</th>\n",
       "      <th>first_day_exposition</th>\n",
       "      <th>rooms</th>\n",
       "      <th>ceiling_height</th>\n",
       "      <th>floors_total</th>\n",
       "      <th>living_area</th>\n",
       "      <th>floor</th>\n",
       "      <th>is_apartment</th>\n",
       "      <th>...</th>\n",
       "      <th>kitchen_area</th>\n",
       "      <th>balcony</th>\n",
       "      <th>locality_name</th>\n",
       "      <th>airports_nearest</th>\n",
       "      <th>cityCenters_nearest</th>\n",
       "      <th>parks_around3000</th>\n",
       "      <th>parks_nearest</th>\n",
       "      <th>ponds_around3000</th>\n",
       "      <th>ponds_nearest</th>\n",
       "      <th>days_exposition</th>\n",
       "    </tr>\n",
       "  </thead>\n",
       "  <tbody>\n",
       "    <tr>\n",
       "      <th>0</th>\n",
       "      <td>20</td>\n",
       "      <td>13000000.0</td>\n",
       "      <td>108.00</td>\n",
       "      <td>2019-03-07T00:00:00</td>\n",
       "      <td>3</td>\n",
       "      <td>2.70</td>\n",
       "      <td>16.0</td>\n",
       "      <td>51.00</td>\n",
       "      <td>8</td>\n",
       "      <td>NaN</td>\n",
       "      <td>...</td>\n",
       "      <td>25.00</td>\n",
       "      <td>NaN</td>\n",
       "      <td>Санкт-Петербург</td>\n",
       "      <td>18863.0</td>\n",
       "      <td>16028.0</td>\n",
       "      <td>1.0</td>\n",
       "      <td>482.0</td>\n",
       "      <td>2.0</td>\n",
       "      <td>755.0</td>\n",
       "      <td>NaN</td>\n",
       "    </tr>\n",
       "    <tr>\n",
       "      <th>1</th>\n",
       "      <td>7</td>\n",
       "      <td>3350000.0</td>\n",
       "      <td>40.40</td>\n",
       "      <td>2018-12-04T00:00:00</td>\n",
       "      <td>1</td>\n",
       "      <td>NaN</td>\n",
       "      <td>11.0</td>\n",
       "      <td>18.60</td>\n",
       "      <td>1</td>\n",
       "      <td>NaN</td>\n",
       "      <td>...</td>\n",
       "      <td>11.00</td>\n",
       "      <td>2.0</td>\n",
       "      <td>посёлок Шушары</td>\n",
       "      <td>12817.0</td>\n",
       "      <td>18603.0</td>\n",
       "      <td>0.0</td>\n",
       "      <td>NaN</td>\n",
       "      <td>0.0</td>\n",
       "      <td>NaN</td>\n",
       "      <td>81.0</td>\n",
       "    </tr>\n",
       "    <tr>\n",
       "      <th>2</th>\n",
       "      <td>10</td>\n",
       "      <td>5196000.0</td>\n",
       "      <td>56.00</td>\n",
       "      <td>2015-08-20T00:00:00</td>\n",
       "      <td>2</td>\n",
       "      <td>NaN</td>\n",
       "      <td>5.0</td>\n",
       "      <td>34.30</td>\n",
       "      <td>4</td>\n",
       "      <td>NaN</td>\n",
       "      <td>...</td>\n",
       "      <td>8.30</td>\n",
       "      <td>0.0</td>\n",
       "      <td>Санкт-Петербург</td>\n",
       "      <td>21741.0</td>\n",
       "      <td>13933.0</td>\n",
       "      <td>1.0</td>\n",
       "      <td>90.0</td>\n",
       "      <td>2.0</td>\n",
       "      <td>574.0</td>\n",
       "      <td>558.0</td>\n",
       "    </tr>\n",
       "    <tr>\n",
       "      <th>3</th>\n",
       "      <td>0</td>\n",
       "      <td>64900000.0</td>\n",
       "      <td>159.00</td>\n",
       "      <td>2015-07-24T00:00:00</td>\n",
       "      <td>3</td>\n",
       "      <td>NaN</td>\n",
       "      <td>14.0</td>\n",
       "      <td>NaN</td>\n",
       "      <td>9</td>\n",
       "      <td>NaN</td>\n",
       "      <td>...</td>\n",
       "      <td>NaN</td>\n",
       "      <td>0.0</td>\n",
       "      <td>Санкт-Петербург</td>\n",
       "      <td>28098.0</td>\n",
       "      <td>6800.0</td>\n",
       "      <td>2.0</td>\n",
       "      <td>84.0</td>\n",
       "      <td>3.0</td>\n",
       "      <td>234.0</td>\n",
       "      <td>424.0</td>\n",
       "    </tr>\n",
       "    <tr>\n",
       "      <th>4</th>\n",
       "      <td>2</td>\n",
       "      <td>10000000.0</td>\n",
       "      <td>100.00</td>\n",
       "      <td>2018-06-19T00:00:00</td>\n",
       "      <td>2</td>\n",
       "      <td>3.03</td>\n",
       "      <td>14.0</td>\n",
       "      <td>32.00</td>\n",
       "      <td>13</td>\n",
       "      <td>NaN</td>\n",
       "      <td>...</td>\n",
       "      <td>41.00</td>\n",
       "      <td>NaN</td>\n",
       "      <td>Санкт-Петербург</td>\n",
       "      <td>31856.0</td>\n",
       "      <td>8098.0</td>\n",
       "      <td>2.0</td>\n",
       "      <td>112.0</td>\n",
       "      <td>1.0</td>\n",
       "      <td>48.0</td>\n",
       "      <td>121.0</td>\n",
       "    </tr>\n",
       "    <tr>\n",
       "      <th>5</th>\n",
       "      <td>10</td>\n",
       "      <td>2890000.0</td>\n",
       "      <td>30.40</td>\n",
       "      <td>2018-09-10T00:00:00</td>\n",
       "      <td>1</td>\n",
       "      <td>NaN</td>\n",
       "      <td>12.0</td>\n",
       "      <td>14.40</td>\n",
       "      <td>5</td>\n",
       "      <td>NaN</td>\n",
       "      <td>...</td>\n",
       "      <td>9.10</td>\n",
       "      <td>NaN</td>\n",
       "      <td>городской посёлок Янино-1</td>\n",
       "      <td>NaN</td>\n",
       "      <td>NaN</td>\n",
       "      <td>NaN</td>\n",
       "      <td>NaN</td>\n",
       "      <td>NaN</td>\n",
       "      <td>NaN</td>\n",
       "      <td>55.0</td>\n",
       "    </tr>\n",
       "    <tr>\n",
       "      <th>6</th>\n",
       "      <td>6</td>\n",
       "      <td>3700000.0</td>\n",
       "      <td>37.30</td>\n",
       "      <td>2017-11-02T00:00:00</td>\n",
       "      <td>1</td>\n",
       "      <td>NaN</td>\n",
       "      <td>26.0</td>\n",
       "      <td>10.60</td>\n",
       "      <td>6</td>\n",
       "      <td>NaN</td>\n",
       "      <td>...</td>\n",
       "      <td>14.40</td>\n",
       "      <td>1.0</td>\n",
       "      <td>посёлок Парголово</td>\n",
       "      <td>52996.0</td>\n",
       "      <td>19143.0</td>\n",
       "      <td>0.0</td>\n",
       "      <td>NaN</td>\n",
       "      <td>0.0</td>\n",
       "      <td>NaN</td>\n",
       "      <td>155.0</td>\n",
       "    </tr>\n",
       "    <tr>\n",
       "      <th>7</th>\n",
       "      <td>5</td>\n",
       "      <td>7915000.0</td>\n",
       "      <td>71.60</td>\n",
       "      <td>2019-04-18T00:00:00</td>\n",
       "      <td>2</td>\n",
       "      <td>NaN</td>\n",
       "      <td>24.0</td>\n",
       "      <td>NaN</td>\n",
       "      <td>22</td>\n",
       "      <td>NaN</td>\n",
       "      <td>...</td>\n",
       "      <td>18.90</td>\n",
       "      <td>2.0</td>\n",
       "      <td>Санкт-Петербург</td>\n",
       "      <td>23982.0</td>\n",
       "      <td>11634.0</td>\n",
       "      <td>0.0</td>\n",
       "      <td>NaN</td>\n",
       "      <td>0.0</td>\n",
       "      <td>NaN</td>\n",
       "      <td>NaN</td>\n",
       "    </tr>\n",
       "    <tr>\n",
       "      <th>8</th>\n",
       "      <td>20</td>\n",
       "      <td>2900000.0</td>\n",
       "      <td>33.16</td>\n",
       "      <td>2018-05-23T00:00:00</td>\n",
       "      <td>1</td>\n",
       "      <td>NaN</td>\n",
       "      <td>27.0</td>\n",
       "      <td>15.43</td>\n",
       "      <td>26</td>\n",
       "      <td>NaN</td>\n",
       "      <td>...</td>\n",
       "      <td>8.81</td>\n",
       "      <td>NaN</td>\n",
       "      <td>посёлок Мурино</td>\n",
       "      <td>NaN</td>\n",
       "      <td>NaN</td>\n",
       "      <td>NaN</td>\n",
       "      <td>NaN</td>\n",
       "      <td>NaN</td>\n",
       "      <td>NaN</td>\n",
       "      <td>189.0</td>\n",
       "    </tr>\n",
       "    <tr>\n",
       "      <th>9</th>\n",
       "      <td>18</td>\n",
       "      <td>5400000.0</td>\n",
       "      <td>61.00</td>\n",
       "      <td>2017-02-26T00:00:00</td>\n",
       "      <td>3</td>\n",
       "      <td>2.50</td>\n",
       "      <td>9.0</td>\n",
       "      <td>43.60</td>\n",
       "      <td>7</td>\n",
       "      <td>NaN</td>\n",
       "      <td>...</td>\n",
       "      <td>6.50</td>\n",
       "      <td>2.0</td>\n",
       "      <td>Санкт-Петербург</td>\n",
       "      <td>50898.0</td>\n",
       "      <td>15008.0</td>\n",
       "      <td>0.0</td>\n",
       "      <td>NaN</td>\n",
       "      <td>0.0</td>\n",
       "      <td>NaN</td>\n",
       "      <td>289.0</td>\n",
       "    </tr>\n",
       "  </tbody>\n",
       "</table>\n",
       "<p>10 rows × 22 columns</p>\n",
       "</div>"
      ],
      "text/plain": [
       "   total_images  last_price  total_area first_day_exposition  rooms  \\\n",
       "0            20  13000000.0      108.00  2019-03-07T00:00:00      3   \n",
       "1             7   3350000.0       40.40  2018-12-04T00:00:00      1   \n",
       "2            10   5196000.0       56.00  2015-08-20T00:00:00      2   \n",
       "3             0  64900000.0      159.00  2015-07-24T00:00:00      3   \n",
       "4             2  10000000.0      100.00  2018-06-19T00:00:00      2   \n",
       "5            10   2890000.0       30.40  2018-09-10T00:00:00      1   \n",
       "6             6   3700000.0       37.30  2017-11-02T00:00:00      1   \n",
       "7             5   7915000.0       71.60  2019-04-18T00:00:00      2   \n",
       "8            20   2900000.0       33.16  2018-05-23T00:00:00      1   \n",
       "9            18   5400000.0       61.00  2017-02-26T00:00:00      3   \n",
       "\n",
       "   ceiling_height  floors_total  living_area  floor is_apartment  ...  \\\n",
       "0            2.70          16.0        51.00      8          NaN  ...   \n",
       "1             NaN          11.0        18.60      1          NaN  ...   \n",
       "2             NaN           5.0        34.30      4          NaN  ...   \n",
       "3             NaN          14.0          NaN      9          NaN  ...   \n",
       "4            3.03          14.0        32.00     13          NaN  ...   \n",
       "5             NaN          12.0        14.40      5          NaN  ...   \n",
       "6             NaN          26.0        10.60      6          NaN  ...   \n",
       "7             NaN          24.0          NaN     22          NaN  ...   \n",
       "8             NaN          27.0        15.43     26          NaN  ...   \n",
       "9            2.50           9.0        43.60      7          NaN  ...   \n",
       "\n",
       "   kitchen_area  balcony              locality_name  airports_nearest  \\\n",
       "0         25.00      NaN            Санкт-Петербург           18863.0   \n",
       "1         11.00      2.0             посёлок Шушары           12817.0   \n",
       "2          8.30      0.0            Санкт-Петербург           21741.0   \n",
       "3           NaN      0.0            Санкт-Петербург           28098.0   \n",
       "4         41.00      NaN            Санкт-Петербург           31856.0   \n",
       "5          9.10      NaN  городской посёлок Янино-1               NaN   \n",
       "6         14.40      1.0          посёлок Парголово           52996.0   \n",
       "7         18.90      2.0            Санкт-Петербург           23982.0   \n",
       "8          8.81      NaN             посёлок Мурино               NaN   \n",
       "9          6.50      2.0            Санкт-Петербург           50898.0   \n",
       "\n",
       "  cityCenters_nearest  parks_around3000  parks_nearest  ponds_around3000  \\\n",
       "0             16028.0               1.0          482.0               2.0   \n",
       "1             18603.0               0.0            NaN               0.0   \n",
       "2             13933.0               1.0           90.0               2.0   \n",
       "3              6800.0               2.0           84.0               3.0   \n",
       "4              8098.0               2.0          112.0               1.0   \n",
       "5                 NaN               NaN            NaN               NaN   \n",
       "6             19143.0               0.0            NaN               0.0   \n",
       "7             11634.0               0.0            NaN               0.0   \n",
       "8                 NaN               NaN            NaN               NaN   \n",
       "9             15008.0               0.0            NaN               0.0   \n",
       "\n",
       "   ponds_nearest  days_exposition  \n",
       "0          755.0              NaN  \n",
       "1            NaN             81.0  \n",
       "2          574.0            558.0  \n",
       "3          234.0            424.0  \n",
       "4           48.0            121.0  \n",
       "5            NaN             55.0  \n",
       "6            NaN            155.0  \n",
       "7            NaN              NaN  \n",
       "8            NaN            189.0  \n",
       "9            NaN            289.0  \n",
       "\n",
       "[10 rows x 22 columns]"
      ]
     },
     "execution_count": 4,
     "metadata": {},
     "output_type": "execute_result"
    }
   ],
   "source": [
    "df.head(10) #Выводим первые 10 строк датафрейма, для ознакомления"
   ]
  },
  {
   "cell_type": "markdown",
   "metadata": {},
   "source": [
    "### Вывод"
   ]
  },
  {
   "cell_type": "markdown",
   "metadata": {},
   "source": [
    "Мы прочитали csv-файл и сохранили его как датафрейм в переменную df. Каждая строка датфрейма содержит информацию о конкретном объявлении о продаже недвижимости (квартиры, апартаментов). Далее нам необходимо сделать следующее:\n",
    "\n",
    "- Во-первых, предобработать данные. Невооруженным глазом видно что проблемы есть и с названиями столбцов, и с пропущенными значениями. Также стоит привести типы данных к подходящим по смыслу.\n",
    "- Во-вторых, необходимо добавить новую информацию, опираясь на имеющиеся данные: цену квадратного метра, день недели, месяц и год публикации объявления, этаж квартиры (варианты — первый, последний, другой), соотношение жилой и общей площади, а также отношение площади кухни к общей.\n",
    "- В-третьих, необходимо провести собственно исследование. Нас будут интересовать площадь, цена, число комнат, высота потолков, продолжительность продажи квартиры. Кроме того, разберёмся с редкими и выбивающимися значениями, изучим какие факторы больше всего влияют на стоимость квартиры, проанализируем разные территории и районы на предмет влияния на ценообразование."
   ]
  },
  {
   "cell_type": "markdown",
   "metadata": {},
   "source": [
    "## Предобработка данных"
   ]
  },
  {
   "cell_type": "markdown",
   "metadata": {},
   "source": [
    "### Заголовки "
   ]
  },
  {
   "cell_type": "markdown",
   "metadata": {},
   "source": [
    "Начнем с обработки названия столбцов."
   ]
  },
  {
   "cell_type": "code",
   "execution_count": 5,
   "metadata": {},
   "outputs": [
    {
     "data": {
      "text/plain": [
       "Index(['total_images', 'last_price', 'total_area', 'first_day_exposition',\n",
       "       'rooms', 'ceiling_height', 'floors_total', 'living_area', 'floor',\n",
       "       'is_apartment', 'studio', 'open_plan', 'kitchen_area', 'balcony',\n",
       "       'locality_name', 'airports_nearest', 'cityCenters_nearest',\n",
       "       'parks_around3000', 'parks_nearest', 'ponds_around3000',\n",
       "       'ponds_nearest', 'days_exposition'],\n",
       "      dtype='object')"
      ]
     },
     "execution_count": 5,
     "metadata": {},
     "output_type": "execute_result"
    }
   ],
   "source": [
    "df.columns # выведем названия столбцов"
   ]
  },
  {
   "cell_type": "markdown",
   "metadata": {},
   "source": [
    "Видим, что с точки зрения формата проблем почти нет: лишних пробелов или иных символов нет, однако, есть столбец cityCenters_nearest который, конечно, имеет допустимое название, но зачем-то содержит сразу два основных стиля наиманования - camelCase и snake_case. Лучше соблюдать единообразие. Кроме того, названия столбцов не совсем корректно отображают их содержание, поэтому заменим их:"
   ]
  },
  {
   "cell_type": "code",
   "execution_count": 6,
   "metadata": {},
   "outputs": [
    {
     "name": "stdout",
     "output_type": "stream",
     "text": [
      "Новые заголовки столбцов: \n",
      "Index(['total_images', 'last_price', 'total_area', 'first_expositioned',\n",
      "       'number_of_rooms', 'ceiling_height', 'floors_total', 'living_area',\n",
      "       'floor', 'is_apartment', 'is_studio', 'is_open_plan', 'kitchen_area',\n",
      "       'number_of_balconies', 'locality_name', 'airports_nearest',\n",
      "       'city_center_distance', 'parks_3km_radius', 'parks_nearest',\n",
      "       'ponds_3km_radius', 'ponds_nearest', 'days_expositioned'],\n",
      "      dtype='object')\n"
     ]
    }
   ],
   "source": [
    "try:\n",
    "    df.set_axis(['total_images', 'last_price', 'total_area', 'first_expositioned',\n",
    "       'number_of_rooms', 'ceiling_height', 'floors_total', 'living_area', 'floor',\n",
    "       'is_apartment', 'is_studio', 'is_open_plan', 'kitchen_area', 'number_of_balconies',\n",
    "       'locality_name', 'airports_nearest', 'city_center_distance',\n",
    "       'parks_3km_radius', 'parks_nearest', 'ponds_3km_radius',\n",
    "       'ponds_nearest', 'days_expositioned'], axis='columns', inplace=True)\n",
    "except:\n",
    "    print('Ошибка!')\n",
    "finally:\n",
    "    print('Новые заголовки столбцов: \\n', df.columns, sep='')"
   ]
  },
  {
   "cell_type": "markdown",
   "metadata": {},
   "source": [
    "### Пропущенные значения"
   ]
  },
  {
   "cell_type": "markdown",
   "metadata": {},
   "source": [
    "Проверим наличие пропущенных значений:"
   ]
  },
  {
   "cell_type": "code",
   "execution_count": 7,
   "metadata": {},
   "outputs": [
    {
     "data": {
      "text/plain": [
       "total_images                0\n",
       "last_price                  0\n",
       "total_area                  0\n",
       "first_expositioned          0\n",
       "number_of_rooms             0\n",
       "ceiling_height           9195\n",
       "floors_total               86\n",
       "living_area              1903\n",
       "floor                       0\n",
       "is_apartment            20924\n",
       "is_studio                   0\n",
       "is_open_plan                0\n",
       "kitchen_area             2278\n",
       "number_of_balconies     11519\n",
       "locality_name              49\n",
       "airports_nearest         5542\n",
       "city_center_distance     5519\n",
       "parks_3km_radius         5518\n",
       "parks_nearest           15620\n",
       "ponds_3km_radius         5518\n",
       "ponds_nearest           14589\n",
       "days_expositioned        3181\n",
       "dtype: int64"
      ]
     },
     "execution_count": 7,
     "metadata": {},
     "output_type": "execute_result"
    }
   ],
   "source": [
    "df.isnull().sum() # считаем все пропущенные значения"
   ]
  },
  {
   "cell_type": "markdown",
   "metadata": {},
   "source": [
    "Как и ожидалось после первичного просмотра информации в датафрейме - очень много пропущенных значений."
   ]
  },
  {
   "cell_type": "code",
   "execution_count": 8,
   "metadata": {},
   "outputs": [
    {
     "data": {
      "text/plain": [
       "is_apartment            88.290645\n",
       "parks_nearest           65.909954\n",
       "ponds_nearest           61.559559\n",
       "number_of_balconies     48.605426\n",
       "ceiling_height          38.799105\n",
       "airports_nearest        23.384953\n",
       "city_center_distance    23.287902\n",
       "ponds_3km_radius        23.283683\n",
       "parks_3km_radius        23.283683\n",
       "days_expositioned       13.422507\n",
       "kitchen_area             9.612220\n",
       "living_area              8.029875\n",
       "floors_total             0.362885\n",
       "locality_name            0.206760\n",
       "total_images             0.000000\n",
       "last_price               0.000000\n",
       "is_studio                0.000000\n",
       "floor                    0.000000\n",
       "number_of_rooms          0.000000\n",
       "first_expositioned       0.000000\n",
       "total_area               0.000000\n",
       "is_open_plan             0.000000\n",
       "dtype: float64"
      ]
     },
     "execution_count": 8,
     "metadata": {},
     "output_type": "execute_result"
    }
   ],
   "source": [
    "null_count = df.isnull().sum()*100 / len(df)  # посчитаем долю пропущенных значений\n",
    "null_count.sort_values(ascending=False)  # выведем результат на экран"
   ]
  },
  {
   "cell_type": "markdown",
   "metadata": {},
   "source": [
    "Видно, что в 3-х столбцах больше половины пропущенных значений, наибольший процент в столбцах **is_apartment**, **parks_nearest** и **ponds_nearest**. Пока точно нельзя указать на причины появления пропущенных значений, попробуем понять их непосредственно при работе со значениями."
   ]
  },
  {
   "cell_type": "markdown",
   "metadata": {},
   "source": [
    "### Названия населенного пункта"
   ]
  },
  {
   "cell_type": "markdown",
   "metadata": {},
   "source": [
    "Для начала возьмём столбец **locality_name**, исходя из имеющихся данных мы пока не можем точно установить какие значения пропущены, поэтому заменим все пропущенные значения на **Unknown**."
   ]
  },
  {
   "cell_type": "code",
   "execution_count": 9,
   "metadata": {},
   "outputs": [],
   "source": [
    "df['locality_name'].fillna('Unknown', inplace=True)\n"
   ]
  },
  {
   "cell_type": "markdown",
   "metadata": {},
   "source": [
    "### Дата размещения объявления и продолжительность продажи"
   ]
  },
  {
   "cell_type": "markdown",
   "metadata": {},
   "source": [
    "Для дальнейшей обработки данных необходимо изменить формат данных в столбце **first_expositioned**:"
   ]
  },
  {
   "cell_type": "code",
   "execution_count": 10,
   "metadata": {},
   "outputs": [],
   "source": [
    "df['first_expositioned'] = pd.to_datetime(df['first_expositioned'], format='%Y-%m-%dT%H:%M:%S', errors='raise')\n"
   ]
  },
  {
   "cell_type": "code",
   "execution_count": 11,
   "metadata": {},
   "outputs": [
    {
     "name": "stdout",
     "output_type": "stream",
     "text": [
      "Новый формат столбца:\n",
      "0   2019-03-07\n",
      "1   2018-12-04\n",
      "Name: first_expositioned, dtype: datetime64[ns]\n"
     ]
    }
   ],
   "source": [
    "print('Новый формат столбца:\\n', df['first_expositioned'].head(2), sep='')"
   ]
  },
  {
   "cell_type": "markdown",
   "metadata": {},
   "source": [
    "Посмотрим как зависит количество пустых значений от даты появления объявления:"
   ]
  },
  {
   "cell_type": "code",
   "execution_count": 12,
   "metadata": {},
   "outputs": [
    {
     "data": {
      "image/png": "[encoded data removed]",
      "text/plain": [
       "<Figure size 432x288 with 1 Axes>"
      ]
     },
     "metadata": {
      "needs_background": "light"
     },
     "output_type": "display_data"
    }
   ],
   "source": [
    "fig, ax = plt.subplots()\n",
    "\n",
    "x = df.loc[df['days_expositioned'].isnull()]['first_expositioned']\n",
    "\n",
    "#  график по площади\n",
    "ax.hist(x, 100, facecolor='tab:blue', alpha=1, label='Вся область')\n",
    "ax.set_xlabel('Дата выставления', fontsize=10, color='tab:blue')\n",
    "ax.set_title('от даты появления объявления', fontsize=10)\n",
    "ax.grid(True)\n",
    "\n",
    "fig.autofmt_xdate()\n",
    "fig.suptitle('Количество пустых значений в зависимости', fontsize=15)\n",
    "plt.show()"
   ]
  },
  {
   "cell_type": "markdown",
   "metadata": {},
   "source": [
    "Видим, что чем более свежие объявления, тем чаще появляются пропущенные значения. Вероятно, значения пропущены потому что эти объявления еще действующие, поэтому возьмём самую свежую дату в датафрейме и посчитаем количество дней для каждого объявления:"
   ]
  },
  {
   "cell_type": "code",
   "execution_count": 13,
   "metadata": {},
   "outputs": [],
   "source": [
    "df.loc[(df['days_expositioned'].isnull()), 'days_expositioned'] = (df['first_expositioned'].max() - df['first_expositioned']).dt.days\n"
   ]
  },
  {
   "cell_type": "markdown",
   "metadata": {},
   "source": [
    "### Количество балконов"
   ]
  },
  {
   "cell_type": "markdown",
   "metadata": {},
   "source": [
    "Теперь возьмём столбец **number_of_balconies**, очевидно, если продавец не указал количество балконов, значит их нет, поэтому просто заменим все пропущенные значения нулём:"
   ]
  },
  {
   "cell_type": "code",
   "execution_count": 14,
   "metadata": {},
   "outputs": [],
   "source": [
    "df['number_of_balconies'].fillna(0, inplace=True)\n"
   ]
  },
  {
   "cell_type": "markdown",
   "metadata": {},
   "source": [
    "### Жилая площадь и площадь кухни"
   ]
  },
  {
   "cell_type": "markdown",
   "metadata": {},
   "source": [
    "Следующие на очереди — столбцы **living_area** и **kitchen_area**, для начала взглянем на коэффициенты корреляции:"
   ]
  },
  {
   "cell_type": "code",
   "execution_count": 15,
   "metadata": {},
   "outputs": [
    {
     "data": {
      "text/html": [
       "<div>\n",
       "<style scoped>\n",
       "    .dataframe tbody tr th:only-of-type {\n",
       "        vertical-align: middle;\n",
       "    }\n",
       "\n",
       "    .dataframe tbody tr th {\n",
       "        vertical-align: top;\n",
       "    }\n",
       "\n",
       "    .dataframe thead th {\n",
       "        text-align: right;\n",
       "    }\n",
       "</style>\n",
       "<table border=\"1\" class=\"dataframe\">\n",
       "  <thead>\n",
       "    <tr style=\"text-align: right;\">\n",
       "      <th></th>\n",
       "      <th>living_area</th>\n",
       "      <th>kitchen_area</th>\n",
       "    </tr>\n",
       "  </thead>\n",
       "  <tbody>\n",
       "    <tr>\n",
       "      <th>total_images</th>\n",
       "      <td>0.104780</td>\n",
       "      <td>0.104756</td>\n",
       "    </tr>\n",
       "    <tr>\n",
       "      <th>last_price</th>\n",
       "      <td>0.566492</td>\n",
       "      <td>0.519869</td>\n",
       "    </tr>\n",
       "    <tr>\n",
       "      <th>total_area</th>\n",
       "      <td>0.939537</td>\n",
       "      <td>0.609121</td>\n",
       "    </tr>\n",
       "    <tr>\n",
       "      <th>number_of_rooms</th>\n",
       "      <td>0.845977</td>\n",
       "      <td>0.269945</td>\n",
       "    </tr>\n",
       "    <tr>\n",
       "      <th>ceiling_height</th>\n",
       "      <td>0.090650</td>\n",
       "      <td>0.087641</td>\n",
       "    </tr>\n",
       "    <tr>\n",
       "      <th>floors_total</th>\n",
       "      <td>-0.169311</td>\n",
       "      <td>0.163944</td>\n",
       "    </tr>\n",
       "    <tr>\n",
       "      <th>living_area</th>\n",
       "      <td>1.000000</td>\n",
       "      <td>0.428674</td>\n",
       "    </tr>\n",
       "    <tr>\n",
       "      <th>floor</th>\n",
       "      <td>-0.097210</td>\n",
       "      <td>0.135531</td>\n",
       "    </tr>\n",
       "    <tr>\n",
       "      <th>is_studio</th>\n",
       "      <td>-0.056231</td>\n",
       "      <td>NaN</td>\n",
       "    </tr>\n",
       "    <tr>\n",
       "      <th>is_open_plan</th>\n",
       "      <td>-0.033711</td>\n",
       "      <td>NaN</td>\n",
       "    </tr>\n",
       "    <tr>\n",
       "      <th>kitchen_area</th>\n",
       "      <td>0.428674</td>\n",
       "      <td>1.000000</td>\n",
       "    </tr>\n",
       "    <tr>\n",
       "      <th>number_of_balconies</th>\n",
       "      <td>-0.014772</td>\n",
       "      <td>0.045271</td>\n",
       "    </tr>\n",
       "    <tr>\n",
       "      <th>airports_nearest</th>\n",
       "      <td>-0.057912</td>\n",
       "      <td>0.008200</td>\n",
       "    </tr>\n",
       "    <tr>\n",
       "      <th>city_center_distance</th>\n",
       "      <td>-0.231368</td>\n",
       "      <td>-0.190049</td>\n",
       "    </tr>\n",
       "    <tr>\n",
       "      <th>parks_3km_radius</th>\n",
       "      <td>0.184453</td>\n",
       "      <td>0.087503</td>\n",
       "    </tr>\n",
       "    <tr>\n",
       "      <th>parks_nearest</th>\n",
       "      <td>-0.050167</td>\n",
       "      <td>0.029641</td>\n",
       "    </tr>\n",
       "    <tr>\n",
       "      <th>ponds_3km_radius</th>\n",
       "      <td>0.148933</td>\n",
       "      <td>0.150148</td>\n",
       "    </tr>\n",
       "    <tr>\n",
       "      <th>ponds_nearest</th>\n",
       "      <td>-0.081674</td>\n",
       "      <td>-0.105223</td>\n",
       "    </tr>\n",
       "    <tr>\n",
       "      <th>days_expositioned</th>\n",
       "      <td>0.159117</td>\n",
       "      <td>0.119837</td>\n",
       "    </tr>\n",
       "  </tbody>\n",
       "</table>\n",
       "</div>"
      ],
      "text/plain": [
       "                      living_area  kitchen_area\n",
       "total_images             0.104780      0.104756\n",
       "last_price               0.566492      0.519869\n",
       "total_area               0.939537      0.609121\n",
       "number_of_rooms          0.845977      0.269945\n",
       "ceiling_height           0.090650      0.087641\n",
       "floors_total            -0.169311      0.163944\n",
       "living_area              1.000000      0.428674\n",
       "floor                   -0.097210      0.135531\n",
       "is_studio               -0.056231           NaN\n",
       "is_open_plan            -0.033711           NaN\n",
       "kitchen_area             0.428674      1.000000\n",
       "number_of_balconies     -0.014772      0.045271\n",
       "airports_nearest        -0.057912      0.008200\n",
       "city_center_distance    -0.231368     -0.190049\n",
       "parks_3km_radius         0.184453      0.087503\n",
       "parks_nearest           -0.050167      0.029641\n",
       "ponds_3km_radius         0.148933      0.150148\n",
       "ponds_nearest           -0.081674     -0.105223\n",
       "days_expositioned        0.159117      0.119837"
      ]
     },
     "execution_count": 15,
     "metadata": {},
     "output_type": "execute_result"
    }
   ],
   "source": [
    "df.corr()[['living_area', 'kitchen_area']]"
   ]
  },
  {
   "cell_type": "code",
   "execution_count": 16,
   "metadata": {},
   "outputs": [
    {
     "data": {
      "image/png": "[encoded data removed]",
      "text/plain": [
       "<Figure size 1152x432 with 2 Axes>"
      ]
     },
     "metadata": {
      "needs_background": "light"
     },
     "output_type": "display_data"
    }
   ],
   "source": [
    "fig, (ax0, ax1) = plt.subplots(1, 2, figsize=(16, 6))\n",
    "x = df['total_area']\n",
    "y0 = df['living_area']\n",
    "y1 = df['kitchen_area']\n",
    "\n",
    "#  график по жилой площади\n",
    "ax0.scatter(x, y0, c='tab:blue')\n",
    "ax0.set_xlabel('Общая площадь', fontsize=10, color='tab:blue')\n",
    "ax0.set_ylabel('Жилая площадь', fontsize=10, color='tab:blue')\n",
    "ax0.set_title('жилой площади', fontsize=15)\n",
    "ax0.grid(True)\n",
    "\n",
    "#  график по площади кухни\n",
    "ax1.scatter(x, y1, c='tab:blue')\n",
    "ax1.set_xlabel('Общая площадь', fontsize=10, color='tab:blue')\n",
    "ax1.set_ylabel('Площадь кухни', fontsize=10, color='tab:blue')\n",
    "ax1.set_title('площади кухни', fontsize=15)\n",
    "ax1.grid(True)\n",
    "\n",
    "fig.suptitle('Зависимость от общей площади', fontsize=20)\n",
    "plt.show()"
   ]
  },
  {
   "cell_type": "markdown",
   "metadata": {},
   "source": [
    "Видно, что жилая площадь зависит от общей площади практически линейно, а вот с площадью кухни видим больший разброс. Для начала проверим, есть ли такие строки, где общая площадь меньше, чем сумма жилой площади и площади кухни:"
   ]
  },
  {
   "cell_type": "code",
   "execution_count": 17,
   "metadata": {},
   "outputs": [
    {
     "name": "stdout",
     "output_type": "stream",
     "text": [
      "Неправильных площадей: 67\n"
     ]
    }
   ],
   "source": [
    "print('Неправильных площадей:', df.loc[(df['total_area'] - df['living_area'] - df['kitchen_area']) < 0]['total_area'].count())"
   ]
  },
  {
   "cell_type": "markdown",
   "metadata": {},
   "source": [
    "Теперь найдём коэффициенты отношения жилой площади к общей площади и общей площади без учёта площади кухни (чтобы не получилось так, что у нас общая площадь оказалась меньше, чем сумма жилой площади и площади кухни). Затем, умножим один из этих коэффициентов (если при применении первого получилась неправильная площадь, применяем второй) на имеющуюся у наc общую площадь и получим жилую площадь. Заодно проверим не появилось ли у нас новых неправильных значений. `А еще мы сделаем перый шаг к исправлению неправильных площадей: обнулим площадь кухни и пересчитаем жилую площадь.`"
   ]
  },
  {
   "cell_type": "code",
   "execution_count": 18,
   "metadata": {},
   "outputs": [
    {
     "ename": "IndentationError",
     "evalue": "unexpected indent (4230144468.py, line 3)",
     "output_type": "error",
     "traceback": [
      "\u001b[0;36m  File \u001b[0;32m\"/tmp/ipykernel_162/4230144468.py\"\u001b[0;36m, line \u001b[0;32m3\u001b[0m\n\u001b[0;31m    for row in df.itertuples(name = None):\u001b[0m\n\u001b[0m    ^\u001b[0m\n\u001b[0;31mIndentationError\u001b[0m\u001b[0;31m:\u001b[0m unexpected indent\n"
     ]
    }
   ],
   "source": [
    "k1 = (df['living_area'] / (df['total_area'])).mean()\n",
    "k2 = (df['living_area'] / (df['total_area'] - df['kitchen_area'].fillna(0))).mean()\n",
    "    for row in df.itertuples(name = None):\n",
    "        if row[8] != row[8]:\n",
    "            if row[3] * k1 <=  row[3] - row[13]:\n",
    "                df.loc[row[0], 'living_area'] = row[3] * k1\n",
    "            elif row[13] != row[13]:\n",
    "                df.loc[row[0], 'living_area'] = k2 * (row[3])\n",
    "            else:\n",
    "                df.loc[row[0], 'living_area'] = k2 * (row[3] - row[13])\n",
    "        # добавим условие с неправильной площадью\n",
    "        if row[3] <= row[8] + row[13]:\n",
    "            df.loc[row[0], 'living_area'] = k2 * (row[3])\n",
    "            df.loc[row[0], 'kitchen_area'] = np.nan"
   ]
  },
  {
   "cell_type": "markdown",
   "metadata": {},
   "source": [
    "Теперь проделаем аналогичные манипуляции с площадью кухни, однако добавим немного вариативности:"
   ]
  },
  {
   "cell_type": "code",
   "execution_count": null,
   "metadata": {},
   "outputs": [],
   "source": [
    "l = (df['kitchen_area'] / (df['total_area'] - df['living_area'])).mean()\n",
    "sigma = np.std(df['kitchen_area'] / (df['total_area'] - df['living_area'])) / 3\n",
    "# создаём функцию для подстановки площади кухни\n",
    "def kitchen_area_calc(df):\n",
    "    if df['kitchen_area'] != df['kitchen_area']:\n",
    "        return random.gauss(l, sigma) * (df['total_area'] - df['living_area'])\n",
    "    else:\n",
    "        return df['kitchen_area']\n",
    "\n",
    "\n",
    "df['kitchen_area'] = df.apply(kitchen_area_calc, axis=1)   "
   ]
  },
  {
   "cell_type": "markdown",
   "metadata": {},
   "source": [
    "Отлично! пропущенные значения заполнены, неправильных значений больше нет, посмотрим на графики:"
   ]
  },
  {
   "cell_type": "code",
   "execution_count": null,
   "metadata": {},
   "outputs": [],
   "source": [
    "fig, (ax0, ax1) = plt.subplots(1, 2, figsize=(16, 6))\n",
    "x = df['total_area']\n",
    "y0 = df['living_area']\n",
    "y1 = df['kitchen_area']\n",
    "\n",
    "#  график по жилой площади\n",
    "ax0.scatter(x, y0, c='tab:blue')\n",
    "ax0.set_xlabel('Общая площадь', fontsize=10, color='tab:blue')\n",
    "ax0.set_ylabel('Жилая площадь', fontsize=10, color='tab:blue')\n",
    "ax0.set_title('жилой площади', fontsize=15)\n",
    "ax0.grid(True)\n",
    "\n",
    "#  график по площади кухни\n",
    "ax1.scatter(x, y1, c='tab:blue')\n",
    "ax1.set_xlabel('Общая площадь', fontsize=10, color='tab:blue')\n",
    "ax1.set_ylabel('Площадь кухни', fontsize=10, color='tab:blue')\n",
    "ax1.set_title('площади кухни', fontsize=15)\n",
    "ax1.grid(True)\n",
    "\n",
    "fig.suptitle('Зависимость от общей площади', fontsize=20)\n",
    "plt.show()"
   ]
  },
  {
   "cell_type": "markdown",
   "metadata": {},
   "source": [
    "На графиках заметных изменений тоже не видно, значит заметных искажений мы не внесли."
   ]
  },
  {
   "cell_type": "markdown",
   "metadata": {},
   "source": [
    "### Расстояние до центра города, коды населённых пунктов"
   ]
  },
  {
   "cell_type": "markdown",
   "metadata": {},
   "source": [
    "Теперь разберемся со столбцом **city_center_distance**, для начала уберём все повторения и унифицируем столбец **locality_name**. Посмотрим на уникальные значения:"
   ]
  },
  {
   "cell_type": "code",
   "execution_count": null,
   "metadata": {},
   "outputs": [],
   "source": [
    "print('Количество уникальных значений: ', len(df['locality_name'].unique()))\n",
    "print(df['locality_name'].unique())"
   ]
  },
  {
   "cell_type": "markdown",
   "metadata": {},
   "source": [
    "Достаточно много значений, и видно, что попадаются одни и те же населенные пункты, но записанные по-разному. Да и в целом, нет унифицированного подхода в записи названия, поэтому сейчас мы это исправим."
   ]
  },
  {
   "cell_type": "code",
   "execution_count": null,
   "metadata": {},
   "outputs": [],
   "source": [
    "unique_locality_types = sorted(df['locality_name'].unique())\n",
    "typelist = list(set([' '.join(filter(str.islower, el.split())) for el in unique_locality_types]))\n",
    "\n",
    "print('Список уникальных типов населённых пунктов: \\n', typelist, sep='')"
   ]
  },
  {
   "cell_type": "markdown",
   "metadata": {},
   "source": [
    "Всё нас устраивает, только вот первый элемент нам ни к чему, да и посёлок 69-й километр вряд ли относится к типу посёлка, поэтому его тоже уберём. Затем отсортируем все элементы по длине строки по убыванию (чтобы при удалении проверялись сначала длинные строки) и добавим каждой строке пробел в конце (чтобы при удалении не остался лишний пробел):"
   ]
  },
  {
   "cell_type": "code",
   "execution_count": null,
   "metadata": {},
   "outputs": [],
   "source": [
    "typelist.pop(0)\n",
    "typelist.remove('посёлок 69-й километр')\n",
    "typelist.sort(key=len, reverse=True)\n",
    "typelist = [item + ' ' for item in typelist]\n",
    "\n",
    "print('Список уникальных типов населённых пунктов: \\n', typelist, sep='')"
   ]
  },
  {
   "cell_type": "markdown",
   "metadata": {},
   "source": [
    "А теперь уберём названия типов населённых пунктов из столбца **locality_name**:"
   ]
  },
  {
   "cell_type": "code",
   "execution_count": null,
   "metadata": {},
   "outputs": [],
   "source": [
    "\n",
    "df['locality_name'].replace(typelist, '', regex=True, inplace=True)\n",
    "\n",
    "print(df['locality_name'].head(10))\n",
    "print('Количество уникальных значений: ', len(df['locality_name'].unique()))"
   ]
  },
  {
   "cell_type": "markdown",
   "metadata": {},
   "source": [
    "Уникальных значений, как видим, стало несколько меньше. Теперь подготовим словари для замены названий населенных пунктов на условные коды:"
   ]
  },
  {
   "cell_type": "code",
   "execution_count": null,
   "metadata": {},
   "outputs": [],
   "source": [
    "localities_names = sorted(df['locality_name'].unique())\n",
    "locality_codes = dict(list(zip(localities_names, range(len(localities_names)))))\n",
    "locality_dict = dict(list(zip(range(len(localities_names)), localities_names)))\n"
   ]
  },
  {
   "cell_type": "markdown",
   "metadata": {},
   "source": [
    "Теперь заменим названия на коды, а столбец переименуем на **locality_id**:"
   ]
  },
  {
   "cell_type": "code",
   "execution_count": null,
   "metadata": {},
   "outputs": [],
   "source": [
    "df['locality_name'].replace(to_replace=locality_codes, inplace=True)\n",
    "df = df.rename({'locality_name': 'locality_id'}, axis='columns')\n"
   ]
  },
  {
   "cell_type": "code",
   "execution_count": null,
   "metadata": {},
   "outputs": [],
   "source": [
    "df['locality_id'].corr(df['city_center_distance']) #Далее проверим корреляцию между параметрами"
   ]
  },
  {
   "cell_type": "code",
   "execution_count": null,
   "metadata": {},
   "outputs": [],
   "source": [
    "# заменим расстояние в метрах на расстояние в километрах\n",
    "df['city_center_distance'] = np.ceil(df['city_center_distance'] / 1000)\n",
    "\n",
    "fig, (ax0, ax1) = plt.subplots(1, 2, figsize=(16, 6))\n",
    "\n",
    "x = df['locality_id']\n",
    "y = df['city_center_distance']\n",
    "x1 = df.pivot_table(index='locality_id', values='city_center_distance', aggfunc=['mean']).index\n",
    "y1 = df.pivot_table(index='locality_id', values='city_center_distance', aggfunc=['mean'])[('mean', 'city_center_distance')]\n",
    "\n",
    "#  график по жилой площади\n",
    "ax0.scatter(x, y, c='tab:blue')\n",
    "ax0.set_xlabel('Код населённого пункта', fontsize=10, color='tab:blue')\n",
    "ax0.set_ylabel('Расстояние до центра', fontsize=10, color='tab:blue')\n",
    "ax0.grid(True)\n",
    "\n",
    "#  график по площади кухни\n",
    "ax1.plot(x1, y1, c='tab:blue', alpha=1, label='Вся область')\n",
    "ax1.set_xlabel('Код населённого пункта', fontsize=10, color='tab:blue')\n",
    "ax1.grid(True)\n",
    "\n",
    "fig.suptitle('Зависимость расстояния до центра от населенного пункта', fontsize=20)\n",
    "plt.show()"
   ]
  },
  {
   "cell_type": "markdown",
   "metadata": {},
   "source": [
    "Посмотрим теперь, как дела обстоят с расстоянием до центра в нашем датафрейме:"
   ]
  },
  {
   "cell_type": "code",
   "execution_count": null,
   "metadata": {},
   "outputs": [],
   "source": [
    "print('Количество населённых пунктов с пропущенными значениями:', \n",
    "      df.loc[df['city_center_distance'].isnull()].groupby('locality_id')['city_center_distance'].count().count())\n",
    "print('Количество пропущенных значений:', df['city_center_distance'].isnull().sum())"
   ]
  },
  {
   "cell_type": "markdown",
   "metadata": {},
   "source": [
    "Попробуем заполнить пропущенные данные (для тех населённых пунктов, у которых указано расстояние, возьмём среднее по каждому населённому пункту):"
   ]
  },
  {
   "cell_type": "code",
   "execution_count": null,
   "metadata": {},
   "outputs": [],
   "source": [
    "for row in df.itertuples(name = None):\n",
    "    if row[17] != row[17]:\n",
    "        df.loc[row[0], 'city_center_distance'] = df[df['locality_id'] == row[15]]['city_center_distance'].mean()\n",
    "\n",
    "print('Пропущено значений:', df['city_center_distance'].isnull().sum())"
   ]
  },
  {
   "cell_type": "markdown",
   "metadata": {},
   "source": [
    "Всё ещё много значений пропущено, получается у некоторых населённых пунктов вообще не указаны расстояния!"
   ]
  },
  {
   "cell_type": "code",
   "execution_count": null,
   "metadata": {},
   "outputs": [],
   "source": [
    "print('Количество населённых пунктов с пропущенными значениями:', \n",
    "      df.loc[df['city_center_distance'].isnull()].groupby('locality_id')['city_center_distance'].count().count())\n",
    "print('Количество пропущенных значений:', df['city_center_distance'].isnull().sum())"
   ]
  },
  {
   "cell_type": "markdown",
   "metadata": {},
   "source": [
    "Посмотрим, какие средние расстояния у нас имеются:"
   ]
  },
  {
   "cell_type": "code",
   "execution_count": null,
   "metadata": {},
   "outputs": [],
   "source": [
    "df.loc[~df['city_center_distance'].isnull()].groupby('locality_id')['city_center_distance'].mean().sort_values().head(10)"
   ]
  },
  {
   "cell_type": "markdown",
   "metadata": {},
   "source": [
    "Видим, что два первых id находятся достаточно близко друг к другу, 0 — Unknown, а 224 — собственно Санкт-Петербург. Значит, определённая часть Unknown значений находится в Санкт-Петербурге. Поэтому ту часть, что точно находится в Санкт-Петербурге мы переименуем:"
   ]
  },
  {
   "cell_type": "code",
   "execution_count": null,
   "metadata": {},
   "outputs": [],
   "source": [
    "print('Unknown до:', df.loc[df['locality_id'] == 0]['locality_id'].count())\n",
    "not_spb_min = df.loc[(df['locality_id'] != 0) & (df['locality_id'] != 224)]['city_center_distance'].min()\n",
    "\n",
    "df.loc[(df['locality_id'] == 0) & (df['city_center_distance'] < not_spb_min), 'locality_id'] = 224\n",
    "\n",
    "print('Unknown после:', df.loc[df['locality_id'] == 0]['locality_id'].count())\n",
    "print(df.loc[~df['city_center_distance'].isnull()].groupby('locality_id')['city_center_distance'].mean().sort_values().head())"
   ]
  },
  {
   "cell_type": "markdown",
   "metadata": {},
   "source": [
    "Теперь оставшиеся значения заполним средним по всем населенным пунктам кроме Питера:"
   ]
  },
  {
   "cell_type": "code",
   "execution_count": null,
   "metadata": {},
   "outputs": [],
   "source": [
    "not_spb_mean = df.loc[(df['locality_id'] != 0) & (df['locality_id'] != 224)]['city_center_distance'].mean()\n",
    "\n",
    "df.loc[(df['locality_id'] != 224) & (df['city_center_distance'].isnull()), 'city_center_distance'] = not_spb_mean\n",
    "\n",
    "print('Пропущено значений:', df['city_center_distance'].isnull().sum())"
   ]
  },
  {
   "cell_type": "markdown",
   "metadata": {},
   "source": [
    "### Аэропорты, парки и зоны отдыха"
   ]
  },
  {
   "cell_type": "markdown",
   "metadata": {},
   "source": [
    "В столбцах **parks_nearest**, **ponds_nearest** и **airports_nearest** много пропущенных значений, особой смысловой нагрузки они не несут, поэтому просто от них избавимся:"
   ]
  },
  {
   "cell_type": "code",
   "execution_count": null,
   "metadata": {},
   "outputs": [],
   "source": [
    "df = df.drop(columns=['parks_nearest', 'ponds_nearest', 'airports_nearest'])\n",
    "\n",
    "print('Заголовки столбцов: \\n', df.columns, sep='')"
   ]
  },
  {
   "cell_type": "markdown",
   "metadata": {},
   "source": [
    "Для столбцов **parks_3km_radius** и **ponds_3km_radius** заменим пропущенные значения на 0, так как наиболее вероятно, что пропущенные значения связаны с тем, что в радиус не попали парки или водоёмы:"
   ]
  },
  {
   "cell_type": "code",
   "execution_count": null,
   "metadata": {},
   "outputs": [],
   "source": [
    "df[['parks_3km_radius', 'ponds_3km_radius']] = df[['parks_3km_radius', 'ponds_3km_radius']].fillna(0, inplace=False)\n",
    "\n",
    "print('Пропущено значений `parks_3km_radius`:', df['parks_3km_radius'].isnull().sum())\n",
    "print('Пропущено значений `ponds_3km_radius`:', df['ponds_3km_radius'].isnull().sum())"
   ]
  },
  {
   "cell_type": "markdown",
   "metadata": {},
   "source": [
    "### Высота потолка"
   ]
  },
  {
   "cell_type": "markdown",
   "metadata": {},
   "source": [
    "Уберём неестественные значения для высоты потолка:"
   ]
  },
  {
   "cell_type": "code",
   "execution_count": null,
   "metadata": {},
   "outputs": [],
   "source": [
    "df.loc[(df['ceiling_height'] < 2.45) | (df['ceiling_height'] > 5), 'ceiling_height'] = np.nan"
   ]
  },
  {
   "cell_type": "markdown",
   "metadata": {},
   "source": [
    "Взглянем на корелляцию значения высоты потолка с другими столбцами. Оказывается, наибольшая (но умеренная) связь наблюдается со столбцом **total_area**."
   ]
  },
  {
   "cell_type": "code",
   "execution_count": null,
   "metadata": {},
   "outputs": [],
   "source": [
    "df.corr()['ceiling_height'].sort_values(ascending=False)"
   ]
  },
  {
   "cell_type": "markdown",
   "metadata": {},
   "source": [
    "Посмотрим на зависимость высоты полтолка от общей площади:"
   ]
  },
  {
   "cell_type": "code",
   "execution_count": null,
   "metadata": {},
   "outputs": [],
   "source": [
    "fig, ax = plt.subplots()\n",
    "\n",
    "x = df['total_area']\n",
    "y = df['ceiling_height']\n",
    "\n",
    "#  график по жилой площади\n",
    "ax.scatter(x, y, c='tab:blue')\n",
    "ax.set_xlabel('Общая площадь', fontsize=10, color='tab:blue')\n",
    "ax.set_ylabel('Высота потолка', fontsize=10, color='tab:blue')\n",
    "ax.grid(True)\n",
    "\n",
    "fig.suptitle('Зависимость высоты потолка от общей площади', fontsize=15)\n",
    "plt.show()"
   ]
  },
  {
   "cell_type": "markdown",
   "metadata": {},
   "source": [
    "Попробуем применить линейную регрессию:"
   ]
  },
  {
   "cell_type": "code",
   "execution_count": null,
   "metadata": {},
   "outputs": [],
   "source": [
    "dataset = df.loc[~df['ceiling_height'].isnull()]\n",
    "half = -int(len(dataset) / 2)\n",
    "print('Середина:', half)\n",
    "\n",
    "ceiling_X = np.log(dataset[['total_area']])\n",
    "ceiling_y = dataset[['ceiling_height']]\n",
    "ceiling_X_train = ceiling_X[:half]\n",
    "ceiling_X_test = ceiling_X[half:]\n",
    "ceiling_y_train = ceiling_y[:half]\n",
    "ceiling_y_test = ceiling_y[half:]\n",
    "\n",
    "regr = linear_model.LinearRegression()\n",
    "regr.fit(ceiling_X_train, ceiling_y_train)\n",
    "\n",
    "ceiling_y_pred = regr.predict(ceiling_X_test)\n",
    "\n",
    "# The coefficients\n",
    "k = float(regr.coef_)\n",
    "print('Коэффициент', k)\n",
    "\n",
    "# Plot outputs\n",
    "plt.scatter(ceiling_X_test, ceiling_y_test,  color='black')\n",
    "plt.plot(ceiling_X_test, ceiling_y_pred, color='blue', linewidth=3)\n",
    "plt.xticks(())\n",
    "plt.yticks(())\n",
    "plt.show()"
   ]
  },
  {
   "cell_type": "code",
   "execution_count": null,
   "metadata": {},
   "outputs": [],
   "source": [
    "try:\n",
    "    df.loc[df['ceiling_height'].isnull(), 'ceiling_height'] = 1.67 + k*np.log(df['total_area'])\n",
    "except:\n",
    "    print('Ошибка!')\n",
    "finally:\n",
    "    print('Пропущено значений:', df['ceiling_height'].isnull().sum())"
   ]
  },
  {
   "cell_type": "markdown",
   "metadata": {},
   "source": [
    "Снова взглянем на график:"
   ]
  },
  {
   "cell_type": "code",
   "execution_count": null,
   "metadata": {},
   "outputs": [],
   "source": [
    "fig, ax = plt.subplots()\n",
    "\n",
    "x = df['total_area']\n",
    "y = df['ceiling_height']\n",
    "\n",
    "#  график по жилой площади\n",
    "ax.scatter(x, y, c='tab:blue')\n",
    "ax.set_xlabel('Общая площадь', fontsize=10, color='tab:blue')\n",
    "ax.set_ylabel('Высота потолка', fontsize=10, color='tab:blue')\n",
    "ax.grid(True)\n",
    "\n",
    "fig.suptitle('Зависимость высоты потолка от общей площади', fontsize=15)\n",
    "plt.show()"
   ]
  },
  {
   "cell_type": "markdown",
   "metadata": {},
   "source": [
    "### Количество этажей в доме"
   ]
  },
  {
   "cell_type": "markdown",
   "metadata": {},
   "source": [
    "Теперь разберемся с количеством этажей в доме, для начала взглянем на график:"
   ]
  },
  {
   "cell_type": "code",
   "execution_count": null,
   "metadata": {},
   "outputs": [],
   "source": [
    "fig, ax = plt.subplots()\n",
    "\n",
    "x = df['floor']\n",
    "y = df['floors_total']\n",
    "\n",
    "#  график по этажам\n",
    "ax.scatter(x, y, c='tab:blue')\n",
    "ax.set_xlabel('Этаж', fontsize=10, color='tab:blue')\n",
    "ax.set_ylabel('Всего этажей', fontsize=10, color='tab:blue')\n",
    "ax.grid(True)\n",
    "\n",
    "fig.suptitle('Зависимость этажности дома от этажа квартиры', fontsize=15)\n",
    "plt.show()"
   ]
  },
  {
   "cell_type": "markdown",
   "metadata": {},
   "source": [
    "Видим, что, очевидно, количество этажей в доме не может быть меньше, чем этаж квартиры, в остальном распределение достаточно равномероное. Создадим функцию для подбора этажа и применим её:"
   ]
  },
  {
   "cell_type": "code",
   "execution_count": null,
   "metadata": {},
   "outputs": [],
   "source": [
    "mu = df['floors_total'].mean()\n",
    "sigma = np.std(df['floors_total'])\n",
    "\n",
    "# создаём функцию для определения количества этажей в доме\n",
    "def floors_total_calc(df):\n",
    "    if df['floors_total'] != df['floors_total']:\n",
    "        floors_total = int(random.gauss(mu, sigma))\n",
    "        return floors_total if floors_total > df['floor'] else df['floor'] \n",
    "    return df['floors_total']\n",
    "# применяем функцию\n",
    "try:\n",
    "    df['floors_total'] = df.apply(floors_total_calc, axis=1)\n",
    "except:\n",
    "    print('Ошибка!')\n",
    "finally:\n",
    "    print('Пропущено значений:', df['floors_total'].isnull().sum())    "
   ]
  },
  {
   "cell_type": "code",
   "execution_count": null,
   "metadata": {},
   "outputs": [],
   "source": [
    "#Снова посмотрим на график\n",
    "fig, ax = plt.subplots()\n",
    "\n",
    "x = df['floor']\n",
    "y = df['floors_total']\n",
    "\n",
    "#  график по этажам\n",
    "ax.scatter(x, y, c='tab:blue')\n",
    "ax.set_xlabel('Этаж', fontsize=10, color='tab:blue')\n",
    "ax.set_ylabel('Всего этажей', fontsize=10, color='tab:blue')\n",
    "ax.grid(True)\n",
    "\n",
    "fig.suptitle('Зависимость этажности дома от этажа квартиры', fontsize=15)\n",
    "plt.show()"
   ]
  },
  {
   "cell_type": "markdown",
   "metadata": {},
   "source": [
    "Выбросов не случилось, значит наши действия сильно не исказили обстановку."
   ]
  },
  {
   "cell_type": "markdown",
   "metadata": {},
   "source": [
    "### Преобразование типов данных, округление"
   ]
  },
  {
   "cell_type": "code",
   "execution_count": null,
   "metadata": {},
   "outputs": [],
   "source": [
    "#Посмотрим еще раз общую информацию\n",
    "df.info()"
   ]
  },
  {
   "cell_type": "markdown",
   "metadata": {},
   "source": [
    "Мы разобрались почти со всеми пропущенными значениями, но у нас остался столбец **is_apartment** с огромным количеством пропущенных значений. При этом найти хоть сколько либо значимых зависимостей не удалось, а удалять столбец не стоит, так как он содержит данные, непосредственно влияющие на цену. Поэтому решено ничего с ним не делать."
   ]
  },
  {
   "cell_type": "markdown",
   "metadata": {},
   "source": [
    "Преобразуем типы данных:"
   ]
  },
  {
   "cell_type": "code",
   "execution_count": null,
   "metadata": {},
   "outputs": [],
   "source": [
    "df['days_expositioned'] = df['days_expositioned'].astype('int')\n",
    "df['total_images'] = df['total_images'].astype('int')\n",
    "df['last_price'] = df['last_price'].astype('int')\n",
    "df['number_of_rooms'] = df['number_of_rooms'].astype('int')\n",
    "df['number_of_balconies'] = df['number_of_balconies'].astype('int')\n",
    "df['floor'] = df['floor'].astype('int')\n",
    "df['floors_total'] = df['floors_total'].astype('int')\n",
    "df['locality_id'] = df['locality_id'].astype('int')\n",
    "df['city_center_distance'] = df['city_center_distance'].astype('int')\n",
    "df['parks_3km_radius'] = df['parks_3km_radius'].astype('int')\n",
    "df['ponds_3km_radius'] = df['ponds_3km_radius'].astype('int')\n",
    "  "
   ]
  },
  {
   "cell_type": "markdown",
   "metadata": {},
   "source": [
    "Округлим дроби:"
   ]
  },
  {
   "cell_type": "code",
   "execution_count": null,
   "metadata": {},
   "outputs": [],
   "source": [
    "df['living_area'] = df['living_area'].round(2)\n",
    "df['kitchen_area'] = df['kitchen_area'].round(2)\n",
    "\n",
    "display(df[['living_area', 'kitchen_area']].head(10))    "
   ]
  },
  {
   "cell_type": "markdown",
   "metadata": {},
   "source": [
    "Оценим общую информацию еще раз:"
   ]
  },
  {
   "cell_type": "code",
   "execution_count": null,
   "metadata": {},
   "outputs": [],
   "source": [
    "df.info()"
   ]
  },
  {
   "cell_type": "code",
   "execution_count": null,
   "metadata": {},
   "outputs": [],
   "source": [
    "df.head(10)"
   ]
  },
  {
   "cell_type": "markdown",
   "metadata": {},
   "source": [
    "### Выводы по второму этапу"
   ]
  },
  {
   "cell_type": "markdown",
   "metadata": {},
   "source": [
    "На этапе предобработки в данных обнаружились проблемы с названиями столбцов, пропуски и дубликаты. Их удаление позволит провести анализ точнее. Имена столбцов теперь корректны и удобны для дальнейшей работы. Мы очистили столбец с названиями населённых пунктов от дубликатов и заменили его на столбец с кодом города. Восстановили пропущенные значения при помощи случайных распределений, заполнения средними и линейной регрессии."
   ]
  },
  {
   "cell_type": "markdown",
   "metadata": {},
   "source": [
    "## Добавляем новые столбцы"
   ]
  },
  {
   "cell_type": "markdown",
   "metadata": {},
   "source": [
    "### Цена за квадратный метр"
   ]
  },
  {
   "cell_type": "markdown",
   "metadata": {},
   "source": [
    "Посчитаем и добавим в таблицу цену за квадратный метр, для этого разделим столбец с ценой на столбец с общей площадью, присвоим результат новому столбцу и приведем полученные результаты к формату int:"
   ]
  },
  {
   "cell_type": "code",
   "execution_count": null,
   "metadata": {},
   "outputs": [],
   "source": [
    "df['square_meter_price'] = (df['last_price'] / df['total_area'])\n",
    "df['square_meter_price'] = df['square_meter_price'].astype('int')\n",
    "print(df['square_meter_price'].head(10))"
   ]
  },
  {
   "cell_type": "markdown",
   "metadata": {},
   "source": [
    "### День, месяц и год выставления на продажу"
   ]
  },
  {
   "cell_type": "markdown",
   "metadata": {},
   "source": [
    "Чтобы добавить столбцы с данными о дне недели, месяце и годе выставления объявления воспользуемся соответственно методами .weekday, .month и .year. Затем приведем значения к типу int:"
   ]
  },
  {
   "cell_type": "code",
   "execution_count": null,
   "metadata": {},
   "outputs": [],
   "source": [
    "df['first_expositioned_weekday'] = pd.DatetimeIndex(df['first_expositioned']).weekday\n",
    "df['first_expositioned_month'] = pd.DatetimeIndex(df['first_expositioned']).month\n",
    "df['first_expositioned_year'] = pd.DatetimeIndex(df['first_expositioned']).year\n",
    "df['first_expositioned_weekday'] = df['first_expositioned_weekday'].astype('int')\n",
    "df['first_expositioned_month'] = df['first_expositioned_month'].astype('int')\n",
    "df['first_expositioned_year'] = df['first_expositioned_year'].astype('int')\n",
    "display(df[['first_expositioned_weekday', 'first_expositioned_month', 'first_expositioned_year']].head(10))"
   ]
  },
  {
   "cell_type": "markdown",
   "metadata": {},
   "source": [
    "### Категория этажа"
   ]
  },
  {
   "cell_type": "markdown",
   "metadata": {},
   "source": [
    "В случае с категоризацией этажей дела обстоят чуть сложнее. Напишем функцию, которая в зависимости от условий присваивает категорию этажа \"единственный\" (когда дом одноэтажный), \"первый\", \"последний\" и \"другой\" (если не попал ни водну из предыдущих категорий\":"
   ]
  },
  {
   "cell_type": "code",
   "execution_count": null,
   "metadata": {},
   "outputs": [],
   "source": [
    "floor_type_dict = {\n",
    "    0: 'единственный',\n",
    "    1: 'первый',\n",
    "    2: 'другой',\n",
    "    3: 'последний'\n",
    "}\n",
    "\n",
    "def floor_categoriser(df):\n",
    "    if df['floor'] == 1:\n",
    "        return 0 if df['floor'] == df['floors_total'] else 1     \n",
    "    elif df['floor'] == df['floors_total']:\n",
    "        return 3\n",
    "    return 2\n",
    "\n",
    "df['floor_type'] = df.apply(floor_categoriser, axis=1)\n",
    "print(df.groupby('floor_type')['floor_type'].count())"
   ]
  },
  {
   "cell_type": "markdown",
   "metadata": {},
   "source": [
    "### Отношения жилой площади и площади кухни к общей площади"
   ]
  },
  {
   "cell_type": "markdown",
   "metadata": {},
   "source": [
    "Найдём отношение жилой площади и площади кухни к общей площади. Для этого жилую площадь и площадь кухни разделим на общую площадь, результаты сохраним в соответствующие столбцы, значения округлим до 2-х знаков после запятой:\n"
   ]
  },
  {
   "cell_type": "code",
   "execution_count": null,
   "metadata": {},
   "outputs": [],
   "source": [
    "df['living_to_total_area'] = df['living_area'] / df['total_area']\n",
    "df['kitchen_to_total_area'] = df['kitchen_area'] / df['total_area']\n",
    "df['living_to_total_area'] = df['living_to_total_area'].round(2)\n",
    "df['kitchen_to_total_area'] = df['kitchen_to_total_area'].round(2)\n",
    "print(df[['living_to_total_area', 'kitchen_to_total_area']].head(10))"
   ]
  },
  {
   "cell_type": "markdown",
   "metadata": {},
   "source": [
    "### Стоимость в миллионах рублей"
   ]
  },
  {
   "cell_type": "markdown",
   "metadata": {},
   "source": [
    "Для удобства при построении графиков заранее переведём стоимость в миллионы рублей и сохраним в новый столбец, значения округлим до двух знаков после запятой:"
   ]
  },
  {
   "cell_type": "code",
   "execution_count": null,
   "metadata": {},
   "outputs": [],
   "source": [
    "df['last_price_mln'] = df['last_price'] / 1_000_000\n",
    "df['last_price_mln'] = df['last_price_mln'].round(2)\n",
    "\n",
    "print(df['last_price_mln'].head(10))"
   ]
  },
  {
   "cell_type": "markdown",
   "metadata": {},
   "source": [
    "### Новый порядок столбцов"
   ]
  },
  {
   "cell_type": "markdown",
   "metadata": {},
   "source": [
    "А еще мы подготовим новый, более осмысленный порядок столбцов. Этот порядок основан на группировке столбцов по категориям:\n",
    "\n",
    "**Объявление**\n",
    "- Дата размещения\n",
    "- День недели размещения\n",
    "- Месяц размещения\n",
    "- Год размещения\n",
    "- Продолжительность размещения\n",
    "- Количество фотографий\n",
    "- Цена\n",
    "- Цена, млн руб\n",
    "- Цена за кв метр\n",
    "\n",
    "**Характеристики квартиры / апартаментов**\n",
    "\n",
    "- Количество комнат\n",
    "- Общая площадь\n",
    "- Жилая площадь\n",
    "- Отношение жилой площади к общей площади\n",
    "- Площадь кухни\n",
    "- Отношение площади кухни к общей площади\n",
    "- Высота потолка\n",
    "- Наличие балкона\n",
    "- Этаж\n",
    "- Этажей в доме\n",
    "- Тип этажа\n",
    "- Студия\n",
    "- Свободная планировка\n",
    "- Апартаменты\n",
    "\n",
    "**Расположение квартиры**\n",
    "\n",
    "- Населенный пункт / район\n",
    "- Расстояние до центра\n",
    "- Количество парков в радиусе 3 км\n",
    "- Количество водоёмов в радиусе 3 км"
   ]
  },
  {
   "cell_type": "code",
   "execution_count": null,
   "metadata": {},
   "outputs": [],
   "source": [
    "df.columns"
   ]
  },
  {
   "cell_type": "markdown",
   "metadata": {},
   "source": [
    "Теперь сохраним новый порядок в список и применим его к датафрейму:"
   ]
  },
  {
   "cell_type": "code",
   "execution_count": null,
   "metadata": {},
   "outputs": [],
   "source": [
    "cols = ['first_expositioned',\n",
    "        'first_expositioned_weekday',\n",
    "        'first_expositioned_month', \n",
    "        'first_expositioned_year',\n",
    "        'days_expositioned',\n",
    "        'total_images',\n",
    "        'last_price',\n",
    "        'last_price_mln',\n",
    "        'square_meter_price',\n",
    "        'number_of_rooms',\n",
    "        'total_area',\n",
    "        'living_area',\n",
    "        'living_to_total_area',\n",
    "        'kitchen_area',\n",
    "        'kitchen_to_total_area',\n",
    "        'ceiling_height',\n",
    "        'number_of_balconies',\n",
    "        'floor',\n",
    "        'floors_total',\n",
    "        'floor_type',\n",
    "        'is_studio',\n",
    "        'is_open_plan',\n",
    "        'is_apartment',\n",
    "        'locality_id', \n",
    "        'city_center_distance',\n",
    "        'parks_3km_radius', \n",
    "        'ponds_3km_radius']"
   ]
  },
  {
   "cell_type": "markdown",
   "metadata": {},
   "source": [
    "### Выводы по третьему этапу"
   ]
  },
  {
   "cell_type": "markdown",
   "metadata": {},
   "source": [
    "На этом этапе мы добавили в датафрейм новые столбцы: стоимость за квадратный метр, день недели, месяц и год выставления объявления, категорию этажа, отношение жилой и кухонной площади к общей площади, а также цену в миллионах рублей. Кроме того, мы, для удобства, заменили порядок столбцов."
   ]
  },
  {
   "cell_type": "markdown",
   "metadata": {},
   "source": [
    "## Исследовательский анализ данных"
   ]
  },
  {
   "cell_type": "markdown",
   "metadata": {},
   "source": [
    "### Изучаем площадь, цену, число комнат и высоту потолков"
   ]
  },
  {
   "cell_type": "markdown",
   "metadata": {},
   "source": [
    "Для изучения указанных параметров построим для наглядности гистограммы:"
   ]
  },
  {
   "cell_type": "code",
   "execution_count": null,
   "metadata": {},
   "outputs": [],
   "source": [
    "fig = plt.figure(constrained_layout=True, figsize=(16,14))\n",
    "\n",
    "gs = GridSpec(3, 2, figure=fig)\n",
    "ax0 = fig.add_subplot(gs[0, 0])\n",
    "ax1 = fig.add_subplot(gs[0, 1])\n",
    "ax2 = fig.add_subplot(gs[1, 0])\n",
    "ax3 = fig.add_subplot(gs[1, 1])\n",
    "ax4 = fig.add_subplot(gs[2, :])\n",
    "\n",
    "\n",
    "x0 = df['total_area']\n",
    "x1 = df['last_price_mln']\n",
    "x2 = df['number_of_rooms']\n",
    "x3 = df['ceiling_height']\n",
    "x4 = df['days_expositioned']\n",
    "\n",
    "#  график по площади\n",
    "ax0.hist(x0, 100, facecolor='tab:blue', alpha=1, label='Вся область')\n",
    "ax0.set_xlabel('Площадь', fontsize=10, color='tab:blue')\n",
    "ax0.set_title('от площади', fontsize=15)\n",
    "ax0.grid(True)\n",
    "\n",
    "#  график по цене\n",
    "ax1.hist(x1, 100, facecolor='tab:blue', alpha=1, label='Вся область')\n",
    "ax1.set_xlabel('Цена, млн руб', fontsize=10, color='tab:blue')\n",
    "ax1.set_title('от цены', fontsize=15)\n",
    "ax1.grid(True)\n",
    "\n",
    "#  график по комнатам\n",
    "ax2.hist(x2, 20, facecolor='tab:blue', alpha=1, label='Вся область')\n",
    "ax2.set_xlabel('Количество комнат', fontsize=10, color='tab:blue')\n",
    "ax2.set_title('от количества комнат', fontsize=15)\n",
    "ax2.grid(True)\n",
    "\n",
    "# график по высоте потолка\n",
    "ax3.hist(x3, 50, facecolor='tab:blue', alpha=1, label='Вся область')\n",
    "ax3.set_xlabel('Высота потолка', fontsize=10, color='tab:blue')\n",
    "ax3.set_title('от высоты потолка', fontsize=15)\n",
    "ax3.grid(True)\n",
    "\n",
    "# график по времени продажи\n",
    "ax4.hist(x4, 100, facecolor='tab:blue', alpha=1, label='Вся область')\n",
    "ax4.set_xlabel('Продолжительность продажи', fontsize=10, color='tab:blue')\n",
    "ax4.set_title('от продолжительности продажи', fontsize=15)\n",
    "ax4.grid(True)\n",
    "\n",
    "fig.suptitle('Количество предложений в зависимости', fontsize=20)\n",
    "plt.show()"
   ]
  },
  {
   "cell_type": "markdown",
   "metadata": {},
   "source": [
    "А с помощью метода .describe() получим основные показатели:"
   ]
  },
  {
   "cell_type": "code",
   "execution_count": null,
   "metadata": {},
   "outputs": [],
   "source": [
    "df[['total_area', 'last_price_mln', 'number_of_rooms', 'ceiling_height', 'days_expositioned']].describe().round(2)"
   ]
  },
  {
   "cell_type": "markdown",
   "metadata": {},
   "source": [
    "Видим, что по всем показателям медиана ниже среднего, значит большая часть значений находится левее среднего, а по правую часть находятся экстремальные значения, которые тянут среднее вправо. Взглянув на графики, мы можем убедиться, что так оно и есть. При этом, явно выбивающихся значений нет только в столбце с высотой полтолков, однако это результат нашего вмешательства.\n",
    "\n",
    "Касаемо длительности продажи можно сказать следующее: очень быстрой продажей будут считаться сделки, заключенные быстрее, чем за 43 дня. А необычайно долгими будут считаться продажи, по которым нет сделки более 237 дней."
   ]
  },
  {
   "cell_type": "markdown",
   "metadata": {},
   "source": [
    "### Редкие и выбивающиеся значения"
   ]
  },
  {
   "cell_type": "markdown",
   "metadata": {},
   "source": [
    "Взглянем на весь датафрейм и оценим наличие редких и выбивающихся значений:"
   ]
  },
  {
   "cell_type": "code",
   "execution_count": null,
   "metadata": {},
   "outputs": [],
   "source": [
    "pd.set_option('display.max_columns', None)\n",
    "df.describe()"
   ]
  },
  {
   "cell_type": "markdown",
   "metadata": {},
   "source": [
    "При осмотре видим, что сильно выбиваются значения в столбцах **days_expositioned**, **last_price_mln**, **number_of_rooms**, **total_area** и **living_area**. Остальные столбцы либо не имеют выбивающихся значений, либо производные от этих столбцов. Взглянем на них поближе:\n",
    "\n",
    "Посмотрим на минимальные и максимальные значения площадей:"
   ]
  },
  {
   "cell_type": "code",
   "execution_count": null,
   "metadata": {},
   "outputs": [],
   "source": [
    "print(df['total_area'].nlargest(10))\n",
    "print(df['total_area'].nsmallest(10))\n",
    "print()\n",
    "print(df['living_area'].nlargest(10))\n",
    "print(df['living_area'].nsmallest(10))\n",
    "print()\n",
    "print(df['kitchen_area'].nlargest(10))\n",
    "print(df['kitchen_area'].nsmallest(10))"
   ]
  },
  {
   "cell_type": "code",
   "execution_count": null,
   "metadata": {},
   "outputs": [],
   "source": [
    "fig = plt.figure(constrained_layout=True, figsize=(16,14))\n",
    "\n",
    "gs = GridSpec(3, 2, figure=fig)\n",
    "ax0 = fig.add_subplot(gs[0, 0])\n",
    "ax1 = fig.add_subplot(gs[0, 1])\n",
    "ax2 = fig.add_subplot(gs[1, 0])\n",
    "ax3 = fig.add_subplot(gs[1, 1])\n",
    "ax4 = fig.add_subplot(gs[2, :])\n",
    "\n",
    "\n",
    "x0 = df['total_area']\n",
    "x1 = df['living_area']\n",
    "x2 = df['last_price_mln']\n",
    "x3 = df['number_of_rooms']\n",
    "x4 = df['days_expositioned']\n",
    "\n",
    "#  график по площади\n",
    "ax0.hist(x0, 100, facecolor='tab:blue', alpha=1, label='Вся область')\n",
    "ax0.set_xlabel('Площадь', fontsize=10, color='tab:blue')\n",
    "ax0.set_title('от площади', fontsize=15)\n",
    "ax0.grid(True)\n",
    "\n",
    "\n",
    "# график по высоте потолка\n",
    "ax1.hist(x1, 50, facecolor='tab:blue', alpha=1, label='Вся область')\n",
    "ax1.set_xlabel('Жилая площадь', fontsize=10, color='tab:blue')\n",
    "ax1.set_title('от жилой площади', fontsize=15)\n",
    "ax1.grid(True)\n",
    "ax1.set_xlim([0, 150])\n",
    "\n",
    "#  график по цене\n",
    "ax2.hist(x2, 100, facecolor='tab:blue', alpha=1, label='Вся область')\n",
    "ax2.set_xlabel('Цена, млн руб', fontsize=10, color='tab:blue')\n",
    "ax2.set_title('от цены', fontsize=15)\n",
    "ax2.grid(True)\n",
    "ax2.set_xlim([0, 45])\n",
    "\n",
    "#  график по комнатам\n",
    "ax3.hist(x3, 20, facecolor='tab:blue', alpha=1, label='Вся область')\n",
    "ax3.set_xlabel('Количество комнат', fontsize=10, color='tab:blue')\n",
    "ax3.set_title('от количества комнат', fontsize=15)\n",
    "ax3.grid(True)\n",
    "\n",
    "\n",
    "# график по времени продажи\n",
    "ax4.hist(x4, 100, facecolor='tab:blue', alpha=1, label='Вся область')\n",
    "ax4.set_xlabel('Продолжительность продажи', fontsize=10, color='tab:blue')\n",
    "ax4.set_title('от продолжительности продажи', fontsize=15)\n",
    "ax4.grid(True)\n",
    "\n",
    "fig.suptitle('Количество предложений в зависимости', fontsize=20)\n",
    "plt.show()"
   ]
  },
  {
   "cell_type": "markdown",
   "metadata": {},
   "source": [
    "И еще раз взглянем на основные показатели:"
   ]
  },
  {
   "cell_type": "code",
   "execution_count": null,
   "metadata": {},
   "outputs": [],
   "source": [
    "df[['total_area', 'living_area', 'kitchen_area', 'last_price_mln', 'number_of_rooms', 'days_expositioned']].describe().round(2)"
   ]
  },
  {
   "cell_type": "markdown",
   "metadata": {},
   "source": [
    "И на матрицу графиков зависимостей:"
   ]
  },
  {
   "cell_type": "code",
   "execution_count": null,
   "metadata": {},
   "outputs": [],
   "source": [
    "pd.plotting.scatter_matrix(df[['total_area', 'last_price_mln', 'number_of_rooms', 'days_expositioned']], alpha=0.2, figsize=(16, 10), diagonal='kde')\n",
    "plt.show()"
   ]
  },
  {
   "cell_type": "markdown",
   "metadata": {},
   "source": [
    "Видно, что для столбца **days_expositioned** редкие значения после 1250 дней, для **last_price_mln** — после 200 млн руб, для **number_of_rooms** — после 7 комнат, а для **total_area** — после 400 кв метров. Кроме того, странным кажется количество комнат равное нулю, площадь квартиры меньше 28 метров, жилая площадь меньше 14 метров или площадь кухни меньше 5 метров, а так же цена квартиры в 12 тысяч рублей. Попробуем избавиться от этих значений:"
   ]
  },
  {
   "cell_type": "code",
   "execution_count": null,
   "metadata": {},
   "outputs": [],
   "source": [
    "df.drop(df[df['days_expositioned'] > 1250].index, axis=0, inplace=True)\n",
    "df.drop(df[(df['last_price_mln'] > 200) | (df['last_price_mln'] < 0.4)].index, axis=0, inplace=True)\n",
    "df.drop(df[(df['number_of_rooms'] > 7) | (df['number_of_rooms'] == 0)].index, axis=0, inplace=True)\n",
    "df.drop(df[(df['total_area'] > 400) | (df['total_area'] < 28)].index, axis=0, inplace=True)\n",
    "df.drop(df[df['living_area'] < 14].index, axis=0, inplace=True)\n",
    "df.drop(df[df['kitchen_area'] < 5].index, axis=0, inplace=True)\n",
    "\n",
    "display(df[['total_area', 'living_area', 'kitchen_area', 'last_price_mln', 'number_of_rooms', 'days_expositioned']].describe().round(2))"
   ]
  },
  {
   "cell_type": "markdown",
   "metadata": {},
   "source": [
    "Заметим, что медианы и средние практически не изменились. Теперь взглянем на новые графики:"
   ]
  },
  {
   "cell_type": "code",
   "execution_count": null,
   "metadata": {},
   "outputs": [],
   "source": [
    "fig = plt.figure(constrained_layout=True, figsize=(16,14))\n",
    "\n",
    "gs = GridSpec(3, 2, figure=fig)\n",
    "ax0 = fig.add_subplot(gs[0, 0])\n",
    "ax1 = fig.add_subplot(gs[0, 1])\n",
    "ax2 = fig.add_subplot(gs[1, 0])\n",
    "ax3 = fig.add_subplot(gs[1, 1])\n",
    "ax4 = fig.add_subplot(gs[2, :])\n",
    "\n",
    "\n",
    "x0 = df['total_area']\n",
    "x1 = df['living_area']\n",
    "x2 = df['last_price_mln']\n",
    "x3 = df['number_of_rooms']\n",
    "x4 = df['days_expositioned']\n",
    "\n",
    "#  график по площади\n",
    "ax0.hist(x0, 100, facecolor='tab:blue', alpha=1, label='Вся область')\n",
    "ax0.set_xlabel('Площадь', fontsize=10, color='tab:blue')\n",
    "ax0.set_title('от площади', fontsize=15)\n",
    "ax0.grid(True)\n",
    "\n",
    "# график по высоте потолка\n",
    "ax1.hist(x1, 50, facecolor='tab:blue', alpha=1, label='Вся область')\n",
    "ax1.set_xlabel('Жилая площадь', fontsize=10, color='tab:blue')\n",
    "ax1.set_title('от жилой площади', fontsize=15)\n",
    "ax1.grid(True)\n",
    "\n",
    "#  график по цене\n",
    "ax2.hist(x2, 100, facecolor='tab:blue', alpha=1, label='Вся область')\n",
    "ax2.set_xlabel('Цена, млн руб', fontsize=10, color='tab:blue')\n",
    "ax2.set_title('от цены', fontsize=15)\n",
    "ax2.grid(True)\n",
    "\n",
    "#  график по комнатам\n",
    "ax3.hist(x3, 20, facecolor='tab:blue', alpha=1, label='Вся область')\n",
    "ax3.set_xlabel('Количество комнат', fontsize=10, color='tab:blue')\n",
    "ax3.set_title('от количества комнат', fontsize=15)\n",
    "ax3.grid(True)\n",
    "\n",
    "\n",
    "# график по времени продажи\n",
    "ax4.hist(x4, 100, facecolor='tab:blue', alpha=1, label='Вся область')\n",
    "ax4.set_xlabel('Продолжительность продажи', fontsize=10, color='tab:blue')\n",
    "ax4.set_title('от продолжительности продажи', fontsize=15)\n",
    "ax4.grid(True)\n",
    "\n",
    "fig.suptitle('Количество предложений в зависимости', fontsize=20)\n",
    "plt.show()"
   ]
  },
  {
   "cell_type": "markdown",
   "metadata": {},
   "source": [
    "А теперь взглянем на гистограмму по продолжительности продажи, кажется у нас тут оказалось два интересных пика — на 45 и 60 днях. То есть на этом сервисе сроки бесплатных объявлений каким-то образом связаны с 45 и 60 днями."
   ]
  },
  {
   "cell_type": "code",
   "execution_count": null,
   "metadata": {},
   "outputs": [],
   "source": [
    "fig, ax = plt.subplots(figsize=(16,10))\n",
    "\n",
    "x = df.loc[df['days_expositioned'] < 100]['days_expositioned']\n",
    "\n",
    "# график по времени продажи\n",
    "ax.hist(x, 100, facecolor='tab:blue', alpha=1, label='Вся область')\n",
    "ax.set_xlabel('Продолжительность продажи', fontsize=10, color='tab:blue')\n",
    "ax.set_title('от продолжительности продажи', fontsize=15)\n",
    "ax.grid(True)\n",
    "\n",
    "#fig.suptitle('Количество предложений в зависимости', fontsize=20)\n",
    "plt.show()"
   ]
  },
  {
   "cell_type": "markdown",
   "metadata": {},
   "source": [
    "Если наша теория верна, то эти два дня имеют наибольший потенциал в части появления дубликатов, поэтому стоит немного почистить эти два дня."
   ]
  },
  {
   "cell_type": "code",
   "execution_count": null,
   "metadata": {},
   "outputs": [],
   "source": [
    "df.loc[(df['days_expositioned'] == 45) | (df['days_expositioned'] == 60)]"
   ]
  },
  {
   "cell_type": "markdown",
   "metadata": {},
   "source": [
    "Всего в эти два дня закрылось 1299 объявлений — невероятный успех (или вероятная экономность). Попробуем избавиться от дубликатов, для этого нам необходимо аккуратно выбрать характеристики. С одной стороны, их набор должен давать определенную степень уникальности, с другой — каждая из них должна быть стабильной и, желательно, целочисленной, а не дробной. Для этого мы выбрали следующие значения: **number_of_balconies**, **city_center_distance**, **floor**, **locality_id**. Этот набор достаточно разноплановый, что даёт достаточную степень уникальности, при этом состоит из столбцов с целочисленными значениями, то есть экономный владелец не сможет изменить эти значения на десятую чтобы добавить уникальности, и при этом вряд ли станет менять эти значения так как несоответствия окажутся ему не выгодны и будут довольно очевидны."
   ]
  },
  {
   "cell_type": "code",
   "execution_count": null,
   "metadata": {},
   "outputs": [],
   "source": [
    "repeaters = df.loc[(df['days_expositioned'] == 45) | (df['days_expositioned'] == 60)]\n",
    "rep_index = repeaters.loc[repeaters.duplicated(subset=['number_of_balconies', 'city_center_distance', 'floor', 'locality_id'], keep=False)].index\n",
    "\n",
    "try:\n",
    "    df.drop(rep_index, axis=0, inplace=True)\n",
    "except:\n",
    "    print('Ошибка!')\n",
    "finally:\n",
    "    display(df.loc[(df['days_expositioned'] == 45) | (df['days_expositioned'] == 60)])"
   ]
  },
  {
   "cell_type": "markdown",
   "metadata": {},
   "source": [
    "Отлично, мы избавились от половины подобных значений. Теперь взглянем на график:"
   ]
  },
  {
   "cell_type": "code",
   "execution_count": null,
   "metadata": {},
   "outputs": [],
   "source": [
    "fig, ax = plt.subplots(figsize=(16,10))\n",
    "\n",
    "x = df.loc[df['days_expositioned'] < 100]['days_expositioned']\n",
    "\n",
    "# график по времени продажи\n",
    "ax.hist(x, 100, facecolor='tab:blue', alpha=1, label='Вся область')\n",
    "ax.set_xlabel('Продолжительность продажи', fontsize=10, color='tab:blue')\n",
    "ax.set_title('от продолжительности продажи', fontsize=15)\n",
    "ax.grid(True)\n",
    "\n",
    "#fig.suptitle('Количество предложений в зависимости', fontsize=20)\n",
    "plt.show()"
   ]
  },
  {
   "cell_type": "markdown",
   "metadata": {},
   "source": [
    "Да, пики на эти дни всё еще есть и они заметны. Однако, они уменьшились практически в два раза. Кроме того, если эти дни являются сроками для выставления бесплатных объявлений, то появление этих пиковых значений абсолютно закономерно.\n",
    "\n",
    "Отлично, графики выглядят куда опрятнее, от выбивающихся и редких значений мы избавились."
   ]
  },
  {
   "cell_type": "markdown",
   "metadata": {},
   "source": [
    "### Какие факторы больше всего влияют на стоимость квартиры?"
   ]
  },
  {
   "cell_type": "markdown",
   "metadata": {},
   "source": [
    "Теперь рассмотрим как разные факторы влияют на стоимость квартиры. Построим графики зависимостей:"
   ]
  },
  {
   "cell_type": "code",
   "execution_count": null,
   "metadata": {},
   "outputs": [],
   "source": [
    "fig, ((ax0, ax1), (ax2, ax3)) = plt.subplots(2, 2, figsize=(16, 10))\n",
    "x0 = df['total_area']\n",
    "x1 = df['number_of_rooms']\n",
    "x2 = df['floor_type']\n",
    "x3 = df['city_center_distance']\n",
    "y = df['last_price_mln']\n",
    "\n",
    "#  график по площади\n",
    "ax0.scatter(x0, y, c='tab:blue')\n",
    "ax0.set_xlabel('Площадь', fontsize=10, color='tab:blue')\n",
    "ax0.set_ylabel('Цена, млн руб', fontsize=10, color='tab:blue')\n",
    "ax0.set_title('от площади', fontsize=15)\n",
    "ax0.grid(True)\n",
    "\n",
    "#  график по комнатам\n",
    "ax1.scatter(x1, y, c='tab:blue')\n",
    "ax1.set_title('от количества комнат', fontsize=15)\n",
    "ax1.set_xlabel('Комнат', fontsize=10, color='tab:blue')\n",
    "ax1.set_ylabel('Цена, млн руб', fontsize=10, color='tab:blue')\n",
    "ax1.xaxis.set_major_locator(MaxNLocator(integer=True))\n",
    "ax1.grid(True)\n",
    "\n",
    "#  график по этажам\n",
    "ax2.scatter(x2, y, c='tab:blue')\n",
    "ax2.set_title('от этажа', fontsize=15)\n",
    "ax2.set_xlabel('Этаж', fontsize=10, color='tab:blue')\n",
    "ax2.set_xticks([0, 1, 2, 3]) \n",
    "ax2.set_xticklabels(['единственный', 'первый', 'другой', 'последний'])\n",
    "ax2.set_ylabel('Цена, млн руб', fontsize=10, color='tab:blue')\n",
    "ax2.grid(True)\n",
    "\n",
    "# график по удаленности от центра\n",
    "ax3.scatter(x3, y, c='tab:blue')\n",
    "ax3.set_title('от удаленности от центра', fontsize=15)\n",
    "ax3.set_xlabel('Расстояние до центра, км', fontsize=10, color='tab:blue')\n",
    "ax3.set_ylabel('Цена, млн руб', fontsize=10, color='tab:blue')\n",
    "ax3.grid(True)\n",
    "\n",
    "fig.suptitle('Зависимость цены', fontsize=20)\n",
    "plt.show()"
   ]
  },
  {
   "cell_type": "markdown",
   "metadata": {},
   "source": [
    "И в другом формате:"
   ]
  },
  {
   "cell_type": "code",
   "execution_count": null,
   "metadata": {},
   "outputs": [],
   "source": [
    "area_df_pivot = df.pivot_table(index='total_area', values='last_price_mln', aggfunc=['mean'])\n",
    "rooms_df_pivot = df.pivot_table(index='number_of_rooms', values='last_price_mln', aggfunc=['mean'])\n",
    "floor_df_pivot = df.pivot_table(index='floor_type', values='last_price_mln', aggfunc=['mean'])\n",
    "center_df_pivot = df.pivot_table(index='city_center_distance', values='last_price_mln', aggfunc=['mean'])\n",
    "\n",
    "fig, ((ax0, ax1), (ax2, ax3)) = plt.subplots(2, 2, figsize=(16, 10), dpi=80)\n",
    "\n",
    "x0 = area_df_pivot.index\n",
    "x1 = rooms_df_pivot.index\n",
    "x2 = floor_df_pivot.index\n",
    "x3 = center_df_pivot.index\n",
    "\n",
    "y0 = area_df_pivot[('mean', 'last_price_mln')]\n",
    "y1 = rooms_df_pivot[('mean', 'last_price_mln')]\n",
    "y2 = floor_df_pivot[('mean', 'last_price_mln')]\n",
    "y3 = center_df_pivot[('mean', 'last_price_mln')]\n",
    "\n",
    "#  график по площади\n",
    "ax0.plot(x0, y0, c='tab:blue', linewidth=3)\n",
    "ax0.set_xlabel('Площадь', fontsize=10, color='tab:blue')\n",
    "ax0.set_ylabel('Цена, млн руб', fontsize=10, color='tab:blue')\n",
    "ax0.set_title('от площади', fontsize=15)\n",
    "ax0.grid(True)\n",
    "\n",
    "#  график по комнатам\n",
    "ax1.plot(x1, y1, 'o', c='tab:blue', linewidth=3)\n",
    "ax1.set_title('от количества комнат', fontsize=15)\n",
    "ax1.set_xlabel('Комнат', fontsize=10, color='tab:blue')\n",
    "ax1.set_ylabel('Цена, млн руб', fontsize=10, color='tab:blue')\n",
    "ax1.xaxis.set_major_locator(MaxNLocator(integer=True))\n",
    "ax1.grid(True)\n",
    "\n",
    "#  график по этажам\n",
    "ax2.plot(x2, y2, 'o', c='tab:blue', linewidth=3)\n",
    "ax2.set_title('от этажа', fontsize=15)\n",
    "ax2.set_xlabel('Этаж', fontsize=10, color='tab:blue')\n",
    "ax2.set_xticks([0, 1, 2, 3]) \n",
    "ax2.set_xticklabels(['единственный', 'первый', 'другой', 'последний'])\n",
    "ax2.set_ylabel('Цена, млн руб', fontsize=10, color='tab:blue')\n",
    "ax2.grid(True)\n",
    "\n",
    "# график по удаленности от центра\n",
    "ax3.plot(x3, y3, 'o', c='tab:blue', linewidth=3)\n",
    "ax3.set_title('от удаленности от центра', fontsize=15)\n",
    "ax3.set_xlabel('Расстояние до центра, км', fontsize=10, color='tab:blue')\n",
    "ax3.set_ylabel('Цена, млн руб', fontsize=10, color='tab:blue')\n",
    "ax3.grid(True)\n",
    "\n",
    "fig.suptitle('Зависимость цены', fontsize=20)\n",
    "plt.show()"
   ]
  },
  {
   "cell_type": "markdown",
   "metadata": {},
   "source": [
    "Как видим, зависимость цены от площади очень заметная, легко можно провести линию тренда с условными коридорами. Но в целом, при прочих равных ожидаем, что чем больше площадь, тем дороже квартира.\n",
    "\n",
    "С количеством комнат ситуация чуть другая: вплоть до 5 комнат цена довольно быстро растёт, а после 5 начинается двоякая ситуация. С одной стороны, средняя цена намного медленнее, но растёт, с другой стороны максимальные значения по стоимости представленны именно среди пятикомнатных квартир.\n",
    "\n",
    "Зависимость от этажа тоже интересная, наиболее дорогими считаются промежуточные этажи, почти сразу за ними верхние этажи (возможно за счет пентхаусов), самыми экономными (что логично) считаются первые этажи, однако даже они оказались дороже, чем предложения в одноэтажных домах.\n",
    "\n",
    "Удаленность от центра также влияет на стоимость: на 10 километрах явно виден переход от резкого падения стоимости к пологому. После 40-го и 50-го километра наблюдаются резкие скачки средней цены (вероятно влияние загородной элитной недвижимости).\n",
    "\n",
    "Теперь посмотрим на графики для времени продажи:"
   ]
  },
  {
   "cell_type": "code",
   "execution_count": null,
   "metadata": {},
   "outputs": [],
   "source": [
    "fig, ((ax0, ax1), (ax2, ax3)) = plt.subplots(2, 2, figsize=(16, 10))\n",
    "x0 = df['first_expositioned_weekday']\n",
    "x1 = df['first_expositioned_month']\n",
    "x2 = df['first_expositioned_year']\n",
    "x3 = df['days_expositioned']\n",
    "y = df['last_price_mln']\n",
    "\n",
    "#  график по дням недели\n",
    "ax0.scatter(x0, y)\n",
    "ax0.set_title('от дня недели', fontsize=15)\n",
    "ax0.set_xlabel('День недели', fontsize=10, color='tab:blue')\n",
    "ax0.set_xticks([0, 1, 2, 3, 4, 5, 6]) \n",
    "ax0.set_xticklabels(['понедельник', 'вторник', 'среда', 'четверг', 'пятница', 'суббота', 'воскресенье'])\n",
    "ax0.set_ylabel('Цена, млн руб', fontsize=10, color='tab:blue')\n",
    "ax0.grid(True)\n",
    "\n",
    "#  график по месяцам\n",
    "ax1.scatter(x1, y)\n",
    "ax1.set_title('от месяца', fontsize=15)\n",
    "ax1.set_xlabel('Месяц', fontsize=10, color='tab:blue')\n",
    "ax1.set_xticks([1, 2, 3, 4, 5, 6, 7, 8, 9, 10, 11, 12])\n",
    "ax1.set_xticklabels(['янв', 'фев', 'мар', 'апр', 'май', 'июн', 'июл', 'авг', 'сен', 'окт', 'ноя', 'дек'])\n",
    "ax1.set_ylabel('Цена, млн руб', fontsize=10, color='tab:blue')\n",
    "ax1.grid(True)\n",
    "\n",
    "#  график по годам\n",
    "ax2.scatter(x2, y)\n",
    "ax2.set_title('от года', fontsize=15)\n",
    "ax2.set_xlabel('Год', fontsize=10, color='tab:blue')\n",
    "ax2.set_ylabel('Цена, млн руб', fontsize=10, color='tab:blue')\n",
    "ax2.grid(True)\n",
    "\n",
    "# график по продолжительности продажи\n",
    "ax3.scatter(x3, y)\n",
    "ax3.set_title('от продолжительности продажи', fontsize=15)\n",
    "ax3.set_xlabel('Продолжительность продажи, дней', fontsize=10, color='tab:blue')\n",
    "ax3.set_ylabel('Цена, млн руб', fontsize=10, color='tab:blue')\n",
    "ax3.grid(True)\n",
    "\n",
    "fig.suptitle('Зависимость цены', fontsize=20)\n",
    "plt.show()"
   ]
  },
  {
   "cell_type": "markdown",
   "metadata": {},
   "source": [
    "И в еще одном формате"
   ]
  },
  {
   "cell_type": "code",
   "execution_count": null,
   "metadata": {},
   "outputs": [],
   "source": [
    "weekday_df_pivot = df.pivot_table(index='first_expositioned_weekday', values='last_price_mln', aggfunc=['mean'])\n",
    "month_df_pivot = df.pivot_table(index='first_expositioned_month', values='last_price_mln', aggfunc=['mean'])\n",
    "year_df_pivot = df.pivot_table(index='first_expositioned_year', values='last_price_mln', aggfunc=['mean'])\n",
    "days_df_pivot = df.pivot_table(index='days_expositioned', values='last_price_mln', aggfunc=['mean'])\n",
    "\n",
    "fig, ((ax0, ax1), (ax2, ax3)) = plt.subplots(2, 2, figsize=(16, 10), dpi=80)\n",
    "\n",
    "x0 = weekday_df_pivot.index\n",
    "x1 = month_df_pivot.index\n",
    "x2 = year_df_pivot.index\n",
    "x3 = days_df_pivot.index\n",
    "\n",
    "y0 = weekday_df_pivot[('mean', 'last_price_mln')]\n",
    "y1 = month_df_pivot[('mean', 'last_price_mln')]\n",
    "y2 = year_df_pivot[('mean', 'last_price_mln')]\n",
    "y3 = days_df_pivot[('mean', 'last_price_mln')]\n",
    "\n",
    "#  график по дням недели\n",
    "ax0.plot(x0, y0, c='tab:blue', linewidth=3)\n",
    "ax0.set_xlabel('День недели', fontsize=10, color='tab:blue')\n",
    "ax0.set_xticks([0, 1, 2, 3, 4, 5, 6]) \n",
    "ax0.set_xticklabels(['понедельник', 'вторник', 'среда', 'четверг', 'пятница', 'суббота', 'воскресенье'])\n",
    "ax0.set_ylabel('Цена, млн руб', fontsize=10, color='tab:blue')\n",
    "ax0.set_title('от дня недели', fontsize=15)\n",
    "ax0.grid(True)\n",
    "\n",
    "#  график по месяцам\n",
    "ax1.plot(x1, y1, c='tab:blue', linewidth=3)\n",
    "ax1.set_title('от месяца', fontsize=15)\n",
    "ax1.set_xlabel('Месяц', fontsize=10, color='tab:blue')\n",
    "ax1.set_xticks([1, 2, 3, 4, 5, 6, 7, 8, 9, 10, 11, 12])\n",
    "ax1.set_xticklabels(['янв', 'фев', 'мар', 'апр', 'май', 'июн', 'июл', 'авг', 'сен', 'окт', 'ноя', 'дек'])\n",
    "ax1.set_ylabel('Цена, млн руб', fontsize=10, color='tab:blue')\n",
    "ax1.grid(True)\n",
    "\n",
    "#  график по годам\n",
    "ax2.plot(x2, y2, c='tab:blue', linewidth=3)\n",
    "ax2.set_title('от года', fontsize=15)\n",
    "ax2.set_xlabel('Год', fontsize=10, color='tab:blue')\n",
    "ax2.set_ylabel('Цена, млн руб', fontsize=10, color='tab:blue')\n",
    "ax2.grid(True)\n",
    "\n",
    "# график по продолжительности продажи\n",
    "ax3.plot(x3, y3, c='tab:blue', linewidth=3)\n",
    "ax3.set_title('от продолжительности продажи', fontsize=15)\n",
    "ax3.set_xlabel('Продолжительность продажи, дней', fontsize=10, color='tab:blue')\n",
    "ax3.set_ylabel('Цена, млн руб', fontsize=10, color='tab:blue')\n",
    "ax3.grid(True)\n",
    "\n",
    "fig.suptitle('Зависимость цены', fontsize=20)\n",
    "plt.show()"
   ]
  },
  {
   "cell_type": "markdown",
   "metadata": {},
   "source": [
    "В случае даты объявления и продолжительности продажи графики средних более явные.\n",
    "\n",
    "Если в случае точечного графика видно только что объявления по выходным оказываются слегка дешевле, то на графике средних видна интересная линия: наиболее дорогие объявления появляются в четверг, а самые дешёвые — в субботу, при этом в выходные стоимость выставляемых квартир заметно ниже, чем в будни.\n",
    "\n",
    "Если мы посмотрим на первый график зависимости от года, то может сложиться впечателние, что цены росли до 2016 года, а потом слегка начали снижаться. Но на втором графике видно, что средняя цена была максимальной в 2014 году, а затем до 2018 года значительно снизилась. В 2019 году произошёл небольшой рост примерно до уровня 2016-2017 годов.\n",
    "\n",
    "Если смотреть на месяц выставления объявления, то наиболее дорогим оказался июль, а самым дешёвым - октябрь. Занимательно, что между июлем и октябрём примерно 90 дней — это близко к медианному значению срока продажи квартиры. В целом, если не обращать внимание на пиковые значения, то в конце года цены слегка выше, чем в начале.\n",
    "\n",
    "Продолжительность продажи скорее влияет на цену не линейно, напротив, цена становится более хаотичной и неопределённой, может как вырасти с течением времени, так и наоборот упасть. Однако, наиболее вероятно, что цена снизится. При этом на графике видны пики на достаточно больших сроках — вероятно это связано с тем, что дорогая недвижимость медленнее оборачивается.\n",
    "\n",
    "Теперь выберем 10 населённых пунктов с наибольшим количеством объявлений и отсортируем их по убыванию цены:"
   ]
  },
  {
   "cell_type": "code",
   "execution_count": null,
   "metadata": {},
   "outputs": [],
   "source": [
    "locality_pivot = df.pivot_table(index='locality_id', values='square_meter_price', aggfunc=['count', 'mean'])\n",
    "top10_locs = locality_pivot.nlargest(10, ('count', 'square_meter_price')).sort_values(('mean', 'square_meter_price'), ascending=False)\n",
    "top10_locs[('mean', 'square_meter_price')] = top10_locs[('mean', 'square_meter_price')].round(2)\n",
    "top10_locs['locality_name'] = top10_locs.index.map(locality_dict)\n",
    "top10_locs"
   ]
  },
  {
   "cell_type": "markdown",
   "metadata": {},
   "source": [
    "Видим, что наиболее выделяются города Санкт-Петербург и Пушкин (больше 100 000 за кв м). Кудрово, Парголово и Мурино держатся слегка позади. Остальные города расположены ниже и кучнее в плане цены, и не отличаются между собой так кардинально как от этих двух групп городов."
   ]
  },
  {
   "cell_type": "markdown",
   "metadata": {},
   "source": [
    "### Как цена зависит от удалённости от центра?"
   ]
  },
  {
   "cell_type": "markdown",
   "metadata": {},
   "source": [
    "Теперь более подробно ознакомимся с зависимостью цены от удалённости от центра. Для начала построим сводную таблицу с максимальным, срадним, медианным и минимальными значениями цены в зависимости от расстояния до центра. А затем построим два графика на основе сводной таблицы (на втором графике убрано максимальное значение для наглядности):"
   ]
  },
  {
   "cell_type": "code",
   "execution_count": null,
   "metadata": {},
   "outputs": [],
   "source": [
    "df_spb = df.query('locality_id == 224')\n",
    "spb_pivot = df_spb.pivot_table(index='city_center_distance', values='last_price_mln', aggfunc=['max', 'mean', 'median', 'min'])\n",
    "spb_pivot[('mean', 'last_price_mln')] = spb_pivot[('mean', 'last_price_mln')].round(2)\n",
    "\n",
    "fig, (ax0, ax1) = plt.subplots(2, 1, figsize=(16,10))\n",
    "fig.subplots_adjust(hspace=0)\n",
    "fig.suptitle('Цена в зависимости от расстояния до центра города', fontsize=20)\n",
    "\n",
    "x = spb_pivot.index\n",
    "y0 = spb_pivot[('max', 'last_price_mln')]\n",
    "y1 = spb_pivot[('mean', 'last_price_mln')]\n",
    "y2 = spb_pivot[('median', 'last_price_mln')]\n",
    "y3 = spb_pivot[('min', 'last_price_mln')]\n",
    "\n",
    "ax0.plot(x, y0, x, y1, x, y2, x, y3, alpha=.7)\n",
    "ax0.set_xlabel('Расстояние от центра, км', fontsize=10, color='tab:blue')\n",
    "ax0.set_ylabel('Цена, млн руб', fontsize=10, color='tab:blue')\n",
    "ax0.fill_between(x, y0, facecolor='blue', interpolate=True, alpha=.6)\n",
    "ax0.fill_between(x, y1, facecolor='orange', interpolate=True, alpha=.4)\n",
    "ax0.fill_between(x, y2, facecolor='green', interpolate=True, alpha=.2)\n",
    "ax0.fill_between(x, y3, facecolor='red', interpolate=True, alpha=.1)\n",
    "ax0.grid(True)\n",
    "ax0.legend(['Максимум', 'Среднее', 'Медиана', 'Минимум'], fontsize=10)\n",
    "\n",
    "ax1.plot(x, y1, color='orange')\n",
    "ax1.plot(x, y2, color='green')\n",
    "ax1.plot(x, y3, color='red')\n",
    "ax1.set_xlabel('Расстояние от центра, км', fontsize=10, color='tab:blue')\n",
    "ax1.set_ylabel('Цена, млн руб', fontsize=10, color='tab:blue')\n",
    "ax1.fill_between(x, y1, facecolor='orange', interpolate=True, alpha=.6)\n",
    "ax1.fill_between(x, y2, facecolor='green', interpolate=True, alpha=.4)\n",
    "ax1.fill_between(x, y3, facecolor='red', interpolate=True, alpha=.2)\n",
    "ax1.grid(True)\n",
    "ax1.legend(['Среднее', 'Медиана', 'Минимум'], fontsize=10)\n",
    "\n",
    "plt.show()\n"
   ]
  },
  {
   "cell_type": "markdown",
   "metadata": {},
   "source": [
    "Взглянув на график видим, что пиковое значение находится на расстоянии 6 км от центра, после этого максимальная цена заметно ниже. На расстоянии 5 км от центра начинает заметно снижаться медианное значение, а на расстоянии 6 км - среднее. Поэтому, на основании этой информации будем считать, что центр — это всё, что расположено не далее чем в 6 километрах от центральной точки."
   ]
  },
  {
   "cell_type": "code",
   "execution_count": null,
   "metadata": {},
   "outputs": [],
   "source": [
    "spb_center = df_spb.query('city_center_distance <= 6')\n",
    "spb = df_spb.query('locality_id == 224')"
   ]
  },
  {
   "cell_type": "markdown",
   "metadata": {},
   "source": [
    "### Сегмент квартир в центре: отклоняются ли они от общих показателей по всему городу?"
   ]
  },
  {
   "cell_type": "markdown",
   "metadata": {},
   "source": [
    "Теперь оценим такие показатели как площадь, цена, число комнат, высота потолков. Кроме того, мы сравним как эти показатели соотносятся от общих показателей по всему городу."
   ]
  },
  {
   "cell_type": "code",
   "execution_count": null,
   "metadata": {},
   "outputs": [],
   "source": [
    "fig, ((ax0, ax1), (ax2, ax3)) = plt.subplots(2, 2, figsize=(16, 10))\n",
    "x0, a0 = spb_center['total_area'], spb['total_area']\n",
    "x1, a1 = spb_center['last_price_mln'], spb['last_price_mln']\n",
    "x2, a2 = spb_center['number_of_rooms'], spb['number_of_rooms']\n",
    "x3, a3 = spb_center['ceiling_height'], spb['ceiling_height']\n",
    "\n",
    "#  график по площади\n",
    "ax0.hist(a0, 100, facecolor='tab:blue', alpha=1, label='Весь Санкт-Петербург')\n",
    "ax0.hist(x0, 100, facecolor='tab:red', alpha=.7, label='Санкт-Петербург - центр')\n",
    "ax0.set_xlabel('Площадь', fontsize=10, color='tab:blue')\n",
    "ax0.set_title('от площади', fontsize=15)\n",
    "ax0.legend()\n",
    "ax0.grid(True)\n",
    "\n",
    "#  график по комнатам\n",
    "ax1.hist(a1, 100, facecolor='tab:blue', alpha=1, label='Весь Санкт-Петербург')\n",
    "ax1.hist(x1, 100, facecolor='tab:red', alpha=.7, label='Санкт-Петербург - центр')\n",
    "ax1.set_xlabel('Цена, млн руб', fontsize=10, color='tab:blue')\n",
    "ax1.set_title('от цены', fontsize=15)\n",
    "ax1.legend()\n",
    "ax1.grid(True)\n",
    "\n",
    "#  график по этажам\n",
    "ax2.hist(a2, 20, facecolor='tab:blue', alpha=1, label='Весь Санкт-Петербург')\n",
    "ax2.hist(x2, 20, facecolor='tab:red', alpha=.7, label='Санкт-Петербург - центр')\n",
    "ax2.set_xlabel('Количество комнат', fontsize=10, color='tab:blue')\n",
    "ax2.set_title('от количества комнат', fontsize=15)\n",
    "ax2.legend()\n",
    "ax2.grid(True)\n",
    "\n",
    "# график по удаленности от центра\n",
    "ax3.hist(a3, 50, facecolor='tab:blue', alpha=1, label='Весь Санкт-Петербург')\n",
    "ax3.hist(x3, 50, facecolor='tab:red', alpha=.7, label='Санкт-Петербург - центр')\n",
    "ax3.set_xlabel('Высота потолка', fontsize=10, color='tab:blue')\n",
    "ax3.set_title('от высоты потолка', fontsize=15)\n",
    "ax3.legend()\n",
    "ax3.grid(True)\n",
    "\n",
    "fig.suptitle('Количество предложений в зависимости', fontsize=20)\n",
    "plt.show()"
   ]
  },
  {
   "cell_type": "markdown",
   "metadata": {},
   "source": [
    "Видим что центр Санкт-Петербурга представляет из себя особенный сегмент. При том что в целом доля предложения на рынке у центра небольшая, в части дорогой и элитной недвижимости центр является основным поставщиком предложений.\n",
    "\n",
    "По площади — на площадях до 100 кв м имеет малую долю, на площадях свыше 100 кв м занимает больше половины рынка.\n",
    "\n",
    "По количеству комнат — малая доля в предложении 1-3 комнатных квартир, примерно треть в 4-комнатных, для больших квартир почти полностью занимает рынок\n",
    "\n",
    "По цене — начиная с 10 млн рублей практически всё предложение находится в центре города.\n",
    "\n",
    "По высоте потолка — треть трёхметровых потолков находятся в центре, малая доля от предложения потолков ниже 3 метров. Потолки выше 3 метров практически всегда в центре.\n",
    "\n",
    "Теперь сравним центр со всем городом по другим показателям:"
   ]
  },
  {
   "cell_type": "code",
   "execution_count": null,
   "metadata": {},
   "outputs": [],
   "source": [
    "fig, ((ax0, ax1), (ax2, ax3)) = plt.subplots(2, 2, figsize=(16, 10))\n",
    "x0, a0 = spb_center['total_area'], spb['total_area']\n",
    "x1, a1 = spb_center['number_of_rooms'], spb['number_of_rooms']\n",
    "x2, a2 = spb_center['floor_type'], spb['floor_type']\n",
    "x3, a3 = spb_center['city_center_distance'], spb['city_center_distance']\n",
    "y, b = spb_center['last_price_mln'], spb['last_price_mln']\n",
    "\n",
    "#  график по площади\n",
    "ax0.scatter(a0, b, s=100, c='tab:blue', alpha=1, label='Весь Санкт-Петербург')\n",
    "ax0.scatter(x0, y, s=75, c='tab:red', alpha=.7, label='Санкт-Петербург - центр', marker=(5, 1))\n",
    "ax0.set_xlabel('Площадь', fontsize=10, color='tab:blue')\n",
    "ax0.set_ylabel('Цена, млн руб', fontsize=10, color='tab:blue')\n",
    "ax0.set_title('от площади', fontsize=15)\n",
    "ax0.legend()\n",
    "ax0.grid(True)\n",
    "\n",
    "#  график по комнатам\n",
    "ax1.scatter(a1, b, s=100, c='tab:blue', alpha=1, label='Весь Санкт-Петербург')\n",
    "ax1.scatter(x1, y, s=75, c='tab:red', alpha=.7, label='Санкт-Петербург - центр', marker=(5, 1))\n",
    "ax1.set_title('от количества комнат', fontsize=15)\n",
    "ax1.set_xlabel('Комнат', fontsize=10, color='tab:blue')\n",
    "ax1.set_ylabel('Цена, млн руб', fontsize=10, color='tab:blue')\n",
    "ax1.legend()\n",
    "ax1.xaxis.set_major_locator(MaxNLocator(integer=True))\n",
    "ax1.grid(True)\n",
    "\n",
    "#  график по этажам\n",
    "ax2.scatter(a2, b, s=150, c='tab:blue', alpha=1, label='Весь Санкт-Петербург')\n",
    "ax2.scatter(x2, y, s=75, c='tab:red', alpha=.7, label='Санкт-Петербург - центр', marker=(5, 1))\n",
    "ax2.set_title('от этажа', fontsize=15)\n",
    "ax2.set_xlabel('Этаж', fontsize=10, color='tab:blue')\n",
    "ax2.set_xticks([0, 1, 2, 3]) \n",
    "ax2.set_xticklabels(['единственный', 'первый', 'другой', 'последний'])\n",
    "ax2.set_ylabel('Цена, млн руб', fontsize=10, color='tab:blue')\n",
    "ax2.legend()\n",
    "ax2.grid(True)\n",
    "\n",
    "# график по удаленности от центра\n",
    "ax3.scatter(a3, b, s=100, c='tab:blue', alpha=1, label='Весь Санкт-Петербург')\n",
    "ax3.scatter(x3, y, s=75, c='tab:red', alpha=.7, label='Санкт-Петербург - центр', marker=(5, 1))\n",
    "ax3.set_title('от удаленности от центра', fontsize=15)\n",
    "ax3.set_xlabel('Расстояние до центра, км', fontsize=10, color='tab:blue')\n",
    "ax3.set_ylabel('Цена, млн руб', fontsize=10, color='tab:blue')\n",
    "ax3.legend()\n",
    "ax3.grid(True)\n",
    "\n",
    "fig.suptitle('Зависимость цены', fontsize=20)\n",
    "plt.show()"
   ]
  },
  {
   "cell_type": "code",
   "execution_count": null,
   "metadata": {},
   "outputs": [],
   "source": [
    "fig, ((ax0, ax1), (ax2, ax3)) = plt.subplots(2, 2, figsize=(16, 10))\n",
    "x0, a0 = spb_center['total_area'], spb['total_area']\n",
    "x1, a1 = spb_center['number_of_rooms'], spb['number_of_rooms']\n",
    "x2, a2 = spb_center['floor_type'], spb['floor_type']\n",
    "x3, a3 = spb_center['city_center_distance'], spb['city_center_distance']\n",
    "y, b = spb_center['last_price_mln'], spb['last_price_mln']\n",
    "\n",
    "#  график по площади\n",
    "ax0.scatter(a0, b, s=100, c='tab:blue', alpha=1, label='Весь Санкт-Петербург')\n",
    "ax0.scatter(x0, y, s=75, c='tab:red', alpha=.7, label='Санкт-Петербург - центр', marker=(5, 1))\n",
    "ax0.set_xlabel('Площадь', fontsize=10, color='tab:blue')\n",
    "ax0.set_ylabel('Цена, млн руб', fontsize=10, color='tab:blue')\n",
    "ax0.set_title('от площади', fontsize=15)\n",
    "ax0.legend()\n",
    "ax0.grid(True)\n",
    "\n",
    "#  график по комнатам\n",
    "ax1.scatter(a1, b, s=100, c='tab:blue', alpha=1, label='Весь Санкт-Петербург')\n",
    "ax1.scatter(x1, y, s=75, c='tab:red', alpha=.7, label='Санкт-Петербург - центр', marker=(5, 1))\n",
    "ax1.set_title('от количества комнат', fontsize=15)\n",
    "ax1.set_xlabel('Комнат', fontsize=10, color='tab:blue')\n",
    "ax1.set_ylabel('Цена, млн руб', fontsize=10, color='tab:blue')\n",
    "ax1.legend()\n",
    "ax1.xaxis.set_major_locator(MaxNLocator(integer=True))\n",
    "ax1.grid(True)\n",
    "\n",
    "#  график по этажам\n",
    "ax2.scatter(a2, b, s=150, c='tab:blue', alpha=1, label='Весь Санкт-Петербург')\n",
    "ax2.scatter(x2, y, s=75, c='tab:red', alpha=.7, label='Санкт-Петербург - центр', marker=(5, 1))\n",
    "ax2.set_title('от этажа', fontsize=15)\n",
    "ax2.set_xlabel('Этаж', fontsize=10, color='tab:blue')\n",
    "ax2.set_xticks([0, 1, 2, 3]) \n",
    "ax2.set_xticklabels(['единственный', 'первый', 'другой', 'последний'])\n",
    "ax2.set_ylabel('Цена, млн руб', fontsize=10, color='tab:blue')\n",
    "ax2.legend()\n",
    "ax2.grid(True)\n",
    "\n",
    "# график по удаленности от центра\n",
    "ax3.scatter(a3, b, s=100, c='tab:blue', alpha=1, label='Весь Санкт-Петербург')\n",
    "ax3.scatter(x3, y, s=75, c='tab:red', alpha=.7, label='Санкт-Петербург - центр', marker=(5, 1))\n",
    "ax3.set_title('от удаленности от центра', fontsize=15)\n",
    "ax3.set_xlabel('Расстояние до центра, км', fontsize=10, color='tab:blue')\n",
    "ax3.set_ylabel('Цена, млн руб', fontsize=10, color='tab:blue')\n",
    "ax3.legend()\n",
    "ax3.grid(True)\n",
    "\n",
    "fig.suptitle('Зависимость цены', fontsize=20)\n",
    "plt.show()"
   ]
  },
  {
   "cell_type": "markdown",
   "metadata": {},
   "source": [
    "В целом, можно сказать что центр редко оказывается дешевле, скорее наоборот, большая часть выделяющихся значений принадлежит к сегменту центра.\n",
    "\n",
    "По площади — какого-то особенного тренда не видно, примерно такая же зависимость как и во всём городе. При этом всё же стабильно дороже, значения дешевле, чем в городе в целом достаточно редки.\n",
    "\n",
    "По этажу — нет предложения одноэтажных домов, практически нет разницы между последним и другими этажами, зато, в отличие от города в целом, разница между первым и остальными этажами намного более значительная. При этом, в целом, в городе последний этаж оказался самым дорогим.\n",
    "\n",
    "По количеству комнат — в целом, до пяти комнат, предложение почти равномерно слегка дороже. На удивление, 6 комнат в центре оказались дешевле, чем в целом по городу (возможно где-то вне центра есть какое-то очень дорогое и большое жильё такого размера). Для 7 комнат цены идентичны (скорее всего это уникальное предложение и оно находится в центре).\n",
    "\n",
    "По удалённости от центра — логично, что показатели для центра и для всего города отличаются, так как центр это часть до 6 км, и соответственно в этой части графики идентичны. После 6 км, очевидно, графика для центра нет.\n",
    "\n",
    "Теперь рассмотрим зависимость от времени:"
   ]
  },
  {
   "cell_type": "code",
   "execution_count": null,
   "metadata": {},
   "outputs": [],
   "source": [
    "fig, ((ax0, ax1), (ax2, ax3)) = plt.subplots(2, 2, figsize=(16, 10))\n",
    "x0, a0 = spb_center['first_expositioned_weekday'], spb['first_expositioned_weekday']\n",
    "x1, a1 = spb_center['first_expositioned_month'], spb['first_expositioned_month']\n",
    "x2, a2 = spb_center['first_expositioned_year'], spb['first_expositioned_year']\n",
    "x3, a3 = spb_center['days_expositioned'], spb['days_expositioned']\n",
    "y, b = spb_center['last_price_mln'], spb['last_price_mln']\n",
    "\n",
    "#  график по дням недели\n",
    "ax0.scatter(a0, b, s=100, c='tab:blue', alpha=1, label='Весь Санкт-Петербург')\n",
    "ax0.scatter(x0, y, s=75, c='tab:red', alpha=.7, label='Санкт-Петербург - центр', marker=(5, 1))\n",
    "ax0.set_title('от дня недели', fontsize=15)\n",
    "ax0.set_xlabel('День недели', fontsize=10, color='tab:blue')\n",
    "ax0.set_xticks([0, 1, 2, 3, 4, 5, 6]) \n",
    "ax0.set_xticklabels(['понедельник', 'вторник', 'среда', 'четверг', 'пятница', 'суббота', 'воскресенье'])\n",
    "ax0.set_ylabel('Цена, млн руб', fontsize=10, color='tab:blue')\n",
    "ax0.legend()\n",
    "ax0.grid(True)\n",
    "\n",
    "#  график по месяцам\n",
    "ax1.scatter(a1, b, s=100, c='tab:blue', alpha=1, label='Весь Санкт-Петербург')\n",
    "ax1.scatter(x1, y, s=75, c='tab:red', alpha=.7, label='Санкт-Петербург - центр', marker=(5, 1))\n",
    "ax1.set_title('от месяца', fontsize=15)\n",
    "ax1.set_xlabel('Месяц', fontsize=10, color='tab:blue')\n",
    "ax1.set_xticks([1, 2, 3, 4, 5, 6, 7, 8, 9, 10, 11, 12])\n",
    "ax1.set_xticklabels(['янв', 'фев', 'мар', 'апр', 'май', 'июн', 'июл', 'авг', 'сен', 'окт', 'ноя', 'дек'])\n",
    "ax1.set_ylabel('Цена, млн руб', fontsize=10, color='tab:blue')\n",
    "ax1.legend()\n",
    "ax1.grid(True)\n",
    "\n",
    "#  график по годам\n",
    "ax2.scatter(a2, b, s=150, c='tab:blue', alpha=1, label='Весь Санкт-Петербург')\n",
    "ax2.scatter(x2, y, s=75, c='tab:red', alpha=.7, label='Санкт-Петербург - центр', marker=(5, 1))\n",
    "ax2.set_title('от года', fontsize=15)\n",
    "ax2.set_xlabel('Год', fontsize=10, color='tab:blue')\n",
    "ax2.set_ylabel('Цена, млн руб', fontsize=10, color='tab:blue')\n",
    "ax2.legend()\n",
    "ax2.grid(True)\n",
    "\n",
    "# график по продолжительности продажи\n",
    "ax3.scatter(a3, b, s=100, c='tab:blue', alpha=1, label='Весь Санкт-Петербург')\n",
    "ax3.scatter(x3, y, s=75, c='tab:red', alpha=.7, label='Санкт-Петербург - центр', marker=(5, 1))\n",
    "ax3.set_title('от продолжительности продажи', fontsize=15)\n",
    "ax3.set_xlabel('Продолжительность продажи, дней', fontsize=10, color='tab:blue')\n",
    "ax3.set_ylabel('Цена, млн руб', fontsize=10, color='tab:blue')\n",
    "ax3.legend()\n",
    "ax3.grid(True)\n",
    "\n",
    "fig.suptitle('Зависимость цены', fontsize=20)\n",
    "plt.show()\n"
   ]
  },
  {
   "cell_type": "code",
   "execution_count": null,
   "metadata": {},
   "outputs": [],
   "source": [
    "weekday_spb_pivot = spb.pivot_table(index='first_expositioned_weekday', values='last_price_mln', aggfunc=['mean'])\n",
    "month_spb_pivot = spb.pivot_table(index='first_expositioned_month', values='last_price_mln', aggfunc=['mean'])\n",
    "year_spb_pivot = spb.pivot_table(index='first_expositioned_year', values='last_price_mln', aggfunc=['mean'])\n",
    "days_spb_pivot = spb.pivot_table(index='days_expositioned', values='last_price_mln', aggfunc=['mean'])\n",
    "\n",
    "weekday_spb_center_pivot = spb_center.pivot_table(index='first_expositioned_weekday', values='last_price_mln', aggfunc=['mean'])\n",
    "month_spb_center_pivot = spb_center.pivot_table(index='first_expositioned_month', values='last_price_mln', aggfunc=['mean'])\n",
    "year_spb_center_pivot = spb_center.pivot_table(index='first_expositioned_year', values='last_price_mln', aggfunc=['mean'])\n",
    "days_spb_center_pivot = spb_center.pivot_table(index='days_expositioned', values='last_price_mln', aggfunc=['mean'])\n",
    "\n",
    "fig, ((ax0, ax1), (ax2, ax3)) = plt.subplots(2, 2, figsize=(16, 10), dpi=80)\n",
    "\n",
    "x0, x1 = weekday_spb_pivot.index, weekday_spb_center_pivot.index\n",
    "x2, x3 = month_spb_pivot.index, month_spb_center_pivot.index\n",
    "x4, x5 = year_spb_pivot.index, year_spb_center_pivot.index\n",
    "x6, x7 = days_spb_pivot.index, days_spb_center_pivot.index\n",
    "\n",
    "y0, y1 = weekday_spb_pivot[('mean', 'last_price_mln')], weekday_spb_center_pivot[('mean', 'last_price_mln')]\n",
    "y2, y3 = month_spb_pivot[('mean', 'last_price_mln')], month_spb_center_pivot[('mean', 'last_price_mln')]\n",
    "y4, y5 = year_spb_pivot[('mean', 'last_price_mln')], year_spb_center_pivot[('mean', 'last_price_mln')]\n",
    "y6, y7 = days_spb_pivot[('mean', 'last_price_mln')], days_spb_center_pivot[('mean', 'last_price_mln')]\n",
    "\n",
    "#  график по дням недели\n",
    "ax0.plot(x0, y0, c='tab:blue', linewidth=3)\n",
    "ax0.plot(x1, y1, c='tab:red', alpha=.7)\n",
    "ax0.set_xlabel('День недели', fontsize=10, color='tab:blue')\n",
    "ax0.set_xticks([0, 1, 2, 3, 4, 5, 6]) \n",
    "ax0.set_xticklabels(['понедельник', 'вторник', 'среда', 'четверг', 'пятница', 'суббота', 'воскресенье'])\n",
    "ax0.set_ylabel('Цена, млн руб', fontsize=10, color='tab:blue')\n",
    "ax0.set_title('от дня недели', fontsize=15)\n",
    "ax0.legend(['Весь Санкт-Петербург', 'Санкт-Петербург - центр'])\n",
    "ax0.grid(True)\n",
    "\n",
    "#  график по месяцам\n",
    "ax1.plot(x2, y2, c='tab:blue', linewidth=3)\n",
    "ax1.plot(x3, y3, c='tab:red', alpha=.7)\n",
    "ax1.set_title('от месяца', fontsize=15)\n",
    "ax1.set_xlabel('Месяц', fontsize=10, color='tab:blue')\n",
    "ax1.set_xticks([1, 2, 3, 4, 5, 6, 7, 8, 9, 10, 11, 12])\n",
    "ax1.set_xticklabels(['янв', 'фев', 'мар', 'апр', 'май', 'июн', 'июл', 'авг', 'сен', 'окт', 'ноя', 'дек'])\n",
    "ax1.set_ylabel('Цена, млн руб', fontsize=10, color='tab:blue')\n",
    "ax1.legend(['Весь Санкт-Петербург', 'Санкт-Петербург - центр'])\n",
    "ax1.grid(True)\n",
    "\n",
    "#  график по годам\n",
    "ax2.plot(x4, y4, c='tab:blue', linewidth=3)\n",
    "ax2.plot(x5, y5, c='tab:red', alpha=.7)\n",
    "ax2.set_title('от года', fontsize=15)\n",
    "ax2.set_xlabel('Год', fontsize=10, color='tab:blue')\n",
    "ax2.set_ylabel('Цена, млн руб', fontsize=10, color='tab:blue')\n",
    "ax2.legend(['Весь Санкт-Петербург', 'Санкт-Петербург - центр'])\n",
    "ax2.grid(True)\n",
    "\n",
    "# график по продолжительности продажи\n",
    "ax3.plot(x6, y6, c='tab:blue', linewidth=3)\n",
    "ax3.plot(x7, y7, c='tab:red', alpha=.7)\n",
    "ax3.set_title('от продолжительности продажи', fontsize=15)\n",
    "ax3.set_xlabel('Продолжительность продажи, дней', fontsize=10, color='tab:blue')\n",
    "ax3.set_ylabel('Цена, млн руб', fontsize=10, color='tab:blue')\n",
    "ax3.legend(['Весь Санкт-Петербург', 'Санкт-Петербург - центр'])\n",
    "ax3.grid(True)\n",
    "\n",
    "fig.suptitle('Зависимость цены', fontsize=20)\n",
    "plt.show()"
   ]
  },
  {
   "cell_type": "markdown",
   "metadata": {},
   "source": [
    "Теперь рассмотрим как различается в центре и в области зависимость цены от временных факторов.\n",
    "\n",
    "По дню недели — суббота так же оказалась самым дешёвым днём, как и во всей области, однако в части самого дорогого дня тут совершенно другая ситуация — лидером на этот раз оказалось воскресенье. При этом цены в центре (естественно) значительно выше, сильно выпадает только суббота. А вот Санкт-Петербург в целом слегка отличился и от центра и от всей области: тут самые дешёвые объявления появляются во вторник, а самые дорогие в четверг.\n",
    "\n",
    "По году — тут сюрпризов не оказалось. Просто дороже. И просто сильнее упало в 2015. Видна попытка слегка вырасти в 2017, однако затем последовало падение в 2018.\n",
    "\n",
    "По месяцу — тут тоже слегка другие тенденции, лидер по цене всё так же июль, а вот аутсайдер не октябрь, а июнь. Кроме того, график выглядит более симметрично, заметны только два больших пика в июне-июле, в остальное время изменения более плавные. Город в целом повторяет областную картину с пиками июль-октябрь.\n",
    "\n",
    "По продолжительности продажи — тут центр оказался интереснее. Получается, что те значения из общего графика, которые скорее росли в цене, относились в большей части к предложениям из центра. Кроме того, большая часть максимальных значений опять же относится к центру. Тут город в целом тоже скорее повторяет тенденции области."
   ]
  },
  {
   "cell_type": "markdown",
   "metadata": {},
   "source": [
    "## Общий вывод"
   ]
  },
  {
   "cell_type": "markdown",
   "metadata": {},
   "source": [
    "### Результаты исследования"
   ]
  },
  {
   "cell_type": "markdown",
   "metadata": {},
   "source": [
    "В этом исследовании нас интересовали ответы на следующие вопросы:\n",
    "\n",
    "- Сколько обычно занимает продажа. Когда можно считать, что продажи прошли очень быстро, а когда необычно долго?\n",
    "- Зависит ли цена от квадратного метра, числа комнат, этажа (первого или последнего), удалённости от центра, от даты размещения: дня недели, месяца и года?\n",
    "- Какие особенности по площади, цене, числу комнат, высоте потолков присущи сегменту квартир в центре?\n",
    "- Как отличается сегмент квартир в центре города от всей совокупности квартир?"
   ]
  },
  {
   "cell_type": "markdown",
   "metadata": {},
   "source": [
    "**Общие результаты**\n",
    "\n",
    "Большая часть вышеуказанных параметров влияет на ценообразование. Самыми влиятельными можно назвать расположение и площадь. Остальные параметры тоже влияют на цену, но не так очевидно.\n",
    "\n",
    "Кроме того, можно отметить, что продажи квартир имеют сезонные тенденции, а если брать промежуток в несколько лет, то цены на рынке заметно снизились.\n",
    "\n",
    "Центр оказался уникальным сегментом со своими собственными характеристиками ценообразования. Даже разница между центром и городом более явная, чем между городом и областью, хотя и она, очевидно присутствует.\n",
    "\n",
    "Основываясь на результатах исследования, можно сказать, что для центра скорее характерны дорогие и просторные квартиры с высокими потолками, а для области в целом ситуация другая — тут доминируют дешёвые небольшие квартиры с низкими потолками, присутствуют и одноэтажные дома.\n",
    "\n",
    "Кроме того, результаты этого исследования целесообразно учесть при построении автоматизированной системы для отслеживания аномалий.\n",
    "\n",
    "**Рекомендации**\n",
    "\n",
    "С точки зрения предотвращения абъюза бесплатных объявлений желательно разработать систему проверки дублирующихся объявлений. Желательно использовать целочисленные характеристики, которые придают объекту недвижимости уникальность и при этом являются стабильными и важными, чтобы владелец не мог вольно менять эти значения. К примеру, в рамках этогого исследования использовались такие параметры как количество балконов, расстояние до центра города, этаж и населённый пункт. Однако, при разработке системы можно учесть и использование других значений, в том числе дробных, таких как: площадь, цена за квадратный метр, геолокация, высота потолка. Но при условии того, что будет заложена некая вариативность, иначе владелец может просто незначительно изменить дробные характеристики получив уникальность без особых усилий.\n",
    "\n",
    "Так же желательно проверить систему, которая автоматически выставляет характеристики квартирам, например расстояние до парков, водоёмов и аэропортов. Очень много значений пропущено, возможна ошибка при расчетах, или при выгрузке данных.\n",
    "\n",
    "Характеристика отвечающая за то, является ли продаваемая недвижимость апартаментами также нуждается в настройке. Этот параметр имеет наибольшее количество пропущенных значений. Возможно это связано с тем, что он необязательный, и мало кто им пользуется. Однако этот параметр по определению является важным с точки зрения ценообразования, и даёт достаточно много информации при том, что самостоятельно не вытекает из других параметров, и восстановить его по ним практически невозможно.\n",
    "\n",
    "Так же, для отсеивания неадекватных объявлений необходимо установить ограничения для полей ввода при помощи правил проверки. С учетом результатов исследования, целесообразным является ограничение минимальных значений для полей цены, общей площади, количества комнат и высоты потолков. Установление максимальных значений также возможно, но должно учитывать возможности уникальных предложений недвижимости."
   ]
  }
 ],
 "metadata": {
  "ExecuteTimeLog": [
   {
    "duration": 586,
    "start_time": "2022-03-12T07:03:43.385Z"
   },
   {
    "duration": 3,
    "start_time": "2022-03-12T07:08:55.692Z"
   },
   {
    "duration": 56,
    "start_time": "2022-03-12T07:08:58.883Z"
   },
   {
    "duration": 75,
    "start_time": "2022-03-12T07:09:59.092Z"
   },
   {
    "duration": 2,
    "start_time": "2022-03-12T07:10:03.093Z"
   },
   {
    "duration": 76,
    "start_time": "2022-03-12T07:10:03.845Z"
   },
   {
    "duration": 83,
    "start_time": "2022-03-12T07:10:18.546Z"
   },
   {
    "duration": 119,
    "start_time": "2022-03-12T07:11:10.426Z"
   },
   {
    "duration": 67,
    "start_time": "2022-03-12T07:11:26.388Z"
   },
   {
    "duration": 59,
    "start_time": "2022-03-12T07:26:54.531Z"
   },
   {
    "duration": 23,
    "start_time": "2022-03-12T08:42:06.377Z"
   },
   {
    "duration": 2,
    "start_time": "2022-03-12T08:45:33.132Z"
   },
   {
    "duration": 4,
    "start_time": "2022-03-12T08:46:07.019Z"
   },
   {
    "duration": 4,
    "start_time": "2022-03-12T08:46:43.754Z"
   },
   {
    "duration": 7,
    "start_time": "2022-03-12T08:47:52.074Z"
   },
   {
    "duration": 12,
    "start_time": "2022-03-12T08:48:59.740Z"
   },
   {
    "duration": 7,
    "start_time": "2022-03-12T08:51:06.012Z"
   },
   {
    "duration": 9,
    "start_time": "2022-03-12T08:52:18.363Z"
   },
   {
    "duration": 4,
    "start_time": "2022-03-12T08:52:32.117Z"
   },
   {
    "duration": 339,
    "start_time": "2022-03-12T08:52:57.047Z"
   },
   {
    "duration": 66,
    "start_time": "2022-03-12T08:53:09.354Z"
   },
   {
    "duration": 76,
    "start_time": "2022-03-12T08:53:10.167Z"
   },
   {
    "duration": 59,
    "start_time": "2022-03-12T08:53:10.442Z"
   },
   {
    "duration": 21,
    "start_time": "2022-03-12T08:53:10.778Z"
   },
   {
    "duration": 4,
    "start_time": "2022-03-12T08:53:11.482Z"
   },
   {
    "duration": 4,
    "start_time": "2022-03-12T08:53:11.732Z"
   },
   {
    "duration": 12,
    "start_time": "2022-03-12T08:53:12.097Z"
   },
   {
    "duration": 9,
    "start_time": "2022-03-12T08:53:12.371Z"
   },
   {
    "duration": 6,
    "start_time": "2022-03-12T08:53:12.891Z"
   },
   {
    "duration": 9,
    "start_time": "2022-03-12T08:53:13.299Z"
   },
   {
    "duration": 4,
    "start_time": "2022-03-12T08:53:13.441Z"
   },
   {
    "duration": 334,
    "start_time": "2022-03-12T08:53:13.715Z"
   },
   {
    "duration": 443,
    "start_time": "2022-03-12T08:54:26.186Z"
   },
   {
    "duration": 3,
    "start_time": "2022-03-12T08:54:35.797Z"
   },
   {
    "duration": 78,
    "start_time": "2022-03-12T08:54:37.489Z"
   },
   {
    "duration": 64,
    "start_time": "2022-03-12T08:54:37.753Z"
   },
   {
    "duration": 22,
    "start_time": "2022-03-12T08:54:37.963Z"
   },
   {
    "duration": 4,
    "start_time": "2022-03-12T08:54:38.697Z"
   },
   {
    "duration": 4,
    "start_time": "2022-03-12T08:54:38.960Z"
   },
   {
    "duration": 9,
    "start_time": "2022-03-12T08:54:40.483Z"
   },
   {
    "duration": 9,
    "start_time": "2022-03-12T08:54:40.802Z"
   },
   {
    "duration": 8,
    "start_time": "2022-03-12T08:54:41.652Z"
   },
   {
    "duration": 10,
    "start_time": "2022-03-12T08:54:42.392Z"
   },
   {
    "duration": 4,
    "start_time": "2022-03-12T08:54:42.594Z"
   },
   {
    "duration": 357,
    "start_time": "2022-03-12T08:54:43.794Z"
   },
   {
    "duration": 9,
    "start_time": "2022-03-12T08:55:10.132Z"
   },
   {
    "duration": 5,
    "start_time": "2022-03-12T08:55:51.422Z"
   },
   {
    "duration": 56,
    "start_time": "2022-03-12T08:56:43.423Z"
   },
   {
    "duration": 980,
    "start_time": "2022-03-12T08:56:59.880Z"
   },
   {
    "duration": 6,
    "start_time": "2022-03-12T08:57:19.986Z"
   },
   {
    "duration": 18,
    "start_time": "2022-03-12T09:03:27.993Z"
   },
   {
    "duration": 15,
    "start_time": "2022-03-12T09:03:39.900Z"
   },
   {
    "duration": 2,
    "start_time": "2022-03-12T09:03:54.325Z"
   },
   {
    "duration": 2,
    "start_time": "2022-03-12T09:03:54.467Z"
   },
   {
    "duration": 69,
    "start_time": "2022-03-12T09:03:54.733Z"
   },
   {
    "duration": 62,
    "start_time": "2022-03-12T09:03:54.986Z"
   },
   {
    "duration": 23,
    "start_time": "2022-03-12T09:03:55.204Z"
   },
   {
    "duration": 4,
    "start_time": "2022-03-12T09:03:55.915Z"
   },
   {
    "duration": 4,
    "start_time": "2022-03-12T09:03:56.167Z"
   },
   {
    "duration": 9,
    "start_time": "2022-03-12T09:03:56.563Z"
   },
   {
    "duration": 9,
    "start_time": "2022-03-12T09:03:56.803Z"
   },
   {
    "duration": 5,
    "start_time": "2022-03-12T09:03:57.323Z"
   },
   {
    "duration": 10,
    "start_time": "2022-03-12T09:03:57.723Z"
   },
   {
    "duration": 5,
    "start_time": "2022-03-12T09:03:57.851Z"
   },
   {
    "duration": 559,
    "start_time": "2022-03-12T09:03:58.124Z"
   },
   {
    "duration": 11,
    "start_time": "2022-03-12T09:03:58.735Z"
   },
   {
    "duration": 6,
    "start_time": "2022-03-12T09:03:59.213Z"
   },
   {
    "duration": 97,
    "start_time": "2022-03-12T09:04:00.456Z"
   },
   {
    "duration": 1374,
    "start_time": "2022-03-12T09:04:00.990Z"
   },
   {
    "duration": 7,
    "start_time": "2022-03-12T09:04:02.366Z"
   },
   {
    "duration": 18,
    "start_time": "2022-03-12T09:04:07.837Z"
   },
   {
    "duration": 15,
    "start_time": "2022-03-12T09:05:56.377Z"
   },
   {
    "duration": 319,
    "start_time": "2022-03-12T09:06:17.622Z"
   },
   {
    "duration": 3,
    "start_time": "2022-03-12T09:06:36.190Z"
   },
   {
    "duration": 3,
    "start_time": "2022-03-12T09:06:36.364Z"
   },
   {
    "duration": 82,
    "start_time": "2022-03-12T09:06:36.628Z"
   },
   {
    "duration": 59,
    "start_time": "2022-03-12T09:06:36.832Z"
   },
   {
    "duration": 22,
    "start_time": "2022-03-12T09:06:37.070Z"
   },
   {
    "duration": 4,
    "start_time": "2022-03-12T09:06:37.756Z"
   },
   {
    "duration": 5,
    "start_time": "2022-03-12T09:06:38.005Z"
   },
   {
    "duration": 9,
    "start_time": "2022-03-12T09:06:38.390Z"
   },
   {
    "duration": 10,
    "start_time": "2022-03-12T09:06:38.613Z"
   },
   {
    "duration": 6,
    "start_time": "2022-03-12T09:06:39.146Z"
   },
   {
    "duration": 10,
    "start_time": "2022-03-12T09:06:39.643Z"
   },
   {
    "duration": 4,
    "start_time": "2022-03-12T09:06:39.803Z"
   },
   {
    "duration": 325,
    "start_time": "2022-03-12T09:06:40.163Z"
   },
   {
    "duration": 8,
    "start_time": "2022-03-12T09:06:40.695Z"
   },
   {
    "duration": 5,
    "start_time": "2022-03-12T09:06:41.215Z"
   },
   {
    "duration": 55,
    "start_time": "2022-03-12T09:06:41.733Z"
   },
   {
    "duration": 861,
    "start_time": "2022-03-12T09:06:41.893Z"
   },
   {
    "duration": 5,
    "start_time": "2022-03-12T09:06:42.758Z"
   },
   {
    "duration": 152,
    "start_time": "2022-03-12T09:06:43.596Z"
   },
   {
    "duration": 934,
    "start_time": "2022-03-12T09:07:26.378Z"
   },
   {
    "duration": 91,
    "start_time": "2022-03-12T09:07:47.731Z"
   },
   {
    "duration": 94,
    "start_time": "2022-03-12T09:08:26.400Z"
   },
   {
    "duration": 90,
    "start_time": "2022-03-12T09:08:27.333Z"
   },
   {
    "duration": 3,
    "start_time": "2022-03-12T09:09:20.590Z"
   },
   {
    "duration": 3,
    "start_time": "2022-03-12T09:09:26.935Z"
   },
   {
    "duration": 65,
    "start_time": "2022-03-12T09:09:27.822Z"
   },
   {
    "duration": 60,
    "start_time": "2022-03-12T09:09:28.124Z"
   },
   {
    "duration": 22,
    "start_time": "2022-03-12T09:09:28.432Z"
   },
   {
    "duration": 4,
    "start_time": "2022-03-12T09:09:29.363Z"
   },
   {
    "duration": 5,
    "start_time": "2022-03-12T09:09:29.692Z"
   },
   {
    "duration": 8,
    "start_time": "2022-03-12T09:09:30.156Z"
   },
   {
    "duration": 10,
    "start_time": "2022-03-12T09:09:30.460Z"
   },
   {
    "duration": 6,
    "start_time": "2022-03-12T09:09:31.092Z"
   },
   {
    "duration": 10,
    "start_time": "2022-03-12T09:09:31.612Z"
   },
   {
    "duration": 4,
    "start_time": "2022-03-12T09:09:31.784Z"
   },
   {
    "duration": 334,
    "start_time": "2022-03-12T09:09:32.092Z"
   },
   {
    "duration": 8,
    "start_time": "2022-03-12T09:09:32.464Z"
   },
   {
    "duration": 5,
    "start_time": "2022-03-12T09:09:33.082Z"
   },
   {
    "duration": 54,
    "start_time": "2022-03-12T09:09:34.088Z"
   },
   {
    "duration": 859,
    "start_time": "2022-03-12T09:09:35.597Z"
   },
   {
    "duration": 7,
    "start_time": "2022-03-12T09:09:37.269Z"
   },
   {
    "duration": 872,
    "start_time": "2022-03-12T09:09:38.555Z"
   },
   {
    "duration": 549,
    "start_time": "2022-03-12T09:09:41.046Z"
   },
   {
    "duration": 823,
    "start_time": "2022-03-12T09:10:17.039Z"
   },
   {
    "duration": 10,
    "start_time": "2022-03-12T09:11:26.551Z"
   },
   {
    "duration": 6,
    "start_time": "2022-03-12T09:11:56.413Z"
   },
   {
    "duration": 4,
    "start_time": "2022-03-12T09:12:22.575Z"
   },
   {
    "duration": 102,
    "start_time": "2022-03-12T09:12:41.770Z"
   },
   {
    "duration": 7,
    "start_time": "2022-03-12T09:13:05.325Z"
   },
   {
    "duration": 264,
    "start_time": "2022-03-12T09:13:25.494Z"
   },
   {
    "duration": 5,
    "start_time": "2022-03-12T09:13:46.767Z"
   },
   {
    "duration": 623,
    "start_time": "2022-03-12T09:13:52.830Z"
   },
   {
    "duration": 7,
    "start_time": "2022-03-12T09:14:15.286Z"
   },
   {
    "duration": 6709,
    "start_time": "2022-03-12T09:14:42.227Z"
   },
   {
    "duration": 7,
    "start_time": "2022-03-12T09:14:58.302Z"
   },
   {
    "duration": 9,
    "start_time": "2022-03-12T09:15:13.038Z"
   },
   {
    "duration": 17,
    "start_time": "2022-03-12T09:15:28.966Z"
   },
   {
    "duration": 10,
    "start_time": "2022-03-12T09:15:43.054Z"
   },
   {
    "duration": 7,
    "start_time": "2022-03-12T09:16:15.719Z"
   },
   {
    "duration": 6,
    "start_time": "2022-03-12T09:16:34.590Z"
   },
   {
    "duration": 6,
    "start_time": "2022-03-12T09:16:59.747Z"
   },
   {
    "duration": 39,
    "start_time": "2022-03-12T09:17:17.222Z"
   },
   {
    "duration": 447,
    "start_time": "2022-03-12T09:17:34.974Z"
   },
   {
    "duration": 354,
    "start_time": "2022-03-12T09:17:50.249Z"
   },
   {
    "duration": 5,
    "start_time": "2022-03-12T09:18:03.927Z"
   },
   {
    "duration": 481,
    "start_time": "2022-03-12T09:18:29.081Z"
   },
   {
    "duration": 3,
    "start_time": "2022-03-12T09:18:31.121Z"
   },
   {
    "duration": 70,
    "start_time": "2022-03-12T09:18:31.423Z"
   },
   {
    "duration": 60,
    "start_time": "2022-03-12T09:18:31.743Z"
   },
   {
    "duration": 22,
    "start_time": "2022-03-12T09:18:31.959Z"
   },
   {
    "duration": 4,
    "start_time": "2022-03-12T09:18:32.673Z"
   },
   {
    "duration": 4,
    "start_time": "2022-03-12T09:18:32.920Z"
   },
   {
    "duration": 9,
    "start_time": "2022-03-12T09:18:33.279Z"
   },
   {
    "duration": 11,
    "start_time": "2022-03-12T09:18:33.519Z"
   },
   {
    "duration": 6,
    "start_time": "2022-03-12T09:18:34.048Z"
   },
   {
    "duration": 10,
    "start_time": "2022-03-12T09:18:34.431Z"
   },
   {
    "duration": 4,
    "start_time": "2022-03-12T09:18:34.568Z"
   },
   {
    "duration": 329,
    "start_time": "2022-03-12T09:18:34.824Z"
   },
   {
    "duration": 8,
    "start_time": "2022-03-12T09:18:35.154Z"
   },
   {
    "duration": 5,
    "start_time": "2022-03-12T09:18:35.496Z"
   },
   {
    "duration": 65,
    "start_time": "2022-03-12T09:18:35.895Z"
   },
   {
    "duration": 915,
    "start_time": "2022-03-12T09:18:36.032Z"
   },
   {
    "duration": 6,
    "start_time": "2022-03-12T09:18:36.948Z"
   },
   {
    "duration": 881,
    "start_time": "2022-03-12T09:18:36.956Z"
   },
   {
    "duration": 621,
    "start_time": "2022-03-12T09:18:37.839Z"
   },
   {
    "duration": 888,
    "start_time": "2022-03-12T09:18:38.461Z"
   },
   {
    "duration": 6,
    "start_time": "2022-03-12T09:18:39.351Z"
   },
   {
    "duration": 5,
    "start_time": "2022-03-12T09:18:39.359Z"
   },
   {
    "duration": 9,
    "start_time": "2022-03-12T09:18:39.365Z"
   },
   {
    "duration": 113,
    "start_time": "2022-03-12T09:18:39.375Z"
   },
   {
    "duration": 4,
    "start_time": "2022-03-12T09:18:39.490Z"
   },
   {
    "duration": 134,
    "start_time": "2022-03-12T09:18:39.505Z"
   },
   {
    "duration": 4,
    "start_time": "2022-03-12T09:18:39.641Z"
   },
   {
    "duration": 656,
    "start_time": "2022-03-12T09:18:39.646Z"
   },
   {
    "duration": 7,
    "start_time": "2022-03-12T09:18:40.306Z"
   },
   {
    "duration": 7361,
    "start_time": "2022-03-12T09:18:40.314Z"
   },
   {
    "duration": 7,
    "start_time": "2022-03-12T09:18:47.676Z"
   },
   {
    "duration": 22,
    "start_time": "2022-03-12T09:18:47.685Z"
   },
   {
    "duration": 36,
    "start_time": "2022-03-12T09:18:47.708Z"
   },
   {
    "duration": 10,
    "start_time": "2022-03-12T09:18:47.745Z"
   },
   {
    "duration": 11,
    "start_time": "2022-03-12T09:18:47.757Z"
   },
   {
    "duration": 31,
    "start_time": "2022-03-12T09:18:47.769Z"
   },
   {
    "duration": 15,
    "start_time": "2022-03-12T09:18:47.802Z"
   },
   {
    "duration": 62,
    "start_time": "2022-03-12T09:18:47.818Z"
   },
   {
    "duration": 421,
    "start_time": "2022-03-12T09:18:47.881Z"
   },
   {
    "duration": 4,
    "start_time": "2022-03-12T09:18:48.303Z"
   },
   {
    "duration": 226,
    "start_time": "2022-03-12T09:19:16.708Z"
   },
   {
    "duration": 8,
    "start_time": "2022-03-12T09:19:23.592Z"
   },
   {
    "duration": 450,
    "start_time": "2022-03-12T09:19:36.077Z"
   },
   {
    "duration": 447,
    "start_time": "2022-03-12T09:19:57.684Z"
   },
   {
    "duration": 594,
    "start_time": "2022-03-12T09:20:10.644Z"
   },
   {
    "duration": 440,
    "start_time": "2022-03-12T09:20:30.521Z"
   },
   {
    "duration": 9,
    "start_time": "2022-03-12T09:21:03.029Z"
   },
   {
    "duration": 12,
    "start_time": "2022-03-12T09:21:35.147Z"
   },
   {
    "duration": 11,
    "start_time": "2022-03-12T09:21:50.720Z"
   },
   {
    "duration": 9,
    "start_time": "2022-03-12T09:22:06.008Z"
   },
   {
    "duration": 15,
    "start_time": "2022-03-12T09:22:14.041Z"
   },
   {
    "duration": 8,
    "start_time": "2022-03-12T09:23:42.235Z"
   },
   {
    "duration": 20,
    "start_time": "2022-03-12T09:24:04.178Z"
   },
   {
    "duration": 533,
    "start_time": "2022-03-12T09:24:38.123Z"
   },
   {
    "duration": 11,
    "start_time": "2022-03-12T09:25:00.738Z"
   },
   {
    "duration": 107,
    "start_time": "2022-03-12T09:25:21.755Z"
   },
   {
    "duration": 6,
    "start_time": "2022-03-12T09:25:28.993Z"
   },
   {
    "duration": 4,
    "start_time": "2022-03-12T09:27:45.560Z"
   },
   {
    "duration": 14,
    "start_time": "2022-03-12T09:28:05.645Z"
   },
   {
    "duration": 69,
    "start_time": "2022-03-12T09:29:02.894Z"
   },
   {
    "duration": 64,
    "start_time": "2022-03-12T09:29:02.965Z"
   },
   {
    "duration": 20,
    "start_time": "2022-03-12T09:29:03.031Z"
   },
   {
    "duration": 3,
    "start_time": "2022-03-12T09:29:03.506Z"
   },
   {
    "duration": 5,
    "start_time": "2022-03-12T09:29:03.745Z"
   },
   {
    "duration": 8,
    "start_time": "2022-03-12T09:29:04.114Z"
   },
   {
    "duration": 9,
    "start_time": "2022-03-12T09:29:04.354Z"
   },
   {
    "duration": 7,
    "start_time": "2022-03-12T09:29:04.866Z"
   },
   {
    "duration": 10,
    "start_time": "2022-03-12T09:29:05.260Z"
   },
   {
    "duration": 4,
    "start_time": "2022-03-12T09:29:05.402Z"
   },
   {
    "duration": 328,
    "start_time": "2022-03-12T09:29:05.642Z"
   },
   {
    "duration": 9,
    "start_time": "2022-03-12T09:29:06.058Z"
   },
   {
    "duration": 5,
    "start_time": "2022-03-12T09:29:06.452Z"
   },
   {
    "duration": 51,
    "start_time": "2022-03-12T09:29:06.850Z"
   },
   {
    "duration": 861,
    "start_time": "2022-03-12T09:29:06.968Z"
   },
   {
    "duration": 6,
    "start_time": "2022-03-12T09:29:07.830Z"
   },
   {
    "duration": 910,
    "start_time": "2022-03-12T09:29:07.837Z"
   },
   {
    "duration": 628,
    "start_time": "2022-03-12T09:29:08.749Z"
   },
   {
    "duration": 868,
    "start_time": "2022-03-12T09:29:09.379Z"
   },
   {
    "duration": 7,
    "start_time": "2022-03-12T09:29:10.249Z"
   },
   {
    "duration": 5,
    "start_time": "2022-03-12T09:29:10.257Z"
   },
   {
    "duration": 4,
    "start_time": "2022-03-12T09:29:10.263Z"
   },
   {
    "duration": 124,
    "start_time": "2022-03-12T09:29:10.269Z"
   },
   {
    "duration": 11,
    "start_time": "2022-03-12T09:29:10.395Z"
   },
   {
    "duration": 134,
    "start_time": "2022-03-12T09:29:10.407Z"
   },
   {
    "duration": 4,
    "start_time": "2022-03-12T09:29:10.595Z"
   },
   {
    "duration": 623,
    "start_time": "2022-03-12T09:29:10.601Z"
   },
   {
    "duration": 7,
    "start_time": "2022-03-12T09:29:11.225Z"
   },
   {
    "duration": 7589,
    "start_time": "2022-03-12T09:29:11.234Z"
   },
   {
    "duration": 7,
    "start_time": "2022-03-12T09:29:18.825Z"
   },
   {
    "duration": 9,
    "start_time": "2022-03-12T09:29:18.833Z"
   },
   {
    "duration": 15,
    "start_time": "2022-03-12T09:29:18.843Z"
   },
   {
    "duration": 8,
    "start_time": "2022-03-12T09:29:18.860Z"
   },
   {
    "duration": 5,
    "start_time": "2022-03-12T09:29:18.870Z"
   },
   {
    "duration": 6,
    "start_time": "2022-03-12T09:29:18.906Z"
   },
   {
    "duration": 6,
    "start_time": "2022-03-12T09:29:18.914Z"
   },
   {
    "duration": 38,
    "start_time": "2022-03-12T09:29:18.922Z"
   },
   {
    "duration": 459,
    "start_time": "2022-03-12T09:29:18.962Z"
   },
   {
    "duration": 233,
    "start_time": "2022-03-12T09:29:19.423Z"
   },
   {
    "duration": 7,
    "start_time": "2022-03-12T09:29:19.658Z"
   },
   {
    "duration": 483,
    "start_time": "2022-03-12T09:29:19.666Z"
   },
   {
    "duration": 478,
    "start_time": "2022-03-12T09:29:20.151Z"
   },
   {
    "duration": 607,
    "start_time": "2022-03-12T09:29:20.631Z"
   },
   {
    "duration": 458,
    "start_time": "2022-03-12T09:29:21.240Z"
   },
   {
    "duration": 11,
    "start_time": "2022-03-12T09:29:21.700Z"
   },
   {
    "duration": 11,
    "start_time": "2022-03-12T09:29:21.713Z"
   },
   {
    "duration": 9,
    "start_time": "2022-03-12T09:29:21.726Z"
   },
   {
    "duration": 7,
    "start_time": "2022-03-12T09:29:21.736Z"
   },
   {
    "duration": 12,
    "start_time": "2022-03-12T09:29:21.745Z"
   },
   {
    "duration": 5,
    "start_time": "2022-03-12T09:29:21.759Z"
   },
   {
    "duration": 51,
    "start_time": "2022-03-12T09:29:21.765Z"
   },
   {
    "duration": 647,
    "start_time": "2022-03-12T09:29:21.818Z"
   },
   {
    "duration": 11,
    "start_time": "2022-03-12T09:29:22.467Z"
   },
   {
    "duration": 5,
    "start_time": "2022-03-12T09:29:22.480Z"
   },
   {
    "duration": 19,
    "start_time": "2022-03-12T09:29:22.487Z"
   },
   {
    "duration": 13,
    "start_time": "2022-03-12T09:29:22.508Z"
   },
   {
    "duration": 2465,
    "start_time": "2022-03-12T09:43:18.873Z"
   },
   {
    "duration": 25,
    "start_time": "2022-03-12T09:43:40.266Z"
   },
   {
    "duration": 80,
    "start_time": "2022-03-12T09:44:17.324Z"
   },
   {
    "duration": 14,
    "start_time": "2022-03-12T09:44:53.567Z"
   },
   {
    "duration": 3190,
    "start_time": "2022-03-12T09:45:05.307Z"
   },
   {
    "duration": 28,
    "start_time": "2022-03-12T09:45:24.038Z"
   },
   {
    "duration": 7370,
    "start_time": "2022-03-12T09:45:35.349Z"
   },
   {
    "duration": 78,
    "start_time": "2022-03-12T09:46:17.326Z"
   },
   {
    "duration": 2412,
    "start_time": "2022-03-12T09:46:31.594Z"
   },
   {
    "duration": 529,
    "start_time": "2022-03-12T09:52:06.055Z"
   },
   {
    "duration": 27,
    "start_time": "2022-03-12T09:52:26.087Z"
   },
   {
    "duration": 33,
    "start_time": "2022-03-12T09:53:09.019Z"
   },
   {
    "duration": 399,
    "start_time": "2022-03-12T09:53:22.352Z"
   },
   {
    "duration": 1906,
    "start_time": "2022-03-12T09:53:59.859Z"
   },
   {
    "duration": 709,
    "start_time": "2022-03-12T09:54:18.370Z"
   },
   {
    "duration": 1730,
    "start_time": "2022-03-12T09:54:41.500Z"
   },
   {
    "duration": 843,
    "start_time": "2022-03-12T09:55:11.820Z"
   },
   {
    "duration": 26,
    "start_time": "2022-03-12T09:55:28.273Z"
   },
   {
    "duration": 482,
    "start_time": "2022-03-12T09:56:02.989Z"
   },
   {
    "duration": 10,
    "start_time": "2022-03-12T09:56:18.560Z"
   },
   {
    "duration": 1732,
    "start_time": "2022-03-12T09:56:51.012Z"
   },
   {
    "duration": 2280,
    "start_time": "2022-03-12T09:57:10.629Z"
   },
   {
    "duration": 2177,
    "start_time": "2022-03-12T09:57:22.045Z"
   },
   {
    "duration": 2250,
    "start_time": "2022-03-12T09:57:38.311Z"
   },
   {
    "duration": 1001,
    "start_time": "2022-03-12T09:57:47.894Z"
   },
   {
    "duration": 1879,
    "start_time": "2022-03-21T09:42:32.765Z"
   },
   {
    "duration": 3,
    "start_time": "2022-03-21T09:42:34.646Z"
   },
   {
    "duration": 95,
    "start_time": "2022-03-21T09:42:34.650Z"
   },
   {
    "duration": 66,
    "start_time": "2022-03-21T09:42:34.747Z"
   },
   {
    "duration": 41,
    "start_time": "2022-03-21T09:42:34.814Z"
   },
   {
    "duration": 5,
    "start_time": "2022-03-21T09:42:34.856Z"
   },
   {
    "duration": 8,
    "start_time": "2022-03-21T09:42:34.863Z"
   },
   {
    "duration": 10,
    "start_time": "2022-03-21T09:42:34.873Z"
   },
   {
    "duration": 11,
    "start_time": "2022-03-21T09:42:34.884Z"
   },
   {
    "duration": 7,
    "start_time": "2022-03-21T09:42:34.932Z"
   },
   {
    "duration": 13,
    "start_time": "2022-03-21T09:42:34.941Z"
   },
   {
    "duration": 6,
    "start_time": "2022-03-21T09:42:34.956Z"
   },
   {
    "duration": 375,
    "start_time": "2022-03-21T09:42:34.963Z"
   },
   {
    "duration": 9,
    "start_time": "2022-03-21T09:42:35.348Z"
   },
   {
    "duration": 6,
    "start_time": "2022-03-21T09:42:35.359Z"
   },
   {
    "duration": 50,
    "start_time": "2022-03-21T09:42:35.367Z"
   },
   {
    "duration": 481,
    "start_time": "2022-03-21T09:42:35.419Z"
   },
   {
    "duration": 8,
    "start_time": "2022-03-21T09:42:35.902Z"
   },
   {
    "duration": 722,
    "start_time": "2022-03-21T09:42:35.912Z"
   },
   {
    "duration": 343,
    "start_time": "2022-03-21T09:42:36.636Z"
   },
   {
    "duration": 338,
    "start_time": "2022-03-21T09:42:36.981Z"
   },
   {
    "duration": 18,
    "start_time": "2022-03-21T09:42:37.321Z"
   },
   {
    "duration": 6,
    "start_time": "2022-03-21T09:42:37.341Z"
   },
   {
    "duration": 6,
    "start_time": "2022-03-21T09:42:37.349Z"
   },
   {
    "duration": 304,
    "start_time": "2022-03-21T09:42:37.357Z"
   },
   {
    "duration": 6,
    "start_time": "2022-03-21T09:42:37.662Z"
   },
   {
    "duration": 181,
    "start_time": "2022-03-21T09:42:37.670Z"
   },
   {
    "duration": 5,
    "start_time": "2022-03-21T09:42:37.855Z"
   },
   {
    "duration": 294,
    "start_time": "2022-03-21T09:42:37.861Z"
   },
   {
    "duration": 8,
    "start_time": "2022-03-21T09:42:38.156Z"
   },
   {
    "duration": 6126,
    "start_time": "2022-03-21T09:42:38.166Z"
   },
   {
    "duration": 8,
    "start_time": "2022-03-21T09:42:44.294Z"
   },
   {
    "duration": 10,
    "start_time": "2022-03-21T09:42:44.303Z"
   },
   {
    "duration": 31,
    "start_time": "2022-03-21T09:42:44.315Z"
   },
   {
    "duration": 10,
    "start_time": "2022-03-21T09:42:44.348Z"
   },
   {
    "duration": 6,
    "start_time": "2022-03-21T09:42:44.360Z"
   },
   {
    "duration": 9,
    "start_time": "2022-03-21T09:42:44.368Z"
   },
   {
    "duration": 5,
    "start_time": "2022-03-21T09:42:44.378Z"
   },
   {
    "duration": 65,
    "start_time": "2022-03-21T09:42:44.385Z"
   },
   {
    "duration": 150,
    "start_time": "2022-03-21T09:42:44.452Z"
   },
   {
    "duration": 81,
    "start_time": "2022-03-21T09:42:44.604Z"
   },
   {
    "duration": 7,
    "start_time": "2022-03-21T09:42:44.687Z"
   },
   {
    "duration": 254,
    "start_time": "2022-03-21T09:42:44.695Z"
   },
   {
    "duration": 193,
    "start_time": "2022-03-21T09:42:44.951Z"
   },
   {
    "duration": 323,
    "start_time": "2022-03-21T09:42:45.145Z"
   },
   {
    "duration": 176,
    "start_time": "2022-03-21T09:42:45.469Z"
   },
   {
    "duration": 13,
    "start_time": "2022-03-21T09:42:45.647Z"
   },
   {
    "duration": 13,
    "start_time": "2022-03-21T09:42:45.661Z"
   },
   {
    "duration": 11,
    "start_time": "2022-03-21T09:42:45.676Z"
   },
   {
    "duration": 12,
    "start_time": "2022-03-21T09:42:45.688Z"
   },
   {
    "duration": 15,
    "start_time": "2022-03-21T09:42:45.733Z"
   },
   {
    "duration": 10,
    "start_time": "2022-03-21T09:42:45.750Z"
   },
   {
    "duration": 26,
    "start_time": "2022-03-21T09:42:45.761Z"
   },
   {
    "duration": 333,
    "start_time": "2022-03-21T09:42:45.788Z"
   },
   {
    "duration": 24,
    "start_time": "2022-03-21T09:42:46.122Z"
   },
   {
    "duration": 6,
    "start_time": "2022-03-21T09:42:46.148Z"
   },
   {
    "duration": 6,
    "start_time": "2022-03-21T09:42:46.155Z"
   },
   {
    "duration": 18,
    "start_time": "2022-03-21T09:42:46.162Z"
   },
   {
    "duration": 1901,
    "start_time": "2022-03-21T09:42:46.182Z"
   },
   {
    "duration": 28,
    "start_time": "2022-03-21T09:42:48.084Z"
   },
   {
    "duration": 85,
    "start_time": "2022-03-21T09:42:48.114Z"
   },
   {
    "duration": 14,
    "start_time": "2022-03-21T09:42:48.200Z"
   },
   {
    "duration": 2424,
    "start_time": "2022-03-21T09:42:48.215Z"
   },
   {
    "duration": 98,
    "start_time": "2022-03-21T09:42:50.641Z"
   },
   {
    "duration": 4329,
    "start_time": "2022-03-21T09:42:50.741Z"
   },
   {
    "duration": 64,
    "start_time": "2022-03-21T09:42:55.072Z"
   },
   {
    "duration": 1844,
    "start_time": "2022-03-21T09:42:55.138Z"
   },
   {
    "duration": 297,
    "start_time": "2022-03-21T09:42:56.984Z"
   },
   {
    "duration": 27,
    "start_time": "2022-03-21T09:42:57.282Z"
   },
   {
    "duration": 45,
    "start_time": "2022-03-21T09:42:57.310Z"
   },
   {
    "duration": 286,
    "start_time": "2022-03-21T09:42:57.357Z"
   },
   {
    "duration": 614,
    "start_time": "2022-03-21T09:42:57.645Z"
   },
   {
    "duration": 604,
    "start_time": "2022-03-21T09:42:58.260Z"
   },
   {
    "duration": 829,
    "start_time": "2022-03-21T09:42:58.866Z"
   },
   {
    "duration": 680,
    "start_time": "2022-03-21T09:42:59.697Z"
   },
   {
    "duration": 26,
    "start_time": "2022-03-21T09:43:00.378Z"
   },
   {
    "duration": 375,
    "start_time": "2022-03-21T09:43:00.405Z"
   },
   {
    "duration": 10,
    "start_time": "2022-03-21T09:43:00.782Z"
   },
   {
    "duration": 1445,
    "start_time": "2022-03-21T09:43:00.794Z"
   },
   {
    "duration": 1123,
    "start_time": "2022-03-21T09:43:02.241Z"
   },
   {
    "duration": 1138,
    "start_time": "2022-03-21T09:43:03.366Z"
   },
   {
    "duration": 1426,
    "start_time": "2022-03-21T09:43:04.512Z"
   },
   {
    "duration": 823,
    "start_time": "2022-03-21T09:43:05.941Z"
   },
   {
    "duration": 1887,
    "start_time": "2022-03-21T10:38:57.739Z"
   },
   {
    "duration": 2,
    "start_time": "2022-03-21T10:38:59.628Z"
   },
   {
    "duration": 98,
    "start_time": "2022-03-21T10:38:59.631Z"
   },
   {
    "duration": 64,
    "start_time": "2022-03-21T10:38:59.731Z"
   },
   {
    "duration": 40,
    "start_time": "2022-03-21T10:38:59.796Z"
   },
   {
    "duration": 5,
    "start_time": "2022-03-21T10:38:59.837Z"
   },
   {
    "duration": 6,
    "start_time": "2022-03-21T10:38:59.844Z"
   },
   {
    "duration": 5,
    "start_time": "2022-03-21T10:38:59.852Z"
   },
   {
    "duration": 11,
    "start_time": "2022-03-21T10:38:59.859Z"
   },
   {
    "duration": 10,
    "start_time": "2022-03-21T10:38:59.872Z"
   },
   {
    "duration": 6,
    "start_time": "2022-03-21T10:38:59.883Z"
   },
   {
    "duration": 43,
    "start_time": "2022-03-21T10:38:59.890Z"
   },
   {
    "duration": 4,
    "start_time": "2022-03-21T10:38:59.935Z"
   },
   {
    "duration": 369,
    "start_time": "2022-03-21T10:38:59.940Z"
   },
   {
    "duration": 22,
    "start_time": "2022-03-21T10:39:00.311Z"
   },
   {
    "duration": 5,
    "start_time": "2022-03-21T10:39:00.335Z"
   },
   {
    "duration": 46,
    "start_time": "2022-03-21T10:39:00.342Z"
   },
   {
    "duration": 333,
    "start_time": "2022-03-21T10:39:00.390Z"
   },
   {
    "duration": 7,
    "start_time": "2022-03-21T10:39:00.732Z"
   },
   {
    "duration": 735,
    "start_time": "2022-03-21T10:39:00.740Z"
   },
   {
    "duration": 343,
    "start_time": "2022-03-21T10:39:01.477Z"
   },
   {
    "duration": 331,
    "start_time": "2022-03-21T10:39:01.821Z"
   },
   {
    "duration": 8,
    "start_time": "2022-03-21T10:39:02.154Z"
   },
   {
    "duration": 7,
    "start_time": "2022-03-21T10:39:02.164Z"
   },
   {
    "duration": 6,
    "start_time": "2022-03-21T10:39:02.172Z"
   },
   {
    "duration": 312,
    "start_time": "2022-03-21T10:39:02.179Z"
   },
   {
    "duration": 6,
    "start_time": "2022-03-21T10:39:02.492Z"
   },
   {
    "duration": 179,
    "start_time": "2022-03-21T10:39:02.502Z"
   },
   {
    "duration": 5,
    "start_time": "2022-03-21T10:39:02.683Z"
   },
   {
    "duration": 291,
    "start_time": "2022-03-21T10:39:02.689Z"
   },
   {
    "duration": 8,
    "start_time": "2022-03-21T10:39:02.981Z"
   },
   {
    "duration": 6236,
    "start_time": "2022-03-21T10:39:02.990Z"
   },
   {
    "duration": 12,
    "start_time": "2022-03-21T10:39:09.227Z"
   },
   {
    "duration": 11,
    "start_time": "2022-03-21T10:39:09.240Z"
   },
   {
    "duration": 15,
    "start_time": "2022-03-21T10:39:09.253Z"
   },
   {
    "duration": 8,
    "start_time": "2022-03-21T10:39:09.269Z"
   },
   {
    "duration": 6,
    "start_time": "2022-03-21T10:39:09.279Z"
   },
   {
    "duration": 9,
    "start_time": "2022-03-21T10:39:09.287Z"
   },
   {
    "duration": 5,
    "start_time": "2022-03-21T10:39:09.334Z"
   },
   {
    "duration": 33,
    "start_time": "2022-03-21T10:39:09.340Z"
   },
   {
    "duration": 161,
    "start_time": "2022-03-21T10:39:09.374Z"
   },
   {
    "duration": 69,
    "start_time": "2022-03-21T10:39:09.537Z"
   },
   {
    "duration": 26,
    "start_time": "2022-03-21T10:39:09.607Z"
   },
   {
    "duration": 244,
    "start_time": "2022-03-21T10:39:09.634Z"
   },
   {
    "duration": 179,
    "start_time": "2022-03-21T10:39:09.879Z"
   },
   {
    "duration": 319,
    "start_time": "2022-03-21T10:39:10.059Z"
   },
   {
    "duration": 168,
    "start_time": "2022-03-21T10:39:10.380Z"
   },
   {
    "duration": 12,
    "start_time": "2022-03-21T10:39:10.550Z"
   },
   {
    "duration": 12,
    "start_time": "2022-03-21T10:39:10.564Z"
   },
   {
    "duration": 10,
    "start_time": "2022-03-21T10:39:10.578Z"
   },
   {
    "duration": 12,
    "start_time": "2022-03-21T10:39:10.590Z"
   },
   {
    "duration": 16,
    "start_time": "2022-03-21T10:39:10.633Z"
   },
   {
    "duration": 12,
    "start_time": "2022-03-21T10:39:10.651Z"
   },
   {
    "duration": 25,
    "start_time": "2022-03-21T10:39:10.665Z"
   },
   {
    "duration": 326,
    "start_time": "2022-03-21T10:39:10.692Z"
   },
   {
    "duration": 20,
    "start_time": "2022-03-21T10:39:11.019Z"
   },
   {
    "duration": 6,
    "start_time": "2022-03-21T10:39:11.041Z"
   },
   {
    "duration": 8,
    "start_time": "2022-03-21T10:39:11.049Z"
   },
   {
    "duration": 26,
    "start_time": "2022-03-21T10:39:11.059Z"
   },
   {
    "duration": 1758,
    "start_time": "2022-03-21T10:39:11.086Z"
   },
   {
    "duration": 29,
    "start_time": "2022-03-21T10:39:12.845Z"
   },
   {
    "duration": 93,
    "start_time": "2022-03-21T10:39:12.876Z"
   },
   {
    "duration": 14,
    "start_time": "2022-03-21T10:39:12.971Z"
   },
   {
    "duration": 1786,
    "start_time": "2022-03-21T10:39:12.986Z"
   },
   {
    "duration": 30,
    "start_time": "2022-03-21T10:39:14.774Z"
   },
   {
    "duration": 3586,
    "start_time": "2022-03-21T10:39:14.806Z"
   },
   {
    "duration": 65,
    "start_time": "2022-03-21T10:39:18.394Z"
   },
   {
    "duration": 1806,
    "start_time": "2022-03-21T10:39:18.461Z"
   },
   {
    "duration": 283,
    "start_time": "2022-03-21T10:39:20.269Z"
   },
   {
    "duration": 28,
    "start_time": "2022-03-21T10:39:20.553Z"
   },
   {
    "duration": 51,
    "start_time": "2022-03-21T10:39:20.582Z"
   },
   {
    "duration": 273,
    "start_time": "2022-03-21T10:39:20.634Z"
   },
   {
    "duration": 628,
    "start_time": "2022-03-21T10:39:20.908Z"
   },
   {
    "duration": 595,
    "start_time": "2022-03-21T10:39:21.538Z"
   },
   {
    "duration": 839,
    "start_time": "2022-03-21T10:39:22.134Z"
   },
   {
    "duration": 672,
    "start_time": "2022-03-21T10:39:22.974Z"
   },
   {
    "duration": 26,
    "start_time": "2022-03-21T10:39:23.648Z"
   },
   {
    "duration": 400,
    "start_time": "2022-03-21T10:39:23.675Z"
   },
   {
    "duration": 11,
    "start_time": "2022-03-21T10:39:24.077Z"
   },
   {
    "duration": 1453,
    "start_time": "2022-03-21T10:39:24.089Z"
   },
   {
    "duration": 1114,
    "start_time": "2022-03-21T10:39:25.544Z"
   },
   {
    "duration": 1121,
    "start_time": "2022-03-21T10:39:26.664Z"
   },
   {
    "duration": 1397,
    "start_time": "2022-03-21T10:39:27.787Z"
   },
   {
    "duration": 814,
    "start_time": "2022-03-21T10:39:29.186Z"
   },
   {
    "duration": 1676,
    "start_time": "2022-03-21T10:44:28.490Z"
   },
   {
    "duration": 3,
    "start_time": "2022-03-21T10:44:30.168Z"
   },
   {
    "duration": 119,
    "start_time": "2022-03-21T10:44:30.173Z"
   },
   {
    "duration": 78,
    "start_time": "2022-03-21T10:44:30.294Z"
   },
   {
    "duration": 33,
    "start_time": "2022-03-21T10:44:30.373Z"
   },
   {
    "duration": 25,
    "start_time": "2022-03-21T10:44:30.408Z"
   },
   {
    "duration": 19,
    "start_time": "2022-03-21T10:44:30.434Z"
   },
   {
    "duration": 23,
    "start_time": "2022-03-21T10:44:30.455Z"
   },
   {
    "duration": 26,
    "start_time": "2022-03-21T10:44:30.480Z"
   },
   {
    "duration": 30,
    "start_time": "2022-03-21T10:44:30.509Z"
   },
   {
    "duration": 7,
    "start_time": "2022-03-21T10:44:30.541Z"
   },
   {
    "duration": 33,
    "start_time": "2022-03-21T10:44:30.549Z"
   },
   {
    "duration": 19,
    "start_time": "2022-03-21T10:44:30.584Z"
   },
   {
    "duration": 387,
    "start_time": "2022-03-21T10:44:30.605Z"
   },
   {
    "duration": 8,
    "start_time": "2022-03-21T10:44:30.993Z"
   },
   {
    "duration": 7,
    "start_time": "2022-03-21T10:44:31.003Z"
   },
   {
    "duration": 55,
    "start_time": "2022-03-21T10:44:31.011Z"
   },
   {
    "duration": 326,
    "start_time": "2022-03-21T10:44:31.068Z"
   },
   {
    "duration": 6,
    "start_time": "2022-03-21T10:44:31.396Z"
   },
   {
    "duration": 674,
    "start_time": "2022-03-21T10:44:31.403Z"
   },
   {
    "duration": 347,
    "start_time": "2022-03-21T10:44:32.079Z"
   },
   {
    "duration": 324,
    "start_time": "2022-03-21T10:44:32.427Z"
   },
   {
    "duration": 8,
    "start_time": "2022-03-21T10:44:32.753Z"
   },
   {
    "duration": 6,
    "start_time": "2022-03-21T10:44:32.763Z"
   },
   {
    "duration": 10,
    "start_time": "2022-03-21T10:44:32.770Z"
   },
   {
    "duration": 306,
    "start_time": "2022-03-21T10:44:32.781Z"
   },
   {
    "duration": 5,
    "start_time": "2022-03-21T10:44:33.089Z"
   },
   {
    "duration": 179,
    "start_time": "2022-03-21T10:44:33.099Z"
   },
   {
    "duration": 5,
    "start_time": "2022-03-21T10:44:33.280Z"
   },
   {
    "duration": 291,
    "start_time": "2022-03-21T10:44:33.286Z"
   },
   {
    "duration": 9,
    "start_time": "2022-03-21T10:44:33.579Z"
   },
   {
    "duration": 7132,
    "start_time": "2022-03-21T10:44:33.590Z"
   },
   {
    "duration": 14,
    "start_time": "2022-03-21T10:44:40.724Z"
   },
   {
    "duration": 12,
    "start_time": "2022-03-21T10:44:40.740Z"
   },
   {
    "duration": 15,
    "start_time": "2022-03-21T10:44:40.754Z"
   },
   {
    "duration": 9,
    "start_time": "2022-03-21T10:44:40.770Z"
   },
   {
    "duration": 9,
    "start_time": "2022-03-21T10:44:40.780Z"
   },
   {
    "duration": 13,
    "start_time": "2022-03-21T10:44:40.791Z"
   },
   {
    "duration": 6,
    "start_time": "2022-03-21T10:44:40.832Z"
   },
   {
    "duration": 37,
    "start_time": "2022-03-21T10:44:40.840Z"
   },
   {
    "duration": 236,
    "start_time": "2022-03-21T10:44:40.879Z"
   },
   {
    "duration": 116,
    "start_time": "2022-03-21T10:44:41.117Z"
   },
   {
    "duration": 9,
    "start_time": "2022-03-21T10:44:41.234Z"
   },
   {
    "duration": 259,
    "start_time": "2022-03-21T10:44:41.245Z"
   },
   {
    "duration": 174,
    "start_time": "2022-03-21T10:44:41.506Z"
   },
   {
    "duration": 357,
    "start_time": "2022-03-21T10:44:41.682Z"
   },
   {
    "duration": 184,
    "start_time": "2022-03-21T10:44:42.040Z"
   },
   {
    "duration": 17,
    "start_time": "2022-03-21T10:44:42.232Z"
   },
   {
    "duration": 16,
    "start_time": "2022-03-21T10:44:42.251Z"
   },
   {
    "duration": 14,
    "start_time": "2022-03-21T10:44:42.269Z"
   },
   {
    "duration": 15,
    "start_time": "2022-03-21T10:44:42.285Z"
   },
   {
    "duration": 51,
    "start_time": "2022-03-21T10:44:42.302Z"
   },
   {
    "duration": 9,
    "start_time": "2022-03-21T10:44:42.355Z"
   },
   {
    "duration": 23,
    "start_time": "2022-03-21T10:44:42.366Z"
   },
   {
    "duration": 346,
    "start_time": "2022-03-21T10:44:42.390Z"
   },
   {
    "duration": 15,
    "start_time": "2022-03-21T10:44:42.739Z"
   },
   {
    "duration": 10,
    "start_time": "2022-03-21T10:44:42.756Z"
   },
   {
    "duration": 16,
    "start_time": "2022-03-21T10:44:42.768Z"
   },
   {
    "duration": 23,
    "start_time": "2022-03-21T10:44:42.786Z"
   },
   {
    "duration": 1767,
    "start_time": "2022-03-21T10:44:42.811Z"
   },
   {
    "duration": 29,
    "start_time": "2022-03-21T10:44:44.580Z"
   },
   {
    "duration": 91,
    "start_time": "2022-03-21T10:44:44.611Z"
   },
   {
    "duration": 13,
    "start_time": "2022-03-21T10:44:44.704Z"
   },
   {
    "duration": 1823,
    "start_time": "2022-03-21T10:44:44.733Z"
   },
   {
    "duration": 33,
    "start_time": "2022-03-21T10:44:46.557Z"
   },
   {
    "duration": 3525,
    "start_time": "2022-03-21T10:44:46.592Z"
   },
   {
    "duration": 60,
    "start_time": "2022-03-21T10:44:50.119Z"
   },
   {
    "duration": 1906,
    "start_time": "2022-03-21T10:44:50.181Z"
   },
   {
    "duration": 284,
    "start_time": "2022-03-21T10:44:52.089Z"
   },
   {
    "duration": 26,
    "start_time": "2022-03-21T10:44:52.375Z"
   },
   {
    "duration": 49,
    "start_time": "2022-03-21T10:44:52.403Z"
   },
   {
    "duration": 287,
    "start_time": "2022-03-21T10:44:52.454Z"
   },
   {
    "duration": 621,
    "start_time": "2022-03-21T10:44:52.743Z"
   },
   {
    "duration": 594,
    "start_time": "2022-03-21T10:44:53.367Z"
   },
   {
    "duration": 829,
    "start_time": "2022-03-21T10:44:53.962Z"
   },
   {
    "duration": 679,
    "start_time": "2022-03-21T10:44:54.793Z"
   },
   {
    "duration": 33,
    "start_time": "2022-03-21T10:44:55.474Z"
   },
   {
    "duration": 384,
    "start_time": "2022-03-21T10:44:55.509Z"
   },
   {
    "duration": 10,
    "start_time": "2022-03-21T10:44:55.895Z"
   },
   {
    "duration": 1481,
    "start_time": "2022-03-21T10:44:55.907Z"
   },
   {
    "duration": 1153,
    "start_time": "2022-03-21T10:44:57.390Z"
   },
   {
    "duration": 1163,
    "start_time": "2022-03-21T10:44:58.550Z"
   },
   {
    "duration": 1488,
    "start_time": "2022-03-21T10:44:59.715Z"
   },
   {
    "duration": 839,
    "start_time": "2022-03-21T10:45:01.205Z"
   },
   {
    "duration": 2214,
    "start_time": "2022-03-23T04:30:46.403Z"
   },
   {
    "duration": 5,
    "start_time": "2022-03-23T04:30:48.619Z"
   },
   {
    "duration": 139,
    "start_time": "2022-03-23T04:30:48.626Z"
   },
   {
    "duration": 107,
    "start_time": "2022-03-23T04:30:48.768Z"
   },
   {
    "duration": 49,
    "start_time": "2022-03-23T04:30:48.877Z"
   },
   {
    "duration": 12,
    "start_time": "2022-03-23T04:30:48.928Z"
   },
   {
    "duration": 13,
    "start_time": "2022-03-23T04:30:48.943Z"
   },
   {
    "duration": 26,
    "start_time": "2022-03-23T04:30:48.958Z"
   },
   {
    "duration": 13,
    "start_time": "2022-03-23T04:30:48.986Z"
   },
   {
    "duration": 15,
    "start_time": "2022-03-23T04:30:49.004Z"
   },
   {
    "duration": 8,
    "start_time": "2022-03-23T04:30:49.021Z"
   },
   {
    "duration": 57,
    "start_time": "2022-03-23T04:30:49.031Z"
   },
   {
    "duration": 7,
    "start_time": "2022-03-23T04:30:49.090Z"
   },
   {
    "duration": 642,
    "start_time": "2022-03-23T04:30:49.099Z"
   },
   {
    "duration": 10,
    "start_time": "2022-03-23T04:30:49.743Z"
   },
   {
    "duration": 28,
    "start_time": "2022-03-23T04:30:49.756Z"
   },
   {
    "duration": 70,
    "start_time": "2022-03-23T04:30:49.786Z"
   },
   {
    "duration": 646,
    "start_time": "2022-03-23T04:30:49.858Z"
   },
   {
    "duration": 8,
    "start_time": "2022-03-23T04:30:50.506Z"
   },
   {
    "duration": 1113,
    "start_time": "2022-03-23T04:30:50.516Z"
   },
   {
    "duration": 595,
    "start_time": "2022-03-23T04:30:51.631Z"
   },
   {
    "duration": 655,
    "start_time": "2022-03-23T04:30:52.229Z"
   },
   {
    "duration": 11,
    "start_time": "2022-03-23T04:30:52.886Z"
   },
   {
    "duration": 9,
    "start_time": "2022-03-23T04:30:52.899Z"
   },
   {
    "duration": 8,
    "start_time": "2022-03-23T04:30:52.910Z"
   },
   {
    "duration": 597,
    "start_time": "2022-03-23T04:30:52.920Z"
   },
   {
    "duration": 8,
    "start_time": "2022-03-23T04:30:53.520Z"
   },
   {
    "duration": 260,
    "start_time": "2022-03-23T04:30:53.535Z"
   },
   {
    "duration": 7,
    "start_time": "2022-03-23T04:30:53.798Z"
   },
   {
    "duration": 506,
    "start_time": "2022-03-23T04:30:53.807Z"
   },
   {
    "duration": 11,
    "start_time": "2022-03-23T04:30:54.316Z"
   },
   {
    "duration": 10668,
    "start_time": "2022-03-23T04:30:54.330Z"
   },
   {
    "duration": 10,
    "start_time": "2022-03-23T04:31:05.000Z"
   },
   {
    "duration": 19,
    "start_time": "2022-03-23T04:31:05.012Z"
   },
   {
    "duration": 53,
    "start_time": "2022-03-23T04:31:05.033Z"
   },
   {
    "duration": 13,
    "start_time": "2022-03-23T04:31:05.088Z"
   },
   {
    "duration": 11,
    "start_time": "2022-03-23T04:31:05.103Z"
   },
   {
    "duration": 14,
    "start_time": "2022-03-23T04:31:05.117Z"
   },
   {
    "duration": 7,
    "start_time": "2022-03-23T04:31:05.133Z"
   },
   {
    "duration": 72,
    "start_time": "2022-03-23T04:31:05.143Z"
   },
   {
    "duration": 269,
    "start_time": "2022-03-23T04:31:05.217Z"
   },
   {
    "duration": 237,
    "start_time": "2022-03-23T04:31:05.488Z"
   },
   {
    "duration": 9,
    "start_time": "2022-03-23T04:31:05.728Z"
   },
   {
    "duration": 297,
    "start_time": "2022-03-23T04:31:05.740Z"
   },
   {
    "duration": 291,
    "start_time": "2022-03-23T04:31:06.040Z"
   },
   {
    "duration": 554,
    "start_time": "2022-03-23T04:31:06.333Z"
   },
   {
    "duration": 300,
    "start_time": "2022-03-23T04:31:06.889Z"
   },
   {
    "duration": 22,
    "start_time": "2022-03-23T04:31:07.192Z"
   },
   {
    "duration": 20,
    "start_time": "2022-03-23T04:31:07.216Z"
   },
   {
    "duration": 50,
    "start_time": "2022-03-23T04:31:07.239Z"
   },
   {
    "duration": 19,
    "start_time": "2022-03-23T04:31:07.291Z"
   },
   {
    "duration": 28,
    "start_time": "2022-03-23T04:31:07.312Z"
   },
   {
    "duration": 40,
    "start_time": "2022-03-23T04:31:07.344Z"
   },
   {
    "duration": 33,
    "start_time": "2022-03-23T04:31:07.386Z"
   },
   {
    "duration": 597,
    "start_time": "2022-03-23T04:31:07.422Z"
   },
   {
    "duration": 21,
    "start_time": "2022-03-23T04:31:08.021Z"
   },
   {
    "duration": 9,
    "start_time": "2022-03-23T04:31:08.044Z"
   },
   {
    "duration": 34,
    "start_time": "2022-03-23T04:31:08.056Z"
   },
   {
    "duration": 28,
    "start_time": "2022-03-23T04:31:08.092Z"
   },
   {
    "duration": 3261,
    "start_time": "2022-03-23T04:31:08.122Z"
   },
   {
    "duration": 42,
    "start_time": "2022-03-23T04:31:11.386Z"
   },
   {
    "duration": 141,
    "start_time": "2022-03-23T04:31:11.430Z"
   },
   {
    "duration": 27,
    "start_time": "2022-03-23T04:31:11.573Z"
   },
   {
    "duration": 2936,
    "start_time": "2022-03-23T04:31:11.602Z"
   },
   {
    "duration": 60,
    "start_time": "2022-03-23T04:31:14.541Z"
   },
   {
    "duration": 5646,
    "start_time": "2022-03-23T04:31:14.603Z"
   },
   {
    "duration": 91,
    "start_time": "2022-03-23T04:31:20.251Z"
   },
   {
    "duration": 2896,
    "start_time": "2022-03-23T04:31:20.345Z"
   },
   {
    "duration": 528,
    "start_time": "2022-03-23T04:31:23.244Z"
   },
   {
    "duration": 52,
    "start_time": "2022-03-23T04:31:23.775Z"
   },
   {
    "duration": 82,
    "start_time": "2022-03-23T04:31:23.829Z"
   },
   {
    "duration": 523,
    "start_time": "2022-03-23T04:31:23.913Z"
   },
   {
    "duration": 1050,
    "start_time": "2022-03-23T04:31:24.438Z"
   },
   {
    "duration": 1318,
    "start_time": "2022-03-23T04:31:25.490Z"
   },
   {
    "duration": 1300,
    "start_time": "2022-03-23T04:31:26.811Z"
   },
   {
    "duration": 1248,
    "start_time": "2022-03-23T04:31:28.114Z"
   },
   {
    "duration": 53,
    "start_time": "2022-03-23T04:31:29.365Z"
   },
   {
    "duration": 684,
    "start_time": "2022-03-23T04:31:29.421Z"
   },
   {
    "duration": 18,
    "start_time": "2022-03-23T04:31:30.107Z"
   },
   {
    "duration": 2469,
    "start_time": "2022-03-23T04:31:30.128Z"
   },
   {
    "duration": 2030,
    "start_time": "2022-03-23T04:31:32.600Z"
   },
   {
    "duration": 1938,
    "start_time": "2022-03-23T04:31:34.639Z"
   },
   {
    "duration": 2294,
    "start_time": "2022-03-23T04:31:36.579Z"
   },
   {
    "duration": 1372,
    "start_time": "2022-03-23T04:31:38.875Z"
   },
   {
    "duration": 1750,
    "start_time": "2022-03-23T04:36:28.773Z"
   },
   {
    "duration": 2727,
    "start_time": "2022-03-23T04:36:37.436Z"
   },
   {
    "duration": 2762,
    "start_time": "2022-03-23T04:40:46.979Z"
   },
   {
    "duration": 2854,
    "start_time": "2022-03-23T04:41:19.654Z"
   },
   {
    "duration": 2924,
    "start_time": "2022-03-23T04:41:34.732Z"
   },
   {
    "duration": 3376,
    "start_time": "2022-03-23T04:41:47.623Z"
   },
   {
    "duration": 3087,
    "start_time": "2022-03-23T04:42:00.845Z"
   },
   {
    "duration": 119,
    "start_time": "2022-03-23T04:45:41.825Z"
   },
   {
    "duration": 1054,
    "start_time": "2022-03-23T04:45:59.668Z"
   },
   {
    "duration": 1016,
    "start_time": "2022-03-23T04:46:46.558Z"
   },
   {
    "duration": 1043,
    "start_time": "2022-03-23T04:47:12.429Z"
   },
   {
    "duration": 2253,
    "start_time": "2022-03-23T08:32:12.471Z"
   },
   {
    "duration": 4,
    "start_time": "2022-03-23T08:32:14.726Z"
   },
   {
    "duration": 93,
    "start_time": "2022-03-23T08:32:14.732Z"
   },
   {
    "duration": 74,
    "start_time": "2022-03-23T08:32:14.828Z"
   },
   {
    "duration": 30,
    "start_time": "2022-03-23T08:32:14.904Z"
   },
   {
    "duration": 5,
    "start_time": "2022-03-23T08:32:14.936Z"
   },
   {
    "duration": 5,
    "start_time": "2022-03-23T08:32:14.943Z"
   },
   {
    "duration": 5,
    "start_time": "2022-03-23T08:32:14.950Z"
   },
   {
    "duration": 13,
    "start_time": "2022-03-23T08:32:14.957Z"
   },
   {
    "duration": 12,
    "start_time": "2022-03-23T08:32:15.000Z"
   },
   {
    "duration": 17,
    "start_time": "2022-03-23T08:32:15.013Z"
   },
   {
    "duration": 11,
    "start_time": "2022-03-23T08:32:15.031Z"
   },
   {
    "duration": 9,
    "start_time": "2022-03-23T08:32:15.044Z"
   },
   {
    "duration": 352,
    "start_time": "2022-03-23T08:32:15.055Z"
   },
   {
    "duration": 7,
    "start_time": "2022-03-23T08:32:15.409Z"
   },
   {
    "duration": 5,
    "start_time": "2022-03-23T08:32:15.418Z"
   },
   {
    "duration": 35,
    "start_time": "2022-03-23T08:32:15.425Z"
   },
   {
    "duration": 349,
    "start_time": "2022-03-23T08:32:15.462Z"
   },
   {
    "duration": 5,
    "start_time": "2022-03-23T08:32:15.813Z"
   },
   {
    "duration": 735,
    "start_time": "2022-03-23T08:32:15.820Z"
   },
   {
    "duration": 352,
    "start_time": "2022-03-23T08:32:16.557Z"
   },
   {
    "duration": 328,
    "start_time": "2022-03-23T08:32:16.911Z"
   },
   {
    "duration": 8,
    "start_time": "2022-03-23T08:32:17.241Z"
   },
   {
    "duration": 6,
    "start_time": "2022-03-23T08:32:17.251Z"
   },
   {
    "duration": 5,
    "start_time": "2022-03-23T08:32:17.259Z"
   },
   {
    "duration": 427,
    "start_time": "2022-03-23T08:32:17.265Z"
   },
   {
    "duration": 10,
    "start_time": "2022-03-23T08:32:17.693Z"
   },
   {
    "duration": 240,
    "start_time": "2022-03-23T08:32:17.707Z"
   },
   {
    "duration": 5,
    "start_time": "2022-03-23T08:32:17.949Z"
   },
   {
    "duration": 307,
    "start_time": "2022-03-23T08:32:17.955Z"
   },
   {
    "duration": 7,
    "start_time": "2022-03-23T08:32:18.263Z"
   },
   {
    "duration": 6142,
    "start_time": "2022-03-23T08:32:18.272Z"
   },
   {
    "duration": 7,
    "start_time": "2022-03-23T08:32:24.416Z"
   },
   {
    "duration": 13,
    "start_time": "2022-03-23T08:32:24.424Z"
   },
   {
    "duration": 16,
    "start_time": "2022-03-23T08:32:24.439Z"
   },
   {
    "duration": 9,
    "start_time": "2022-03-23T08:32:24.457Z"
   },
   {
    "duration": 37,
    "start_time": "2022-03-23T08:32:24.468Z"
   },
   {
    "duration": 9,
    "start_time": "2022-03-23T08:32:24.507Z"
   },
   {
    "duration": 6,
    "start_time": "2022-03-23T08:32:24.518Z"
   },
   {
    "duration": 33,
    "start_time": "2022-03-23T08:32:24.525Z"
   },
   {
    "duration": 170,
    "start_time": "2022-03-23T08:32:24.560Z"
   },
   {
    "duration": 156,
    "start_time": "2022-03-23T08:32:24.732Z"
   },
   {
    "duration": 12,
    "start_time": "2022-03-23T08:32:24.890Z"
   },
   {
    "duration": 164,
    "start_time": "2022-03-23T08:32:24.903Z"
   },
   {
    "duration": 173,
    "start_time": "2022-03-23T08:32:25.069Z"
   },
   {
    "duration": 324,
    "start_time": "2022-03-23T08:32:25.244Z"
   },
   {
    "duration": 169,
    "start_time": "2022-03-23T08:32:25.569Z"
   },
   {
    "duration": 13,
    "start_time": "2022-03-23T08:32:25.740Z"
   },
   {
    "duration": 13,
    "start_time": "2022-03-23T08:32:25.754Z"
   },
   {
    "duration": 37,
    "start_time": "2022-03-23T08:32:25.768Z"
   },
   {
    "duration": 13,
    "start_time": "2022-03-23T08:32:25.806Z"
   },
   {
    "duration": 15,
    "start_time": "2022-03-23T08:32:25.821Z"
   },
   {
    "duration": 9,
    "start_time": "2022-03-23T08:32:25.837Z"
   },
   {
    "duration": 22,
    "start_time": "2022-03-23T08:32:25.847Z"
   },
   {
    "duration": 365,
    "start_time": "2022-03-23T08:32:25.871Z"
   },
   {
    "duration": 15,
    "start_time": "2022-03-23T08:32:26.238Z"
   },
   {
    "duration": 6,
    "start_time": "2022-03-23T08:32:26.254Z"
   },
   {
    "duration": 4,
    "start_time": "2022-03-23T08:32:26.262Z"
   },
   {
    "duration": 38,
    "start_time": "2022-03-23T08:32:26.268Z"
   },
   {
    "duration": 1922,
    "start_time": "2022-03-23T08:32:26.307Z"
   },
   {
    "duration": 35,
    "start_time": "2022-03-23T08:32:28.230Z"
   },
   {
    "duration": 82,
    "start_time": "2022-03-23T08:32:28.267Z"
   },
   {
    "duration": 16,
    "start_time": "2022-03-23T08:32:28.350Z"
   },
   {
    "duration": 2124,
    "start_time": "2022-03-23T08:32:28.367Z"
   },
   {
    "duration": 36,
    "start_time": "2022-03-23T08:32:30.493Z"
   },
   {
    "duration": 3832,
    "start_time": "2022-03-23T08:32:30.530Z"
   },
   {
    "duration": 58,
    "start_time": "2022-03-23T08:32:34.363Z"
   },
   {
    "duration": 1838,
    "start_time": "2022-03-23T08:32:34.422Z"
   },
   {
    "duration": 297,
    "start_time": "2022-03-23T08:32:36.262Z"
   },
   {
    "duration": 41,
    "start_time": "2022-03-23T08:32:36.561Z"
   },
   {
    "duration": 34,
    "start_time": "2022-03-23T08:32:36.604Z"
   },
   {
    "duration": 294,
    "start_time": "2022-03-23T08:32:36.640Z"
   },
   {
    "duration": 649,
    "start_time": "2022-03-23T08:32:36.936Z"
   },
   {
    "duration": 752,
    "start_time": "2022-03-23T08:32:37.587Z"
   },
   {
    "duration": 714,
    "start_time": "2022-03-23T08:32:38.341Z"
   },
   {
    "duration": 664,
    "start_time": "2022-03-23T08:32:39.056Z"
   },
   {
    "duration": 25,
    "start_time": "2022-03-23T08:32:39.722Z"
   },
   {
    "duration": 406,
    "start_time": "2022-03-23T08:32:39.749Z"
   },
   {
    "duration": 11,
    "start_time": "2022-03-23T08:32:40.156Z"
   },
   {
    "duration": 1438,
    "start_time": "2022-03-23T08:32:40.169Z"
   },
   {
    "duration": 1153,
    "start_time": "2022-03-23T08:32:41.610Z"
   },
   {
    "duration": 1196,
    "start_time": "2022-03-23T08:32:42.771Z"
   },
   {
    "duration": 1420,
    "start_time": "2022-03-23T08:32:43.969Z"
   },
   {
    "duration": 932,
    "start_time": "2022-03-23T08:32:45.391Z"
   },
   {
    "duration": 1478,
    "start_time": "2022-07-25T17:05:17.482Z"
   },
   {
    "duration": 137,
    "start_time": "2022-07-25T17:06:51.742Z"
   },
   {
    "duration": 1603,
    "start_time": "2022-07-25T17:07:00.589Z"
   },
   {
    "duration": 189,
    "start_time": "2022-07-25T17:07:02.194Z"
   },
   {
    "duration": 87,
    "start_time": "2022-07-25T17:07:02.385Z"
   },
   {
    "duration": 43,
    "start_time": "2022-07-25T17:07:02.475Z"
   },
   {
    "duration": 8,
    "start_time": "2022-07-25T17:07:02.520Z"
   },
   {
    "duration": 7,
    "start_time": "2022-07-25T17:07:02.530Z"
   },
   {
    "duration": 18,
    "start_time": "2022-07-25T17:07:02.538Z"
   },
   {
    "duration": 14,
    "start_time": "2022-07-25T17:07:02.558Z"
   },
   {
    "duration": 6,
    "start_time": "2022-07-25T17:07:02.573Z"
   },
   {
    "duration": 11,
    "start_time": "2022-07-25T17:07:02.609Z"
   },
   {
    "duration": 4,
    "start_time": "2022-07-25T17:07:02.622Z"
   },
   {
    "duration": 444,
    "start_time": "2022-07-25T17:07:02.628Z"
   },
   {
    "duration": 8,
    "start_time": "2022-07-25T17:07:03.074Z"
   },
   {
    "duration": 25,
    "start_time": "2022-07-25T17:07:03.083Z"
   },
   {
    "duration": 45,
    "start_time": "2022-07-25T17:07:03.110Z"
   },
   {
    "duration": 375,
    "start_time": "2022-07-25T17:07:03.157Z"
   },
   {
    "duration": 7,
    "start_time": "2022-07-25T17:07:03.533Z"
   },
   {
    "duration": 756,
    "start_time": "2022-07-25T17:07:03.542Z"
   },
   {
    "duration": 394,
    "start_time": "2022-07-25T17:07:04.300Z"
   },
   {
    "duration": 392,
    "start_time": "2022-07-25T17:07:04.696Z"
   },
   {
    "duration": 8,
    "start_time": "2022-07-25T17:07:05.090Z"
   },
   {
    "duration": 7,
    "start_time": "2022-07-25T17:07:05.111Z"
   },
   {
    "duration": 8,
    "start_time": "2022-07-25T17:07:05.120Z"
   },
   {
    "duration": 386,
    "start_time": "2022-07-25T17:07:05.131Z"
   },
   {
    "duration": 7,
    "start_time": "2022-07-25T17:07:05.520Z"
   },
   {
    "duration": 205,
    "start_time": "2022-07-25T17:07:05.529Z"
   },
   {
    "duration": 5,
    "start_time": "2022-07-25T17:07:05.736Z"
   },
   {
    "duration": 347,
    "start_time": "2022-07-25T17:07:05.746Z"
   },
   {
    "duration": 16,
    "start_time": "2022-07-25T17:07:06.095Z"
   },
   {
    "duration": 7341,
    "start_time": "2022-07-25T17:07:06.113Z"
   },
   {
    "duration": 8,
    "start_time": "2022-07-25T17:07:13.455Z"
   },
   {
    "duration": 16,
    "start_time": "2022-07-25T17:07:13.465Z"
   },
   {
    "duration": 29,
    "start_time": "2022-07-25T17:07:13.483Z"
   },
   {
    "duration": 8,
    "start_time": "2022-07-25T17:07:13.514Z"
   },
   {
    "duration": 11,
    "start_time": "2022-07-25T17:07:13.524Z"
   },
   {
    "duration": 12,
    "start_time": "2022-07-25T17:07:13.537Z"
   },
   {
    "duration": 6,
    "start_time": "2022-07-25T17:07:13.551Z"
   },
   {
    "duration": 52,
    "start_time": "2022-07-25T17:07:13.559Z"
   },
   {
    "duration": 178,
    "start_time": "2022-07-25T17:07:13.613Z"
   },
   {
    "duration": 169,
    "start_time": "2022-07-25T17:07:13.793Z"
   },
   {
    "duration": 7,
    "start_time": "2022-07-25T17:07:13.964Z"
   },
   {
    "duration": 194,
    "start_time": "2022-07-25T17:07:13.973Z"
   },
   {
    "duration": 198,
    "start_time": "2022-07-25T17:07:14.169Z"
   },
   {
    "duration": 389,
    "start_time": "2022-07-25T17:07:14.369Z"
   },
   {
    "duration": 201,
    "start_time": "2022-07-25T17:07:14.759Z"
   },
   {
    "duration": 13,
    "start_time": "2022-07-25T17:07:14.962Z"
   },
   {
    "duration": 15,
    "start_time": "2022-07-25T17:07:14.977Z"
   },
   {
    "duration": 14,
    "start_time": "2022-07-25T17:07:15.010Z"
   },
   {
    "duration": 17,
    "start_time": "2022-07-25T17:07:15.026Z"
   },
   {
    "duration": 18,
    "start_time": "2022-07-25T17:07:15.045Z"
   },
   {
    "duration": 8,
    "start_time": "2022-07-25T17:07:15.065Z"
   },
   {
    "duration": 49,
    "start_time": "2022-07-25T17:07:15.075Z"
   },
   {
    "duration": 388,
    "start_time": "2022-07-25T17:07:15.126Z"
   },
   {
    "duration": 21,
    "start_time": "2022-07-25T17:07:15.517Z"
   },
   {
    "duration": 8,
    "start_time": "2022-07-25T17:07:15.541Z"
   },
   {
    "duration": 10,
    "start_time": "2022-07-25T17:07:15.551Z"
   },
   {
    "duration": 50,
    "start_time": "2022-07-25T17:07:15.564Z"
   },
   {
    "duration": 2125,
    "start_time": "2022-07-25T17:07:15.617Z"
   },
   {
    "duration": 43,
    "start_time": "2022-07-25T17:07:17.744Z"
   },
   {
    "duration": 107,
    "start_time": "2022-07-25T17:07:17.789Z"
   },
   {
    "duration": 23,
    "start_time": "2022-07-25T17:07:17.898Z"
   },
   {
    "duration": 2275,
    "start_time": "2022-07-25T17:07:17.923Z"
   },
   {
    "duration": 42,
    "start_time": "2022-07-25T17:07:20.200Z"
   },
   {
    "duration": 4158,
    "start_time": "2022-07-25T17:07:20.244Z"
   },
   {
    "duration": 66,
    "start_time": "2022-07-25T17:07:24.405Z"
   },
   {
    "duration": 2216,
    "start_time": "2022-07-25T17:07:24.473Z"
   },
   {
    "duration": 336,
    "start_time": "2022-07-25T17:07:26.691Z"
   },
   {
    "duration": 33,
    "start_time": "2022-07-25T17:07:27.029Z"
   },
   {
    "duration": 58,
    "start_time": "2022-07-25T17:07:27.064Z"
   },
   {
    "duration": 335,
    "start_time": "2022-07-25T17:07:27.124Z"
   },
   {
    "duration": 758,
    "start_time": "2022-07-25T17:07:27.461Z"
   },
   {
    "duration": 861,
    "start_time": "2022-07-25T17:07:28.221Z"
   },
   {
    "duration": 852,
    "start_time": "2022-07-25T17:07:29.084Z"
   },
   {
    "duration": 793,
    "start_time": "2022-07-25T17:07:29.938Z"
   },
   {
    "duration": 28,
    "start_time": "2022-07-25T17:07:30.734Z"
   },
   {
    "duration": 442,
    "start_time": "2022-07-25T17:07:30.763Z"
   },
   {
    "duration": 11,
    "start_time": "2022-07-25T17:07:31.209Z"
   },
   {
    "duration": 1827,
    "start_time": "2022-07-25T17:07:31.222Z"
   },
   {
    "duration": 1316,
    "start_time": "2022-07-25T17:07:33.051Z"
   },
   {
    "duration": 1331,
    "start_time": "2022-07-25T17:07:34.369Z"
   },
   {
    "duration": 1699,
    "start_time": "2022-07-25T17:07:35.702Z"
   },
   {
    "duration": 988,
    "start_time": "2022-07-25T17:07:37.407Z"
   },
   {
    "duration": 1548,
    "start_time": "2022-07-25T17:16:11.128Z"
   },
   {
    "duration": 116,
    "start_time": "2022-07-25T17:16:12.679Z"
   },
   {
    "duration": 88,
    "start_time": "2022-07-25T17:16:12.797Z"
   },
   {
    "duration": 42,
    "start_time": "2022-07-25T17:16:12.888Z"
   },
   {
    "duration": 4,
    "start_time": "2022-07-25T17:16:12.932Z"
   },
   {
    "duration": 8,
    "start_time": "2022-07-25T17:16:12.938Z"
   },
   {
    "duration": 14,
    "start_time": "2022-07-25T17:16:12.948Z"
   },
   {
    "duration": 13,
    "start_time": "2022-07-25T17:16:12.964Z"
   },
   {
    "duration": 5,
    "start_time": "2022-07-25T17:16:13.010Z"
   },
   {
    "duration": 10,
    "start_time": "2022-07-25T17:16:13.018Z"
   },
   {
    "duration": 7,
    "start_time": "2022-07-25T17:16:13.030Z"
   },
   {
    "duration": 433,
    "start_time": "2022-07-25T17:16:13.039Z"
   },
   {
    "duration": 7,
    "start_time": "2022-07-25T17:16:13.474Z"
   },
   {
    "duration": 4,
    "start_time": "2022-07-25T17:16:13.482Z"
   },
   {
    "duration": 54,
    "start_time": "2022-07-25T17:16:13.487Z"
   },
   {
    "duration": 378,
    "start_time": "2022-07-25T17:16:13.543Z"
   },
   {
    "duration": 6,
    "start_time": "2022-07-25T17:16:13.923Z"
   },
   {
    "duration": 76,
    "start_time": "2022-07-25T17:16:13.931Z"
   },
   {
    "duration": 0,
    "start_time": "2022-07-25T17:16:14.011Z"
   },
   {
    "duration": 0,
    "start_time": "2022-07-25T17:16:14.012Z"
   },
   {
    "duration": 0,
    "start_time": "2022-07-25T17:16:14.013Z"
   },
   {
    "duration": 1,
    "start_time": "2022-07-25T17:16:14.015Z"
   },
   {
    "duration": 0,
    "start_time": "2022-07-25T17:16:14.020Z"
   },
   {
    "duration": 0,
    "start_time": "2022-07-25T17:16:14.022Z"
   },
   {
    "duration": 0,
    "start_time": "2022-07-25T17:16:14.025Z"
   },
   {
    "duration": 0,
    "start_time": "2022-07-25T17:16:14.026Z"
   },
   {
    "duration": 0,
    "start_time": "2022-07-25T17:16:14.028Z"
   },
   {
    "duration": 0,
    "start_time": "2022-07-25T17:16:14.029Z"
   },
   {
    "duration": 0,
    "start_time": "2022-07-25T17:16:14.030Z"
   },
   {
    "duration": 0,
    "start_time": "2022-07-25T17:16:14.031Z"
   },
   {
    "duration": 0,
    "start_time": "2022-07-25T17:16:14.032Z"
   },
   {
    "duration": 0,
    "start_time": "2022-07-25T17:16:14.034Z"
   },
   {
    "duration": 0,
    "start_time": "2022-07-25T17:16:14.035Z"
   },
   {
    "duration": 0,
    "start_time": "2022-07-25T17:16:14.037Z"
   },
   {
    "duration": 0,
    "start_time": "2022-07-25T17:16:14.039Z"
   },
   {
    "duration": 0,
    "start_time": "2022-07-25T17:16:14.040Z"
   },
   {
    "duration": 0,
    "start_time": "2022-07-25T17:16:14.041Z"
   },
   {
    "duration": 0,
    "start_time": "2022-07-25T17:16:14.043Z"
   },
   {
    "duration": 0,
    "start_time": "2022-07-25T17:16:14.044Z"
   },
   {
    "duration": 0,
    "start_time": "2022-07-25T17:16:14.045Z"
   },
   {
    "duration": 0,
    "start_time": "2022-07-25T17:16:14.047Z"
   },
   {
    "duration": 0,
    "start_time": "2022-07-25T17:16:14.047Z"
   },
   {
    "duration": 0,
    "start_time": "2022-07-25T17:16:14.049Z"
   },
   {
    "duration": 0,
    "start_time": "2022-07-25T17:16:14.049Z"
   },
   {
    "duration": 0,
    "start_time": "2022-07-25T17:16:14.051Z"
   },
   {
    "duration": 0,
    "start_time": "2022-07-25T17:16:14.052Z"
   },
   {
    "duration": 0,
    "start_time": "2022-07-25T17:16:14.053Z"
   },
   {
    "duration": 0,
    "start_time": "2022-07-25T17:16:14.054Z"
   },
   {
    "duration": 0,
    "start_time": "2022-07-25T17:16:14.055Z"
   },
   {
    "duration": 0,
    "start_time": "2022-07-25T17:16:14.110Z"
   },
   {
    "duration": 0,
    "start_time": "2022-07-25T17:16:14.111Z"
   },
   {
    "duration": 0,
    "start_time": "2022-07-25T17:16:14.113Z"
   },
   {
    "duration": 0,
    "start_time": "2022-07-25T17:16:14.114Z"
   },
   {
    "duration": 0,
    "start_time": "2022-07-25T17:16:14.115Z"
   },
   {
    "duration": 0,
    "start_time": "2022-07-25T17:16:14.116Z"
   },
   {
    "duration": 0,
    "start_time": "2022-07-25T17:16:14.117Z"
   },
   {
    "duration": 0,
    "start_time": "2022-07-25T17:16:14.118Z"
   },
   {
    "duration": 0,
    "start_time": "2022-07-25T17:16:14.119Z"
   },
   {
    "duration": 0,
    "start_time": "2022-07-25T17:16:14.120Z"
   },
   {
    "duration": 0,
    "start_time": "2022-07-25T17:16:14.121Z"
   },
   {
    "duration": 0,
    "start_time": "2022-07-25T17:16:14.122Z"
   },
   {
    "duration": 0,
    "start_time": "2022-07-25T17:16:14.123Z"
   },
   {
    "duration": 0,
    "start_time": "2022-07-25T17:16:14.124Z"
   },
   {
    "duration": 0,
    "start_time": "2022-07-25T17:16:14.125Z"
   },
   {
    "duration": 0,
    "start_time": "2022-07-25T17:16:14.126Z"
   },
   {
    "duration": 0,
    "start_time": "2022-07-25T17:16:14.127Z"
   },
   {
    "duration": 0,
    "start_time": "2022-07-25T17:16:14.129Z"
   },
   {
    "duration": 0,
    "start_time": "2022-07-25T17:16:14.130Z"
   },
   {
    "duration": 0,
    "start_time": "2022-07-25T17:16:14.130Z"
   },
   {
    "duration": 0,
    "start_time": "2022-07-25T17:16:14.131Z"
   },
   {
    "duration": 0,
    "start_time": "2022-07-25T17:16:14.133Z"
   },
   {
    "duration": 0,
    "start_time": "2022-07-25T17:16:14.134Z"
   },
   {
    "duration": 0,
    "start_time": "2022-07-25T17:16:14.135Z"
   },
   {
    "duration": 0,
    "start_time": "2022-07-25T17:16:14.136Z"
   },
   {
    "duration": 0,
    "start_time": "2022-07-25T17:16:14.137Z"
   },
   {
    "duration": 0,
    "start_time": "2022-07-25T17:16:14.138Z"
   },
   {
    "duration": 0,
    "start_time": "2022-07-25T17:16:14.140Z"
   },
   {
    "duration": 0,
    "start_time": "2022-07-25T17:16:14.141Z"
   },
   {
    "duration": 0,
    "start_time": "2022-07-25T17:16:14.142Z"
   },
   {
    "duration": 0,
    "start_time": "2022-07-25T17:16:14.144Z"
   },
   {
    "duration": 0,
    "start_time": "2022-07-25T17:16:14.145Z"
   },
   {
    "duration": 0,
    "start_time": "2022-07-25T17:16:14.146Z"
   }
  ],
  "kernelspec": {
   "display_name": "Python 3 (ipykernel)",
   "language": "python",
   "name": "python3"
  },
  "language_info": {
   "codemirror_mode": {
    "name": "ipython",
    "version": 3
   },
   "file_extension": ".py",
   "mimetype": "text/x-python",
   "name": "python",
   "nbconvert_exporter": "python",
   "pygments_lexer": "ipython3",
   "version": "3.9.5"
  },
  "toc": {
   "base_numbering": 1,
   "nav_menu": {},
   "number_sections": true,
   "sideBar": true,
   "skip_h1_title": true,
   "title_cell": "Содержание",
   "title_sidebar": "Contents",
   "toc_cell": true,
   "toc_position": {
    "height": "calc(100% - 180px)",
    "left": "10px",
    "top": "150px",
    "width": "363.767px"
   },
   "toc_section_display": true,
   "toc_window_display": true
  }
 },
 "nbformat": 4,
 "nbformat_minor": 4
}
